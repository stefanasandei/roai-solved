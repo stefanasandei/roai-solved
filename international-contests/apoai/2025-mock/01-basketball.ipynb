{
 "cells": [
  {
   "cell_type": "code",
   "execution_count": 13,
   "id": "f6b5ed3b",
   "metadata": {},
   "outputs": [],
   "source": [
    "import pandas as pd\n",
    "import matplotlib.pyplot as plt\n",
    "from tqdm import tqdm\n",
    "import zipfile\n",
    "from pathlib import Path\n",
    "\n",
    "import torch\n",
    "from torch.utils.data import Dataset, DataLoader\n",
    "import torch.nn as nn\n",
    "import torch.nn.functional as F\n",
    "from torch.optim import AdamW\n",
    "import torchmetrics"
   ]
  },
  {
   "cell_type": "code",
   "execution_count": 2,
   "id": "df002856",
   "metadata": {},
   "outputs": [],
   "source": [
    "device = \"mps\" if torch.backends.mps.is_available() else (\"cuda\" if torch.cuda.is_available() else \"cpu\")\n",
    "\n",
    "batch_size = 128\n",
    "lr = 1e-3\n",
    "epochs = 5\n",
    "\n",
    "root_path = \"/Users/asandeistefan/Downloads\""
   ]
  },
  {
   "cell_type": "markdown",
   "id": "d08fb713",
   "metadata": {},
   "source": [
    "# Data preparation"
   ]
  },
  {
   "cell_type": "code",
   "execution_count": 3,
   "id": "a3ae8739",
   "metadata": {},
   "outputs": [],
   "source": [
    "class BasketballDataset(Dataset):\n",
    "    def __init__(self, split = 'train'):\n",
    "        super().__init__()\n",
    "\n",
    "        filename = \"data_train\" if split == 'train' else \"data_test\"\n",
    "        self.df = pd.read_csv(f\"{root_path}/{filename}.csv\")\n",
    "\n",
    "        self.features = [\"loc_x\", \"loc_y\"]\n",
    "        self.label = \"shot_made_flag\"\n",
    "\n",
    "    def __getitem__(self, idx):\n",
    "        row = self.df.iloc[idx]\n",
    "\n",
    "        X = torch.tensor(row[self.features].values, dtype=torch.float32)\n",
    "        y = torch.tensor(row[self.label], dtype=torch.float32)\n",
    "\n",
    "        return X, y\n",
    "\n",
    "    def __len__(self):\n",
    "        return len(self.df)"
   ]
  },
  {
   "cell_type": "code",
   "execution_count": 4,
   "id": "5208f454",
   "metadata": {},
   "outputs": [
    {
     "data": {
      "text/html": [
       "<div>\n",
       "<style scoped>\n",
       "    .dataframe tbody tr th:only-of-type {\n",
       "        vertical-align: middle;\n",
       "    }\n",
       "\n",
       "    .dataframe tbody tr th {\n",
       "        vertical-align: top;\n",
       "    }\n",
       "\n",
       "    .dataframe thead th {\n",
       "        text-align: right;\n",
       "    }\n",
       "</style>\n",
       "<table border=\"1\" class=\"dataframe\">\n",
       "  <thead>\n",
       "    <tr style=\"text-align: right;\">\n",
       "      <th></th>\n",
       "      <th>loc_x</th>\n",
       "      <th>loc_y</th>\n",
       "      <th>minutes_remaining</th>\n",
       "      <th>shot_distance</th>\n",
       "      <th>shot_made_flag</th>\n",
       "      <th>shot_id</th>\n",
       "    </tr>\n",
       "  </thead>\n",
       "  <tbody>\n",
       "    <tr>\n",
       "      <th>0</th>\n",
       "      <td>0</td>\n",
       "      <td>0</td>\n",
       "      <td>7</td>\n",
       "      <td>0</td>\n",
       "      <td>1</td>\n",
       "      <td>1</td>\n",
       "    </tr>\n",
       "    <tr>\n",
       "      <th>1</th>\n",
       "      <td>-3</td>\n",
       "      <td>130</td>\n",
       "      <td>9</td>\n",
       "      <td>13</td>\n",
       "      <td>0</td>\n",
       "      <td>2</td>\n",
       "    </tr>\n",
       "    <tr>\n",
       "      <th>2</th>\n",
       "      <td>82</td>\n",
       "      <td>8</td>\n",
       "      <td>7</td>\n",
       "      <td>8</td>\n",
       "      <td>0</td>\n",
       "      <td>3</td>\n",
       "    </tr>\n",
       "    <tr>\n",
       "      <th>3</th>\n",
       "      <td>100</td>\n",
       "      <td>101</td>\n",
       "      <td>10</td>\n",
       "      <td>14</td>\n",
       "      <td>1</td>\n",
       "      <td>4</td>\n",
       "    </tr>\n",
       "    <tr>\n",
       "      <th>4</th>\n",
       "      <td>0</td>\n",
       "      <td>0</td>\n",
       "      <td>9</td>\n",
       "      <td>0</td>\n",
       "      <td>1</td>\n",
       "      <td>5</td>\n",
       "    </tr>\n",
       "  </tbody>\n",
       "</table>\n",
       "</div>"
      ],
      "text/plain": [
       "   loc_x  loc_y  minutes_remaining  shot_distance  shot_made_flag  shot_id\n",
       "0      0      0                  7              0               1        1\n",
       "1     -3    130                  9             13               0        2\n",
       "2     82      8                  7              8               0        3\n",
       "3    100    101                 10             14               1        4\n",
       "4      0      0                  9              0               1        5"
      ]
     },
     "execution_count": 4,
     "metadata": {},
     "output_type": "execute_result"
    }
   ],
   "source": [
    "dataset_train = BasketballDataset()\n",
    "\n",
    "dataset_train.df.head()"
   ]
  },
  {
   "cell_type": "code",
   "execution_count": 5,
   "id": "3fedf181",
   "metadata": {},
   "outputs": [],
   "source": [
    "dataloader_train = DataLoader(dataset_train, batch_size=batch_size, shuffle=True)"
   ]
  },
  {
   "cell_type": "code",
   "execution_count": 6,
   "id": "35fdd444",
   "metadata": {},
   "outputs": [
    {
     "data": {
      "text/plain": [
       "torch.Size([128, 2])"
      ]
     },
     "execution_count": 6,
     "metadata": {},
     "output_type": "execute_result"
    }
   ],
   "source": [
    "batch = next(iter(dataloader_train))\n",
    "batch[0].shape"
   ]
  },
  {
   "cell_type": "markdown",
   "id": "f565571e",
   "metadata": {},
   "source": [
    "# Model selection"
   ]
  },
  {
   "cell_type": "code",
   "execution_count": 7,
   "id": "cd700887",
   "metadata": {},
   "outputs": [],
   "source": [
    "class MyModel(nn.Module):\n",
    "    def __init__(self):\n",
    "        super(MyModel, self).__init__()\n",
    "\n",
    "        self.linear1 = nn.Linear(2, 4)\n",
    "        self.linear2 = nn.Linear(4, 4)\n",
    "        self.linear3 = nn.Linear(4, 1)\n",
    "\n",
    "        self.actv = nn.LeakyReLU(0.2)\n",
    "        self.dropout = nn.Dropout(0.2)\n",
    "\n",
    "    def forward(self, x):\n",
    "        x = self.actv(self.linear1(x))\n",
    "        x = self.dropout(x)\n",
    "\n",
    "        x = self.actv(self.linear2(x))\n",
    "        x = self.dropout(x)\n",
    "\n",
    "        x = F.sigmoid(self.linear3(x))\n",
    "        return x"
   ]
  },
  {
   "cell_type": "code",
   "execution_count": 8,
   "id": "8ba93535",
   "metadata": {},
   "outputs": [
    {
     "data": {
      "text/plain": [
       "torch.Size([128, 1])"
      ]
     },
     "execution_count": 8,
     "metadata": {},
     "output_type": "execute_result"
    }
   ],
   "source": [
    "model = MyModel().to(device)\n",
    "batch_X = batch[0].to(device)\n",
    "\n",
    "model(batch_X).shape"
   ]
  },
  {
   "cell_type": "markdown",
   "id": "fb017afc",
   "metadata": {},
   "source": [
    "# Training"
   ]
  },
  {
   "cell_type": "code",
   "execution_count": 9,
   "id": "a3ac7a33",
   "metadata": {},
   "outputs": [],
   "source": [
    "accuracy = torchmetrics.Accuracy(task='binary').to(device)\n",
    "losses = []\n",
    "\n",
    "critetion = nn.BCELoss()\n",
    "optimizer = AdamW(model.parameters(), lr=lr)"
   ]
  },
  {
   "cell_type": "code",
   "execution_count": 10,
   "id": "3cc3ae82",
   "metadata": {},
   "outputs": [
    {
     "name": "stderr",
     "output_type": "stream",
     "text": [
      "100%|██████████| 196/196 [00:12<00:00, 15.82it/s]\n"
     ]
    },
    {
     "name": "stdout",
     "output_type": "stream",
     "text": [
      "Epoch 0; loss=0.8012, accuracy=51.1%\n"
     ]
    },
    {
     "name": "stderr",
     "output_type": "stream",
     "text": [
      "100%|██████████| 196/196 [00:09<00:00, 19.94it/s]\n"
     ]
    },
    {
     "name": "stdout",
     "output_type": "stream",
     "text": [
      "Epoch 1; loss=0.6907, accuracy=53.6%\n"
     ]
    },
    {
     "name": "stderr",
     "output_type": "stream",
     "text": [
      "100%|██████████| 196/196 [00:10<00:00, 19.41it/s]\n"
     ]
    },
    {
     "name": "stdout",
     "output_type": "stream",
     "text": [
      "Epoch 2; loss=0.6829, accuracy=54.3%\n"
     ]
    },
    {
     "name": "stderr",
     "output_type": "stream",
     "text": [
      "100%|██████████| 196/196 [00:09<00:00, 20.63it/s]\n"
     ]
    },
    {
     "name": "stdout",
     "output_type": "stream",
     "text": [
      "Epoch 3; loss=0.6807, accuracy=54.1%\n"
     ]
    },
    {
     "name": "stderr",
     "output_type": "stream",
     "text": [
      "100%|██████████| 196/196 [00:09<00:00, 20.60it/s]"
     ]
    },
    {
     "name": "stdout",
     "output_type": "stream",
     "text": [
      "Epoch 4; loss=0.6800, accuracy=56.0%\n"
     ]
    },
    {
     "name": "stderr",
     "output_type": "stream",
     "text": [
      "\n"
     ]
    }
   ],
   "source": [
    "for epoch in range(epochs):\n",
    "    model.train()\n",
    "\n",
    "    running_loss = 0.0\n",
    "    accuracy.reset()\n",
    "\n",
    "    for batch in tqdm(dataloader_train):\n",
    "        X, y = batch[0].to(device), batch[1].to(device).unsqueeze(1)\n",
    "\n",
    "        # forward pass\n",
    "        pred = model(X)\n",
    "        loss = critetion(pred, y)\n",
    "\n",
    "        # backward pass\n",
    "        optimizer.zero_grad()\n",
    "        loss.backward()\n",
    "        nn.utils.clip_grad_norm_(model.parameters(), 2.5)\n",
    "        optimizer.step()\n",
    "\n",
    "        # stats\n",
    "        accuracy(pred, y)\n",
    "        losses.append(loss.item())\n",
    "        running_loss += loss.item()\n",
    "\n",
    "    print(f\"Epoch {epoch}; loss={(running_loss/len(dataloader_train)):.4f}, accuracy={accuracy.compute()*100:.1f}%\")"
   ]
  },
  {
   "cell_type": "code",
   "execution_count": 11,
   "id": "87aadcf0",
   "metadata": {},
   "outputs": [
    {
     "data": {
      "text/plain": [
       "[<matplotlib.lines.Line2D at 0x1736cff10>]"
      ]
     },
     "execution_count": 11,
     "metadata": {},
     "output_type": "execute_result"
    },
    {
     "data": {
      "image/png": "[encoded data removed]",
      "text/plain": [
       "<Figure size 640x480 with 1 Axes>"
      ]
     },
     "metadata": {},
     "output_type": "display_data"
    }
   ],
   "source": [
    "plt.plot(losses)"
   ]
  },
  {
   "cell_type": "markdown",
   "id": "594dc80e",
   "metadata": {},
   "source": [
    "# Submission"
   ]
  },
  {
   "cell_type": "code",
   "execution_count": 12,
   "id": "2e3bcd93",
   "metadata": {},
   "outputs": [
    {
     "name": "stdout",
     "output_type": "stream",
     "text": [
      "Created submission.zip containing:\n",
      "  submission_dic.pth \n",
      "  submission_model.py\n"
     ]
    }
   ],
   "source": [
    "# 1. Save the weights\n",
    "WEIGHTS_FILE = \"submission_dic.pth\"\n",
    "torch.save(model.state_dict(), WEIGHTS_FILE)\n",
    "\n",
    "# 2. Write out the submission script\n",
    "SUBMISSION_SCRIPT = Path(\"submission_model.py\")\n",
    "SUBMISSION_SCRIPT.write_text(\n",
    "\"\"\"\n",
    "import torch\n",
    "import torch.nn as nn\n",
    "\n",
    "class MyModel(nn.Module):\n",
    "    def __init__(self):\n",
    "        super().__init__()\n",
    "        self.linear1 = nn.Linear(2, 4)\n",
    "        self.linear2 = nn.Linear(4, 4)\n",
    "        self.linear3 = nn.Linear(4, 1)\n",
    "        self.actv    = nn.LeakyReLU(0.2)\n",
    "\n",
    "    def forward(self, x):\n",
    "        x = self.actv(self.linear1(x))\n",
    "        x = self.actv(self.linear2(x))\n",
    "        return torch.sigmoid(self.linear3(x))\n",
    "\"\"\".lstrip()\n",
    ")\n",
    "\n",
    "# 3. Zip them up\n",
    "ZIP_NAME = \"submission.zip\"\n",
    "with zipfile.ZipFile(ZIP_NAME, \"w\", compression=zipfile.ZIP_DEFLATED) as z:\n",
    "    z.write(WEIGHTS_FILE)\n",
    "    z.write(SUBMISSION_SCRIPT)\n",
    "\n",
    "print(f\"Created {ZIP_NAME} containing:\")\n",
    "print(\" \", WEIGHTS_FILE, \"\\n \", SUBMISSION_SCRIPT.name)"
   ]
  }
 ],
 "metadata": {
  "kernelspec": {
   "display_name": "Python 3",
   "language": "python",
   "name": "python3"
  },
  "language_info": {
   "codemirror_mode": {
    "name": "ipython",
    "version": 3
   },
   "file_extension": ".py",
   "mimetype": "text/x-python",
   "name": "python",
   "nbconvert_exporter": "python",
   "pygments_lexer": "ipython3",
   "version": "3.9.17"
  }
 },
 "nbformat": 4,
 "nbformat_minor": 5
}
