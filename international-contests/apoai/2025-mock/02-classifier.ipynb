{
 "cells": [
  {
   "cell_type": "code",
   "execution_count": 134,
   "id": "a09d23e5",
   "metadata": {},
   "outputs": [],
   "source": [
    "import matplotlib.pyplot as plt\n",
    "from tqdm import tqdm\n",
    "import zipfile\n",
    "from pathlib import Path\n",
    "\n",
    "import torch\n",
    "from torch.utils.data import DataLoader\n",
    "from torchvision.datasets import ImageFolder\n",
    "import torchvision.transforms.v2 as v2\n",
    "from torch.optim.lr_scheduler import CosineAnnealingLR\n",
    "import torch.nn as nn\n",
    "import torch.nn.functional as F\n",
    "from torch.optim import AdamW\n",
    "import torchmetrics"
   ]
  },
  {
   "cell_type": "code",
   "execution_count": 135,
   "id": "653ab481",
   "metadata": {},
   "outputs": [],
   "source": [
    "seed = 42\n",
    "torch.random.manual_seed(seed)\n",
    "\n",
    "device = (\n",
    "    \"mps\"\n",
    "    if torch.backends.mps.is_available()\n",
    "    else (\"cuda\" if torch.cuda.is_available() else \"cpu\")\n",
    ")\n",
    "\n",
    "batch_size = 64\n",
    "lr = 1e-3\n",
    "epochs = 10\n",
    "\n",
    "root_path = \"/Users/asandeistefan/Downloads/apoai2025-cv\""
   ]
  },
  {
   "cell_type": "markdown",
   "id": "a84eefc8",
   "metadata": {},
   "source": [
    "# Data preparation"
   ]
  },
  {
   "cell_type": "code",
   "execution_count": 136,
   "id": "cabd0c98",
   "metadata": {},
   "outputs": [
    {
     "name": "stderr",
     "output_type": "stream",
     "text": [
      "/opt/homebrew/lib/python3.9/site-packages/torchvision/transforms/v2/_deprecated.py:42: UserWarning: The transform `ToTensor()` is deprecated and will be removed in a future release. Instead, please use `v2.Compose([v2.ToImage(), v2.ToDtype(torch.float32, scale=True)])`.Output is equivalent up to float precision.\n",
      "  warnings.warn(\n"
     ]
    }
   ],
   "source": [
    "dataset = ImageFolder(f'{root_path}', transform=v2.Compose([\n",
    "    v2.Resize((32, 32)),\n",
    "    v2.ToTensor(),\n",
    "    v2.Normalize((0.5,), (0.5,))\n",
    "]))\n",
    "\n",
    "train_dataset, test_dataset = torch.utils.data.random_split(dataset, [0.8, 0.2])\n",
    "\n",
    "train_dataloader = DataLoader(train_dataset, batch_size=batch_size, shuffle=True)\n",
    "test_dataloader = DataLoader(test_dataset, batch_size=batch_size, shuffle=True)"
   ]
  },
  {
   "cell_type": "markdown",
   "id": "04741bcb",
   "metadata": {},
   "source": [
    "# Model"
   ]
  },
  {
   "cell_type": "code",
   "execution_count": 137,
   "id": "163f8c80",
   "metadata": {},
   "outputs": [],
   "source": [
    "class MyModel(nn.Module):\n",
    "    def __init__(self):\n",
    "        super(MyModel, self).__init__()\n",
    "        self.conv1 = nn.Conv2d(in_channels=3, out_channels=8, kernel_size=3)\n",
    "        self.conv2 = nn.Conv2d(in_channels=8, out_channels=16, kernel_size=3)\n",
    "\n",
    "        self.pool = nn.MaxPool2d(2, 2)\n",
    "\n",
    "        self.fc1 = nn.Linear(in_features=16 * 6 * 6, out_features=64)\n",
    "        self.fc2 = nn.Linear(64, 1)\n",
    "\n",
    "    def forward(self, x):\n",
    "        x = self.pool(F.leaky_relu(self.conv1(x)))\n",
    "        x = self.pool(F.leaky_relu(self.conv2(x)))\n",
    "\n",
    "        x = x.view(-1, 16 * 6 * 6)\n",
    "        x = F.leaky_relu(self.fc1(x))\n",
    "\n",
    "        x = self.fc2(x)\n",
    "        x = F.sigmoid(x)\n",
    "\n",
    "        return x"
   ]
  },
  {
   "cell_type": "code",
   "execution_count": 138,
   "id": "92dcf056",
   "metadata": {},
   "outputs": [],
   "source": [
    "model = MyModel().to(device)"
   ]
  },
  {
   "cell_type": "code",
   "execution_count": 139,
   "id": "33d41430",
   "metadata": {},
   "outputs": [
    {
     "data": {
      "text/plain": [
       "torch.Size([64, 1])"
      ]
     },
     "execution_count": 139,
     "metadata": {},
     "output_type": "execute_result"
    }
   ],
   "source": [
    "x = next(iter(train_dataloader))[0].to(device)\n",
    "model(x).shape"
   ]
  },
  {
   "cell_type": "markdown",
   "id": "79af6a15",
   "metadata": {},
   "source": [
    "# Training"
   ]
  },
  {
   "cell_type": "code",
   "execution_count": 140,
   "id": "a7d427fe",
   "metadata": {},
   "outputs": [],
   "source": [
    "losses = []\n",
    "accuracy = torchmetrics.Accuracy(task='binary').to(device)\n",
    "\n",
    "optimizer = AdamW(model.parameters(), lr=lr)\n",
    "scheduler = CosineAnnealingLR(optimizer, T_max=epochs, eta_min=1e-5)\n",
    "critetion = nn.BCELoss()"
   ]
  },
  {
   "cell_type": "code",
   "execution_count": 141,
   "id": "44fa34e5",
   "metadata": {},
   "outputs": [
    {
     "name": "stderr",
     "output_type": "stream",
     "text": [
      "100%|██████████| 125/125 [00:06<00:00, 20.32it/s]\n",
      "100%|██████████| 32/32 [00:01<00:00, 27.14it/s]\n"
     ]
    },
    {
     "name": "stdout",
     "output_type": "stream",
     "text": [
      "Epoch 0, loss=0.60, accuracy=70.7%\n"
     ]
    },
    {
     "name": "stderr",
     "output_type": "stream",
     "text": [
      "100%|██████████| 125/125 [00:04<00:00, 28.46it/s]\n",
      "100%|██████████| 32/32 [00:00<00:00, 34.29it/s]\n"
     ]
    },
    {
     "name": "stdout",
     "output_type": "stream",
     "text": [
      "Epoch 1, loss=0.56, accuracy=70.2%\n"
     ]
    },
    {
     "name": "stderr",
     "output_type": "stream",
     "text": [
      "100%|██████████| 125/125 [00:03<00:00, 31.38it/s]\n",
      "100%|██████████| 32/32 [00:00<00:00, 39.30it/s]\n"
     ]
    },
    {
     "name": "stdout",
     "output_type": "stream",
     "text": [
      "Epoch 2, loss=0.54, accuracy=71.7%\n"
     ]
    },
    {
     "name": "stderr",
     "output_type": "stream",
     "text": [
      "100%|██████████| 125/125 [00:04<00:00, 30.06it/s]\n",
      "100%|██████████| 32/32 [00:00<00:00, 40.22it/s]\n"
     ]
    },
    {
     "name": "stdout",
     "output_type": "stream",
     "text": [
      "Epoch 3, loss=0.53, accuracy=71.8%\n"
     ]
    },
    {
     "name": "stderr",
     "output_type": "stream",
     "text": [
      "100%|██████████| 125/125 [00:03<00:00, 31.52it/s]\n",
      "100%|██████████| 32/32 [00:00<00:00, 39.03it/s]\n"
     ]
    },
    {
     "name": "stdout",
     "output_type": "stream",
     "text": [
      "Epoch 4, loss=0.53, accuracy=72.1%\n"
     ]
    },
    {
     "name": "stderr",
     "output_type": "stream",
     "text": [
      "100%|██████████| 125/125 [00:04<00:00, 31.11it/s]\n",
      "100%|██████████| 32/32 [00:00<00:00, 39.36it/s]\n"
     ]
    },
    {
     "name": "stdout",
     "output_type": "stream",
     "text": [
      "Epoch 5, loss=0.52, accuracy=72.1%\n"
     ]
    },
    {
     "name": "stderr",
     "output_type": "stream",
     "text": [
      "100%|██████████| 125/125 [00:04<00:00, 30.65it/s]\n",
      "100%|██████████| 32/32 [00:00<00:00, 39.28it/s]\n"
     ]
    },
    {
     "name": "stdout",
     "output_type": "stream",
     "text": [
      "Epoch 6, loss=0.51, accuracy=72.6%\n"
     ]
    },
    {
     "name": "stderr",
     "output_type": "stream",
     "text": [
      "100%|██████████| 125/125 [00:03<00:00, 31.76it/s]\n",
      "100%|██████████| 32/32 [00:00<00:00, 39.77it/s]\n"
     ]
    },
    {
     "name": "stdout",
     "output_type": "stream",
     "text": [
      "Epoch 7, loss=0.51, accuracy=72.8%\n"
     ]
    },
    {
     "name": "stderr",
     "output_type": "stream",
     "text": [
      "100%|██████████| 125/125 [00:03<00:00, 31.60it/s]\n",
      "100%|██████████| 32/32 [00:00<00:00, 39.71it/s]\n"
     ]
    },
    {
     "name": "stdout",
     "output_type": "stream",
     "text": [
      "Epoch 8, loss=0.50, accuracy=72.6%\n"
     ]
    },
    {
     "name": "stderr",
     "output_type": "stream",
     "text": [
      "100%|██████████| 125/125 [00:03<00:00, 31.60it/s]\n",
      "100%|██████████| 32/32 [00:00<00:00, 39.36it/s]"
     ]
    },
    {
     "name": "stdout",
     "output_type": "stream",
     "text": [
      "Epoch 9, loss=0.50, accuracy=72.9%\n"
     ]
    },
    {
     "name": "stderr",
     "output_type": "stream",
     "text": [
      "\n"
     ]
    }
   ],
   "source": [
    "for epoch in range(epochs):\n",
    "    model.train()\n",
    "    running_loss = 0.0\n",
    "    accuracy.reset()\n",
    "\n",
    "    for batch in tqdm(train_dataloader):\n",
    "        images, labels = batch[0].to(device), batch[1].unsqueeze(-1).float().to(device)\n",
    "\n",
    "        # forward pass\n",
    "        preds = model(images)\n",
    "        loss = critetion(preds, labels)\n",
    "\n",
    "        # backward pass\n",
    "        optimizer.zero_grad()\n",
    "        loss.backward()\n",
    "        nn.utils.clip_grad_norm_(model.parameters(), 1.0)\n",
    "        optimizer.step()\n",
    "\n",
    "        # stats\n",
    "        running_loss += loss.item()\n",
    "        losses.append(loss.item())\n",
    "    scheduler.step()\n",
    "\n",
    "    model.eval()\n",
    "    for batch in tqdm(test_dataloader):\n",
    "        images, labels = batch[0].to(device), batch[1].unsqueeze(-1).float().to(device)\n",
    "        with torch.no_grad():\n",
    "            preds = model(images)\n",
    "            accuracy(preds, labels)\n",
    "\n",
    "    print(f\"Epoch {epoch}, loss={(running_loss/len(train_dataloader)):.2f}, accuracy={accuracy.compute()*100:.1f}%\")"
   ]
  },
  {
   "cell_type": "code",
   "execution_count": 142,
   "id": "3f4686dd",
   "metadata": {},
   "outputs": [
    {
     "data": {
      "text/plain": [
       "[<matplotlib.lines.Line2D at 0x2abc61550>]"
      ]
     },
     "execution_count": 142,
     "metadata": {},
     "output_type": "execute_result"
    },
    {
     "data": {
      "image/png": "[encoded data removed]",
      "text/plain": [
       "<Figure size 640x480 with 1 Axes>"
      ]
     },
     "metadata": {},
     "output_type": "display_data"
    }
   ],
   "source": [
    "plt.plot(torch.tensor(losses).reshape(125, -1).mean(dim=1).cpu().detach())"
   ]
  },
  {
   "cell_type": "markdown",
   "id": "ad570024",
   "metadata": {},
   "source": [
    "# Submission"
   ]
  },
  {
   "cell_type": "code",
   "execution_count": 143,
   "id": "01061853",
   "metadata": {},
   "outputs": [
    {
     "name": "stdout",
     "output_type": "stream",
     "text": [
      "Created submission.zip containing:\n",
      "  submission_dic.pth \n",
      "  submission_model.py\n"
     ]
    }
   ],
   "source": [
    "# 1. Save the weights\n",
    "WEIGHTS_FILE = \"submission_dic.pth\"\n",
    "torch.save(model.state_dict(), WEIGHTS_FILE)\n",
    "\n",
    "# 2. Write out the submission script\n",
    "SUBMISSION_SCRIPT = Path(\"submission_model.py\")\n",
    "SUBMISSION_SCRIPT.write_text(\n",
    "    \"\"\"\n",
    "import torch\n",
    "import torch.nn as nn\n",
    "import torch.nn.functional as F\n",
    "\n",
    "class MyModel(nn.Module):\n",
    "    def __init__(self):\n",
    "        super(MyModel, self).__init__()\n",
    "        self.conv1 = nn.Conv2d(in_channels=3, out_channels=16, kernel_size=3)\n",
    "        self.conv2 = nn.Conv2d(in_channels=16, out_channels=32, kernel_size=3)\n",
    "\n",
    "        self.pool = nn.MaxPool2d(2, 2)\n",
    "\n",
    "        self.fc1 = nn.Linear(in_features=32 * 6 * 6, out_features=1)\n",
    "\n",
    "    def forward(self, x):\n",
    "        x = self.pool(F.leaky_relu(self.conv1(x)))\n",
    "        x = self.pool(F.leaky_relu(self.conv2(x)))\n",
    "\n",
    "        x = x.view(-1, 32 * 6 * 6)\n",
    "        x = self.fc1(x)\n",
    "\n",
    "        x = F.sigmoid(x)\n",
    "        return x\n",
    "\"\"\".lstrip()\n",
    ")\n",
    "\n",
    "# 3. Zip them up\n",
    "ZIP_NAME = \"submission.zip\"\n",
    "with zipfile.ZipFile(ZIP_NAME, \"w\", compression=zipfile.ZIP_DEFLATED) as z:\n",
    "    z.write(WEIGHTS_FILE)\n",
    "    z.write(SUBMISSION_SCRIPT)\n",
    "\n",
    "print(f\"Created {ZIP_NAME} containing:\")\n",
    "print(\" \", WEIGHTS_FILE, \"\\n \", SUBMISSION_SCRIPT.name)"
   ]
  }
 ],
 "metadata": {
  "kernelspec": {
   "display_name": "Python 3",
   "language": "python",
   "name": "python3"
  },
  "language_info": {
   "codemirror_mode": {
    "name": "ipython",
    "version": 3
   },
   "file_extension": ".py",
   "mimetype": "text/x-python",
   "name": "python",
   "nbconvert_exporter": "python",
   "pygments_lexer": "ipython3",
   "version": "3.9.17"
  }
 },
 "nbformat": 4,
 "nbformat_minor": 5
}
