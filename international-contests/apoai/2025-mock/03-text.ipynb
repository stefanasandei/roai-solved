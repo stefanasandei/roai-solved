{
 "cells": [
  {
   "cell_type": "code",
   "execution_count": 14,
   "id": "887f8a32",
   "metadata": {},
   "outputs": [],
   "source": [
    "import os\n",
    "\n",
    "import nltk\n",
    "from nltk.tokenize import word_tokenize\n",
    "import pandas as pd\n",
    "\n",
    "from sklearn.feature_extraction.text import TfidfVectorizer\n",
    "from sklearn.linear_model import LogisticRegression\n",
    "from sklearn.preprocessing import LabelEncoder\n",
    "from sklearn.model_selection import train_test_split"
   ]
  },
  {
   "cell_type": "code",
   "execution_count": 15,
   "id": "772d647c",
   "metadata": {},
   "outputs": [],
   "source": [
    "seed = 42\n",
    "\n",
    "EVALUATION = False\n",
    "root_path = \"/home/stefan/Downloads/apoai2025-nlp\" if not EVALUATION else \"/bohr/train-t05i/v2\"\n",
    "\n",
    "nltk.data.path.append(f'{root_path}/punkt')"
   ]
  },
  {
   "cell_type": "markdown",
   "id": "4b0c9e2e",
   "metadata": {},
   "source": [
    "# Data preparation"
   ]
  },
  {
   "cell_type": "code",
   "execution_count": 16,
   "id": "fa71015d",
   "metadata": {},
   "outputs": [],
   "source": [
    "encoder = LabelEncoder()\n",
    "\n",
    "def clean_text(text):\n",
    "    return text\n",
    "\n",
    "def prep_df(csv_path: str):\n",
    "    df = pd.read_csv(csv_path)\n",
    "\n",
    "    df[\"text\"] = df[\"text\"].apply(clean_text)\n",
    "    X = df[\"text\"]\n",
    "\n",
    "    if \"category\" in df.columns:\n",
    "        y = encoder.fit_transform(df[\"category\"])\n",
    "\n",
    "    return X, y"
   ]
  },
  {
   "cell_type": "code",
   "execution_count": 17,
   "id": "dc962b87",
   "metadata": {},
   "outputs": [],
   "source": [
    "X, y = prep_df(f\"{root_path}/train_news.csv\")"
   ]
  },
  {
   "cell_type": "markdown",
   "id": "c6327e18",
   "metadata": {},
   "source": [
    "# Model selection"
   ]
  },
  {
   "cell_type": "code",
   "execution_count": 18,
   "id": "1a0e3ec4",
   "metadata": {},
   "outputs": [],
   "source": [
    "X_train, X_test, y_train, y_test = train_test_split(X, y, test_size=0.33, random_state=seed)"
   ]
  },
  {
   "cell_type": "code",
   "execution_count": 19,
   "id": "4665ef30",
   "metadata": {},
   "outputs": [],
   "source": [
    "vectorizer = TfidfVectorizer(max_features=20000, stop_words='english', ngram_range=(1,2), max_df=0.7, min_df=2)\n",
    "\n",
    "X_train = vectorizer.fit_transform(X_train)\n",
    "X_test = vectorizer.transform(X_test)"
   ]
  },
  {
   "cell_type": "markdown",
   "id": "8addae77",
   "metadata": {},
   "source": [
    "X_train, X_test, y_train, y_test = train_test_split"
   ]
  },
  {
   "cell_type": "code",
   "execution_count": 20,
   "id": "434a39a9",
   "metadata": {},
   "outputs": [
    {
     "data": {
      "text/plain": [
       "0.9787878787878788"
      ]
     },
     "execution_count": 20,
     "metadata": {},
     "output_type": "execute_result"
    }
   ],
   "source": [
    "model = LogisticRegression(C=10, solver='lbfgs')\n",
    "model.fit(X_train, y_train)\n",
    "\n",
    "model.score(X_test, y_test)"
   ]
  },
  {
   "cell_type": "markdown",
   "id": "0c809fdf",
   "metadata": {},
   "source": [
    "# Submission"
   ]
  },
  {
   "cell_type": "code",
   "execution_count": 21,
   "id": "7923aa64",
   "metadata": {},
   "outputs": [],
   "source": [
    "if EVALUATION:\n",
    "    data_path = os.environ.get(\"DATA_PATH\") + \"/\"\n",
    "    test_file_path = data_path + \"test_news_nolabel.csv\"\n",
    "\n",
    "    test_df = pd.read_csv(test_file_path)\n",
    "    test_texts = test_df[\"text\"].astype(str).fillna('').apply(clean_text)\n",
    "\n",
    "    X_test_tfidf = vectorizer.transform(test_texts)\n",
    "    predicted_numerical_labels = model.predict(X_test_tfidf)\n",
    "\n",
    "    predicted_string_labels = encoder.inverse_transform(predicted_numerical_labels)\n",
    "    test_df[\"category\"] = predicted_string_labels\n",
    "\n",
    "    output_path = \"submission.csv\"\n",
    "    test_df.to_csv(output_path, index=False)"
   ]
  }
 ],
 "metadata": {
  "kernelspec": {
   "display_name": "Python 3",
   "language": "python",
   "name": "python3"
  },
  "language_info": {
   "codemirror_mode": {
    "name": "ipython",
    "version": 3
   },
   "file_extension": ".py",
   "mimetype": "text/x-python",
   "name": "python",
   "nbconvert_exporter": "python",
   "pygments_lexer": "ipython3",
   "version": "3.13.5"
  }
 },
 "nbformat": 4,
 "nbformat_minor": 5
}
