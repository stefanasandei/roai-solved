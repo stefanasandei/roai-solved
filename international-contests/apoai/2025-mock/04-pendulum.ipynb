{
 "cells": [
  {
   "cell_type": "code",
   "execution_count": 481,
   "id": "09e8e4e7",
   "metadata": {},
   "outputs": [],
   "source": [
    "import matplotlib.pyplot as plt\n",
    "from scipy.integrate import odeint\n",
    "import numpy as np\n",
    "import pandas as pd\n",
    "import math\n",
    "import zipfile\n",
    "import os\n",
    "from typing import Tuple\n",
    "\n",
    "import torch\n",
    "import torch.nn as nn\n",
    "import torch.nn.functional as F\n",
    "from torch.optim import Adam\n",
    "from torch.optim.lr_scheduler import ReduceLROnPlateau"
   ]
  },
  {
   "cell_type": "code",
   "execution_count": 482,
   "id": "ce073990",
   "metadata": {},
   "outputs": [],
   "source": [
    "seed = 42\n",
    "torch.random.manual_seed(seed)\n",
    "\n",
    "lr = 1e-2\n",
    "epochs = 5000\n",
    "\n",
    "root_path = \"/home/stefan/Downloads\"\n",
    "EVALUATION = False"
   ]
  },
  {
   "cell_type": "markdown",
   "id": "1ea3ba9a",
   "metadata": {},
   "source": [
    "# Data preparation"
   ]
  },
  {
   "cell_type": "code",
   "execution_count": 483,
   "id": "98b14683",
   "metadata": {},
   "outputs": [],
   "source": [
    "def load_data(csv_path: str) -> Tuple[np.ndarray, np.ndarray]:\n",
    "    ttheta = pd.read_csv(csv_path)\n",
    "    t = np.array(ttheta[\"t\"])\n",
    "    theta = np.array(ttheta[\"theta\"])\n",
    "    return t, theta"
   ]
  },
  {
   "cell_type": "code",
   "execution_count": 484,
   "id": "c151a096",
   "metadata": {},
   "outputs": [],
   "source": [
    "def split_data(t: np.ndarray, theta: np.ndarray, threshold=1):\n",
    "    # split data in two sections: before the force F is applied, and after\n",
    "    theta_1, t_1 = [], []\n",
    "    theta_2, t_2 = [], []\n",
    "    force_flag = False\n",
    "\n",
    "    t_1.append(t[0])\n",
    "    theta_1.append(theta[0])\n",
    "    for i in range(1, len(t)):\n",
    "        if t[i] - t[i - 1] < threshold:  #\n",
    "            if not force_flag:\n",
    "                t_1.append(t[i])\n",
    "                theta_1.append(theta[i])\n",
    "            else:\n",
    "                t_2.append(t[i])\n",
    "                theta_2.append(theta[i])\n",
    "        else:\n",
    "            force_flag = True\n",
    "            t_2.append(t[i])\n",
    "            theta_2.append(theta[i])\n",
    "\n",
    "    return np.array(t_1), np.array(theta_1), np.array(t_2), np.array(theta_2)"
   ]
  },
  {
   "cell_type": "code",
   "execution_count": 485,
   "id": "ac2a7755",
   "metadata": {},
   "outputs": [],
   "source": [
    "def get_next_zerotheta_timestamp(t, theta):\n",
    "    # to find the next zero point.\n",
    "    timestamp = 0\n",
    "    for i in range(1, len(theta)):\n",
    "        if theta[i - 1] * theta[i] < 0:\n",
    "            timestamp = t[i]\n",
    "            break\n",
    "    return timestamp\n",
    "\n",
    "\n",
    "def theta_func(thetaomega, t, alpha, beta):\n",
    "    # function for solving differential equations.\n",
    "    theta, omega = thetaomega\n",
    "    a = -alpha * omega - beta * math.sin(theta)\n",
    "    return np.array([omega, a])\n",
    "\n",
    "\n",
    "def neg_theta_func(thetaomega, t, alpha, beta):\n",
    "    return - theta_func(thetaomega, t, alpha, beta)\n",
    "\n",
    "def derivative(t, theta):\n",
    "    dthetadt = (theta[1:] - theta[:-1]) / (t[1:] - t[:-1])\n",
    "    return dthetadt\n",
    "\n",
    "\n",
    "def get_break_timestamp(\n",
    "    break_t, theta_1_forward, theta_2_backward\n",
    "):  \n",
    "    # find the moment when F disappears by identifying the intersection point of the curves.\n",
    "    min_val = math.inf\n",
    "    min_idx = 0\n",
    "    for i in range(len(break_t) - 1):\n",
    "        val = abs(theta_1_forward[i] - theta_2_backward[i])\n",
    "        dtheta_1 = theta_1_forward[i + 1] - theta_1_forward[i]\n",
    "        dtheta_2 = theta_2_backward[i + 1] - theta_2_backward[i]\n",
    "        val += abs((dtheta_1 - dtheta_2) / (break_t[i + 1] - break_t[i]))\n",
    "        if val < min_val:\n",
    "            min_val = val\n",
    "            min_idx = i\n",
    "\n",
    "    return break_t[min_idx]\n",
    "\n",
    "\n",
    "def plot1d_full_data(\n",
    "    t_1, theta_1, t_2, theta_2, break_t, theta_break, break_timestamp\n",
    "):\n",
    "    # used for debugging, plot the whole motion\n",
    "    fig = plt.figure(figsize=(16, 4))\n",
    "\n",
    "    ax = fig.add_subplot()\n",
    "    ax.plot(t_1, theta_1, lw=1, color=\"blue\")\n",
    "    ax.plot(t_2, theta_2, lw=1, color=\"blue\")\n",
    "    ax.plot(break_t, theta_break, lw=1, color=\"red\")\n",
    "    # ax.scatter(\n",
    "    #     [break_timestamp], [theta_break[break_t == break_timestamp]], s=20, color=\"red\"\n",
    "    # )\n",
    "\n",
    "    plt.show()\n",
    "    plt.cla()\n",
    "    plt.close(\"all\")"
   ]
  },
  {
   "cell_type": "code",
   "execution_count": 486,
   "id": "e826b7be",
   "metadata": {},
   "outputs": [],
   "source": [
    "def reconstruct_missing_segment(t_1, theta_1, t_2, theta_2, alpha, beta):\n",
    "    # initial conditions\n",
    "    theta0 = theta_1[-1]\n",
    "    omega0 = (theta_1[-1] - theta_1[-2]) / (t_1[-1] - t_1[-2])\n",
    "    thetaomega0 = [theta0, omega0]\n",
    "\n",
    "    break_t = np.linspace(t_1[-1], t_2[0], 200)\n",
    "    thetaomega_sol = odeint(theta_func, thetaomega0, break_t, args=(alpha, beta))\n",
    "    theta_break = thetaomega_sol[:, 0]\n",
    "\n",
    "    # find return to zero\n",
    "    break_timestamp = get_next_zerotheta_timestamp(break_t, theta_break)\n",
    "\n",
    "    return break_t, theta_break, break_timestamp"
   ]
  },
  {
   "cell_type": "markdown",
   "id": "24aa2c7a",
   "metadata": {},
   "source": [
    "# Model"
   ]
  },
  {
   "cell_type": "markdown",
   "id": "46b6426c",
   "metadata": {},
   "source": [
    "The theoretical basis for the model is the acceleration formula: \n",
    "\n",
    "$$\\frac{\\mathrm{d}^2 \\theta}{\\mathrm{d} t^2} = - \\alpha \\frac{\\mathrm{d} \\theta}{\\mathrm{d} t} - \\beta \\sin \\theta(t)$$\n",
    "\n",
    "where $\\alpha = \\frac{\\mu}{m}$ and $\\beta = \\frac{g}{l}$. After $t_{F put}$, an external force is applied and the $\\beta$ parameter becomes $\\frac{g}{l} + \\frac{F}{m l}$.\n",
    "\n",
    "The model has to approximate the length $l$, the air resistance $\\mu$, the magnitude of the external force $F$. We know that $m=1$ and $g=9.8$."
   ]
  },
  {
   "cell_type": "code",
   "execution_count": 487,
   "id": "32ac8f1b",
   "metadata": {},
   "outputs": [],
   "source": [
    "class SinglePendulum(nn.Module):\n",
    "    def __init__(self):\n",
    "        super().__init__()\n",
    "\n",
    "        self.alpha = nn.Parameter(torch.randn((1,), requires_grad=True))\n",
    "        self.beta_1 = nn.Parameter(torch.randn((1,), requires_grad=True))\n",
    "        self.beta_2 = nn.Parameter(torch.randn((1,), requires_grad=True))\n",
    "\n",
    "    def get_alphabeta(self, add_force=False):\n",
    "        alpha = self.alpha\n",
    "        beta = 0\n",
    "\n",
    "        if add_force:\n",
    "            beta = self.beta_1\n",
    "        else:\n",
    "            beta = self.beta_2\n",
    "\n",
    "        return alpha, beta\n",
    "\n",
    "    def forward(self, theta, omega, add_force=False):\n",
    "        if not add_force:\n",
    "            a = - self.alpha * omega - self.beta_1 * torch.sin(theta)\n",
    "        else:\n",
    "            a = - self.alpha * omega - self.beta_2 * torch.sin(theta)\n",
    "        return a"
   ]
  },
  {
   "cell_type": "code",
   "execution_count": 488,
   "id": "a8338fa7",
   "metadata": {},
   "outputs": [
    {
     "data": {
      "text/plain": [
       "tensor([-0.0802], grad_fn=<SubBackward0>)"
      ]
     },
     "execution_count": 488,
     "metadata": {},
     "output_type": "execute_result"
    }
   ],
   "source": [
    "torch.set_default_dtype(torch.float64)\n",
    "pendulum = SinglePendulum().double()\n",
    "\n",
    "# takes in theta(t) and omega(t)=theta'(t)\n",
    "pendulum(torch.tensor(0.1), torch.tensor(0.2))"
   ]
  },
  {
   "cell_type": "markdown",
   "id": "ebe33cea",
   "metadata": {},
   "source": [
    "# Training"
   ]
  },
  {
   "cell_type": "code",
   "execution_count": 489,
   "id": "66347832",
   "metadata": {},
   "outputs": [],
   "source": [
    "def build_dataset(csv_path):\n",
    "    dataset_before_F, dataset_after_F = {}, {}\n",
    "\n",
    "    t, theta = load_data(csv_path)\n",
    "    t1, theta1, t2, theta2 = split_data(t, theta, threshold = 1)\n",
    "    omega1 = derivative(t1, theta1)\n",
    "    omega2 = derivative(t2, theta2)\n",
    "\n",
    "    # labels\n",
    "    a1 = torch.from_numpy(derivative(t1[:-1], omega1))\n",
    "    a2 = torch.from_numpy(derivative(t2[:-1], omega2))\n",
    "\n",
    "    # inputs\n",
    "    _omega1, _omega2 = torch.from_numpy(omega1[:-1]), torch.from_numpy(omega2[:-1])\n",
    "    _theta1, _theta2 = torch.from_numpy(theta1[:-2]), torch.from_numpy(theta2[:-2])\n",
    "    \n",
    "    dataset_before_F[\"acc\"] = a1\n",
    "    dataset_before_F[\"inputs\"] = _theta1, _omega1\n",
    "\n",
    "    dataset_after_F[\"acc\"] = a2\n",
    "    dataset_after_F[\"inputs\"] = _theta2, _omega2\n",
    "    \n",
    "    return dataset_before_F, dataset_after_F"
   ]
  },
  {
   "cell_type": "code",
   "execution_count": 490,
   "id": "88077f2c",
   "metadata": {},
   "outputs": [],
   "source": [
    "def train(model, dataset_before_F, dataset_after_F, epochs, lr):\n",
    "    optimizer = Adam(model.parameters(), lr=lr)\n",
    "    scheduler = ReduceLROnPlateau(optimizer, mode='min',\n",
    "                              factor=0.1, patience=500, min_lr=1e-6)\n",
    "\n",
    "    lrs, losses = [], []\n",
    "\n",
    "    for epoch in range(epochs):\n",
    "        # forward pass\n",
    "        theta, omega = dataset_before_F[\"inputs\"]\n",
    "        pred_acc = model(theta, omega, add_force=False).squeeze()\n",
    "        loss = F.mse_loss(dataset_before_F[\"acc\"], pred_acc)\n",
    "\n",
    "        theta, omega = dataset_after_F[\"inputs\"]\n",
    "        pred_acc = model(theta, omega, add_force=True).squeeze()\n",
    "        loss += F.mse_loss(dataset_after_F[\"acc\"], pred_acc)\n",
    "\n",
    "        # backkward pass\n",
    "        optimizer.zero_grad()\n",
    "        loss.backward()\n",
    "        torch.nn.utils.clip_grad_norm_(model.parameters(), max_norm=1.0)\n",
    "        optimizer.step()\n",
    "        scheduler.step(loss)\n",
    "\n",
    "        # stats\n",
    "        lrs.append(optimizer.param_groups[0][\"lr\"])\n",
    "        losses.append(loss.item())\n",
    "\n",
    "        if (epoch + 1) % 2500 == 0:\n",
    "            print(f\"Epoch {epoch+1}, Loss: {loss.item():.7f}\")\n",
    "        \n",
    "    return lrs, losses"
   ]
  },
  {
   "cell_type": "code",
   "execution_count": 491,
   "id": "db84d8fe",
   "metadata": {},
   "outputs": [
    {
     "name": "stdout",
     "output_type": "stream",
     "text": [
      "Epoch 2500, Loss: 0.0004526\n",
      "Epoch 5000, Loss: 0.0004506\n"
     ]
    },
    {
     "data": {
      "image/png": "[encoded data removed]",
      "text/plain": [
       "<Figure size 1600x400 with 1 Axes>"
      ]
     },
     "metadata": {},
     "output_type": "display_data"
    }
   ],
   "source": [
    "if not EVALUATION:\n",
    "    dataset_before_F, dataset_after_F = build_dataset(f\"{root_path}/pendulum_train.csv\")\n",
    "    lrs, losses = train(pendulum, dataset_before_F, dataset_after_F, epochs, lr)\n",
    "\n",
    "    # visualization for debug\n",
    "    t, theta = load_data(f\"{root_path}/pendulum_train.csv\")\n",
    "    t_1, theta_1, t_2, theta_2 = split_data(t, theta)\n",
    "    alpha, beta = pendulum.get_alphabeta(add_force=False)\n",
    "    alpha, beta = alpha.item(), beta.item()\n",
    "\n",
    "    break_t, theta_break, break_timestamp = reconstruct_missing_segment(\n",
    "        t_1, theta_1, t_2, theta_2, alpha, beta\n",
    "    )\n",
    "\n",
    "    plot1d_full_data(t_1, theta_1, t_2, theta_2, break_t, theta_break, break_timestamp)"
   ]
  },
  {
   "cell_type": "code",
   "execution_count": 492,
   "id": "5640cc28",
   "metadata": {},
   "outputs": [
    {
     "data": {
      "image/png": "[encoded data removed]",
      "text/plain": [
       "<Figure size 1600x400 with 2 Axes>"
      ]
     },
     "metadata": {},
     "output_type": "display_data"
    }
   ],
   "source": [
    "if not EVALUATION:\n",
    "    f, axarr = plt.subplots(1,2, figsize=(16, 4))\n",
    "    axarr[0].plot(lrs)\n",
    "    axarr[1].plot(losses)"
   ]
  },
  {
   "cell_type": "markdown",
   "id": "a257a113",
   "metadata": {},
   "source": [
    "# Submission"
   ]
  },
  {
   "cell_type": "code",
   "execution_count": 493,
   "id": "2b6a14b5",
   "metadata": {},
   "outputs": [
    {
     "ename": "ZeroDivisionError",
     "evalue": "division by zero",
     "output_type": "error",
     "traceback": [
      "\u001b[31m---------------------------------------------------------------------------\u001b[39m",
      "\u001b[31mZeroDivisionError\u001b[39m                         Traceback (most recent call last)",
      "\u001b[36mCell\u001b[39m\u001b[36m \u001b[39m\u001b[32mIn[493]\u001b[39m\u001b[32m, line 2\u001b[39m\n\u001b[32m      1\u001b[39m \u001b[38;5;28;01mif\u001b[39;00m \u001b[38;5;129;01mnot\u001b[39;00m EVALUATION:\n\u001b[32m----> \u001b[39m\u001b[32m2\u001b[39m     \u001b[32;43m1\u001b[39;49m\u001b[43m/\u001b[49m\u001b[32;43m0\u001b[39;49m\n",
      "\u001b[31mZeroDivisionError\u001b[39m: division by zero"
     ]
    }
   ],
   "source": [
    "if not EVALUATION:\n",
    "    1/0"
   ]
  },
  {
   "cell_type": "code",
   "execution_count": null,
   "id": "891121c5",
   "metadata": {},
   "outputs": [],
   "source": [
    "def estimate_and_save_parameters(csv_path: str, submission_path: str):\n",
    "    # 1. get data\n",
    "    dataset_before_F, dataset_after_F = build_dataset(csv_path)\n",
    "\n",
    "    t, theta = load_data(csv_path)\n",
    "    t_1, theta_1, t_2, theta_2 = split_data(t, theta)\n",
    "    omega_1 = derivative(t_1, theta_1)\n",
    "    omega_2 = derivative(t_2, theta_2)\n",
    "    \n",
    "    # 2. train model \n",
    "    model = SinglePendulum()\n",
    "    train(model, dataset_before_F, dataset_after_F, 20000, 1e-3)\n",
    "\n",
    "    alpha = (model.alpha).detach().item()\n",
    "    beta_1 = (model.beta_1).detach().item()\n",
    "    beta_2 = (model.beta_2).detach().item()\n",
    "    \n",
    "    # 3. extract parameters\n",
    "    l = 9.81/beta_1\n",
    "    mu = alpha\n",
    "    Force = (beta_2 - beta_1) * l\n",
    "\n",
    "    # 4. estimate other parameters\n",
    "    sample_freq = 1000\n",
    "    t = np.linspace(t_2[-1], t_2[-1]+3, int(sample_freq*3)+1)\n",
    "    pred_theta = odeint(theta_func, [theta_2[-1], omega_2[-1]], t-3, args=(alpha, beta_2))[:, 0]\n",
    "    get_next_zerotheta_timestamp(t, pred_theta)\n",
    "\n",
    "    break_t = np.linspace(t_1[-1], t_2[0], int(sample_freq * (t_2[0] - t_1[-1])) + 1)\n",
    "    theta1_fd = odeint(theta_func, [theta_1[-1], omega_1[-1]], break_t, args=(alpha, beta_1))[:, 0]\n",
    "    theta2_bd = odeint(neg_theta_func, [theta_2[0], omega_2[0]], break_t, args=(alpha, beta_2))[::-1, 0]\n",
    "    break_timestamp = get_break_timestamp(break_t, theta1_fd, theta2_bd)\n",
    "\n",
    "    t_nextzerotheta = get_next_zerotheta_timestamp(t, pred_theta)\n",
    "    t_Fput = break_timestamp\n",
    "\n",
    "    # 4. submission\n",
    "    pd.DataFrame([{\n",
    "        \"l\": l,\n",
    "        \"miu\": mu,\n",
    "        \"F\": Force,\n",
    "        \"t_nextzerotheta\": t_nextzerotheta,\n",
    "        \"t_Fput\": t_Fput,\n",
    "    }]).to_csv(submission_path, index=False)"
   ]
  },
  {
   "cell_type": "code",
   "execution_count": null,
   "id": "b48a3870",
   "metadata": {},
   "outputs": [
    {
     "name": "stdout",
     "output_type": "stream",
     "text": [
      "Epoch 2500, Loss: 0.0004506\n",
      "Epoch 5000, Loss: 0.0004506\n"
     ]
    }
   ],
   "source": [
    "TRAIN_PATH = \"/bohr/train-08bw/v1/\" if EVALUATION else f\"{root_path}/\"\n",
    "estimate_and_save_parameters(\n",
    "    csv_path=TRAIN_PATH + \"pendulum_train.csv\", submission_path=\"submission_train.csv\"\n",
    ")  # Solve the training set equation."
   ]
  },
  {
   "cell_type": "code",
   "execution_count": null,
   "id": "dc09adda",
   "metadata": {},
   "outputs": [
    {
     "name": "stdout",
     "output_type": "stream",
     "text": [
      "When the baseline is running, this error message will appear because the test set cannot be read, which is a normal phenomenon.\n"
     ]
    }
   ],
   "source": [
    "# Load the test set\n",
    "# “DATA_PATH” is an environment variable for the encrypted test set.\n",
    "# After submission, the test set can be accessed for system scoring in the following manner, but the participants cannot download it directly.\n",
    "if os.environ.get(\"DATA_PATH\"):\n",
    "    DATA_PATH = os.environ.get(\"DATA_PATH\") + \"/\"\n",
    "\n",
    "    estimate_and_save_parameters(\n",
    "        csv_path=DATA_PATH + \"pendulum_testA.csv\", submission_path=\"submissionA.csv\"\n",
    "    )  # Solve the equation for the Public test set （test set A）.\n",
    "    estimate_and_save_parameters(\n",
    "        csv_path=DATA_PATH + \"pendulum_testB.csv\", submission_path=\"submissionB.csv\"\n",
    "    )  # Solve the equation for the Private test set （test set B）.\n",
    "\n",
    "    # Define the files to be packaged and the compressed file name.\n",
    "    files_to_zip = [\"submissionA.csv\", \"submissionB.csv\"]\n",
    "    zip_filename = \"submission.zip\"\n",
    "\n",
    "    # Create a zip file.\n",
    "    with zipfile.ZipFile(zip_filename, \"w\") as zipf:\n",
    "        for file in files_to_zip:\n",
    "            # Add files to the zip file.\n",
    "            zipf.write(file, os.path.basename(file))\n",
    "\n",
    "    print(f\"{zip_filename} is created successfully!\")\n",
    "else:\n",
    "    print(\n",
    "        \"When the baseline is running, this error message will appear because the test set cannot be read, which is a normal phenomenon.\"\n",
    "    )"
   ]
  }
 ],
 "metadata": {
  "kernelspec": {
   "display_name": "Python 3",
   "language": "python",
   "name": "python3"
  },
  "language_info": {
   "codemirror_mode": {
    "name": "ipython",
    "version": 3
   },
   "file_extension": ".py",
   "mimetype": "text/x-python",
   "name": "python",
   "nbconvert_exporter": "python",
   "pygments_lexer": "ipython3",
   "version": "3.13.5"
  }
 },
 "nbformat": 4,
 "nbformat_minor": 5
}
