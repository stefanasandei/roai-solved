{
 "cells": [
  {
   "cell_type": "code",
   "execution_count": 546,
   "id": "09e8e4e7",
   "metadata": {},
   "outputs": [],
   "source": [
    "import matplotlib.pyplot as plt\n",
    "from scipy.integrate import odeint\n",
    "import numpy as np\n",
    "import pandas as pd\n",
    "import math\n",
    "import zipfile\n",
    "import os\n",
    "from typing import Tuple\n",
    "\n",
    "import torch\n",
    "import torch.nn as nn\n",
    "import torch.nn.functional as F\n",
    "from torch.optim import AdamW\n",
    "from torch.utils.data import TensorDataset, DataLoader"
   ]
  },
  {
   "cell_type": "code",
   "execution_count": null,
   "id": "ce073990",
   "metadata": {},
   "outputs": [],
   "source": [
    "seed = 42\n",
    "torch.random.manual_seed(seed)\n",
    "\n",
    "batch_size = 256\n",
    "lr = 1e-3\n",
    "epochs = 200\n",
    "\n",
    "root_path = \"/Users/asandeistefan/Downloads\"\n",
    "EVALUATION = True"
   ]
  },
  {
   "cell_type": "markdown",
   "id": "1ea3ba9a",
   "metadata": {},
   "source": [
    "# Data preparation"
   ]
  },
  {
   "cell_type": "code",
   "execution_count": 548,
   "id": "98b14683",
   "metadata": {},
   "outputs": [],
   "source": [
    "def load_data(csv_path: str) -> Tuple[np.ndarray, np.ndarray]:\n",
    "    ttheta = pd.read_csv(csv_path)\n",
    "    t = np.array(ttheta[\"t\"])\n",
    "    theta = np.array(ttheta[\"theta\"])\n",
    "    return t, theta"
   ]
  },
  {
   "cell_type": "code",
   "execution_count": 549,
   "id": "c151a096",
   "metadata": {},
   "outputs": [],
   "source": [
    "def split_data(t: np.ndarray, theta: np.ndarray, threshold=1):\n",
    "    # split data in two sections: before the force F is applied, and after\n",
    "    theta_1, t_1 = [], []\n",
    "    theta_2, t_2 = [], []\n",
    "    force_flag = False\n",
    "\n",
    "    t_1.append(t[0])\n",
    "    theta_1.append(theta[0])\n",
    "    for i in range(1, len(t)):\n",
    "        if t[i] - t[i - 1] < threshold:  #\n",
    "            if not force_flag:\n",
    "                t_1.append(t[i])\n",
    "                theta_1.append(theta[i])\n",
    "            else:\n",
    "                t_2.append(t[i])\n",
    "                theta_2.append(theta[i])\n",
    "        else:\n",
    "            force_flag = True\n",
    "            t_2.append(t[i])\n",
    "            theta_2.append(theta[i])\n",
    "\n",
    "    return np.array(t_1), np.array(theta_1), np.array(t_2), np.array(theta_2)"
   ]
  },
  {
   "cell_type": "code",
   "execution_count": 550,
   "id": "ac2a7755",
   "metadata": {},
   "outputs": [],
   "source": [
    "def get_next_zerotheta_timestamp(t, theta):\n",
    "    # To find the next zero point.\n",
    "    timestamp = 0\n",
    "    for i in range(1, len(theta)):\n",
    "        if theta[i - 1] * theta[i] < 0:\n",
    "            timestamp = t[i]\n",
    "            break\n",
    "    return timestamp\n",
    "\n",
    "\n",
    "def theta_func(thetaomega, t, alpha, beta):\n",
    "    # Function for solving differential equations.\n",
    "    theta, omega = thetaomega\n",
    "    a = -alpha * omega - beta * math.sin(theta)\n",
    "    return np.array([omega, a])\n",
    "\n",
    "\n",
    "def derivative(t, theta):\n",
    "    dthetadt = (theta[1:] - theta[:-1]) / (t[1:] - t[:-1])\n",
    "    return dthetadt\n",
    "\n",
    "\n",
    "def get_break_timestamp(\n",
    "    break_t, theta_1_forward, theta_2_backward\n",
    "):  \n",
    "    # Find the moment when F disappears by identifying the intersection point of the curves.\n",
    "    min_val = math.inf\n",
    "    min_idx = 0\n",
    "    for i in range(len(break_t) - 1):\n",
    "        val = abs(theta_1_forward[i] - theta_2_backward[i])\n",
    "        dtheta_1 = theta_1_forward[i + 1] - theta_1_forward[i]\n",
    "        dtheta_2 = theta_2_backward[i + 1] - theta_2_backward[i]\n",
    "        val += abs((dtheta_1 - dtheta_2) / (break_t[i + 1] - break_t[i]))\n",
    "        if val < min_val:\n",
    "            min_val = val\n",
    "            min_idx = i\n",
    "\n",
    "    return break_t[min_idx]\n",
    "\n",
    "\n",
    "def plot1d_full_data(\n",
    "    t_1, theta_1, t_2, theta_2, break_t, theta_break, break_timestamp\n",
    "):\n",
    "    fig = plt.figure()\n",
    "\n",
    "    ax = fig.add_subplot()\n",
    "    ax.plot(t_1, theta_1, lw=1, color=\"blue\")\n",
    "    ax.plot(t_2, theta_2, lw=1, color=\"blue\")\n",
    "    ax.plot(break_t, theta_break, lw=1, color=\"red\")\n",
    "    ax.scatter(\n",
    "        [break_timestamp], [theta_break[break_t == break_timestamp]], s=20, color=\"red\"\n",
    "    )\n",
    "\n",
    "    plt.show()\n",
    "    plt.cla()\n",
    "    plt.close(\"all\")"
   ]
  },
  {
   "cell_type": "code",
   "execution_count": 551,
   "id": "e826b7be",
   "metadata": {},
   "outputs": [],
   "source": [
    "def reconstruct_missing_segment(t_1, theta_1, t_2, theta_2, alpha, beta):\n",
    "    # initial conditions\n",
    "    theta0 = theta_1[-1]\n",
    "    omega0 = (theta_1[-1] - theta_1[-2]) / (t_1[-1] - t_1[-2])\n",
    "    thetaomega0 = [theta0, omega0]\n",
    "\n",
    "    break_t = np.linspace(t_1[-1], t_2[0], 200)\n",
    "    thetaomega_sol = odeint(theta_func, thetaomega0, break_t, args=(alpha, beta))\n",
    "    theta_break = thetaomega_sol[:, 0]\n",
    "\n",
    "    # find return to zero\n",
    "    break_timestamp = get_next_zerotheta_timestamp(break_t, theta_break)\n",
    "\n",
    "    return break_t, theta_break, break_timestamp"
   ]
  },
  {
   "cell_type": "code",
   "execution_count": 552,
   "id": "bf309ea7",
   "metadata": {},
   "outputs": [],
   "source": [
    "if not EVALUATION:\n",
    "    t, theta = load_data(f\"{root_path}/pendulum_train.csv\")\n",
    "    t_1, theta_1, t_2, theta_2 = split_data(t, theta)"
   ]
  },
  {
   "cell_type": "markdown",
   "id": "bb255b17",
   "metadata": {},
   "source": [
    "let's do a vizualization of the task"
   ]
  },
  {
   "cell_type": "code",
   "execution_count": 553,
   "id": "6678e121",
   "metadata": {},
   "outputs": [
    {
     "data": {
      "image/png": "[encoded data removed]",
      "text/plain": [
       "<Figure size 640x480 with 1 Axes>"
      ]
     },
     "metadata": {},
     "output_type": "display_data"
    }
   ],
   "source": [
    "if not EVALUATION:\n",
    "    # dummy parameters (to be regressed later) - just guessed them\n",
    "    alpha, beta = 0.9, 5 #0.5, 18.5\n",
    "\n",
    "    break_t, theta_break, break_timestamp = reconstruct_missing_segment(\n",
    "        t_1, theta_1, t_2, theta_2, alpha, beta\n",
    "    )\n",
    "\n",
    "    plot1d_full_data(\n",
    "        t_1, theta_1, t_2, theta_2, break_t, theta_break, break_timestamp\n",
    "    )"
   ]
  },
  {
   "cell_type": "markdown",
   "id": "24aa2c7a",
   "metadata": {},
   "source": [
    "# Model"
   ]
  },
  {
   "cell_type": "markdown",
   "id": "46b6426c",
   "metadata": {},
   "source": [
    "The theoretical basis for the model is the acceleration formula: \n",
    "\n",
    "$$\\frac{\\mathrm{d}^2 \\theta}{\\mathrm{d} t^2} = - \\alpha \\frac{\\mathrm{d} \\theta}{\\mathrm{d} t} - \\beta \\sin \\theta(t)$$\n",
    "\n",
    "where $\\alpha = \\frac{\\mu}{m}$ and $\\beta = \\frac{g}{l}$. After $t_{F put}$, an external force is applied and the $\\beta$ parameter becomes $\\frac{g}{l} + \\frac{F}{m l}$.\n",
    "\n",
    "The model has to approximate the length $l$, the air resistance $\\mu$, the magnitude of the external force $F$. We know that $m=1$ and $g=9.8$."
   ]
  },
  {
   "cell_type": "code",
   "execution_count": 554,
   "id": "32ac8f1b",
   "metadata": {},
   "outputs": [],
   "source": [
    "class SinglePendulum(nn.Module):\n",
    "    def __init__(self):\n",
    "        super().__init__()\n",
    "\n",
    "        self.l = nn.Parameter(torch.randn((1,), requires_grad=True))\n",
    "        self.mu = nn.Parameter(torch.randn((1,), requires_grad=True))\n",
    "        self.F = nn.Parameter(torch.randn((1,), requires_grad=True))\n",
    "\n",
    "        self.g = 9.18\n",
    "        self.m = 1\n",
    "\n",
    "    def get_alphabeta(self, add_force=False):\n",
    "        alpha = self.mu / self.m\n",
    "        beta = 0\n",
    "\n",
    "        if add_force:\n",
    "            beta = self.g / self.l\n",
    "        else:\n",
    "            beta = self.g / self.l + self.F / (self.m * self.l)\n",
    "\n",
    "        return alpha, beta\n",
    "\n",
    "    def forward(self, theta, omega, add_force=False):\n",
    "        alpha, beta = self.get_alphabeta(add_force)\n",
    "\n",
    "        a = -alpha * omega - beta * torch.sin(theta)\n",
    "        return a"
   ]
  },
  {
   "cell_type": "code",
   "execution_count": 555,
   "id": "a8338fa7",
   "metadata": {},
   "outputs": [
    {
     "data": {
      "text/plain": [
       "tensor([-2.8173], grad_fn=<SubBackward0>)"
      ]
     },
     "execution_count": 555,
     "metadata": {},
     "output_type": "execute_result"
    }
   ],
   "source": [
    "pendulum = SinglePendulum()\n",
    "\n",
    "# takes in theta(t) and omega(t)=theta'(t)\n",
    "pendulum(torch.tensor(0.1), torch.tensor(0.2))"
   ]
  },
  {
   "cell_type": "markdown",
   "id": "ebe33cea",
   "metadata": {},
   "source": [
    "# Training"
   ]
  },
  {
   "cell_type": "code",
   "execution_count": 556,
   "id": "bcafc7c5",
   "metadata": {},
   "outputs": [],
   "source": [
    "if not EVALUATION:\n",
    "    # Compute omega and alpha using finite differences\n",
    "    theta_t = theta_break\n",
    "    t_t = break_t\n",
    "\n",
    "    omega_t = (theta_t[1:] - theta_t[:-1]) / (t_t[1:] - t_t[:-1])\n",
    "    alpha_t = (omega_t[1:] - omega_t[:-1]) / (t_t[2:] - t_t[1:-1])\n",
    "\n",
    "    # Shorten theta and omega accordingly to match alpha shape\n",
    "    theta_t = theta_t[1:-1]\n",
    "    omega_t = omega_t[:-1]\n",
    "\n",
    "    # Convert to torch tensors\n",
    "    theta_tensor = torch.tensor(theta_t, dtype=torch.float32)\n",
    "    omega_tensor = torch.tensor(omega_t, dtype=torch.float32)\n",
    "    alpha_tensor = torch.tensor(alpha_t, dtype=torch.float32)\n",
    "\n",
    "    # Create the Dataloader\n",
    "    dataset = TensorDataset(theta_tensor, omega_tensor, alpha_tensor)\n",
    "    loader = DataLoader(dataset, batch_size=batch_size, shuffle=True)"
   ]
  },
  {
   "cell_type": "code",
   "execution_count": 557,
   "id": "88077f2c",
   "metadata": {},
   "outputs": [],
   "source": [
    "def train(model, epochs, lr):\n",
    "    optimizer = AdamW(model.parameters(), lr=lr)\n",
    "\n",
    "    for epoch in range(epochs):\n",
    "        total_loss = 0.0\n",
    "        for theta_batch, omega_batch, alpha_batch in loader:\n",
    "            pred_alpha = model(theta_batch, omega_batch, add_force=True).squeeze()\n",
    "            loss = F.mse_loss(pred_alpha, alpha_batch)\n",
    "\n",
    "            optimizer.zero_grad()\n",
    "            loss.backward()\n",
    "            optimizer.step()\n",
    "\n",
    "            total_loss += loss.item() * len(theta_batch)\n",
    "\n",
    "        if (epoch + 1) % 100 == 0:\n",
    "            print(f\"Epoch {epoch+1}, Loss: {total_loss / len(dataset):.6f}\")"
   ]
  },
  {
   "cell_type": "code",
   "execution_count": 558,
   "id": "db84d8fe",
   "metadata": {},
   "outputs": [
    {
     "name": "stdout",
     "output_type": "stream",
     "text": [
      "Epoch 100, Loss: 6.114309\n",
      "Epoch 200, Loss: 4.239481\n"
     ]
    }
   ],
   "source": [
    "if not EVALUATION:\n",
    "    train(pendulum, epochs, lr)"
   ]
  },
  {
   "cell_type": "code",
   "execution_count": 559,
   "id": "dba2ed7b",
   "metadata": {},
   "outputs": [
    {
     "name": "stdout",
     "output_type": "stream",
     "text": [
      "Estimated length l: 0.4864\n",
      "Estimated air resistance mu: 0.3107\n",
      "Estimated force F: 0.2345\n"
     ]
    }
   ],
   "source": [
    "print(f\"Estimated length l: {pendulum.l.item():.4f}\")\n",
    "print(f\"Estimated air resistance mu: {pendulum.mu.item():.4f}\")\n",
    "print(f\"Estimated force F: {pendulum.F.item():.4f}\")"
   ]
  },
  {
   "cell_type": "code",
   "execution_count": 560,
   "id": "76934ac1",
   "metadata": {},
   "outputs": [
    {
     "data": {
      "image/png": "[encoded data removed]",
      "text/plain": [
       "<Figure size 640x480 with 1 Axes>"
      ]
     },
     "metadata": {},
     "output_type": "display_data"
    }
   ],
   "source": [
    "if not EVALUATION:\n",
    "    alpha, beta = pendulum.get_alphabeta(add_force=False)\n",
    "    alpha, beta = alpha.item(), beta.item()\n",
    "\n",
    "    break_t, theta_break, break_timestamp = reconstruct_missing_segment(\n",
    "        t_1, theta_1, t_2, theta_2, alpha, beta\n",
    "    )\n",
    "\n",
    "    plot1d_full_data(t_1, theta_1, t_2, theta_2, break_t, theta_break, break_timestamp)"
   ]
  },
  {
   "cell_type": "markdown",
   "id": "a257a113",
   "metadata": {},
   "source": [
    "# Submission"
   ]
  },
  {
   "cell_type": "code",
   "execution_count": null,
   "id": "891121c5",
   "metadata": {},
   "outputs": [],
   "source": [
    "def estimate_and_save_parameters(csv_path: str, submission_path: str):\n",
    "    t, theta = load_data(csv_path)\n",
    "    t_1, theta_1, t_2, theta_2 = split_data(t, theta)\n",
    "\n",
    "    # Dummy model to extract parameters\n",
    "    model = SinglePendulum()\n",
    "    break_t, theta_break, _ = reconstruct_missing_segment(\n",
    "        t_1, theta_1, t_2, theta_2, alpha=0.9, beta=5\n",
    "    )\n",
    "\n",
    "    # Derivatives\n",
    "    omega_t = (theta_break[1:] - theta_break[:-1]) / (break_t[1:] - break_t[:-1])\n",
    "    alpha_t = (omega_t[1:] - omega_t[:-1]) / (break_t[2:] - break_t[1:-1])\n",
    "    theta_t = theta_break[1:-1]\n",
    "    omega_t = omega_t[:-1]\n",
    "\n",
    "    # Torch training data\n",
    "    theta_tensor = torch.tensor(theta_t, dtype=torch.float32)\n",
    "    omega_tensor = torch.tensor(omega_t, dtype=torch.float32)\n",
    "    alpha_tensor = torch.tensor(alpha_t, dtype=torch.float32)\n",
    "\n",
    "    loader = DataLoader(\n",
    "        TensorDataset(theta_tensor, omega_tensor, alpha_tensor),\n",
    "        batch_size=256,\n",
    "        shuffle=True,\n",
    "    )\n",
    "\n",
    "    # Train model\n",
    "    optimizer = AdamW(model.parameters(), lr=1e-3)\n",
    "    for epoch in range(2000):\n",
    "        for theta_b, omega_b, alpha_b in loader:\n",
    "            pred = model(theta_b, omega_b, add_force=True).squeeze()\n",
    "            loss = F.mse_loss(pred, alpha_b)\n",
    "            optimizer.zero_grad()\n",
    "            loss.backward()\n",
    "            optimizer.step()\n",
    "\n",
    "    # Extract parameters\n",
    "    l = model.l.item()\n",
    "    mu = model.mu.item()\n",
    "    Force = model.F.item()\n",
    "\n",
    "    # Final forward sim and timestamps\n",
    "    alpha, beta = model.get_alphabeta(add_force=False)\n",
    "    break_t, theta_break, t_nextzerotheta = reconstruct_missing_segment(\n",
    "        t_1, theta_1, t_2, theta_2, alpha.item(), beta.item()\n",
    "    )\n",
    "    t_Fput = t_2[0]\n",
    "\n",
    "    pd.DataFrame([{\n",
    "        \"l\": l,\n",
    "        \"miu\": mu,\n",
    "        \"F\": Force,\n",
    "        \"t_nextzerotheta\": t_nextzerotheta,\n",
    "        \"t_Fput\": t_Fput,\n",
    "    }]).to_csv(submission_path, index=False)"
   ]
  },
  {
   "cell_type": "code",
   "execution_count": 562,
   "id": "b48a3870",
   "metadata": {},
   "outputs": [],
   "source": [
    "TRAIN_PATH = \"/bohr/train-08bw/v1/\" if EVALUATION else f\"{root_path}/\"\n",
    "estimate_and_save_parameters(\n",
    "    csv_path=TRAIN_PATH + \"pendulum_train.csv\", submission_path=\"submission_train.csv\"\n",
    ")  # Solve the training set equation."
   ]
  },
  {
   "cell_type": "code",
   "execution_count": 563,
   "id": "dc09adda",
   "metadata": {},
   "outputs": [
    {
     "name": "stdout",
     "output_type": "stream",
     "text": [
      "When the baseline is running, this error message will appear because the test set cannot be read, which is a normal phenomenon.\n"
     ]
    }
   ],
   "source": [
    "# Load the test set\n",
    "# “DATA_PATH” is an environment variable for the encrypted test set.\n",
    "# After submission, the test set can be accessed for system scoring in the following manner, but the participants cannot download it directly.\n",
    "if os.environ.get(\"DATA_PATH\"):\n",
    "    DATA_PATH = os.environ.get(\"DATA_PATH\") + \"/\"\n",
    "\n",
    "    estimate_and_save_parameters(\n",
    "        csv_path=DATA_PATH + \"pendulum_testA.csv\", submission_path=\"submissionA.csv\"\n",
    "    )  # Solve the equation for the Public test set （test set A）.\n",
    "    estimate_and_save_parameters(\n",
    "        csv_path=DATA_PATH + \"pendulum_testB.csv\", submission_path=\"submissionB.csv\"\n",
    "    )  # Solve the equation for the Private test set （test set B）.\n",
    "\n",
    "    # Define the files to be packaged and the compressed file name.\n",
    "    files_to_zip = [\"submissionA.csv\", \"submissionB.csv\"]\n",
    "    zip_filename = \"submission.zip\"\n",
    "\n",
    "    # Create a zip file.\n",
    "    with zipfile.ZipFile(zip_filename, \"w\") as zipf:\n",
    "        for file in files_to_zip:\n",
    "            # Add files to the zip file.\n",
    "            zipf.write(file, os.path.basename(file))\n",
    "\n",
    "    print(f\"{zip_filename} is created successfully!\")\n",
    "else:\n",
    "    print(\n",
    "        \"When the baseline is running, this error message will appear because the test set cannot be read, which is a normal phenomenon.\"\n",
    "    )"
   ]
  }
 ],
 "metadata": {
  "kernelspec": {
   "display_name": "Python 3",
   "language": "python",
   "name": "python3"
  },
  "language_info": {
   "codemirror_mode": {
    "name": "ipython",
    "version": 3
   },
   "file_extension": ".py",
   "mimetype": "text/x-python",
   "name": "python",
   "nbconvert_exporter": "python",
   "pygments_lexer": "ipython3",
   "version": "3.9.17"
  }
 },
 "nbformat": 4,
 "nbformat_minor": 5
}
