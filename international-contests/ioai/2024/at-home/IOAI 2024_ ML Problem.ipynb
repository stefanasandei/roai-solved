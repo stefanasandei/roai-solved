{
 "cells": [
  {
   "cell_type": "markdown",
   "metadata": {
    "id": "4ZgLjczNn2eY"
   },
   "source": [
    "# Save the Factory: Feature Engineering Challenge"
   ]
  },
  {
   "cell_type": "markdown",
   "metadata": {
    "id": "eNLJBBCT9W_0"
   },
   "source": [
    "<img src=\"https://drive.google.com/uc?id=1QjV8Th9fOK89MhgV-Y1Irn7dTl7ZheP0\" width=\"650\">\n",
    "\n",
    "## Background\n",
    "\n",
    "In the whimsical town of Widgetville, the mighty Widget Corp stands as the centerpiece, crafting widgets of unmatched quality with a **Ruby** and **Sapphire** magic stones inside. But recently, a trickster sprite seems to have infiltrated the assembly lines, introducing problems and faults to widgets's working procedure and labels. As the company’s freshly appointed Chief Engineering Detective, you are tasked with a mission to unravel this puzzling situation.\n",
    "\n",
    "## Task\n",
    "\n",
    "- Your ultimate goal is to effectively classify widgets into two classes: **Ruby** and **Sapphire**.\n",
    "\n",
    "- You have recovered the labels for a previous month's supply of widgets, and should use these to classify the remaining widgets.\n",
    "\n",
    "- For every widget, you have an access to the so-called \"The Pulse of the Machine\" -- a unique numerical representation of each widget, which features 8 magic threads (represented by 187 numbers) woven into the central timeless crystal.\n",
    "Therefore, each widget is described by (187 x 8) array. You must use these data to recover the **Ruby** and **Sapphire** labels.\n",
    "\n",
    "- You need to engineer discerning features from the **Pulse of the Machine**, since efficient factory procedures allow you to **only use Decision Tree Classifier** with a limited tree depth as a model, with no hyperparameters change allowed.\n",
    "  - You can read more about Decision Trees in scikit-learn documentation:\n",
    "    - https://en.wikipedia.org/wiki/Decision_tree\n",
    "    - https://scikit-learn.org/stable/modules/tree.html\n",
    "    - https://scikit-learn.org/stable/modules/generated/sklearn.tree.DecisionTreeClassifier.html\n",
    "  \n",
    "- You have two levels of difficulty, producing **Efficient** and **Super Duper Efficient** solutions. These vary by the allowed tree depth.\n",
    "\n",
    "- Your classification success will be measured by the ROC AUC metric\n",
    "  - https://scikit-learn.org/stable/modules/generated/sklearn.metrics.roc_auc_score.html\n",
    "\n",
    "- Your solution for each task should not exceed 5 minutes for training from scratch **AND** inference on the validation/test set on the standard Colab non-GPU instance. This **INCLUDES** features generation (working time of the function that transforms initial Pulse of the Machine into a set of features for the model).\n",
    "\n",
    "## Deliverables\n",
    "\n",
    "- We will share the test data 48 hours before the deadline\n",
    "\n",
    "- Use test data to create `efficient_test_predictions.txt` and `super_duper_efficient_test_predictions.txt` and share these files with us\n",
    "\n",
    "- Also share this notebook containing your solution so we can reproduce your results and check the time constraints\n",
    "\n",
    "## Tips\n",
    "- Aim to create a minimal yet mighty set of derivative features to maintain the elegance and effectiveness of your tools.\n",
    "- The crystals are indeed **timeless** -- be aware that there are no time series involved.\n",
    "- There was a rumor that not only labels, but the data itself was corrupted by evil spirits. Is there a way for a possible recovery?\n",
    "- Ensure your solutions are as clear as the crystal waters of Widgetville’s famed springs by providing them with sufficient documentation."
   ]
  },
  {
   "cell_type": "markdown",
   "metadata": {
    "id": "sGIf8SuD_dYQ"
   },
   "source": [
    "# Below goes data loading and visualization"
   ]
  },
  {
   "cell_type": "code",
   "execution_count": null,
   "metadata": {
    "id": "i1QCJ9uc9TxT"
   },
   "outputs": [],
   "source": [
    "import pandas as pd\n",
    "import numpy as np\n",
    "np.random.seed(2024)\n",
    "import matplotlib.pyplot as plt\n",
    "\n",
    "from sklearn.tree import DecisionTreeClassifier\n",
    "from sklearn.metrics import roc_auc_score"
   ]
  },
  {
   "cell_type": "code",
   "execution_count": null,
   "metadata": {
    "id": "qgrnJib9_gC9"
   },
   "outputs": [],
   "source": [
    "# !gdown 1eIrRyAqckN6zCjPb9VS-2rw7Bup7YhsA\n",
    "# as far as I know, it's lost data"
   ]
  },
  {
   "cell_type": "code",
   "execution_count": null,
   "metadata": {
    "id": "yACb1lLu_kp8"
   },
   "outputs": [],
   "source": [
    "data = pd.read_pickle('FE_hometask_data_v3.pickle')\n",
    "for key in data.keys():\n",
    "  print(key)"
   ]
  },
  {
   "cell_type": "code",
   "execution_count": null,
   "metadata": {
    "id": "yiuRH5Z-_lZ6"
   },
   "outputs": [],
   "source": [
    "X_train = np.array([x[0] for x in data['train'].values()])\n",
    "y_train = np.array([x[1] for x in data['train'].values()])\n",
    "\n",
    "X_val = np.array([x[0] for x in data['val'].values()])\n",
    "y_val = np.array([x[1] for x in data['val'].values()])\n",
    "# this is temporary as we'll share the test data later\n",
    "X_test = X_val"
   ]
  },
  {
   "cell_type": "code",
   "execution_count": null,
   "metadata": {
    "id": "kcdbMOlV_sS2"
   },
   "outputs": [],
   "source": [
    "X_train.shape, y_train.shape, X_val.shape, y_val.shape, X_test.shape"
   ]
  },
  {
   "cell_type": "code",
   "execution_count": null,
   "metadata": {
    "id": "4dIpYokJ_ty1"
   },
   "outputs": [],
   "source": [
    "def vis(arr, color='r'):\n",
    "  widget_type = 'Ruby' if color == 'r' else 'Sapphire'\n",
    "  plt.figure(figsize=(12, 8))\n",
    "  for cnt in range(8):\n",
    "    plt.plot(arr[:, cnt], color=color, alpha=.2 + .1*cnt)\n",
    "  plt.grid()\n",
    "  plt.title(f'Pulse of the Machine for {widget_type}')"
   ]
  },
  {
   "cell_type": "code",
   "execution_count": null,
   "metadata": {
    "id": "fmX46V1D_uxl"
   },
   "outputs": [],
   "source": [
    "y_train[0], y_train[2]"
   ]
  },
  {
   "cell_type": "code",
   "execution_count": null,
   "metadata": {
    "id": "qV2NnMHS_v0E"
   },
   "outputs": [],
   "source": [
    "vis(X_train[0], 'r')"
   ]
  },
  {
   "cell_type": "code",
   "execution_count": null,
   "metadata": {
    "id": "p_koGYSC_w2E"
   },
   "outputs": [],
   "source": [
    "vis(X_train[2], 'b')"
   ]
  },
  {
   "cell_type": "markdown",
   "metadata": {
    "id": "y9DoGsgD_2Zk"
   },
   "source": [
    "# Functions to evaluate the results\n",
    "N.B. Do not change it!"
   ]
  },
  {
   "cell_type": "code",
   "execution_count": null,
   "metadata": {
    "id": "UvI3icO8_x7E"
   },
   "outputs": [],
   "source": [
    "def efficient_eval(train_features, val_features, y_train=y_train):\n",
    "  model = DecisionTreeClassifier(max_depth=20, random_state=2024).fit(train_features, y_train)\n",
    "  preds = model.predict(val_features)\n",
    "  return roc_auc_score(y_val, preds)\n",
    "\n",
    "def super_duper_efficient_eval(train_features, val_features, y_train=y_train):\n",
    "  model = DecisionTreeClassifier(max_depth=4, random_state=2024).fit(train_features, y_train)\n",
    "  preds = model.predict(val_features)\n",
    "  return roc_auc_score(y_val, preds)"
   ]
  },
  {
   "cell_type": "markdown",
   "metadata": {
    "id": "bGWwQICs_4qo"
   },
   "source": [
    "# Functions to write answers to files\n",
    "\n",
    "Don't change the functions, share the files with us in your final submission."
   ]
  },
  {
   "cell_type": "code",
   "execution_count": null,
   "metadata": {
    "id": "pNdmOEwT_3fk"
   },
   "outputs": [],
   "source": [
    "def efficient_test_predictions(train_features, test_features, y_train=y_train):\n",
    "  model = DecisionTreeClassifier(max_depth=20, random_state=2024).fit(train_features, y_train)\n",
    "  preds = ['1' if x else '0'\n",
    "           for x in model.predict(test_features)]\n",
    "  with open('efficient_test_predictions.txt', 'w') as f:\n",
    "    f.write(''.join(preds))\n",
    "\n",
    "def super_duper_efficient_test_predictions(train_features, test_features, y_train=y_train):\n",
    "  model = DecisionTreeClassifier(max_depth=4, random_state=2024).fit(train_features, y_train)\n",
    "  preds = ['1' if x else '0'\n",
    "           for x in model.predict(test_features)]\n",
    "  with open('super_duper_efficient_test_predictions.txt', 'w') as f:\n",
    "    f.write(''.join(preds))"
   ]
  },
  {
   "cell_type": "markdown",
   "metadata": {
    "id": "v27iLKbx_7zw"
   },
   "source": [
    "# Baselines: let's try some simple feature sets!\n",
    "- every 10th element of a flattened array\n",
    "- mean value / standard deviation by each axis"
   ]
  },
  {
   "cell_type": "code",
   "execution_count": null,
   "metadata": {
    "id": "QlBDBMK8_6dj"
   },
   "outputs": [],
   "source": [
    "def feature_set_10th(X):\n",
    "  return np.reshape(X, (X.shape[0], -1))[:, ::10]\n",
    "\n",
    "def feature_set_mean(X, axis=1):\n",
    "  return np.mean(X, axis=axis)\n",
    "\n",
    "def feature_set_std(X, axis=1):\n",
    "  return np.std(X, axis=axis)"
   ]
  },
  {
   "cell_type": "code",
   "execution_count": null,
   "metadata": {
    "id": "EICr5jZV_-B0"
   },
   "outputs": [],
   "source": [
    "%%time\n",
    "efficient_eval(\n",
    "    feature_set_10th(X_train),\n",
    "    feature_set_10th(X_val)\n",
    ")"
   ]
  },
  {
   "cell_type": "code",
   "execution_count": null,
   "metadata": {
    "id": "v65AHoRH_-zT"
   },
   "outputs": [],
   "source": [
    "%%time\n",
    "super_duper_efficient_eval(\n",
    "    feature_set_10th(X_train),\n",
    "    feature_set_10th(X_val)\n",
    ")"
   ]
  },
  {
   "cell_type": "code",
   "execution_count": null,
   "metadata": {
    "id": "yCm8_ehqAAsA"
   },
   "outputs": [],
   "source": [
    "%%time\n",
    "efficient_eval(\n",
    "    feature_set_mean(X_train, axis=2),\n",
    "    feature_set_mean(X_val, axis=2)\n",
    ")"
   ]
  },
  {
   "cell_type": "code",
   "execution_count": null,
   "metadata": {
    "id": "aWCag4F4AB4w"
   },
   "outputs": [],
   "source": [
    "%%time\n",
    "efficient_eval(\n",
    "    feature_set_std(X_train, axis=2),\n",
    "    feature_set_std(X_val, axis=2)\n",
    ")"
   ]
  },
  {
   "cell_type": "code",
   "execution_count": null,
   "metadata": {
    "id": "n-RDhm_IACtP"
   },
   "outputs": [],
   "source": [
    "%%time\n",
    "super_duper_efficient_eval(\n",
    "    feature_set_std(X_train, axis=2),\n",
    "    feature_set_std(X_val, axis=2)\n",
    ")"
   ]
  },
  {
   "cell_type": "markdown",
   "metadata": {
    "id": "gIWQ--hMAE70"
   },
   "source": [
    "Ok, for some reason `feature_set_std, axis=2` was the best.\n",
    "\n",
    "Don't forget to share the files with us, and please note: any function below (`efficient_test_predictions`, `super_duper_efficient_test_predictions`) should meet the five-minute time limit constraint.\n",
    "\n",
    "That's how one produces results for the test set.\n",
    "\n"
   ]
  },
  {
   "cell_type": "code",
   "execution_count": null,
   "metadata": {
    "id": "Y_mLsd9XADtp"
   },
   "outputs": [],
   "source": [
    "efficient_test_predictions(\n",
    "    feature_set_std(X_train, axis=2),\n",
    "    feature_set_std(X_test, axis=2)\n",
    ")"
   ]
  },
  {
   "cell_type": "code",
   "execution_count": null,
   "metadata": {
    "id": "Gb1T7N26AGAT"
   },
   "outputs": [],
   "source": [
    "super_duper_efficient_test_predictions(\n",
    "    feature_set_std(X_train, axis=2),\n",
    "    feature_set_std(X_test, axis=2)\n",
    ")"
   ]
  },
  {
   "cell_type": "markdown",
   "metadata": {
    "id": "NCftdc0rAIPy"
   },
   "source": [
    "# UPDATE: the test data!\n",
    "\n",
    "- Generate test predictions using your functions\n",
    "- Download your files (use `Files` icon on the left sidebar)\n",
    "- Upload them somewhere and share the link\n",
    "- Don't forget to share this notebook as well!"
   ]
  },
  {
   "cell_type": "code",
   "execution_count": null,
   "metadata": {
    "id": "WyDACd-22fte"
   },
   "outputs": [],
   "source": [
    "!gdown 1LmNuET1iDOIS23MTzG-7B99Pfrpwaxhd"
   ]
  },
  {
   "cell_type": "code",
   "execution_count": null,
   "metadata": {
    "id": "EpbeemgF2lXM"
   },
   "outputs": [],
   "source": [
    "test_data = pd.read_pickle('FE_hometask_data_v3_test.pickle')\n",
    "X_test = np.array([x[0] for x in test_data['test'].values()])\n",
    "X_test.shape"
   ]
  },
  {
   "cell_type": "code",
   "execution_count": null,
   "metadata": {
    "id": "CIQbdPp22mOb"
   },
   "outputs": [],
   "source": [
    "# your solution! replace it\n",
    "your_feature_set = feature_set_std\n",
    "\n",
    "efficient_test_predictions(\n",
    "    your_feature_set(X_train, axis=2),\n",
    "    your_feature_set(X_test, axis=2)\n",
    ")\n",
    "\n",
    "super_duper_efficient_test_predictions(\n",
    "    your_feature_set(X_train, axis=2),\n",
    "    your_feature_set(X_test, axis=2)\n",
    ")"
   ]
  }
 ],
 "metadata": {
  "colab": {
   "provenance": []
  },
  "kernelspec": {
   "display_name": "Python 3",
   "name": "python3"
  },
  "language_info": {
   "name": "python",
   "version": "3.10.11"
  }
 },
 "nbformat": 4,
 "nbformat_minor": 0
}
