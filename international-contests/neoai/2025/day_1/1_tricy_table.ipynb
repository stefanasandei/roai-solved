{
 "cells": [
  {
   "cell_type": "code",
   "execution_count": null,
   "id": "b947c17d",
   "metadata": {},
   "outputs": [],
   "source": [
    "import pandas as pd\n",
    "import numpy as np\n",
    "import lightgbm as lgb\n",
    "from sklearn.model_selection import train_test_split\n",
    "from sklearn.metrics import root_mean_squared_error\n",
    "from sklearn.impute import SimpleImputer\n",
    "import matplotlib.pyplot as plt\n",
    "import seaborn as sns"
   ]
  },
  {
   "cell_type": "code",
   "execution_count": 132,
   "id": "4da59cd6",
   "metadata": {},
   "outputs": [],
   "source": [
    "root_path = \"E:\\\\IOAI\\\\kits\\\\neoai-2025\\\\tricy-table-data\"\n",
    "seed = 42"
   ]
  },
  {
   "cell_type": "markdown",
   "id": "a782158c",
   "metadata": {},
   "source": [
    "# Data preparation"
   ]
  },
  {
   "cell_type": "code",
   "execution_count": null,
   "id": "07b7819b",
   "metadata": {},
   "outputs": [],
   "source": [
    "imputer = SimpleImputer(strategy=\"median\")\n",
    "\n",
    "def clean_df(df: pd.DataFrame, is_train: bool):\n",
    "    if \"target\" in df:\n",
    "        y = df[[\"target\"]]\n",
    "    df = df.drop([\"id\", \"target\"], axis=1, errors=\"ignore\")\n",
    "\n",
    "    for col in df.columns:\n",
    "        df[f'{col}_is_nan'] = df[col].isna().astype(int)\n",
    "\n",
    "    df[\"feat_0_l500\"] = (df[\"feat_0\"] < 500).astype(int)\n",
    "    df[\"feat_5_l60\"] = (df[\"feat_5\"] < 60).astype(int)\n",
    "    df[\"feat_3_l90\"] = (df[\"feat_3\"] < 90).astype(int)\n",
    "    df[\"feat_6_l3000\"] = (df[\"feat_6\"] < 3000).astype(int)\n",
    "    df[\"feat_7_m1000\"] = (df[\"feat_7\"] > 1000).astype(int)\n",
    "    df[\"feat_8_m620\"] = (df[\"feat_8\"] > 620).astype(int)\n",
    "\n",
    "    df = df.drop([\"feat_3_is_nan\", \"feat_2_is_nan\", \"feat_2\", \"feat_0_is_nan\", \"minute_is_nan\"], axis=1, errors=\"ignore\")\n",
    "    num_cols = df.select_dtypes(include=\"number\").columns.tolist()\n",
    "\n",
    "    if is_train:\n",
    "        df[num_cols] = imputer.fit_transform(df[num_cols])\n",
    "        y = np.log(y)\n",
    "        return df, y\n",
    "\n",
    "    df[num_cols] = imputer.transform(df[num_cols])\n",
    "    return df"
   ]
  },
  {
   "cell_type": "code",
   "execution_count": 134,
   "id": "49c7f732",
   "metadata": {},
   "outputs": [],
   "source": [
    "df = pd.read_csv(f\"{root_path}\\\\train_tables.csv\")\n",
    "X, y = clean_df(df, is_train=True)"
   ]
  },
  {
   "cell_type": "code",
   "execution_count": 135,
   "id": "8b66c65d",
   "metadata": {},
   "outputs": [
    {
     "data": {
      "text/html": [
       "<div>\n",
       "<style scoped>\n",
       "    .dataframe tbody tr th:only-of-type {\n",
       "        vertical-align: middle;\n",
       "    }\n",
       "\n",
       "    .dataframe tbody tr th {\n",
       "        vertical-align: top;\n",
       "    }\n",
       "\n",
       "    .dataframe thead th {\n",
       "        text-align: right;\n",
       "    }\n",
       "</style>\n",
       "<table border=\"1\" class=\"dataframe\">\n",
       "  <thead>\n",
       "    <tr style=\"text-align: right;\">\n",
       "      <th></th>\n",
       "      <th>feat_0</th>\n",
       "      <th>feat_1</th>\n",
       "      <th>feat_3</th>\n",
       "      <th>feat_4</th>\n",
       "      <th>feat_5</th>\n",
       "      <th>feat_6</th>\n",
       "      <th>feat_7</th>\n",
       "      <th>feat_8</th>\n",
       "      <th>day</th>\n",
       "      <th>hour</th>\n",
       "      <th>...</th>\n",
       "      <th>feat_7_is_nan</th>\n",
       "      <th>feat_8_is_nan</th>\n",
       "      <th>day_is_nan</th>\n",
       "      <th>hour_is_nan</th>\n",
       "      <th>feat_0_l500</th>\n",
       "      <th>feat_5_l60</th>\n",
       "      <th>feat_3_l90</th>\n",
       "      <th>feat_6_l3000</th>\n",
       "      <th>feat_7_m1000</th>\n",
       "      <th>feat_8_m620</th>\n",
       "    </tr>\n",
       "  </thead>\n",
       "  <tbody>\n",
       "    <tr>\n",
       "      <th>0</th>\n",
       "      <td>470.933685</td>\n",
       "      <td>2563.308124</td>\n",
       "      <td>87.061722</td>\n",
       "      <td>2854.097632</td>\n",
       "      <td>52.455972</td>\n",
       "      <td>2744.457436</td>\n",
       "      <td>1331.064839</td>\n",
       "      <td>653.024118</td>\n",
       "      <td>2.0</td>\n",
       "      <td>4.0</td>\n",
       "      <td>...</td>\n",
       "      <td>0.0</td>\n",
       "      <td>0.0</td>\n",
       "      <td>0.0</td>\n",
       "      <td>0.0</td>\n",
       "      <td>1.0</td>\n",
       "      <td>1.0</td>\n",
       "      <td>1.0</td>\n",
       "      <td>1.0</td>\n",
       "      <td>1.0</td>\n",
       "      <td>1.0</td>\n",
       "    </tr>\n",
       "    <tr>\n",
       "      <th>1</th>\n",
       "      <td>322.752334</td>\n",
       "      <td>1706.970061</td>\n",
       "      <td>84.277867</td>\n",
       "      <td>2962.979989</td>\n",
       "      <td>41.355108</td>\n",
       "      <td>1690.248184</td>\n",
       "      <td>1198.654829</td>\n",
       "      <td>636.739861</td>\n",
       "      <td>2.0</td>\n",
       "      <td>10.0</td>\n",
       "      <td>...</td>\n",
       "      <td>0.0</td>\n",
       "      <td>0.0</td>\n",
       "      <td>0.0</td>\n",
       "      <td>0.0</td>\n",
       "      <td>1.0</td>\n",
       "      <td>1.0</td>\n",
       "      <td>0.0</td>\n",
       "      <td>1.0</td>\n",
       "      <td>1.0</td>\n",
       "      <td>1.0</td>\n",
       "    </tr>\n",
       "    <tr>\n",
       "      <th>2</th>\n",
       "      <td>437.018615</td>\n",
       "      <td>2488.229729</td>\n",
       "      <td>83.672355</td>\n",
       "      <td>2873.775118</td>\n",
       "      <td>48.856837</td>\n",
       "      <td>2441.896999</td>\n",
       "      <td>1319.009963</td>\n",
       "      <td>651.866006</td>\n",
       "      <td>1.0</td>\n",
       "      <td>10.0</td>\n",
       "      <td>...</td>\n",
       "      <td>0.0</td>\n",
       "      <td>0.0</td>\n",
       "      <td>1.0</td>\n",
       "      <td>0.0</td>\n",
       "      <td>1.0</td>\n",
       "      <td>1.0</td>\n",
       "      <td>1.0</td>\n",
       "      <td>1.0</td>\n",
       "      <td>1.0</td>\n",
       "      <td>1.0</td>\n",
       "    </tr>\n",
       "    <tr>\n",
       "      <th>3</th>\n",
       "      <td>286.164002</td>\n",
       "      <td>2563.308124</td>\n",
       "      <td>73.363886</td>\n",
       "      <td>2947.575123</td>\n",
       "      <td>37.927285</td>\n",
       "      <td>1487.642316</td>\n",
       "      <td>1139.463820</td>\n",
       "      <td>538.749367</td>\n",
       "      <td>2.0</td>\n",
       "      <td>16.0</td>\n",
       "      <td>...</td>\n",
       "      <td>0.0</td>\n",
       "      <td>0.0</td>\n",
       "      <td>0.0</td>\n",
       "      <td>0.0</td>\n",
       "      <td>1.0</td>\n",
       "      <td>1.0</td>\n",
       "      <td>1.0</td>\n",
       "      <td>1.0</td>\n",
       "      <td>1.0</td>\n",
       "      <td>0.0</td>\n",
       "    </tr>\n",
       "    <tr>\n",
       "      <th>4</th>\n",
       "      <td>437.593246</td>\n",
       "      <td>2481.820613</td>\n",
       "      <td>82.674960</td>\n",
       "      <td>2836.678634</td>\n",
       "      <td>49.831503</td>\n",
       "      <td>2428.457628</td>\n",
       "      <td>1321.312742</td>\n",
       "      <td>642.256715</td>\n",
       "      <td>1.0</td>\n",
       "      <td>12.0</td>\n",
       "      <td>...</td>\n",
       "      <td>1.0</td>\n",
       "      <td>0.0</td>\n",
       "      <td>0.0</td>\n",
       "      <td>0.0</td>\n",
       "      <td>1.0</td>\n",
       "      <td>0.0</td>\n",
       "      <td>1.0</td>\n",
       "      <td>1.0</td>\n",
       "      <td>0.0</td>\n",
       "      <td>1.0</td>\n",
       "    </tr>\n",
       "  </tbody>\n",
       "</table>\n",
       "<p>5 rows × 25 columns</p>\n",
       "</div>"
      ],
      "text/plain": [
       "       feat_0       feat_1     feat_3       feat_4     feat_5       feat_6  \\\n",
       "0  470.933685  2563.308124  87.061722  2854.097632  52.455972  2744.457436   \n",
       "1  322.752334  1706.970061  84.277867  2962.979989  41.355108  1690.248184   \n",
       "2  437.018615  2488.229729  83.672355  2873.775118  48.856837  2441.896999   \n",
       "3  286.164002  2563.308124  73.363886  2947.575123  37.927285  1487.642316   \n",
       "4  437.593246  2481.820613  82.674960  2836.678634  49.831503  2428.457628   \n",
       "\n",
       "        feat_7      feat_8  day  hour  ...  feat_7_is_nan  feat_8_is_nan  \\\n",
       "0  1331.064839  653.024118  2.0   4.0  ...            0.0            0.0   \n",
       "1  1198.654829  636.739861  2.0  10.0  ...            0.0            0.0   \n",
       "2  1319.009963  651.866006  1.0  10.0  ...            0.0            0.0   \n",
       "3  1139.463820  538.749367  2.0  16.0  ...            0.0            0.0   \n",
       "4  1321.312742  642.256715  1.0  12.0  ...            1.0            0.0   \n",
       "\n",
       "   day_is_nan  hour_is_nan  feat_0_l500  feat_5_l60  feat_3_l90  feat_6_l3000  \\\n",
       "0         0.0          0.0          1.0         1.0         1.0           1.0   \n",
       "1         0.0          0.0          1.0         1.0         0.0           1.0   \n",
       "2         1.0          0.0          1.0         1.0         1.0           1.0   \n",
       "3         0.0          0.0          1.0         1.0         1.0           1.0   \n",
       "4         0.0          0.0          1.0         0.0         1.0           1.0   \n",
       "\n",
       "   feat_7_m1000  feat_8_m620  \n",
       "0           1.0          1.0  \n",
       "1           1.0          1.0  \n",
       "2           1.0          1.0  \n",
       "3           1.0          0.0  \n",
       "4           0.0          1.0  \n",
       "\n",
       "[5 rows x 25 columns]"
      ]
     },
     "execution_count": 135,
     "metadata": {},
     "output_type": "execute_result"
    }
   ],
   "source": [
    "X.head()"
   ]
  },
  {
   "cell_type": "markdown",
   "id": "92de9feb",
   "metadata": {},
   "source": [
    "# EDA"
   ]
  },
  {
   "cell_type": "code",
   "execution_count": 136,
   "id": "627515d7",
   "metadata": {},
   "outputs": [
    {
     "data": {
      "text/plain": [
       "feat_7    4740\n",
       "day       4651\n",
       "feat_5    4628\n",
       "feat_3    4585\n",
       "feat_2    4482\n",
       "feat_6    4406\n",
       "feat_8    4297\n",
       "hour      4275\n",
       "feat_0    3616\n",
       "feat_4    3601\n",
       "minute    3528\n",
       "feat_1    3479\n",
       "target       0\n",
       "dtype: int64"
      ]
     },
     "execution_count": 136,
     "metadata": {},
     "output_type": "execute_result"
    }
   ],
   "source": [
    "df.isna().sum().sort_values(ascending=False)"
   ]
  },
  {
   "cell_type": "code",
   "execution_count": 137,
   "id": "e0982312",
   "metadata": {},
   "outputs": [
    {
     "data": {
      "text/plain": [
       "feat_4          -0.660773\n",
       "day             -0.463356\n",
       "feat_0_l500     -0.146900\n",
       "hour            -0.104126\n",
       "feat_6_is_nan   -0.009487\n",
       "feat_5_is_nan   -0.008656\n",
       "feat_7_is_nan   -0.004849\n",
       "feat_1_is_nan   -0.004486\n",
       "hour_is_nan     -0.003970\n",
       "feat_3_l90       0.002538\n",
       "feat_8_is_nan    0.003371\n",
       "day_is_nan       0.004200\n",
       "feat_4_is_nan    0.007950\n",
       "feat_5_l60       0.008071\n",
       "feat_6_l3000     0.010028\n",
       "minute           0.020135\n",
       "feat_7_m1000     0.057164\n",
       "feat_8_m620      0.282396\n",
       "feat_7           0.306316\n",
       "feat_5           0.637556\n",
       "feat_3           0.640681\n",
       "feat_0           0.645828\n",
       "feat_6           0.649323\n",
       "feat_8           0.676476\n",
       "feat_1           0.927603\n",
       "dtype: float64"
      ]
     },
     "execution_count": 137,
     "metadata": {},
     "output_type": "execute_result"
    }
   ],
   "source": [
    "corrs = X.corrwith(y[\"target\"]).sort_values(ascending=True)\n",
    "corrs"
   ]
  },
  {
   "cell_type": "code",
   "execution_count": 138,
   "id": "704ea72a",
   "metadata": {},
   "outputs": [
    {
     "data": {
      "text/plain": [
       "<Axes: >"
      ]
     },
     "execution_count": 138,
     "metadata": {},
     "output_type": "execute_result"
    },
    {
     "data": {
      "image/png": "[encoded data removed]",
      "text/plain": [
       "<Figure size 640x480 with 1 Axes>"
      ]
     },
     "metadata": {},
     "output_type": "display_data"
    }
   ],
   "source": [
    "y[\"target\"].hist()"
   ]
  },
  {
   "cell_type": "markdown",
   "id": "2f23f951",
   "metadata": {},
   "source": [
    "# Model Selection"
   ]
  },
  {
   "cell_type": "code",
   "execution_count": 139,
   "id": "80b100a6",
   "metadata": {},
   "outputs": [],
   "source": [
    "X_train, X_test, y_train, y_test = train_test_split(X, y, test_size=0.33, random_state=seed)"
   ]
  },
  {
   "cell_type": "code",
   "execution_count": 140,
   "id": "3a638f2b",
   "metadata": {},
   "outputs": [],
   "source": [
    "def evaluate(model):\n",
    "    y_pred = model.predict(X_test)\n",
    "    return root_mean_squared_error(y_test, y_pred) ** (1/4)"
   ]
  },
  {
   "cell_type": "code",
   "execution_count": 141,
   "id": "bdc1153b",
   "metadata": {},
   "outputs": [],
   "source": [
    "param = {\n",
    "    \"learning_rate\": 0.1,\n",
    "    \"num_leaves\": 48,\n",
    "    \"lambda_l1\": 1,\n",
    "    \"lambda_l2\": 1,\n",
    "    \"min_data_in_leaf\": 100,\n",
    "    \"objective\": \"mae\",\n",
    "    \"verbosity\": -1,\n",
    "}"
   ]
  },
  {
   "cell_type": "code",
   "execution_count": 142,
   "id": "685a0293",
   "metadata": {},
   "outputs": [
    {
     "data": {
      "text/plain": [
       "0.3628047524841188"
      ]
     },
     "execution_count": 142,
     "metadata": {},
     "output_type": "execute_result"
    }
   ],
   "source": [
    "train_dataset = lgb.Dataset(X_train, y_train)\n",
    "\n",
    "bst = lgb.train(param, train_dataset, num_boost_round=500)\n",
    "evaluate(bst)"
   ]
  },
  {
   "cell_type": "code",
   "execution_count": 143,
   "id": "4d25ed5d",
   "metadata": {},
   "outputs": [
    {
     "data": {
      "text/plain": [
       "<Axes: title={'center': 'Feature importance'}, xlabel='Feature importance', ylabel='Features'>"
      ]
     },
     "execution_count": 143,
     "metadata": {},
     "output_type": "execute_result"
    },
    {
     "data": {
      "image/png": "[encoded data removed]",
      "text/plain": [
       "<Figure size 640x480 with 1 Axes>"
      ]
     },
     "metadata": {},
     "output_type": "display_data"
    }
   ],
   "source": [
    "lgb.plot_importance(bst)"
   ]
  },
  {
   "cell_type": "markdown",
   "id": "6447796d",
   "metadata": {},
   "source": [
    "# Submission"
   ]
  },
  {
   "cell_type": "code",
   "execution_count": 144,
   "id": "0b43e4eb",
   "metadata": {},
   "outputs": [],
   "source": [
    "def clf_train(\n",
    "    train, test, target, weight_col, id_col, name_file: str, func_inv=None\n",
    "):\n",
    "    predict_test = np.zeros(len(test))\n",
    "\n",
    "    tr = lgb.Dataset(train, target, weight=weight_col)\n",
    "    bst = lgb.train(param, tr, num_boost_round=500)\n",
    "\n",
    "    predict_test = bst.predict(test)\n",
    "    if func_inv:\n",
    "        predict_test = func_inv(predict_test)\n",
    "\n",
    "    sub = pd.DataFrame()\n",
    "    sub[\"id\"] = id_col\n",
    "    sub[\"target\"] = predict_test\n",
    "    sub.to_csv(name_file, index=None)"
   ]
  },
  {
   "cell_type": "code",
   "execution_count": 145,
   "id": "c8906061",
   "metadata": {},
   "outputs": [],
   "source": [
    "df_test = pd.read_csv(f\"{root_path}\\\\test_tables.csv\")\n",
    "X_test = clean_df(df_test, is_train=False)"
   ]
  },
  {
   "cell_type": "code",
   "execution_count": 146,
   "id": "ead3746e",
   "metadata": {},
   "outputs": [],
   "source": [
    "drop_cols = [\"target\"]\n",
    "weight = np.ones(len(df))\n",
    "test_sub = clf_train(\n",
    "    X,\n",
    "    X_test,\n",
    "    y,\n",
    "    weight,\n",
    "    df_test[\"id\"].tolist(),\n",
    "    \"submission.csv\",\n",
    "    func_inv=np.exp,\n",
    ")"
   ]
  }
 ],
 "metadata": {
  "kernelspec": {
   "display_name": "Python 3",
   "language": "python",
   "name": "python3"
  },
  "language_info": {
   "codemirror_mode": {
    "name": "ipython",
    "version": 3
   },
   "file_extension": ".py",
   "mimetype": "text/x-python",
   "name": "python",
   "nbconvert_exporter": "python",
   "pygments_lexer": "ipython3",
   "version": "3.10.11"
  }
 },
 "nbformat": 4,
 "nbformat_minor": 5
}
