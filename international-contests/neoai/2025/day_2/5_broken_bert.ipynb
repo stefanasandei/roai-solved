{
 "cells": [
  {
   "cell_type": "code",
   "execution_count": 16,
   "id": "1b5ec2a2",
   "metadata": {},
   "outputs": [],
   "source": [
    "import numpy as np\n",
    "from tqdm import tqdm\n",
    "import pandas as pd\n",
    "import hashlib\n",
    "\n",
    "from sklearn.metrics import f1_score, classification_report\n",
    "\n",
    "from transformers import AutoTokenizer, AutoModelForSequenceClassification\n",
    "from transformers import pipeline\n",
    "import torch"
   ]
  },
  {
   "cell_type": "code",
   "execution_count": null,
   "id": "288cac58",
   "metadata": {},
   "outputs": [],
   "source": [
    "np.random.seed(21)\n",
    "# score: 0.42617 (first place 0.78451)\n",
    "root_path = \"E:\\\\IOAI\\\\kits\\\\neoai-2025\\\\broken-bert\""
   ]
  },
  {
   "cell_type": "markdown",
   "id": "78846a28",
   "metadata": {},
   "source": [
    "# Data & model setup"
   ]
  },
  {
   "cell_type": "code",
   "execution_count": 18,
   "id": "fba2c8bb",
   "metadata": {},
   "outputs": [],
   "source": [
    "val_data_path = f\"{root_path}\\\\val_dataset.csv\"\n",
    "test_data_path = f\"{root_path}\\\\test.csv\"\n",
    "\n",
    "val_df = pd.read_csv(val_data_path)\n",
    "\n",
    "test_df = pd.read_csv(test_data_path)"
   ]
  },
  {
   "cell_type": "code",
   "execution_count": 19,
   "id": "775e86d3",
   "metadata": {},
   "outputs": [],
   "source": [
    "tokenizer = AutoTokenizer.from_pretrained(\"Ilseyar-kfu/broken_bert\")"
   ]
  },
  {
   "cell_type": "code",
   "execution_count": 20,
   "id": "f7e06569",
   "metadata": {},
   "outputs": [],
   "source": [
    "class Dataset(torch.utils.data.Dataset):\n",
    "    def __init__(self, encodings, labels):\n",
    "        self.encodings = encodings\n",
    "        self.labels = labels\n",
    "\n",
    "    def __getitem__(self, idx):\n",
    "        item = {key: torch.tensor(val[idx]) for key, val in self.encodings.items()}\n",
    "        item[\"labels\"] = torch.tensor(self.labels[idx])\n",
    "        return item\n",
    "\n",
    "    def __len__(self):\n",
    "        return len(self.labels)\n",
    "\n",
    "val_encodings = tokenizer(\n",
    "    val_df[\"text\"].to_list(), truncation=True, padding=True, max_length=256\n",
    ")\n",
    "val_dataset = Dataset(val_encodings, val_df[\"labels\"].to_list())\n",
    "\n",
    "texts_2_score = val_df[\"text\"].to_list() + test_df[\"text\"].to_list()"
   ]
  },
  {
   "cell_type": "markdown",
   "id": "c71cf56e",
   "metadata": {},
   "source": [
    "# Model changes"
   ]
  },
  {
   "cell_type": "code",
   "execution_count": 23,
   "id": "e771c523",
   "metadata": {},
   "outputs": [],
   "source": [
    "model = AutoModelForSequenceClassification.from_pretrained(\"Ilseyar-kfu/broken_bert\")\n",
    "\n",
    "old_embedings = model.bert.embeddings.word_embeddings.weight.detach().cpu()"
   ]
  },
  {
   "cell_type": "code",
   "execution_count": 24,
   "id": "e61e13da",
   "metadata": {},
   "outputs": [],
   "source": [
    "n_embd = old_embedings.shape[1]\n",
    "zero_rows = (old_embedings == 0).all(dim=1)\n",
    "zero_indices = torch.nonzero(zero_rows).squeeze().numpy()"
   ]
  },
  {
   "cell_type": "code",
   "execution_count": 25,
   "id": "6c4657c3",
   "metadata": {},
   "outputs": [],
   "source": [
    "token_to_ids = tokenizer.get_vocab()\n",
    "ids_to_token = {v: k for k, v in token_to_ids.items()}\n",
    "non_zero_ids_to_token = {v: k for k, v in token_to_ids.items() if v not in zero_indices}"
   ]
  },
  {
   "cell_type": "code",
   "execution_count": 26,
   "id": "513da59c",
   "metadata": {},
   "outputs": [],
   "source": [
    "def get_sub_tokens(token, ids_to_token):\n",
    "    sub_tokens = []\n",
    "    for idx, sub_token in ids_to_token.items():\n",
    "        if sub_token in token:\n",
    "            sub_tokens.append(idx)\n",
    "    return sub_tokens"
   ]
  },
  {
   "cell_type": "code",
   "execution_count": 27,
   "id": "6149d7f9",
   "metadata": {},
   "outputs": [
    {
     "name": "stderr",
     "output_type": "stream",
     "text": [
      "100%|██████████| 12208/12208 [00:14<00:00, 825.85it/s]\n"
     ]
    }
   ],
   "source": [
    "new_embeddings = old_embedings\n",
    "\n",
    "for zero_index in tqdm(zero_indices):\n",
    "    zero_token = ids_to_token[zero_index]\n",
    "    sub_tokens = get_sub_tokens(zero_token, non_zero_ids_to_token)\n",
    "    if len(sub_tokens) != 0:\n",
    "        mean_embedding = old_embedings[sub_tokens].mean(axis=0)\n",
    "        new_embeddings[zero_index] = mean_embedding\n",
    "    else:\n",
    "        new_embeddings[zero_index] = torch.rand(1, n_embd)"
   ]
  },
  {
   "cell_type": "code",
   "execution_count": 28,
   "id": "f1d7b5e7",
   "metadata": {},
   "outputs": [],
   "source": [
    "model.bert.embeddings.word_embeddings.weight = torch.nn.Parameter(\n",
    "    torch.Tensor(new_embeddings)\n",
    ")"
   ]
  },
  {
   "cell_type": "markdown",
   "id": "d99e924f",
   "metadata": {},
   "source": [
    "# Submission"
   ]
  },
  {
   "cell_type": "code",
   "execution_count": 29,
   "id": "45c54884",
   "metadata": {},
   "outputs": [],
   "source": [
    "def evaluate_on_validation(model, tokenizer, df_val):\n",
    "    label_2_dict = {\"LABEL_0\": \"neutral\", \"LABEL_1\": \"positive\", \"LABEL_2\": \"negative\"}\n",
    "    classifier = pipeline(\"text-classification\", model=model, tokenizer=tokenizer)\n",
    "    answ = classifier.predict(list(df_val[\"text\"]))\n",
    "    answ = [label_2_dict[el[\"label\"]] for el in answ]\n",
    "\n",
    "    # print(f1_score(p.label_ids, preds, average='macro'))\n",
    "    print(classification_report(df_val[\"labels\"], answ))"
   ]
  },
  {
   "cell_type": "code",
   "execution_count": 30,
   "id": "3e95533f",
   "metadata": {},
   "outputs": [
    {
     "name": "stderr",
     "output_type": "stream",
     "text": [
      "Device set to use cuda:0\n"
     ]
    },
    {
     "name": "stdout",
     "output_type": "stream",
     "text": [
      "              precision    recall  f1-score   support\n",
      "\n",
      "    negative       0.68      0.21      0.32       935\n",
      "     neutral       0.34      0.84      0.48       759\n",
      "    positive       0.59      0.25      0.35       806\n",
      "\n",
      "    accuracy                           0.41      2500\n",
      "   macro avg       0.54      0.43      0.39      2500\n",
      "weighted avg       0.55      0.41      0.38      2500\n",
      "\n"
     ]
    }
   ],
   "source": [
    "evaluate_on_validation(model, tokenizer, val_df)"
   ]
  },
  {
   "cell_type": "code",
   "execution_count": 31,
   "id": "b785e050",
   "metadata": {},
   "outputs": [],
   "source": [
    "def create_submission(model, tokenizer, df_test):\n",
    "    label_2_dict = {\"LABEL_0\": \"neutral\", \"LABEL_1\": \"positive\", \"LABEL_2\": \"negative\"}\n",
    "    classifier = pipeline(\"text-classification\", model=model, tokenizer=tokenizer)\n",
    "    answ = classifier.predict(list(df_test[\"text\"]))\n",
    "    answ = [label_2_dict[el[\"label\"]] for el in answ]\n",
    "\n",
    "    df = pd.DataFrame({\"id\": df_test[\"id\"], \"labels\": answ})\n",
    "    hsh = hashlib.sha256(df.to_csv(index=False).encode(\"utf-8\")).hexdigest()[:8]\n",
    "    submit_path = f\"submission_{hsh}.csv\"\n",
    "    print(f\"SUBMIT_NAME: {submit_path}\")\n",
    "    print(df.head(10))\n",
    "    df.to_csv(submit_path, index=False)"
   ]
  },
  {
   "cell_type": "code",
   "execution_count": 32,
   "id": "e2f13513",
   "metadata": {},
   "outputs": [
    {
     "name": "stderr",
     "output_type": "stream",
     "text": [
      "Device set to use cuda:0\n"
     ]
    },
    {
     "name": "stdout",
     "output_type": "stream",
     "text": [
      "SUBMIT_NAME: submission_5d7417fc.csv\n",
      "     id    labels\n",
      "0  5000  positive\n",
      "1  5001   neutral\n",
      "2  5002   neutral\n",
      "3  5003   neutral\n",
      "4  5004   neutral\n",
      "5  5005   neutral\n",
      "6  5006   neutral\n",
      "7  5007   neutral\n",
      "8  5008  negative\n",
      "9  5009   neutral\n"
     ]
    }
   ],
   "source": [
    "create_submission(model, tokenizer, test_df)"
   ]
  }
 ],
 "metadata": {
  "kernelspec": {
   "display_name": "Python 3",
   "language": "python",
   "name": "python3"
  },
  "language_info": {
   "codemirror_mode": {
    "name": "ipython",
    "version": 3
   },
   "file_extension": ".py",
   "mimetype": "text/x-python",
   "name": "python",
   "nbconvert_exporter": "python",
   "pygments_lexer": "ipython3",
   "version": "3.10.11"
  }
 },
 "nbformat": 4,
 "nbformat_minor": 5
}
