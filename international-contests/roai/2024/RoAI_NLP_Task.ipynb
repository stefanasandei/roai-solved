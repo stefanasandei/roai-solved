{
  "cells": [
    {
      "cell_type": "markdown",
      "metadata": {
        "id": "bqAFpqJlnt77"
      },
      "source": [
        "# Gramatica este totul. Corectarea erorilor gramaticle"
      ]
    },
    {
      "cell_type": "markdown",
      "metadata": {
        "id": "vu6E-5QWIjlv"
      },
      "source": [
        "\n",
        "## Introducere\n",
        "\n",
        "Corectarea erorilor gramaticale (GEC) se ocupă de a corecta diferite tipuri de erori din text, cum ar fi erorile de ortografie, de punctuație sau gramaticale.\n",
        "Un sistem GEC primește la intrare o propoziție potențial eronată și este de așteptat să o transforme în versiunea sa corectată.\n",
        "\n",
        "Voi trebuie sa contruiți un sistem GEC adaptat pentru limba română. Printre posibilele greșeli în limba română se regăsesc: lipsa diacriticelor, greșeli ortografice de una sau două litere per cuvânt, prepoziții incorecte, dezacorduri de gen/număr/caz/persoană, cacofonii sau greșeli de punctuație.\n",
        "\n",
        "Căteva exemple de texte cu greșeli și variantele corectate:\n",
        "\n",
        "* Exemplu 1:\n",
        "\n",
        "eu am duar 10 ani si stiu melodia asta de la 7 anieste preferata mea e frumoasa si eu stiu ca te chinui mult **->** Eu am doar 10 ani și știu melodia asta de la 7 ani, este preferata mea, e frumoasă și eu știu că te chinui mult.\n",
        "\n",
        "\n",
        "* Exemplu 2:\n",
        "\n",
        "Biatul acesta este special,vocea lui,cred ca toi am avut acest gand **->** Băiatul acesta este special, vocea lui, cred că toți am avut acest gând.\n",
        "\n",
        "* Exemplu 3:\n",
        "\n",
        "Am mai auzit melodi dar asta este cea mai bun **->** Am mai auzit melodii dar asta este cea mai bună.\n",
        "\n",
        "\n",
        "## Obiectiv\n",
        "\n",
        "Scopul este să construiți cel mai performant model de tip GEC pentru limba română, operând sub următoarele restricții:\n",
        "\n",
        "*   Modelul trebuie sa fie de tip encoder-decoder (de exemplu, bazat pe mBART sau mT5).\n",
        "*   Folosiți doar variante \"base\" ale modelelor (unde acestea există).\n",
        "*   Nu aveți voie să folosiți date deja generate de alte entități pentru GEC sau modele deja finetunate pentru asta.\n",
        "*   Pentru antrenare aveti acces **doar** la datele pe care vi le punem la dispoziție. Acestea sunt texte care provin din articole de pe Wikipedia în română și le vom considera corecte. Aveți voie să le folosiți în orice fel doriți, să le alterați în orice mod considerați benefic. Nu aveți voie să folosiți alte texte!\n",
        "\n",
        "## Sfaturi\n",
        "\n",
        "* Pornind de la date curate, încercați să vă generați automat date de antrenare.\n",
        "* Evaluarea se va face pe un set divers de propoziții, dar la nivel de propoziție. Astfel, la evaluare va trebui ca modelul vostru să corecteze câte o propoziție pe rând.\n",
        "\n",
        "\n",
        "\n",
        "## Livrabile\n",
        "\n",
        "Trebuie să submiteți următoarele:\n",
        "\n",
        "*   Un model încărcat pe Huggingface Hub (vezi parametrul push_to_hub; alternativ puteți încărca modelul direct de pe Huggingface, din browser).\n",
        "*   Un raport tehnic de maxim două pagini în care să explicați cum ați rezolvat problema. Raportul poate fi scris în engleza sau în română.\n"
      ]
    },
    {
      "cell_type": "markdown",
      "metadata": {
        "id": "J6BNTewtA-Ku"
      },
      "source": [
        "## Cerințe preliminare\n",
        "\n"
      ]
    },
    {
      "cell_type": "markdown",
      "metadata": {
        "id": "0Tg2sPb2ELb9"
      },
      "source": [
        "### Configurație HuggingFace\n",
        "\n",
        "Înainte de a incepe propriu-zis rezolvarea problemei trebuie să:\n",
        "\n",
        "1. Intrați pe pagina de [HuggingFace](https://huggingface.co/Olimpiada-AI) și cereți acces la date.\n",
        "\n",
        "2. În setări, creați Access Tokens, unul pentru \"read\" și unul pentru \"write\" și salvați-le în [Colab Secrets](https://www.youtube.com/watch?v=q87i2LZbbPc) ca `hf_read` și `hf_write`."
      ]
    },
    {
      "cell_type": "code",
      "execution_count": 1,
      "metadata": {
        "id": "sV85hgL0yxn0"
      },
      "outputs": [],
      "source": [
        "# from google.colab import userdata\n",
        "\n",
        "# read_access_token = userdata.get('hf_read')\n",
        "# write_access_token = userdata.get('hf_write')\n",
        "\n",
        "# mt5 requires at least 7.25gb of vram in bfloat16"
      ]
    },
    {
      "cell_type": "markdown",
      "metadata": {
        "id": "SyLH6A-YEJG3"
      },
      "source": [
        "### Module necesare"
      ]
    },
    {
      "cell_type": "code",
      "execution_count": 2,
      "metadata": {
        "collapsed": true,
        "id": "8VH0WJYuM_4Z"
      },
      "outputs": [],
      "source": [
        "import importlib\n",
        "import torch, transformers\n",
        "\n",
        "\n",
        "# if '2.3.0' not in torch.__version__:\n",
        "#   !pip install torch==2.3.0\n",
        "# if transformers.__version__!='4.41.2':\n",
        "#   !pip install transformers==4.41.2\n",
        "\n",
        "# if importlib.util.find_spec('datasets') is None:\n",
        "#   !pip install datasets==2.18.0\n",
        "#   !pip install evaluate==0.4.2\n",
        "#   !pip install accelerate -U\n",
        "\n",
        "# !pip install rouge_score"
      ]
    },
    {
      "cell_type": "markdown",
      "metadata": {
        "id": "zridt_PWpd9d"
      },
      "source": [
        "Dacă tocmai ați instalat `accelerate`, executați `Runtime > Restart session and run all` din meniul Colab."
      ]
    },
    {
      "cell_type": "markdown",
      "metadata": {
        "id": "EFTIQ9tDMqsE"
      },
      "source": [
        "# Date"
      ]
    },
    {
      "cell_type": "code",
      "execution_count": 3,
      "metadata": {
        "id": "ErG7bZi66VBl"
      },
      "outputs": [],
      "source": [
        "def alter_sentence(example):\n",
        "  original_sentence = example[\"part\"]\n",
        "  altered_sentence = \"A \" + original_sentence\n",
        "  return {\"original_sentence\": original_sentence, \"altered_sentence\": altered_sentence}"
      ]
    },
    {
      "cell_type": "code",
      "execution_count": 4,
      "metadata": {
        "id": "2UflZ7yArvlz"
      },
      "outputs": [],
      "source": [
        "import textwrap\n",
        "\n",
        "def split_paragraph(example):\n",
        "  return {\"part\": [part for foo in example[\"page\"] for part in textwrap.wrap(foo, 100)]}"
      ]
    },
    {
      "cell_type": "code",
      "execution_count": 5,
      "metadata": {
        "id": "CpgcmI2NMLyF"
      },
      "outputs": [],
      "source": [
        "# load the data\n",
        "\n",
        "from datasets import load_dataset, Dataset, DatasetDict, concatenate_datasets\n",
        "\n",
        "wiki_dataset = load_dataset('Olimpiada-AI/ro_wiki')\n",
        "\n",
        "# merge splits into a single dataset\n",
        "wiki_dataset = concatenate_datasets([wiki_dataset[\"validation\"], wiki_dataset[\"test\"]])\n",
        "\n",
        "# split into smaller chunks\n",
        "wiki_dataset = wiki_dataset.map(split_paragraph, batched=True, remove_columns=\"page\")\n",
        "\n",
        "# alter sentences\n",
        "wiki_dataset = wiki_dataset.map(alter_sentence, batched=False, remove_columns=\"part\")\n",
        "\n",
        "# split into train and validation\n",
        "wiki_dataset= wiki_dataset.train_test_split(test_size=0.05)"
      ]
    },
    {
      "cell_type": "markdown",
      "metadata": {
        "id": "cv9MBElmMs6G"
      },
      "source": [
        "# Baseline"
      ]
    },
    {
      "cell_type": "code",
      "execution_count": 6,
      "metadata": {
        "colab": {
          "base_uri": "https://localhost:8080/",
          "height": 118,
          "referenced_widgets": [
            "2d4be448bc9a48eeabf9545611275b32",
            "4613d60f69284081ace31d54ffe23251",
            "584e77beb9bb49e49b1c124843ec593c",
            "cbafc9035a9a40e68604b551437d0fe7",
            "7f8755c33ad14e39a9c32cf6f71a0aad",
            "260c10c7a29941729a4bccf64d4cd8ea",
            "3774b7ac3052487cb83570d9f5698f66",
            "7448b15729d64acdb8b32acfaa456f2f",
            "18d55ebdd99440be88766a746993194d",
            "788002c3a02c4a3b8876d9b0c13190b0",
            "cf13885253294c04b7442232f1c23fb8",
            "f34a5579248441218c17ebb5ebe60a3b",
            "5b77f56908c64d8ebf4ed53978b308be",
            "cbb63d9a068841c4970343ba9dd387da",
            "d59a9348c4c34bb1a89f8ba8c254f1fb",
            "cf6ac7d99dbb4561a23f81f1a55824ec",
            "ba30dc589b874f279f6ef4eb3246d51a",
            "54aa0dd074a648ff9d92e01c700157c0",
            "c84f92e3ea804b2aa1c0f4ca77e3f189",
            "9d7f188443f44e66aaea1f9fbf95cb67",
            "a481041538c24787b07fdae822081963",
            "b694567fde6d4aa380e8f8544f4cce3d"
          ]
        },
        "id": "tSOWNJRKNoWM",
        "outputId": "3cd25b34-aa80-47cf-d766-fe5329b8e0c8"
      },
      "outputs": [
        {
          "output_type": "stream",
          "name": "stderr",
          "text": [
            "You are using the default legacy behaviour of the <class 'transformers.models.t5.tokenization_t5.T5Tokenizer'>. This is expected, and simply means that the `legacy` (previous) behavior will be used so nothing changes for you. If you want to use the new behaviour, set `legacy=False`. This should only be set if you understand what it means, and thoroughly read the reason why this was added as explained in https://github.com/huggingface/transformers/pull/24565\n"
          ]
        },
        {
          "output_type": "display_data",
          "data": {
            "text/plain": [
              "Map:   0%|          | 0/772 [00:00<?, ? examples/s]"
            ],
            "application/vnd.jupyter.widget-view+json": {
              "version_major": 2,
              "version_minor": 0,
              "model_id": "2d4be448bc9a48eeabf9545611275b32"
            }
          },
          "metadata": {}
        },
        {
          "output_type": "display_data",
          "data": {
            "text/plain": [
              "Map:   0%|          | 0/40 [00:00<?, ? examples/s]"
            ],
            "application/vnd.jupyter.widget-view+json": {
              "version_major": 2,
              "version_minor": 0,
              "model_id": "f34a5579248441218c17ebb5ebe60a3b"
            }
          },
          "metadata": {}
        }
      ],
      "source": [
        "# load the pre-trained tokenizer and use it to process the data\n",
        "\n",
        "from transformers import AutoTokenizer\n",
        "from transformers import DataCollatorWithPadding, DataCollatorForSeq2Seq\n",
        "\n",
        "tokenizer = AutoTokenizer.from_pretrained(\"google/mt5-base\", use_fast=False)\n",
        "\n",
        "max_length = 256\n",
        "seed = 42\n",
        "fraction = 0.02\n",
        "\n",
        "# want to train in less than an hour\n",
        "shuffled = wiki_dataset[\"train\"].shuffle(seed=seed)\n",
        "n_samples = int(fraction * len(shuffled))\n",
        "wiki_dataset[\"train\"] = shuffled.select(range(n_samples))\n",
        "\n",
        "shuffled = wiki_dataset[\"test\"].shuffle(seed=seed)\n",
        "n_samples = int(fraction * len(shuffled))\n",
        "wiki_dataset[\"test\"] = shuffled.select(range(n_samples))\n",
        "\n",
        "train_data = wiki_dataset['train'].map(lambda x: {'input_ids': tokenizer(x['altered_sentence'], truncation=True, max_length=max_length)[\"input_ids\"], 'label': tokenizer(x['original_sentence'], truncation=True, max_length=max_length)[\"input_ids\"]}, remove_columns=[\"original_sentence\", \"altered_sentence\"])\n",
        "val_data = wiki_dataset['test'].map(lambda x: {'input_ids': tokenizer(x['altered_sentence'], truncation=True, max_length=max_length)[\"input_ids\"], 'label': tokenizer(x['original_sentence'], truncation=True, max_length=max_length)[\"input_ids\"]}, remove_columns=[\"original_sentence\", \"altered_sentence\"])\n",
        "\n",
        "data_collator = DataCollatorForSeq2Seq(tokenizer=tokenizer)"
      ]
    },
    {
      "cell_type": "code",
      "execution_count": 7,
      "metadata": {
        "id": "EsiJXiUyUn89"
      },
      "outputs": [],
      "source": [
        "from transformers import AutoModelForSequenceClassification, TrainingArguments, AutoModelForSeq2SeqLM, Seq2SeqTrainer, Seq2SeqTrainingArguments\n",
        "\n",
        "model = AutoModelForSeq2SeqLM.from_pretrained(\"google/mt5-base\")"
      ]
    },
    {
      "cell_type": "code",
      "execution_count": 8,
      "metadata": {
        "colab": {
          "base_uri": "https://localhost:8080/"
        },
        "id": "nN64VrhSNuYA",
        "outputId": "64ab4965-08fb-4c76-ec6c-3349d364dba0"
      },
      "outputs": [
        {
          "output_type": "stream",
          "name": "stderr",
          "text": [
            "[nltk_data] Downloading package wordnet to /root/nltk_data...\n",
            "[nltk_data]   Package wordnet is already up-to-date!\n",
            "[nltk_data] Downloading package punkt_tab to /root/nltk_data...\n",
            "[nltk_data]   Package punkt_tab is already up-to-date!\n",
            "[nltk_data] Downloading package omw-1.4 to /root/nltk_data...\n",
            "[nltk_data]   Package omw-1.4 is already up-to-date!\n"
          ]
        }
      ],
      "source": [
        "# define the evaluation metric\n",
        "\n",
        "import evaluate\n",
        "import numpy as np\n",
        "import sys\n",
        "\n",
        "bleu = evaluate.load(\"bleu\")\n",
        "meteor = evaluate.load('meteor')\n",
        "rouge = evaluate.load('rouge')\n",
        "\n",
        "\n",
        "def compute_metrics(eval_pred):\n",
        "    raw_predictions, raw_labels = eval_pred\n",
        "    predictions = []\n",
        "    labels = []\n",
        "\n",
        "    for pred in raw_predictions:\n",
        "      pred = list(filter(lambda x: x != -100, pred))\n",
        "      text_predictions = tokenizer.decode(pred, skip_special_tokens=True)\n",
        "      predictions.append(text_predictions)\n",
        "\n",
        "    for label in raw_labels:\n",
        "      label = list(filter(lambda x: x != -100, label))\n",
        "      text_labels = tokenizer.decode(label, skip_special_tokens=True)\n",
        "      labels.append([text_labels])\n",
        "\n",
        "    res_bleu = bleu.compute(predictions=predictions, references=labels)[\"bleu\"]\n",
        "    res_meteor = meteor.compute(predictions=predictions, references=labels)[\"meteor\"]\n",
        "    res_rouge = rouge.compute(predictions=predictions, references=labels)[\"rougeL\"]\n",
        "    return {\"bleu\": res_bleu, \"meteor\": res_meteor, \"rouge-L\": res_rouge}\n",
        "\n"
      ]
    },
    {
      "cell_type": "code",
      "execution_count": 9,
      "metadata": {
        "id": "hCojWe8hOgRv",
        "colab": {
          "base_uri": "https://localhost:8080/"
        },
        "outputId": "19c44c8b-d707-40c9-c643-171bebfb52a2"
      },
      "outputs": [
        {
          "output_type": "stream",
          "name": "stderr",
          "text": [
            "<ipython-input-9-3367475351>:34: FutureWarning: `tokenizer` is deprecated and will be removed in version 5.0.0 for `Seq2SeqTrainer.__init__`. Use `processing_class` instead.\n",
            "  trainer = Seq2SeqTrainer(\n"
          ]
        }
      ],
      "source": [
        "# define the model and the training configuration\n",
        "\n",
        "from transformers import AutoModelForSequenceClassification, TrainingArguments, AutoModelForSeq2SeqLM, Seq2SeqTrainer, Seq2SeqTrainingArguments\n",
        "\n",
        "batch_size = 4\n",
        "model.generation_config.max_new_tokens = 256\n",
        "\n",
        "training_args = Seq2SeqTrainingArguments(\n",
        "    output_dir=\"baseline_model\",\n",
        "    per_device_train_batch_size=batch_size,\n",
        "    per_device_eval_batch_size=batch_size,\n",
        "    predict_with_generate=True,\n",
        "    do_train=True,\n",
        "    do_eval=True,\n",
        "    eval_strategy=\"epoch\",\n",
        "    save_strategy=\"epoch\",\n",
        "    num_train_epochs=1,\n",
        "    logging_steps=1,\n",
        "    learning_rate=5e-5,\n",
        "    warmup_steps=1,\n",
        "    overwrite_output_dir=True,\n",
        "    save_total_limit=3,\n",
        "    bf16=True,\n",
        "    load_best_model_at_end=True,\n",
        "    run_name=\"roai-nlp-2024\",\n",
        "    push_to_hub=False, #\n",
        "    # hub_strategy=\"checkpoint\",\n",
        "    # hub_token=write_access_token,\n",
        "    # hub_private_repo=True,\n",
        "    # hub_model_id='baseline_model'\n",
        ")\n",
        "\n",
        "\n",
        "trainer = Seq2SeqTrainer(\n",
        "    model=model,\n",
        "    args=training_args,\n",
        "    train_dataset=train_data,\n",
        "    eval_dataset=val_data,\n",
        "    tokenizer=tokenizer,\n",
        "    data_collator=data_collator,\n",
        "    compute_metrics=compute_metrics,\n",
        ")"
      ]
    },
    {
      "cell_type": "code",
      "execution_count": 10,
      "metadata": {
        "colab": {
          "base_uri": "https://localhost:8080/",
          "height": 300
        },
        "id": "VTJ-w6BnosYy",
        "outputId": "c7f61d29-3c9a-49a6-8682-5390261e429c"
      },
      "outputs": [
        {
          "output_type": "stream",
          "name": "stderr",
          "text": [
            "\u001b[34m\u001b[1mwandb\u001b[0m: Currently logged in as: \u001b[33mstefan-asandei\u001b[0m (\u001b[33mstefan-asandei-none\u001b[0m) to \u001b[32mhttps://api.wandb.ai\u001b[0m. Use \u001b[1m`wandb login --relogin`\u001b[0m to force relogin\n"
          ]
        },
        {
          "output_type": "display_data",
          "data": {
            "text/plain": [
              "<IPython.core.display.HTML object>"
            ],
            "text/html": [
              "Tracking run with wandb version 0.19.11"
            ]
          },
          "metadata": {}
        },
        {
          "output_type": "display_data",
          "data": {
            "text/plain": [
              "<IPython.core.display.HTML object>"
            ],
            "text/html": [
              "Run data is saved locally in <code>/content/wandb/run-20250612_093517-5ioumzl6</code>"
            ]
          },
          "metadata": {}
        },
        {
          "output_type": "display_data",
          "data": {
            "text/plain": [
              "<IPython.core.display.HTML object>"
            ],
            "text/html": [
              "Syncing run <strong><a href='https://wandb.ai/stefan-asandei-none/huggingface/runs/5ioumzl6' target=\"_blank\">roai-nlp-2024</a></strong> to <a href='https://wandb.ai/stefan-asandei-none/huggingface' target=\"_blank\">Weights & Biases</a> (<a href='https://wandb.me/developer-guide' target=\"_blank\">docs</a>)<br>"
            ]
          },
          "metadata": {}
        },
        {
          "output_type": "display_data",
          "data": {
            "text/plain": [
              "<IPython.core.display.HTML object>"
            ],
            "text/html": [
              " View project at <a href='https://wandb.ai/stefan-asandei-none/huggingface' target=\"_blank\">https://wandb.ai/stefan-asandei-none/huggingface</a>"
            ]
          },
          "metadata": {}
        },
        {
          "output_type": "display_data",
          "data": {
            "text/plain": [
              "<IPython.core.display.HTML object>"
            ],
            "text/html": [
              " View run at <a href='https://wandb.ai/stefan-asandei-none/huggingface/runs/5ioumzl6' target=\"_blank\">https://wandb.ai/stefan-asandei-none/huggingface/runs/5ioumzl6</a>"
            ]
          },
          "metadata": {}
        },
        {
          "output_type": "stream",
          "name": "stderr",
          "text": [
            "Passing a tuple of `past_key_values` is deprecated and will be removed in Transformers v4.48.0. You should pass an instance of `EncoderDecoderCache` instead, e.g. `past_key_values=EncoderDecoderCache.from_legacy_cache(past_key_values)`.\n"
          ]
        },
        {
          "output_type": "display_data",
          "data": {
            "text/plain": [
              "<IPython.core.display.HTML object>"
            ],
            "text/html": [
              "\n",
              "    <div>\n",
              "      \n",
              "      <progress value='193' max='193' style='width:300px; height:20px; vertical-align: middle;'></progress>\n",
              "      [193/193 03:30, Epoch 1/1]\n",
              "    </div>\n",
              "    <table border=\"1\" class=\"dataframe\">\n",
              "  <thead>\n",
              " <tr style=\"text-align: left;\">\n",
              "      <th>Epoch</th>\n",
              "      <th>Training Loss</th>\n",
              "      <th>Validation Loss</th>\n",
              "      <th>Bleu</th>\n",
              "      <th>Meteor</th>\n",
              "      <th>Rouge-l</th>\n",
              "    </tr>\n",
              "  </thead>\n",
              "  <tbody>\n",
              "    <tr>\n",
              "      <td>1</td>\n",
              "      <td>10.176200</td>\n",
              "      <td>7.401577</td>\n",
              "      <td>0.048670</td>\n",
              "      <td>0.140130</td>\n",
              "      <td>0.196381</td>\n",
              "    </tr>\n",
              "  </tbody>\n",
              "</table><p>"
            ]
          },
          "metadata": {}
        },
        {
          "output_type": "stream",
          "name": "stderr",
          "text": [
            "There were missing keys in the checkpoint model loaded: ['encoder.embed_tokens.weight', 'decoder.embed_tokens.weight'].\n"
          ]
        },
        {
          "output_type": "execute_result",
          "data": {
            "text/plain": [
              "TrainOutput(global_step=193, training_loss=11.848292059231298, metrics={'train_runtime': 214.4354, 'train_samples_per_second': 3.6, 'train_steps_per_second': 0.9, 'total_flos': 65141928124416.0, 'train_loss': 11.848292059231298, 'epoch': 1.0})"
            ]
          },
          "metadata": {},
          "execution_count": 10
        }
      ],
      "source": [
        "torch.cuda.empty_cache()\n",
        "# execute the model training\n",
        "trainer.train()"
      ]
    },
    {
      "cell_type": "markdown",
      "metadata": {
        "id": "oSYydzx9NAGU"
      },
      "source": [
        "# Inference"
      ]
    },
    {
      "cell_type": "code",
      "execution_count": 11,
      "metadata": {
        "id": "NRg_zkPrATH5",
        "colab": {
          "base_uri": "https://localhost:8080/",
          "height": 54
        },
        "outputId": "0d56a2d9-47da-450a-dd64-ded037d68b8a"
      },
      "outputs": [
        {
          "output_type": "display_data",
          "data": {
            "text/plain": [
              "<IPython.core.display.HTML object>"
            ],
            "text/html": []
          },
          "metadata": {}
        },
        {
          "output_type": "stream",
          "name": "stdout",
          "text": [
            "{'test_loss': 7.401576995849609, 'test_bleu': 0.04867040229161714, 'test_meteor': 0.14013049833921876, 'test_rouge-L': 0.19638074825116902, 'test_runtime': 30.9397, 'test_samples_per_second': 1.293, 'test_steps_per_second': 0.323}\n"
          ]
        }
      ],
      "source": [
        "# run the trained model on validation split\n",
        "eval_out = trainer.predict(val_data)\n",
        "metrics = eval_out.metrics\n",
        "print(metrics)"
      ]
    },
    {
      "cell_type": "code",
      "execution_count": 14,
      "metadata": {
        "colab": {
          "base_uri": "https://localhost:8080/",
          "height": 136,
          "referenced_widgets": [
            "c4d30412443d47db863991d3edee7640",
            "37175f07fa594ca5ae41e11809168e88",
            "84f28dbd712b4ac49d7e7c642ae605ee",
            "f95472f286f54850aa172e769edff899",
            "4be1c7254f97468b8362a2b4639d4360",
            "7c5777968b02482f904f18548e279716",
            "fbe958b1b16a41fdb29b9140d09512c2",
            "88cac51506954bb5aed70f3dab370803",
            "714c69e85bfa4326bc5b840e5f581463",
            "dd8568d1810046b68a955621a08767b2",
            "8ebe1c2cfd294e808a5c4673188c1901"
          ]
        },
        "id": "jaa80VhiNBG_",
        "outputId": "5af43613-d6da-43fb-a759-d394743dd14f"
      },
      "outputs": [
        {
          "output_type": "display_data",
          "data": {
            "text/plain": [
              "Map:   0%|          | 0/3 [00:00<?, ? examples/s]"
            ],
            "application/vnd.jupyter.widget-view+json": {
              "version_major": 2,
              "version_minor": 0,
              "model_id": "c4d30412443d47db863991d3edee7640"
            }
          },
          "metadata": {}
        },
        {
          "output_type": "display_data",
          "data": {
            "text/plain": [
              "<IPython.core.display.HTML object>"
            ],
            "text/html": []
          },
          "metadata": {}
        },
        {
          "output_type": "stream",
          "name": "stdout",
          "text": [
            "   test_loss  test_bleu  test_meteor  test_rouge-L  test_runtime  \\\n",
            "0  10.110119        0.0      0.03876           0.0        1.1793   \n",
            "\n",
            "   test_samples_per_second  test_steps_per_second  \n",
            "0                    2.544                  0.848  \n"
          ]
        }
      ],
      "source": [
        "# run the trained model on custom data\n",
        "test_data = [[\"Acest este o propizite greșita\", \"Aceasta este o propoziție corectă\"],\n",
        "             [\"A Ce fdci?\", \"Ce faci?\"],\n",
        "             [\"A un test scurt.\", \"un test scurt.\"]]\n",
        "\n",
        "import pandas as pd\n",
        "df = pd.DataFrame(test_data)\n",
        "test_data = Dataset.from_pandas(df.rename(columns={0: \"input_sentence\", 1: \"output_sentence\"}))\n",
        "test_data = test_data.map(lambda x: {'input_ids': tokenizer(x['input_sentence'], truncation=True, max_length=max_length)[\"input_ids\"], 'label': tokenizer(x['output_sentence'], truncation=True, max_length=max_length)[\"input_ids\"]}, remove_columns=[\"input_sentence\", \"output_sentence\"])\n",
        "\n",
        "eval_out = trainer.predict(test_data)\n",
        "metrics = eval_out.metrics\n",
        "\n",
        "# nice print\n",
        "import pandas as pd\n",
        "print(pd.DataFrame(metrics, index=[0]))"
      ]
    },
    {
      "cell_type": "markdown",
      "metadata": {
        "id": "NWZtKJ-wM3kc"
      },
      "source": [
        "# Raport de maxim 300 de cuvinte"
      ]
    },
    {
      "cell_type": "markdown",
      "metadata": {
        "id": "DEapCf_wM7fv"
      },
      "source": []
    }
  ],
  "metadata": {
    "accelerator": "GPU",
    "colab": {
      "gpuType": "T4",
      "provenance": []
    },
    "kernelspec": {
      "display_name": "Python 3",
      "name": "python3"
    },
    "language_info": {
      "codemirror_mode": {
        "name": "ipython",
        "version": 3
      },
      "file_extension": ".py",
      "mimetype": "text/x-python",
      "name": "python",
      "nbconvert_exporter": "python",
      "pygments_lexer": "ipython3",
      "version": "3.13.3"
    },
    "widgets": {
      "application/vnd.jupyter.widget-state+json": {
        "2d4be448bc9a48eeabf9545611275b32": {
          "model_module": "@jupyter-widgets/controls",
          "model_name": "HBoxModel",
          "model_module_version": "1.5.0",
          "state": {
            "_dom_classes": [],
            "_model_module": "@jupyter-widgets/controls",
            "_model_module_version": "1.5.0",
            "_model_name": "HBoxModel",
            "_view_count": null,
            "_view_module": "@jupyter-widgets/controls",
            "_view_module_version": "1.5.0",
            "_view_name": "HBoxView",
            "box_style": "",
            "children": [
              "IPY_MODEL_4613d60f69284081ace31d54ffe23251",
              "IPY_MODEL_584e77beb9bb49e49b1c124843ec593c",
              "IPY_MODEL_cbafc9035a9a40e68604b551437d0fe7"
            ],
            "layout": "IPY_MODEL_7f8755c33ad14e39a9c32cf6f71a0aad"
          }
        },
        "4613d60f69284081ace31d54ffe23251": {
          "model_module": "@jupyter-widgets/controls",
          "model_name": "HTMLModel",
          "model_module_version": "1.5.0",
          "state": {
            "_dom_classes": [],
            "_model_module": "@jupyter-widgets/controls",
            "_model_module_version": "1.5.0",
            "_model_name": "HTMLModel",
            "_view_count": null,
            "_view_module": "@jupyter-widgets/controls",
            "_view_module_version": "1.5.0",
            "_view_name": "HTMLView",
            "description": "",
            "description_tooltip": null,
            "layout": "IPY_MODEL_260c10c7a29941729a4bccf64d4cd8ea",
            "placeholder": "​",
            "style": "IPY_MODEL_3774b7ac3052487cb83570d9f5698f66",
            "value": "Map: 100%"
          }
        },
        "584e77beb9bb49e49b1c124843ec593c": {
          "model_module": "@jupyter-widgets/controls",
          "model_name": "FloatProgressModel",
          "model_module_version": "1.5.0",
          "state": {
            "_dom_classes": [],
            "_model_module": "@jupyter-widgets/controls",
            "_model_module_version": "1.5.0",
            "_model_name": "FloatProgressModel",
            "_view_count": null,
            "_view_module": "@jupyter-widgets/controls",
            "_view_module_version": "1.5.0",
            "_view_name": "ProgressView",
            "bar_style": "success",
            "description": "",
            "description_tooltip": null,
            "layout": "IPY_MODEL_7448b15729d64acdb8b32acfaa456f2f",
            "max": 772,
            "min": 0,
            "orientation": "horizontal",
            "style": "IPY_MODEL_18d55ebdd99440be88766a746993194d",
            "value": 772
          }
        },
        "cbafc9035a9a40e68604b551437d0fe7": {
          "model_module": "@jupyter-widgets/controls",
          "model_name": "HTMLModel",
          "model_module_version": "1.5.0",
          "state": {
            "_dom_classes": [],
            "_model_module": "@jupyter-widgets/controls",
            "_model_module_version": "1.5.0",
            "_model_name": "HTMLModel",
            "_view_count": null,
            "_view_module": "@jupyter-widgets/controls",
            "_view_module_version": "1.5.0",
            "_view_name": "HTMLView",
            "description": "",
            "description_tooltip": null,
            "layout": "IPY_MODEL_788002c3a02c4a3b8876d9b0c13190b0",
            "placeholder": "​",
            "style": "IPY_MODEL_cf13885253294c04b7442232f1c23fb8",
            "value": " 772/772 [00:00&lt;00:00, 940.47 examples/s]"
          }
        },
        "7f8755c33ad14e39a9c32cf6f71a0aad": {
          "model_module": "@jupyter-widgets/base",
          "model_name": "LayoutModel",
          "model_module_version": "1.2.0",
          "state": {
            "_model_module": "@jupyter-widgets/base",
            "_model_module_version": "1.2.0",
            "_model_name": "LayoutModel",
            "_view_count": null,
            "_view_module": "@jupyter-widgets/base",
            "_view_module_version": "1.2.0",
            "_view_name": "LayoutView",
            "align_content": null,
            "align_items": null,
            "align_self": null,
            "border": null,
            "bottom": null,
            "display": null,
            "flex": null,
            "flex_flow": null,
            "grid_area": null,
            "grid_auto_columns": null,
            "grid_auto_flow": null,
            "grid_auto_rows": null,
            "grid_column": null,
            "grid_gap": null,
            "grid_row": null,
            "grid_template_areas": null,
            "grid_template_columns": null,
            "grid_template_rows": null,
            "height": null,
            "justify_content": null,
            "justify_items": null,
            "left": null,
            "margin": null,
            "max_height": null,
            "max_width": null,
            "min_height": null,
            "min_width": null,
            "object_fit": null,
            "object_position": null,
            "order": null,
            "overflow": null,
            "overflow_x": null,
            "overflow_y": null,
            "padding": null,
            "right": null,
            "top": null,
            "visibility": null,
            "width": null
          }
        },
        "260c10c7a29941729a4bccf64d4cd8ea": {
          "model_module": "@jupyter-widgets/base",
          "model_name": "LayoutModel",
          "model_module_version": "1.2.0",
          "state": {
            "_model_module": "@jupyter-widgets/base",
            "_model_module_version": "1.2.0",
            "_model_name": "LayoutModel",
            "_view_count": null,
            "_view_module": "@jupyter-widgets/base",
            "_view_module_version": "1.2.0",
            "_view_name": "LayoutView",
            "align_content": null,
            "align_items": null,
            "align_self": null,
            "border": null,
            "bottom": null,
            "display": null,
            "flex": null,
            "flex_flow": null,
            "grid_area": null,
            "grid_auto_columns": null,
            "grid_auto_flow": null,
            "grid_auto_rows": null,
            "grid_column": null,
            "grid_gap": null,
            "grid_row": null,
            "grid_template_areas": null,
            "grid_template_columns": null,
            "grid_template_rows": null,
            "height": null,
            "justify_content": null,
            "justify_items": null,
            "left": null,
            "margin": null,
            "max_height": null,
            "max_width": null,
            "min_height": null,
            "min_width": null,
            "object_fit": null,
            "object_position": null,
            "order": null,
            "overflow": null,
            "overflow_x": null,
            "overflow_y": null,
            "padding": null,
            "right": null,
            "top": null,
            "visibility": null,
            "width": null
          }
        },
        "3774b7ac3052487cb83570d9f5698f66": {
          "model_module": "@jupyter-widgets/controls",
          "model_name": "DescriptionStyleModel",
          "model_module_version": "1.5.0",
          "state": {
            "_model_module": "@jupyter-widgets/controls",
            "_model_module_version": "1.5.0",
            "_model_name": "DescriptionStyleModel",
            "_view_count": null,
            "_view_module": "@jupyter-widgets/base",
            "_view_module_version": "1.2.0",
            "_view_name": "StyleView",
            "description_width": ""
          }
        },
        "7448b15729d64acdb8b32acfaa456f2f": {
          "model_module": "@jupyter-widgets/base",
          "model_name": "LayoutModel",
          "model_module_version": "1.2.0",
          "state": {
            "_model_module": "@jupyter-widgets/base",
            "_model_module_version": "1.2.0",
            "_model_name": "LayoutModel",
            "_view_count": null,
            "_view_module": "@jupyter-widgets/base",
            "_view_module_version": "1.2.0",
            "_view_name": "LayoutView",
            "align_content": null,
            "align_items": null,
            "align_self": null,
            "border": null,
            "bottom": null,
            "display": null,
            "flex": null,
            "flex_flow": null,
            "grid_area": null,
            "grid_auto_columns": null,
            "grid_auto_flow": null,
            "grid_auto_rows": null,
            "grid_column": null,
            "grid_gap": null,
            "grid_row": null,
            "grid_template_areas": null,
            "grid_template_columns": null,
            "grid_template_rows": null,
            "height": null,
            "justify_content": null,
            "justify_items": null,
            "left": null,
            "margin": null,
            "max_height": null,
            "max_width": null,
            "min_height": null,
            "min_width": null,
            "object_fit": null,
            "object_position": null,
            "order": null,
            "overflow": null,
            "overflow_x": null,
            "overflow_y": null,
            "padding": null,
            "right": null,
            "top": null,
            "visibility": null,
            "width": null
          }
        },
        "18d55ebdd99440be88766a746993194d": {
          "model_module": "@jupyter-widgets/controls",
          "model_name": "ProgressStyleModel",
          "model_module_version": "1.5.0",
          "state": {
            "_model_module": "@jupyter-widgets/controls",
            "_model_module_version": "1.5.0",
            "_model_name": "ProgressStyleModel",
            "_view_count": null,
            "_view_module": "@jupyter-widgets/base",
            "_view_module_version": "1.2.0",
            "_view_name": "StyleView",
            "bar_color": null,
            "description_width": ""
          }
        },
        "788002c3a02c4a3b8876d9b0c13190b0": {
          "model_module": "@jupyter-widgets/base",
          "model_name": "LayoutModel",
          "model_module_version": "1.2.0",
          "state": {
            "_model_module": "@jupyter-widgets/base",
            "_model_module_version": "1.2.0",
            "_model_name": "LayoutModel",
            "_view_count": null,
            "_view_module": "@jupyter-widgets/base",
            "_view_module_version": "1.2.0",
            "_view_name": "LayoutView",
            "align_content": null,
            "align_items": null,
            "align_self": null,
            "border": null,
            "bottom": null,
            "display": null,
            "flex": null,
            "flex_flow": null,
            "grid_area": null,
            "grid_auto_columns": null,
            "grid_auto_flow": null,
            "grid_auto_rows": null,
            "grid_column": null,
            "grid_gap": null,
            "grid_row": null,
            "grid_template_areas": null,
            "grid_template_columns": null,
            "grid_template_rows": null,
            "height": null,
            "justify_content": null,
            "justify_items": null,
            "left": null,
            "margin": null,
            "max_height": null,
            "max_width": null,
            "min_height": null,
            "min_width": null,
            "object_fit": null,
            "object_position": null,
            "order": null,
            "overflow": null,
            "overflow_x": null,
            "overflow_y": null,
            "padding": null,
            "right": null,
            "top": null,
            "visibility": null,
            "width": null
          }
        },
        "cf13885253294c04b7442232f1c23fb8": {
          "model_module": "@jupyter-widgets/controls",
          "model_name": "DescriptionStyleModel",
          "model_module_version": "1.5.0",
          "state": {
            "_model_module": "@jupyter-widgets/controls",
            "_model_module_version": "1.5.0",
            "_model_name": "DescriptionStyleModel",
            "_view_count": null,
            "_view_module": "@jupyter-widgets/base",
            "_view_module_version": "1.2.0",
            "_view_name": "StyleView",
            "description_width": ""
          }
        },
        "f34a5579248441218c17ebb5ebe60a3b": {
          "model_module": "@jupyter-widgets/controls",
          "model_name": "HBoxModel",
          "model_module_version": "1.5.0",
          "state": {
            "_dom_classes": [],
            "_model_module": "@jupyter-widgets/controls",
            "_model_module_version": "1.5.0",
            "_model_name": "HBoxModel",
            "_view_count": null,
            "_view_module": "@jupyter-widgets/controls",
            "_view_module_version": "1.5.0",
            "_view_name": "HBoxView",
            "box_style": "",
            "children": [
              "IPY_MODEL_5b77f56908c64d8ebf4ed53978b308be",
              "IPY_MODEL_cbb63d9a068841c4970343ba9dd387da",
              "IPY_MODEL_d59a9348c4c34bb1a89f8ba8c254f1fb"
            ],
            "layout": "IPY_MODEL_cf6ac7d99dbb4561a23f81f1a55824ec"
          }
        },
        "5b77f56908c64d8ebf4ed53978b308be": {
          "model_module": "@jupyter-widgets/controls",
          "model_name": "HTMLModel",
          "model_module_version": "1.5.0",
          "state": {
            "_dom_classes": [],
            "_model_module": "@jupyter-widgets/controls",
            "_model_module_version": "1.5.0",
            "_model_name": "HTMLModel",
            "_view_count": null,
            "_view_module": "@jupyter-widgets/controls",
            "_view_module_version": "1.5.0",
            "_view_name": "HTMLView",
            "description": "",
            "description_tooltip": null,
            "layout": "IPY_MODEL_ba30dc589b874f279f6ef4eb3246d51a",
            "placeholder": "​",
            "style": "IPY_MODEL_54aa0dd074a648ff9d92e01c700157c0",
            "value": "Map: 100%"
          }
        },
        "cbb63d9a068841c4970343ba9dd387da": {
          "model_module": "@jupyter-widgets/controls",
          "model_name": "FloatProgressModel",
          "model_module_version": "1.5.0",
          "state": {
            "_dom_classes": [],
            "_model_module": "@jupyter-widgets/controls",
            "_model_module_version": "1.5.0",
            "_model_name": "FloatProgressModel",
            "_view_count": null,
            "_view_module": "@jupyter-widgets/controls",
            "_view_module_version": "1.5.0",
            "_view_name": "ProgressView",
            "bar_style": "success",
            "description": "",
            "description_tooltip": null,
            "layout": "IPY_MODEL_c84f92e3ea804b2aa1c0f4ca77e3f189",
            "max": 40,
            "min": 0,
            "orientation": "horizontal",
            "style": "IPY_MODEL_9d7f188443f44e66aaea1f9fbf95cb67",
            "value": 40
          }
        },
        "d59a9348c4c34bb1a89f8ba8c254f1fb": {
          "model_module": "@jupyter-widgets/controls",
          "model_name": "HTMLModel",
          "model_module_version": "1.5.0",
          "state": {
            "_dom_classes": [],
            "_model_module": "@jupyter-widgets/controls",
            "_model_module_version": "1.5.0",
            "_model_name": "HTMLModel",
            "_view_count": null,
            "_view_module": "@jupyter-widgets/controls",
            "_view_module_version": "1.5.0",
            "_view_name": "HTMLView",
            "description": "",
            "description_tooltip": null,
            "layout": "IPY_MODEL_a481041538c24787b07fdae822081963",
            "placeholder": "​",
            "style": "IPY_MODEL_b694567fde6d4aa380e8f8544f4cce3d",
            "value": " 40/40 [00:00&lt;00:00, 474.74 examples/s]"
          }
        },
        "cf6ac7d99dbb4561a23f81f1a55824ec": {
          "model_module": "@jupyter-widgets/base",
          "model_name": "LayoutModel",
          "model_module_version": "1.2.0",
          "state": {
            "_model_module": "@jupyter-widgets/base",
            "_model_module_version": "1.2.0",
            "_model_name": "LayoutModel",
            "_view_count": null,
            "_view_module": "@jupyter-widgets/base",
            "_view_module_version": "1.2.0",
            "_view_name": "LayoutView",
            "align_content": null,
            "align_items": null,
            "align_self": null,
            "border": null,
            "bottom": null,
            "display": null,
            "flex": null,
            "flex_flow": null,
            "grid_area": null,
            "grid_auto_columns": null,
            "grid_auto_flow": null,
            "grid_auto_rows": null,
            "grid_column": null,
            "grid_gap": null,
            "grid_row": null,
            "grid_template_areas": null,
            "grid_template_columns": null,
            "grid_template_rows": null,
            "height": null,
            "justify_content": null,
            "justify_items": null,
            "left": null,
            "margin": null,
            "max_height": null,
            "max_width": null,
            "min_height": null,
            "min_width": null,
            "object_fit": null,
            "object_position": null,
            "order": null,
            "overflow": null,
            "overflow_x": null,
            "overflow_y": null,
            "padding": null,
            "right": null,
            "top": null,
            "visibility": null,
            "width": null
          }
        },
        "ba30dc589b874f279f6ef4eb3246d51a": {
          "model_module": "@jupyter-widgets/base",
          "model_name": "LayoutModel",
          "model_module_version": "1.2.0",
          "state": {
            "_model_module": "@jupyter-widgets/base",
            "_model_module_version": "1.2.0",
            "_model_name": "LayoutModel",
            "_view_count": null,
            "_view_module": "@jupyter-widgets/base",
            "_view_module_version": "1.2.0",
            "_view_name": "LayoutView",
            "align_content": null,
            "align_items": null,
            "align_self": null,
            "border": null,
            "bottom": null,
            "display": null,
            "flex": null,
            "flex_flow": null,
            "grid_area": null,
            "grid_auto_columns": null,
            "grid_auto_flow": null,
            "grid_auto_rows": null,
            "grid_column": null,
            "grid_gap": null,
            "grid_row": null,
            "grid_template_areas": null,
            "grid_template_columns": null,
            "grid_template_rows": null,
            "height": null,
            "justify_content": null,
            "justify_items": null,
            "left": null,
            "margin": null,
            "max_height": null,
            "max_width": null,
            "min_height": null,
            "min_width": null,
            "object_fit": null,
            "object_position": null,
            "order": null,
            "overflow": null,
            "overflow_x": null,
            "overflow_y": null,
            "padding": null,
            "right": null,
            "top": null,
            "visibility": null,
            "width": null
          }
        },
        "54aa0dd074a648ff9d92e01c700157c0": {
          "model_module": "@jupyter-widgets/controls",
          "model_name": "DescriptionStyleModel",
          "model_module_version": "1.5.0",
          "state": {
            "_model_module": "@jupyter-widgets/controls",
            "_model_module_version": "1.5.0",
            "_model_name": "DescriptionStyleModel",
            "_view_count": null,
            "_view_module": "@jupyter-widgets/base",
            "_view_module_version": "1.2.0",
            "_view_name": "StyleView",
            "description_width": ""
          }
        },
        "c84f92e3ea804b2aa1c0f4ca77e3f189": {
          "model_module": "@jupyter-widgets/base",
          "model_name": "LayoutModel",
          "model_module_version": "1.2.0",
          "state": {
            "_model_module": "@jupyter-widgets/base",
            "_model_module_version": "1.2.0",
            "_model_name": "LayoutModel",
            "_view_count": null,
            "_view_module": "@jupyter-widgets/base",
            "_view_module_version": "1.2.0",
            "_view_name": "LayoutView",
            "align_content": null,
            "align_items": null,
            "align_self": null,
            "border": null,
            "bottom": null,
            "display": null,
            "flex": null,
            "flex_flow": null,
            "grid_area": null,
            "grid_auto_columns": null,
            "grid_auto_flow": null,
            "grid_auto_rows": null,
            "grid_column": null,
            "grid_gap": null,
            "grid_row": null,
            "grid_template_areas": null,
            "grid_template_columns": null,
            "grid_template_rows": null,
            "height": null,
            "justify_content": null,
            "justify_items": null,
            "left": null,
            "margin": null,
            "max_height": null,
            "max_width": null,
            "min_height": null,
            "min_width": null,
            "object_fit": null,
            "object_position": null,
            "order": null,
            "overflow": null,
            "overflow_x": null,
            "overflow_y": null,
            "padding": null,
            "right": null,
            "top": null,
            "visibility": null,
            "width": null
          }
        },
        "9d7f188443f44e66aaea1f9fbf95cb67": {
          "model_module": "@jupyter-widgets/controls",
          "model_name": "ProgressStyleModel",
          "model_module_version": "1.5.0",
          "state": {
            "_model_module": "@jupyter-widgets/controls",
            "_model_module_version": "1.5.0",
            "_model_name": "ProgressStyleModel",
            "_view_count": null,
            "_view_module": "@jupyter-widgets/base",
            "_view_module_version": "1.2.0",
            "_view_name": "StyleView",
            "bar_color": null,
            "description_width": ""
          }
        },
        "a481041538c24787b07fdae822081963": {
          "model_module": "@jupyter-widgets/base",
          "model_name": "LayoutModel",
          "model_module_version": "1.2.0",
          "state": {
            "_model_module": "@jupyter-widgets/base",
            "_model_module_version": "1.2.0",
            "_model_name": "LayoutModel",
            "_view_count": null,
            "_view_module": "@jupyter-widgets/base",
            "_view_module_version": "1.2.0",
            "_view_name": "LayoutView",
            "align_content": null,
            "align_items": null,
            "align_self": null,
            "border": null,
            "bottom": null,
            "display": null,
            "flex": null,
            "flex_flow": null,
            "grid_area": null,
            "grid_auto_columns": null,
            "grid_auto_flow": null,
            "grid_auto_rows": null,
            "grid_column": null,
            "grid_gap": null,
            "grid_row": null,
            "grid_template_areas": null,
            "grid_template_columns": null,
            "grid_template_rows": null,
            "height": null,
            "justify_content": null,
            "justify_items": null,
            "left": null,
            "margin": null,
            "max_height": null,
            "max_width": null,
            "min_height": null,
            "min_width": null,
            "object_fit": null,
            "object_position": null,
            "order": null,
            "overflow": null,
            "overflow_x": null,
            "overflow_y": null,
            "padding": null,
            "right": null,
            "top": null,
            "visibility": null,
            "width": null
          }
        },
        "b694567fde6d4aa380e8f8544f4cce3d": {
          "model_module": "@jupyter-widgets/controls",
          "model_name": "DescriptionStyleModel",
          "model_module_version": "1.5.0",
          "state": {
            "_model_module": "@jupyter-widgets/controls",
            "_model_module_version": "1.5.0",
            "_model_name": "DescriptionStyleModel",
            "_view_count": null,
            "_view_module": "@jupyter-widgets/base",
            "_view_module_version": "1.2.0",
            "_view_name": "StyleView",
            "description_width": ""
          }
        },
        "c4d30412443d47db863991d3edee7640": {
          "model_module": "@jupyter-widgets/controls",
          "model_name": "HBoxModel",
          "model_module_version": "1.5.0",
          "state": {
            "_dom_classes": [],
            "_model_module": "@jupyter-widgets/controls",
            "_model_module_version": "1.5.0",
            "_model_name": "HBoxModel",
            "_view_count": null,
            "_view_module": "@jupyter-widgets/controls",
            "_view_module_version": "1.5.0",
            "_view_name": "HBoxView",
            "box_style": "",
            "children": [
              "IPY_MODEL_37175f07fa594ca5ae41e11809168e88",
              "IPY_MODEL_84f28dbd712b4ac49d7e7c642ae605ee",
              "IPY_MODEL_f95472f286f54850aa172e769edff899"
            ],
            "layout": "IPY_MODEL_4be1c7254f97468b8362a2b4639d4360"
          }
        },
        "37175f07fa594ca5ae41e11809168e88": {
          "model_module": "@jupyter-widgets/controls",
          "model_name": "HTMLModel",
          "model_module_version": "1.5.0",
          "state": {
            "_dom_classes": [],
            "_model_module": "@jupyter-widgets/controls",
            "_model_module_version": "1.5.0",
            "_model_name": "HTMLModel",
            "_view_count": null,
            "_view_module": "@jupyter-widgets/controls",
            "_view_module_version": "1.5.0",
            "_view_name": "HTMLView",
            "description": "",
            "description_tooltip": null,
            "layout": "IPY_MODEL_7c5777968b02482f904f18548e279716",
            "placeholder": "​",
            "style": "IPY_MODEL_fbe958b1b16a41fdb29b9140d09512c2",
            "value": "Map: 100%"
          }
        },
        "84f28dbd712b4ac49d7e7c642ae605ee": {
          "model_module": "@jupyter-widgets/controls",
          "model_name": "FloatProgressModel",
          "model_module_version": "1.5.0",
          "state": {
            "_dom_classes": [],
            "_model_module": "@jupyter-widgets/controls",
            "_model_module_version": "1.5.0",
            "_model_name": "FloatProgressModel",
            "_view_count": null,
            "_view_module": "@jupyter-widgets/controls",
            "_view_module_version": "1.5.0",
            "_view_name": "ProgressView",
            "bar_style": "success",
            "description": "",
            "description_tooltip": null,
            "layout": "IPY_MODEL_88cac51506954bb5aed70f3dab370803",
            "max": 3,
            "min": 0,
            "orientation": "horizontal",
            "style": "IPY_MODEL_714c69e85bfa4326bc5b840e5f581463",
            "value": 3
          }
        },
        "f95472f286f54850aa172e769edff899": {
          "model_module": "@jupyter-widgets/controls",
          "model_name": "HTMLModel",
          "model_module_version": "1.5.0",
          "state": {
            "_dom_classes": [],
            "_model_module": "@jupyter-widgets/controls",
            "_model_module_version": "1.5.0",
            "_model_name": "HTMLModel",
            "_view_count": null,
            "_view_module": "@jupyter-widgets/controls",
            "_view_module_version": "1.5.0",
            "_view_name": "HTMLView",
            "description": "",
            "description_tooltip": null,
            "layout": "IPY_MODEL_dd8568d1810046b68a955621a08767b2",
            "placeholder": "​",
            "style": "IPY_MODEL_8ebe1c2cfd294e808a5c4673188c1901",
            "value": " 3/3 [00:00&lt;00:00, 63.68 examples/s]"
          }
        },
        "4be1c7254f97468b8362a2b4639d4360": {
          "model_module": "@jupyter-widgets/base",
          "model_name": "LayoutModel",
          "model_module_version": "1.2.0",
          "state": {
            "_model_module": "@jupyter-widgets/base",
            "_model_module_version": "1.2.0",
            "_model_name": "LayoutModel",
            "_view_count": null,
            "_view_module": "@jupyter-widgets/base",
            "_view_module_version": "1.2.0",
            "_view_name": "LayoutView",
            "align_content": null,
            "align_items": null,
            "align_self": null,
            "border": null,
            "bottom": null,
            "display": null,
            "flex": null,
            "flex_flow": null,
            "grid_area": null,
            "grid_auto_columns": null,
            "grid_auto_flow": null,
            "grid_auto_rows": null,
            "grid_column": null,
            "grid_gap": null,
            "grid_row": null,
            "grid_template_areas": null,
            "grid_template_columns": null,
            "grid_template_rows": null,
            "height": null,
            "justify_content": null,
            "justify_items": null,
            "left": null,
            "margin": null,
            "max_height": null,
            "max_width": null,
            "min_height": null,
            "min_width": null,
            "object_fit": null,
            "object_position": null,
            "order": null,
            "overflow": null,
            "overflow_x": null,
            "overflow_y": null,
            "padding": null,
            "right": null,
            "top": null,
            "visibility": null,
            "width": null
          }
        },
        "7c5777968b02482f904f18548e279716": {
          "model_module": "@jupyter-widgets/base",
          "model_name": "LayoutModel",
          "model_module_version": "1.2.0",
          "state": {
            "_model_module": "@jupyter-widgets/base",
            "_model_module_version": "1.2.0",
            "_model_name": "LayoutModel",
            "_view_count": null,
            "_view_module": "@jupyter-widgets/base",
            "_view_module_version": "1.2.0",
            "_view_name": "LayoutView",
            "align_content": null,
            "align_items": null,
            "align_self": null,
            "border": null,
            "bottom": null,
            "display": null,
            "flex": null,
            "flex_flow": null,
            "grid_area": null,
            "grid_auto_columns": null,
            "grid_auto_flow": null,
            "grid_auto_rows": null,
            "grid_column": null,
            "grid_gap": null,
            "grid_row": null,
            "grid_template_areas": null,
            "grid_template_columns": null,
            "grid_template_rows": null,
            "height": null,
            "justify_content": null,
            "justify_items": null,
            "left": null,
            "margin": null,
            "max_height": null,
            "max_width": null,
            "min_height": null,
            "min_width": null,
            "object_fit": null,
            "object_position": null,
            "order": null,
            "overflow": null,
            "overflow_x": null,
            "overflow_y": null,
            "padding": null,
            "right": null,
            "top": null,
            "visibility": null,
            "width": null
          }
        },
        "fbe958b1b16a41fdb29b9140d09512c2": {
          "model_module": "@jupyter-widgets/controls",
          "model_name": "DescriptionStyleModel",
          "model_module_version": "1.5.0",
          "state": {
            "_model_module": "@jupyter-widgets/controls",
            "_model_module_version": "1.5.0",
            "_model_name": "DescriptionStyleModel",
            "_view_count": null,
            "_view_module": "@jupyter-widgets/base",
            "_view_module_version": "1.2.0",
            "_view_name": "StyleView",
            "description_width": ""
          }
        },
        "88cac51506954bb5aed70f3dab370803": {
          "model_module": "@jupyter-widgets/base",
          "model_name": "LayoutModel",
          "model_module_version": "1.2.0",
          "state": {
            "_model_module": "@jupyter-widgets/base",
            "_model_module_version": "1.2.0",
            "_model_name": "LayoutModel",
            "_view_count": null,
            "_view_module": "@jupyter-widgets/base",
            "_view_module_version": "1.2.0",
            "_view_name": "LayoutView",
            "align_content": null,
            "align_items": null,
            "align_self": null,
            "border": null,
            "bottom": null,
            "display": null,
            "flex": null,
            "flex_flow": null,
            "grid_area": null,
            "grid_auto_columns": null,
            "grid_auto_flow": null,
            "grid_auto_rows": null,
            "grid_column": null,
            "grid_gap": null,
            "grid_row": null,
            "grid_template_areas": null,
            "grid_template_columns": null,
            "grid_template_rows": null,
            "height": null,
            "justify_content": null,
            "justify_items": null,
            "left": null,
            "margin": null,
            "max_height": null,
            "max_width": null,
            "min_height": null,
            "min_width": null,
            "object_fit": null,
            "object_position": null,
            "order": null,
            "overflow": null,
            "overflow_x": null,
            "overflow_y": null,
            "padding": null,
            "right": null,
            "top": null,
            "visibility": null,
            "width": null
          }
        },
        "714c69e85bfa4326bc5b840e5f581463": {
          "model_module": "@jupyter-widgets/controls",
          "model_name": "ProgressStyleModel",
          "model_module_version": "1.5.0",
          "state": {
            "_model_module": "@jupyter-widgets/controls",
            "_model_module_version": "1.5.0",
            "_model_name": "ProgressStyleModel",
            "_view_count": null,
            "_view_module": "@jupyter-widgets/base",
            "_view_module_version": "1.2.0",
            "_view_name": "StyleView",
            "bar_color": null,
            "description_width": ""
          }
        },
        "dd8568d1810046b68a955621a08767b2": {
          "model_module": "@jupyter-widgets/base",
          "model_name": "LayoutModel",
          "model_module_version": "1.2.0",
          "state": {
            "_model_module": "@jupyter-widgets/base",
            "_model_module_version": "1.2.0",
            "_model_name": "LayoutModel",
            "_view_count": null,
            "_view_module": "@jupyter-widgets/base",
            "_view_module_version": "1.2.0",
            "_view_name": "LayoutView",
            "align_content": null,
            "align_items": null,
            "align_self": null,
            "border": null,
            "bottom": null,
            "display": null,
            "flex": null,
            "flex_flow": null,
            "grid_area": null,
            "grid_auto_columns": null,
            "grid_auto_flow": null,
            "grid_auto_rows": null,
            "grid_column": null,
            "grid_gap": null,
            "grid_row": null,
            "grid_template_areas": null,
            "grid_template_columns": null,
            "grid_template_rows": null,
            "height": null,
            "justify_content": null,
            "justify_items": null,
            "left": null,
            "margin": null,
            "max_height": null,
            "max_width": null,
            "min_height": null,
            "min_width": null,
            "object_fit": null,
            "object_position": null,
            "order": null,
            "overflow": null,
            "overflow_x": null,
            "overflow_y": null,
            "padding": null,
            "right": null,
            "top": null,
            "visibility": null,
            "width": null
          }
        },
        "8ebe1c2cfd294e808a5c4673188c1901": {
          "model_module": "@jupyter-widgets/controls",
          "model_name": "DescriptionStyleModel",
          "model_module_version": "1.5.0",
          "state": {
            "_model_module": "@jupyter-widgets/controls",
            "_model_module_version": "1.5.0",
            "_model_name": "DescriptionStyleModel",
            "_view_count": null,
            "_view_module": "@jupyter-widgets/base",
            "_view_module_version": "1.2.0",
            "_view_name": "StyleView",
            "description_width": ""
          }
        }
      }
    }
  },
  "nbformat": 4,
  "nbformat_minor": 0
}