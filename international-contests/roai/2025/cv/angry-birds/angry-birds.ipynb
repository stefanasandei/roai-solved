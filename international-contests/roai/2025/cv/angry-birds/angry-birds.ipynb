{
  "cells": [
    {
      "cell_type": "code",
      "execution_count": 72,
      "metadata": {
        "id": "_lQ9puyhYyxy"
      },
      "outputs": [],
      "source": [
        "import os\n",
        "\n",
        "import matplotlib.pyplot as plt\n",
        "import pandas as pd\n",
        "import numpy as np\n",
        "from PIL import Image\n",
        "from tqdm import tqdm\n",
        "import cv2\n",
        "\n",
        "import torch\n",
        "from torch.utils.data import Dataset, DataLoader, WeightedRandomSampler\n",
        "import torchvision.transforms.v2 as v2\n",
        "from torchvision import models\n",
        "import torch.nn as nn\n",
        "from torch.optim import AdamW\n",
        "from torch.optim.lr_scheduler import CosineAnnealingLR\n",
        "from torch.amp import autocast, GradScaler\n",
        "from torchmetrics import Accuracy\n",
        "from torchmetrics.metric import Metric"
      ]
    },
    {
      "cell_type": "code",
      "execution_count": 73,
      "metadata": {
        "id": "-IiKOYy1YbSC"
      },
      "outputs": [],
      "source": [
        "# # https://drive.google.com/file/d/16QCd2dhOGNNDFxTFzLFmBG9SzP06A-y5/view\n",
        "# !gdown 16QCd2dhOGNNDFxTFzLFmBG9SzP06A-y5\n",
        "# !unzip ./data.zip"
      ]
    },
    {
      "cell_type": "code",
      "execution_count": 74,
      "metadata": {
        "id": "c5zVybyZYeJ5"
      },
      "outputs": [],
      "source": [
        "seed = 43\n",
        "torch.random.manual_seed(seed)\n",
        "\n",
        "device = \"cuda\" if torch.cuda.is_available() else \"cpu\"\n",
        "\n",
        "batch_size = 16\n",
        "num_epochs = 10\n",
        "lr = 1e-5\n",
        "\n",
        "root_path = \"/home/stefan/ioai-prep/kits/roai-2025/angry-birds/data\""
      ]
    },
    {
      "cell_type": "code",
      "execution_count": 75,
      "metadata": {
        "colab": {
          "base_uri": "https://localhost:8080/"
        },
        "id": "evrtP38Uxkl4",
        "outputId": "d79f24bd-4460-4e2b-9a84-21311ffd29aa"
      },
      "outputs": [
        {
          "name": "stdout",
          "output_type": "stream",
          "text": [
            "model loaded.\n"
          ]
        }
      ],
      "source": [
        "weights = models.ResNet50_Weights.IMAGENET1K_V1\n",
        "resnet = models.resnet50(weights=weights).to(device)\n",
        "resnet.fc = nn.Identity()\n",
        "resnet.eval()\n",
        "print(\"model loaded.\")"
      ]
    },
    {
      "cell_type": "markdown",
      "metadata": {
        "id": "9_R3b_osY7J_"
      },
      "source": [
        "# Data preparation"
      ]
    },
    {
      "cell_type": "code",
      "execution_count": 76,
      "metadata": {
        "id": "scA-Gl9UoYrz"
      },
      "outputs": [],
      "source": [
        "def remove_red_square(img: Image.Image) -> Image.Image:\n",
        "    \"\"\"\n",
        "    detects and removes the red square by thresholding the red channel\n",
        "    replaces with the mean of the surrounding border using OpenCV connected components\n",
        "    \"\"\"\n",
        "    arr = np.array(img)\n",
        "    # create binary mask: red channel max, others not max\n",
        "    red_mask = (arr[..., 0] == 255) & (arr[..., 1] < 255) & (arr[..., 2] < 255)\n",
        "    mask = red_mask.astype(np.uint8)  # 0 or 1\n",
        "\n",
        "    # label connected components\n",
        "    num_labels, labels, stats, centroids = cv2.connectedComponentsWithStats(mask, connectivity=8)\n",
        "    # iterate over components skipping background\n",
        "    for lbl in range(1, num_labels):\n",
        "        x, y, w, h, area = stats[lbl]\n",
        "        # check for square within size bounds\n",
        "        if 10 <= w <= 20 and 10 <= h <= 20 and abs(w - h) <= 1:\n",
        "            # create inpainting mask for this component\n",
        "            comp_mask = (labels == lbl).astype(np.uint8) * 255\n",
        "            # dilate mask by 5 pixels to define border\n",
        "            kernel = cv2.getStructuringElement(cv2.MORPH_RECT, (11, 11))\n",
        "            dilated = cv2.dilate(comp_mask, kernel)\n",
        "            border = cv2.subtract(dilated, comp_mask)\n",
        "            # compute mean color in border region\n",
        "            border_pts = border.astype(bool)\n",
        "            if np.any(border_pts):\n",
        "                mean_color = arr[border_pts].reshape(-1, 3).mean(axis=0).astype(np.uint8)\n",
        "                # fill the square region\n",
        "                arr[comp_mask.astype(bool)] = mean_color\n",
        "            break\n",
        "\n",
        "    return Image.fromarray(arr)"
      ]
    },
    {
      "cell_type": "code",
      "execution_count": 77,
      "metadata": {
        "id": "bIvdpqC1ovIO"
      },
      "outputs": [],
      "source": [
        "def is_water_background(img: Image.Image, threshold: float = 1.1, pct: float = 0.05) -> bool:\n",
        "    \"\"\"\n",
        "    simple heuristic: count fraction of pixels where B > threshold * G\n",
        "    if fraction exceeds pct, classify as water background\n",
        "    \"\"\"\n",
        "    arr = np.array(img)\n",
        "    B = arr[..., 2].astype(float)\n",
        "    G = arr[..., 1].astype(float)\n",
        "    mask = B > threshold * (G + 1e-6)\n",
        "    return mask.mean() >= pct"
      ]
    },
    {
      "cell_type": "code",
      "execution_count": null,
      "metadata": {
        "id": "ILACdAveY74q"
      },
      "outputs": [],
      "source": [
        "class AngryBirdsDataset(Dataset):\n",
        "  def __init__(self, split: str):\n",
        "    super().__init__()\n",
        "\n",
        "    self.split = split\n",
        "    self.df = pd.read_csv(f\"{root_path}/{split}.csv\").reset_index(drop=True)  \n",
        "    self.repetitions = 4\n",
        "\n",
        "    self.orig_len = len(self.df)\n",
        "\n",
        "    self.transforms = models.ResNet50_Weights.IMAGENET1K_V1.transforms()\n",
        "    if split == 'train':\n",
        "      self.transforms = v2.Compose([\n",
        "        v2.RandomResizedCrop(224),\n",
        "        v2.RandomHorizontalFlip(),\n",
        "        v2.ColorJitter(brightness=0.2, contrast=0.2, saturation=0.2, hue=0.1),\n",
        "        self.transforms\n",
        "      ])\n",
        "\n",
        "    self.precompute_bg_heuristic()\n",
        "    print(f\"{len(self.df)} from {self.orig_len}\")\n",
        "\n",
        "  def precompute_bg_heuristic(self):\n",
        "    augmented = []\n",
        "    augmented_bg_labels = []\n",
        "\n",
        "    # precompute background labels and mark which images need red removal\n",
        "    self.bg_labels = []  # 1 for water bg, 0 for land bg\n",
        "    for idx, row in self.df.iterrows():\n",
        "        img_path = os.path.join(root_path, self.split, row['filename'])\n",
        "        img = Image.open(img_path).convert('RGB')\n",
        "\n",
        "        is_water = is_water_background(img)\n",
        "        self.bg_labels.append(int(is_water))\n",
        "\n",
        "        if self.split == 'train':\n",
        "            # Add repetitions for minority class\n",
        "            if (is_water and row[\"y\"] == 0) or (not is_water and row[\"y\"] == 1):\n",
        "                for _ in range(self.repetitions):\n",
        "                    augmented.append(row.to_dict())\n",
        "                    augmented_bg_labels.append(int(is_water))\n",
        "\n",
        "    # add duplicates - data augmentation\n",
        "    if augmented:\n",
        "        df_augmented = pd.DataFrame(augmented, columns=self.df.columns)\n",
        "        self.df = pd.concat([self.df, df_augmented], ignore_index=True)\n",
        "        self.bg_labels.extend(augmented_bg_labels)\n",
        "\n",
        "  def __getitem__(self, idx):\n",
        "    row = self.df.iloc[idx]\n",
        "\n",
        "    # precompute the resnet activation feature\n",
        "    # return only the (2048, ) features, without image\n",
        "    dir = f\"{root_path}/{self.split}\"\n",
        "    raw_filename = row['filename'][:len(\".jpg\")+1]\n",
        "    if os.path.isfile(f\"{dir}/{raw_filename}.npz\"):\n",
        "      with np.load(f\"{dir}/{raw_filename}.npz\") as archive:\n",
        "        feats = archive[\"arr_0\"]\n",
        "      features = torch.from_numpy(feats)\n",
        "    else:\n",
        "      img = Image.open(f\"{dir}/{row['filename']}\")\n",
        "\n",
        "      # prepare image\n",
        "      if row.get('y', 0) == 0:\n",
        "        img = remove_red_square(img)\n",
        "      img = self.transforms(img)\n",
        "\n",
        "      # save the activations in a numpy archive, saves storage\n",
        "      with torch.no_grad():\n",
        "        feats = resnet(img.unsqueeze(0).to(device))\n",
        "      features = feats.cpu()\n",
        "      np.savez(f\"{dir}/{raw_filename}.npz\", features.detach().cpu().numpy())\n",
        "\n",
        "    if \"y\" in row:\n",
        "      label = torch.tensor([row[\"y\"]], dtype=torch.float32)\n",
        "      bg_label = torch.tensor([self.bg_labels[idx]], dtype=torch.long)\n",
        "\n",
        "      return features, label, bg_label\n",
        "\n",
        "    return features\n",
        "\n",
        "  def __len__(self):\n",
        "    return len(self.df)"
      ]
    },
    {
      "cell_type": "code",
      "execution_count": 79,
      "metadata": {
        "id": "S2LTT_X9qhU8"
      },
      "outputs": [],
      "source": [
        "def make_balanced_sampler(dataset: AngryBirdsDataset) -> WeightedRandomSampler:\n",
        "    # compute sample weights inverse to frequency of each (label, bg) combination\n",
        "    counts = {}\n",
        "    for _, row in dataset.df.iterrows():\n",
        "        key = (int(row['y']), dataset.bg_labels[_])\n",
        "        counts[key] = counts.get(key, 0) + 1\n",
        "\n",
        "    weights = []\n",
        "    for idx in range(len(dataset)):\n",
        "        y = int(dataset.df.iloc[idx]['y'])\n",
        "        bg = dataset.bg_labels[idx]\n",
        "        weights.append(1.0 / counts[(y,bg)])\n",
        "\n",
        "    return WeightedRandomSampler(weights, num_samples=len(weights), replacement=True)"
      ]
    },
    {
      "cell_type": "code",
      "execution_count": 80,
      "metadata": {
        "id": "HEItp1Uleuva"
      },
      "outputs": [
        {
          "name": "stdout",
          "output_type": "stream",
          "text": [
            "21555 from 4795\n",
            "1199 from 1199\n"
          ]
        }
      ],
      "source": [
        "train_dataset = AngryBirdsDataset(\"train\")\n",
        "train_sampler = make_balanced_sampler(train_dataset)\n",
        "train_loader = DataLoader(train_dataset, batch_size=batch_size, sampler=train_sampler)\n",
        "\n",
        "val_dataset = AngryBirdsDataset(\"val\")\n",
        "val_loader = DataLoader(val_dataset, batch_size=batch_size)"
      ]
    },
    {
      "cell_type": "code",
      "execution_count": 81,
      "metadata": {
        "colab": {
          "base_uri": "https://localhost:8080/"
        },
        "id": "cBI-Vs69e7Gi",
        "outputId": "a746ff93-0039-4dcc-dde6-269c523ac572"
      },
      "outputs": [
        {
          "data": {
            "text/plain": [
              "[torch.Size([16, 1, 2048]), torch.Size([16, 1]), torch.Size([16, 1])]"
            ]
          },
          "execution_count": 81,
          "metadata": {},
          "output_type": "execute_result"
        }
      ],
      "source": [
        "batch = next(iter(train_loader))\n",
        "batch[0], batch[1] = batch[0].to(device), batch[1].to(device)\n",
        "\n",
        "[b.shape for b in batch]"
      ]
    },
    {
      "cell_type": "markdown",
      "metadata": {
        "id": "MbJAOOT3fVX7"
      },
      "source": [
        "# Model"
      ]
    },
    {
      "cell_type": "code",
      "execution_count": 82,
      "metadata": {
        "id": "v0DIMJRJfKS5"
      },
      "outputs": [],
      "source": [
        "class BirdsNet(nn.Module):\n",
        "  def __init__(self):\n",
        "    super().__init__()\n",
        "\n",
        "    self.head = nn.Sequential(\n",
        "      nn.Dropout(0.4),\n",
        "      nn.BatchNorm1d(1),\n",
        "      nn.Linear(2048, 1),\n",
        "    )\n",
        "\n",
        "  def forward(self, x):\n",
        "    # features = self.backbone(x)\n",
        "    logits = self.head(x)\n",
        "    return logits"
      ]
    },
    {
      "cell_type": "code",
      "execution_count": 83,
      "metadata": {
        "colab": {
          "base_uri": "https://localhost:8080/"
        },
        "id": "132bIPFMgVpi",
        "outputId": "7dc964dc-ef89-44dd-fbe1-3db2362c166d"
      },
      "outputs": [
        {
          "data": {
            "text/plain": [
              "torch.Size([16, 1, 1])"
            ]
          },
          "execution_count": 83,
          "metadata": {},
          "output_type": "execute_result"
        }
      ],
      "source": [
        "model = BirdsNet().to(device)\n",
        "\n",
        "model(batch[0]).shape"
      ]
    },
    {
      "cell_type": "markdown",
      "metadata": {
        "id": "oq2myMQghPRg"
      },
      "source": [
        "# Training"
      ]
    },
    {
      "cell_type": "code",
      "execution_count": 84,
      "metadata": {
        "colab": {
          "base_uri": "https://localhost:8080/"
        },
        "id": "cb115BY_30jx",
        "outputId": "d5216772-436c-4f45-fb13-74dba69e6134"
      },
      "outputs": [
        {
          "name": "stderr",
          "output_type": "stream",
          "text": [
            "100%|██████████| 1348/1348 [00:05<00:00, 233.46it/s]\n",
            "100%|██████████| 75/75 [00:00<00:00, 238.08it/s]\n"
          ]
        }
      ],
      "source": [
        "# warming up\n",
        "for loader in [train_loader, val_loader]:\n",
        "  for _ in tqdm(loader):\n",
        "    pass"
      ]
    },
    {
      "cell_type": "code",
      "execution_count": 85,
      "metadata": {
        "id": "sgKiFiUMgYyg"
      },
      "outputs": [],
      "source": [
        "losses = []\n",
        "\n",
        "criterion = nn.BCEWithLogitsLoss()\n",
        "optimizer = AdamW(model.parameters(), lr=lr, weight_decay=1e-2)\n",
        "scheduler = CosineAnnealingLR(optimizer, T_max=num_epochs*len(train_loader), eta_min=1e-6)\n",
        "scaler = GradScaler(device)"
      ]
    },
    {
      "cell_type": "code",
      "execution_count": 86,
      "metadata": {
        "id": "PWa8NQJzsIfF"
      },
      "outputs": [],
      "source": [
        "# prepare metrics - we want worst accuracy across the 4 labels\n",
        "groups = [(y,bg) for y in [0,1] for bg in [0,1]]\n",
        "cell_metrics = {g: Accuracy(task=\"binary\").to(device) for g in groups}"
      ]
    },
    {
      "cell_type": "code",
      "execution_count": 87,
      "metadata": {
        "colab": {
          "base_uri": "https://localhost:8080/"
        },
        "id": "udT0uRIfhbXM",
        "outputId": "0712283e-4177-49ff-e8ee-6bb136075e59"
      },
      "outputs": [
        {
          "name": "stderr",
          "output_type": "stream",
          "text": [
            "Epoch [1/10]: 100%|██████████| 1348/1348 [00:11<00:00, 122.18batch/s, loss=0.564]\n",
            "Validation: 100%|██████████| 75/75 [00:00<00:00, 118.07it/s]\n"
          ]
        },
        {
          "name": "stdout",
          "output_type": "stream",
          "text": [
            "{(0, 0): 0.8712643384933472, (0, 1): 0.5983935594558716, (1, 0): 0.6608695387840271, (1, 1): 0.8344370722770691}\n",
            "Validation Epoch 1: loss=0.5355, worst_cell_acc=59.84%\n"
          ]
        },
        {
          "name": "stderr",
          "output_type": "stream",
          "text": [
            "Epoch [2/10]: 100%|██████████| 1348/1348 [00:10<00:00, 123.07batch/s, loss=0.371]\n",
            "Validation: 100%|██████████| 75/75 [00:00<00:00, 123.66it/s]\n"
          ]
        },
        {
          "name": "stdout",
          "output_type": "stream",
          "text": [
            "{(0, 0): 0.8712643384933472, (0, 1): 0.599397599697113, (1, 0): 0.656521737575531, (1, 1): 0.8344370722770691}\n",
            "Validation Epoch 2: loss=0.5177, worst_cell_acc=59.94%\n"
          ]
        },
        {
          "name": "stderr",
          "output_type": "stream",
          "text": [
            "Epoch [3/10]: 100%|██████████| 1348/1348 [00:11<00:00, 121.76batch/s, loss=0.308]\n",
            "Validation: 100%|██████████| 75/75 [00:00<00:00, 119.92it/s]\n"
          ]
        },
        {
          "name": "stdout",
          "output_type": "stream",
          "text": [
            "{(0, 0): 0.8697317838668823, (0, 1): 0.5983935594558716, (1, 0): 0.6521739363670349, (1, 1): 0.8322295546531677}\n",
            "Validation Epoch 3: loss=0.5305, worst_cell_acc=59.84%\n"
          ]
        },
        {
          "name": "stderr",
          "output_type": "stream",
          "text": [
            "Epoch [4/10]: 100%|██████████| 1348/1348 [00:11<00:00, 122.12batch/s, loss=0.282]\n",
            "Validation: 100%|██████████| 75/75 [00:00<00:00, 128.13it/s]\n"
          ]
        },
        {
          "name": "stdout",
          "output_type": "stream",
          "text": [
            "{(0, 0): 0.8695402145385742, (0, 1): 0.599397599697113, (1, 0): 0.6521739363670349, (1, 1): 0.8294702172279358}\n",
            "Validation Epoch 4: loss=0.5388, worst_cell_acc=59.94%\n"
          ]
        },
        {
          "name": "stderr",
          "output_type": "stream",
          "text": [
            "Epoch [5/10]: 100%|██████████| 1348/1348 [00:10<00:00, 123.43batch/s, loss=0.267]\n",
            "Validation: 100%|██████████| 75/75 [00:00<00:00, 117.96it/s]\n"
          ]
        },
        {
          "name": "stdout",
          "output_type": "stream",
          "text": [
            "{(0, 0): 0.8694252967834473, (0, 1): 0.5991967916488647, (1, 0): 0.6521739363670349, (1, 1): 0.8278145790100098}\n",
            "Validation Epoch 5: loss=0.5541, worst_cell_acc=59.92%\n"
          ]
        },
        {
          "name": "stderr",
          "output_type": "stream",
          "text": [
            "Epoch [6/10]: 100%|██████████| 1348/1348 [00:11<00:00, 122.06batch/s, loss=0.254]\n",
            "Validation: 100%|██████████| 75/75 [00:00<00:00, 116.77it/s]\n"
          ]
        },
        {
          "name": "stdout",
          "output_type": "stream",
          "text": [
            "{(0, 0): 0.8693486452102661, (0, 1): 0.5973895788192749, (1, 0): 0.6521739363670349, (1, 1): 0.8267108201980591}\n",
            "Validation Epoch 6: loss=0.5640, worst_cell_acc=59.74%\n"
          ]
        },
        {
          "name": "stderr",
          "output_type": "stream",
          "text": [
            "Epoch [7/10]: 100%|██████████| 1348/1348 [00:10<00:00, 123.33batch/s, loss=0.251]\n",
            "Validation: 100%|██████████| 75/75 [00:00<00:00, 126.24it/s]\n"
          ]
        },
        {
          "name": "stdout",
          "output_type": "stream",
          "text": [
            "{(0, 0): 0.8692939281463623, (0, 1): 0.5966724157333374, (1, 0): 0.6521739363670349, (1, 1): 0.825922429561615}\n",
            "Validation Epoch 7: loss=0.5658, worst_cell_acc=59.67%\n"
          ]
        },
        {
          "name": "stderr",
          "output_type": "stream",
          "text": [
            "Epoch [8/10]: 100%|██████████| 1348/1348 [00:11<00:00, 122.50batch/s, loss=0.244]\n",
            "Validation: 100%|██████████| 75/75 [00:00<00:00, 123.07it/s]\n"
          ]
        },
        {
          "name": "stdout",
          "output_type": "stream",
          "text": [
            "{(0, 0): 0.8692528605461121, (0, 1): 0.5963855385780334, (1, 0): 0.654347836971283, (1, 1): 0.8245033025741577}\n",
            "Validation Epoch 8: loss=0.5645, worst_cell_acc=59.64%\n"
          ]
        },
        {
          "name": "stderr",
          "output_type": "stream",
          "text": [
            "Epoch [9/10]: 100%|██████████| 1348/1348 [00:10<00:00, 123.48batch/s, loss=0.241]\n",
            "Validation: 100%|██████████| 75/75 [00:00<00:00, 117.60it/s]\n"
          ]
        },
        {
          "name": "stdout",
          "output_type": "stream",
          "text": [
            "{(0, 0): 0.8692209720611572, (0, 1): 0.5959393382072449, (1, 0): 0.6570048332214355, (1, 1): 0.824135422706604}\n",
            "Validation Epoch 9: loss=0.5736, worst_cell_acc=59.59%\n"
          ]
        },
        {
          "name": "stderr",
          "output_type": "stream",
          "text": [
            "Epoch [10/10]: 100%|██████████| 1348/1348 [00:10<00:00, 122.79batch/s, loss=0.241]\n",
            "Validation: 100%|██████████| 75/75 [00:00<00:00, 107.79it/s]"
          ]
        },
        {
          "name": "stdout",
          "output_type": "stream",
          "text": [
            "{(0, 0): 0.8689655065536499, (0, 1): 0.595381498336792, (1, 0): 0.6591304540634155, (1, 1): 0.8238410353660583}\n",
            "Validation Epoch 10: loss=0.5780, worst_cell_acc=59.54%\n"
          ]
        },
        {
          "name": "stderr",
          "output_type": "stream",
          "text": [
            "\n"
          ]
        }
      ],
      "source": [
        "for epoch in range(1, num_epochs + 1):\n",
        "    model.train()\n",
        "    running_loss = 0.0\n",
        "    total_samples = 0\n",
        "\n",
        "    loop = tqdm(train_loader, desc=f\"Epoch [{epoch}/{num_epochs}]\", unit=\"batch\")\n",
        "    for imgs, labels, _ in loop:\n",
        "      imgs, labels = imgs.to(device), labels.to(device)\n",
        "\n",
        "      # forward pass\n",
        "      optimizer.zero_grad()\n",
        "      with autocast(device):\n",
        "        logits = model(imgs).squeeze(-1)\n",
        "        loss = criterion(logits, labels)\n",
        "\n",
        "      # backward pass\n",
        "      scaler.scale(loss).backward()\n",
        "      scaler.step(optimizer)\n",
        "      scaler.update()\n",
        "      scheduler.step()\n",
        "\n",
        "      # stats\n",
        "      running_loss += loss.item() * imgs.size(0)\n",
        "      total_samples += imgs.size(0)\n",
        "      loop.set_postfix(loss=running_loss / total_samples)\n",
        "      losses.append(loss.item())\n",
        "\n",
        "    model.eval()\n",
        "    val_loss = 0.0\n",
        "    val_corrects, val_samples = 0, 0\n",
        "    with torch.no_grad():\n",
        "      for imgs, labels, bgs in tqdm(val_loader, desc=\"Validation\"):\n",
        "        imgs, labels, bgs = imgs.to(device), labels.to(device), bgs.to(device)\n",
        "\n",
        "        with autocast(device):\n",
        "          logits = model(imgs).squeeze(-1)\n",
        "          val_loss += criterion(logits, labels).item() * imgs.size(0)\n",
        "          preds = torch.sigmoid(logits)\n",
        "\n",
        "        # update each cell metric\n",
        "        for g, metric in cell_metrics.items():\n",
        "          mask = (labels.long()==g[0]) & (bgs==g[1])\n",
        "          if mask.any(): metric.update(preds[mask], labels[mask].long())\n",
        "\n",
        "      val_loss /= len(val_dataset)\n",
        "      # compute per-cell and worst\n",
        "      cell_accs = {k: m.compute().item() for k, m in cell_metrics.items()}\n",
        "      print(cell_accs)\n",
        "      worst_acc = min(cell_accs.values())*100\n",
        "      print(f\"Validation Epoch {epoch}: loss={val_loss:.4f}, worst_cell_acc={worst_acc:.2f}%\")"
      ]
    },
    {
      "cell_type": "code",
      "execution_count": 88,
      "metadata": {
        "colab": {
          "base_uri": "https://localhost:8080/",
          "height": 276
        },
        "id": "boGfAHoAwCie",
        "outputId": "4c4067d1-7385-4f04-c06d-2901d07fffec"
      },
      "outputs": [
        {
          "data": {
            "text/plain": [
              "[<matplotlib.lines.Line2D at 0x7efc6e0b0f50>]"
            ]
          },
          "execution_count": 88,
          "metadata": {},
          "output_type": "execute_result"
        },
        {
          "data": {
            "image/png": "[encoded data removed]",
            "text/plain": [
              "<Figure size 1200x300 with 1 Axes>"
            ]
          },
          "metadata": {},
          "output_type": "display_data"
        }
      ],
      "source": [
        "plt.figure(figsize=(12, 3))\n",
        "plt.plot(losses)"
      ]
    },
    {
      "cell_type": "markdown",
      "metadata": {
        "id": "j0Xrs9GQi2-D"
      },
      "source": [
        "# Submission"
      ]
    },
    {
      "cell_type": "code",
      "execution_count": 89,
      "metadata": {
        "id": "AQrnZs4xiUW9"
      },
      "outputs": [
        {
          "name": "stdout",
          "output_type": "stream",
          "text": [
            "6993 from 6993\n"
          ]
        }
      ],
      "source": [
        "test_dataset = AngryBirdsDataset(\"test\")\n",
        "test_loader = DataLoader(test_dataset, batch_size=batch_size, shuffle=True)\n",
        "\n",
        "df_test = pd.read_csv(f\"{root_path}/test.csv\")"
      ]
    },
    {
      "cell_type": "code",
      "execution_count": 90,
      "metadata": {
        "colab": {
          "base_uri": "https://localhost:8080/"
        },
        "id": "eutZwrK0jDjB",
        "outputId": "defc6e4f-93ad-454c-e4a0-285d8e72c6b9"
      },
      "outputs": [
        {
          "name": "stderr",
          "output_type": "stream",
          "text": [
            "100%|██████████| 438/438 [00:01<00:00, 230.56it/s]\n"
          ]
        }
      ],
      "source": [
        "answer = []\n",
        "\n",
        "model.eval()\n",
        "for batch in tqdm(test_loader):\n",
        "  batch = batch.to(device)\n",
        "  with torch.no_grad():\n",
        "    logits = model(batch).squeeze(-1)\n",
        "  preds = (torch.sigmoid(logits) >= 0.5).detach().cpu().long().squeeze(-1)\n",
        "  answer.extend(preds.tolist())"
      ]
    },
    {
      "cell_type": "code",
      "execution_count": 91,
      "metadata": {
        "colab": {
          "base_uri": "https://localhost:8080/",
          "height": 206
        },
        "id": "mQSaYCAujWU3",
        "outputId": "9ac54ae4-1b73-474a-8041-43dd18eb67e8"
      },
      "outputs": [
        {
          "data": {
            "text/html": [
              "<div>\n",
              "<style scoped>\n",
              "    .dataframe tbody tr th:only-of-type {\n",
              "        vertical-align: middle;\n",
              "    }\n",
              "\n",
              "    .dataframe tbody tr th {\n",
              "        vertical-align: top;\n",
              "    }\n",
              "\n",
              "    .dataframe thead th {\n",
              "        text-align: right;\n",
              "    }\n",
              "</style>\n",
              "<table border=\"1\" class=\"dataframe\">\n",
              "  <thead>\n",
              "    <tr style=\"text-align: right;\">\n",
              "      <th></th>\n",
              "      <th>datapointID</th>\n",
              "      <th>subtaskID</th>\n",
              "      <th>answer</th>\n",
              "    </tr>\n",
              "  </thead>\n",
              "  <tbody>\n",
              "    <tr>\n",
              "      <th>0</th>\n",
              "      <td>0</td>\n",
              "      <td>1</td>\n",
              "      <td>0</td>\n",
              "    </tr>\n",
              "    <tr>\n",
              "      <th>1</th>\n",
              "      <td>1</td>\n",
              "      <td>1</td>\n",
              "      <td>0</td>\n",
              "    </tr>\n",
              "    <tr>\n",
              "      <th>2</th>\n",
              "      <td>2</td>\n",
              "      <td>1</td>\n",
              "      <td>1</td>\n",
              "    </tr>\n",
              "    <tr>\n",
              "      <th>3</th>\n",
              "      <td>3</td>\n",
              "      <td>1</td>\n",
              "      <td>0</td>\n",
              "    </tr>\n",
              "    <tr>\n",
              "      <th>4</th>\n",
              "      <td>4</td>\n",
              "      <td>1</td>\n",
              "      <td>1</td>\n",
              "    </tr>\n",
              "  </tbody>\n",
              "</table>\n",
              "</div>"
            ],
            "text/plain": [
              "   datapointID  subtaskID  answer\n",
              "0            0          1       0\n",
              "1            1          1       0\n",
              "2            2          1       1\n",
              "3            3          1       0\n",
              "4            4          1       1"
            ]
          },
          "execution_count": 91,
          "metadata": {},
          "output_type": "execute_result"
        }
      ],
      "source": [
        "submission = pd.DataFrame({\n",
        "    \"datapointID\": df_test[\"datapointID\"],\n",
        "    \"subtaskID\": 1,\n",
        "    \"answer\": answer\n",
        "})\n",
        "\n",
        "submission.head()"
      ]
    },
    {
      "cell_type": "code",
      "execution_count": 92,
      "metadata": {
        "id": "ne2lL4f8k_aD"
      },
      "outputs": [],
      "source": [
        "submission.to_csv(\"submission.csv\", index=False)"
      ]
    }
  ],
  "metadata": {
    "accelerator": "GPU",
    "colab": {
      "gpuType": "T4",
      "provenance": []
    },
    "kernelspec": {
      "display_name": "Python 3",
      "name": "python3"
    },
    "language_info": {
      "codemirror_mode": {
        "name": "ipython",
        "version": 3
      },
      "file_extension": ".py",
      "mimetype": "text/x-python",
      "name": "python",
      "nbconvert_exporter": "python",
      "pygments_lexer": "ipython3",
      "version": "3.13.5"
    }
  },
  "nbformat": 4,
  "nbformat_minor": 0
}
