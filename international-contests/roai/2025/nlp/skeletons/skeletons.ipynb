{
 "cells": [
  {
   "cell_type": "code",
   "execution_count": 22,
   "id": "b46f39a4",
   "metadata": {},
   "outputs": [],
   "source": [
    "import pandas as pd\n",
    "from tqdm import tqdm\n",
    "import matplotlib.pyplot as plt\n",
    "\n",
    "import torch\n",
    "from torch.utils.data import Dataset, DataLoader, random_split\n",
    "from torch.amp import autocast, GradScaler\n",
    "from torch.nn.utils.rnn import pad_sequence, pack_padded_sequence, pad_packed_sequence\n",
    "import torch.nn as nn\n",
    "import torch.nn.functional as F\n",
    "from torch.optim import AdamW\n",
    "from torch.optim.lr_scheduler import CosineAnnealingLR\n",
    "import torchmetrics"
   ]
  },
  {
   "cell_type": "code",
   "execution_count": 23,
   "id": "513312e2",
   "metadata": {},
   "outputs": [],
   "source": [
    "seed = 333\n",
    "torch.random.manual_seed(seed)\n",
    "\n",
    "device=\"cuda\"\n",
    "\n",
    "batch_size = 4\n",
    "\n",
    "root_path = \"/home/stefan/ioai-prep/kits/roai-2025/skeletons\""
   ]
  },
  {
   "cell_type": "markdown",
   "id": "07d4d729",
   "metadata": {},
   "source": [
    "# Data preparation"
   ]
  },
  {
   "cell_type": "code",
   "execution_count": 24,
   "id": "5fa5b409",
   "metadata": {},
   "outputs": [],
   "source": [
    "class MovementDataset(Dataset):\n",
    "    def __init__(self, df_path: str):\n",
    "        self.df = pd.read_csv(df_path)\n",
    "\n",
    "        self.unique_ids = self.df[\"IDSample\"].nunique()\n",
    "        self.start_idx = self.df.iloc[0][\"IDSample\"]\n",
    "\n",
    "    def len_frames(self, idx):\n",
    "        row_idx = int(idx + self.start_idx)\n",
    "        rows = self.df[self.df[\"IDSample\"] == row_idx]\n",
    "        return len(rows)\n",
    "    \n",
    "    def __getitem__(self, idx):\n",
    "        row_idx = int(idx + self.start_idx)\n",
    "        rows = self.df[self.df[\"IDSample\"] == row_idx]\n",
    "        length = len(rows)\n",
    "\n",
    "        cols = [f\"J{i}X\" for i in range(1, 25+1)] + [f\"J{i}Y\" for i in range(1, 25+1)] + [f\"J{i}Z\" for i in range(1, 25+1)]\n",
    "        data = rows[cols].values.reshape(-1, 25 * 3)\n",
    "        data = torch.tensor(data, dtype=torch.float32)\n",
    "\n",
    "        if \"Camera\" in rows:\n",
    "            labels = rows.iloc[0][[\"Camera\", \"Action\"]].values\n",
    "            labels[0] -= 1  # zero-index cameras\n",
    "            labels = torch.tensor(labels, dtype=torch.long).reshape(1, 2)\n",
    "\n",
    "            return data, length, labels\n",
    "        return data, length\n",
    "    \n",
    "    def __len__(self):\n",
    "        return self.unique_ids"
   ]
  },
  {
   "cell_type": "code",
   "execution_count": 25,
   "id": "8e7371d1",
   "metadata": {},
   "outputs": [],
   "source": [
    "def collate_fn(batch):\n",
    "    data, lengths, labels = zip(*batch)\n",
    "    lengths = torch.tensor(lengths, dtype=torch.long)\n",
    "    # pad sequences (batch_size, max_seq_len, feat_dim)\n",
    "    data_padded = pad_sequence(data, batch_first=True)\n",
    "    labels = torch.stack(labels, dim=0)\n",
    "    return data_padded, lengths, labels"
   ]
  },
  {
   "cell_type": "code",
   "execution_count": 26,
   "id": "cb08ed7d",
   "metadata": {},
   "outputs": [],
   "source": [
    "full_dataset = MovementDataset(f\"{root_path}/train_data.csv\")\n",
    "train_size = int(0.8 * len(full_dataset))\n",
    "val_size = len(full_dataset) - train_size\n",
    "train_dataset, val_dataset = random_split(full_dataset, [train_size, val_size])\n",
    "\n",
    "dataloader_train = DataLoader(train_dataset, batch_size=batch_size, shuffle=True, collate_fn=collate_fn, drop_last=True)\n",
    "dataloader_val = DataLoader(val_dataset, batch_size=batch_size, shuffle=False, collate_fn=collate_fn)"
   ]
  },
  {
   "cell_type": "code",
   "execution_count": 27,
   "id": "3aa8995e",
   "metadata": {},
   "outputs": [
    {
     "data": {
      "text/plain": [
       "[torch.Size([4, 98, 75]), torch.Size([4]), torch.Size([4, 1, 2])]"
      ]
     },
     "execution_count": 27,
     "metadata": {},
     "output_type": "execute_result"
    }
   ],
   "source": [
    "batch = next(iter(dataloader_train))\n",
    "\n",
    "# (batch_size, seq_len, 75); (batch_size); (batch_size, 1, 2)\n",
    "# data; lengths; labels\n",
    "[b.shape for b in batch]"
   ]
  },
  {
   "cell_type": "markdown",
   "id": "6fc3d284",
   "metadata": {},
   "source": [
    "# Model"
   ]
  },
  {
   "cell_type": "code",
   "execution_count": 28,
   "id": "5a349b1d",
   "metadata": {},
   "outputs": [],
   "source": [
    "class SkeletonNet(nn.Module):\n",
    "    def __init__(self, num_classes):\n",
    "        super().__init__()\n",
    "        self.n_hidden = 128\n",
    "        self.n_layers = 2\n",
    "\n",
    "        self.lstm = nn.LSTM(input_size=75, hidden_size=self.n_hidden, num_layers=self.n_layers, batch_first=True)\n",
    "        \n",
    "        self.head = nn.LazyLinear(num_classes)\n",
    "\n",
    "    def forward(self, x, lengths):\n",
    "        # pack padded sequence\n",
    "        packed = pack_padded_sequence(x, lengths.cpu(), batch_first=True, enforce_sorted=False)\n",
    "        packed_out, _ = self.lstm(packed)\n",
    "        \n",
    "        # unpack\n",
    "        output, _ = pad_packed_sequence(packed_out, batch_first=True)\n",
    "        \n",
    "        # compute mean over true lengths\n",
    "        feats = torch.stack([output[i, :lengths[i]].mean(dim=0) for i in range(x.size(0))], dim=0)\n",
    "\n",
    "        logits = self.head(feats)\n",
    "        return logits"
   ]
  },
  {
   "cell_type": "code",
   "execution_count": 29,
   "id": "07011bb3",
   "metadata": {},
   "outputs": [
    {
     "data": {
      "text/plain": [
       "torch.Size([4, 3])"
      ]
     },
     "execution_count": 29,
     "metadata": {},
     "output_type": "execute_result"
    }
   ],
   "source": [
    "model_action = SkeletonNet(5).to(device)\n",
    "model_camera = SkeletonNet(3).to(device)\n",
    "\n",
    "data, length = batch[0].to(device), batch[1].to(device)\n",
    "model_camera(data, length).shape"
   ]
  },
  {
   "cell_type": "markdown",
   "id": "87c7bbcb",
   "metadata": {},
   "source": [
    "# Training"
   ]
  },
  {
   "cell_type": "code",
   "execution_count": 30,
   "id": "b5d4c057",
   "metadata": {},
   "outputs": [],
   "source": [
    "should_train = True"
   ]
  },
  {
   "cell_type": "code",
   "execution_count": 31,
   "id": "7620c3a9",
   "metadata": {},
   "outputs": [],
   "source": [
    "lr = 2e-4\n",
    "losses = []\n",
    "\n",
    "action_accuracy = torchmetrics.Accuracy(task=\"multiclass\", num_classes=5).to(device)\n",
    "camera_accuracy = torchmetrics.Accuracy(task=\"multiclass\", num_classes=3).to(device)\n",
    "\n",
    "scaler = GradScaler(device)"
   ]
  },
  {
   "cell_type": "code",
   "execution_count": 32,
   "id": "e102b779",
   "metadata": {},
   "outputs": [],
   "source": [
    "def train(model, is_camera: bool):\n",
    "    label_idx = 0 if is_camera else 1\n",
    "    accuracy = camera_accuracy if is_camera else action_accuracy\n",
    "    label_acc = \"camera_acc\" if is_camera else \"action_acc\"\n",
    "\n",
    "    patience, so_far = 7, 0\n",
    "    best_acc = 0\n",
    "    epochs = 40 if is_camera else 20\n",
    "\n",
    "    optimizer = AdamW(model.parameters(), lr=lr)\n",
    "    scheduler = CosineAnnealingLR(optimizer=optimizer, T_max=epochs, eta_min=1e-6)\n",
    "    criterion = nn.CrossEntropyLoss()\n",
    "\n",
    "    for epoch in range(epochs):\n",
    "        model.train()\n",
    "        running_loss = 0.0\n",
    "\n",
    "        # training\n",
    "        for i, (data, length, labels) in enumerate(tqdm(dataloader_train, desc=f\"Training Epoch {epoch+1}\")):\n",
    "            data, length, labels = data.to(device), length.to(device), labels.to(device)\n",
    "            optimizer.zero_grad()\n",
    "\n",
    "            # forward pass\n",
    "            with autocast(device):\n",
    "                logits = model(data, length)\n",
    "                loss = criterion(logits, labels[:, 0, label_idx])\n",
    "\n",
    "            # backward pass\n",
    "            scaler.scale(loss).backward()\n",
    "            scaler.unscale_(optimizer)\n",
    "            nn.utils.clip_grad_norm_(model.parameters(), 2.5)\n",
    "            scaler.step(optimizer)\n",
    "            scaler.update()\n",
    "            scheduler.step(epoch+1)\n",
    "\n",
    "            # stats\n",
    "            running_loss += loss.item()\n",
    "            losses.append(loss.item())\n",
    "\n",
    "        # validation\n",
    "        model.eval()\n",
    "        accuracy.reset()\n",
    "\n",
    "        with torch.no_grad():\n",
    "            for data, lengths, labels in dataloader_val:\n",
    "                data, lengths, labels = data.to(device), lengths.to(device), labels.to(device)\n",
    "\n",
    "                logits = model(data, lengths)\n",
    "                accuracy(logits, labels[:, 0, label_idx])\n",
    "\n",
    "        l = running_loss / len(dataloader_train)\n",
    "        acc = accuracy.compute()\n",
    "\n",
    "        # early stopping\n",
    "        if acc > best_acc:\n",
    "            best_acc = acc\n",
    "            so_far = 0\n",
    "        else:\n",
    "            so_far += 1\n",
    "            if so_far == patience:\n",
    "                break\n",
    "\n",
    "        print(f\"Epoch {epoch+1}: loss={l:.2f} | {label_acc}={(acc*100):.1f}%\")"
   ]
  },
  {
   "cell_type": "code",
   "execution_count": 33,
   "id": "928784e4",
   "metadata": {},
   "outputs": [],
   "source": [
    "def prep_model(model, is_camera: bool):\n",
    "    if should_train:\n",
    "        print(\"Training the model!\")\n",
    "        train(model, is_camera)\n",
    "        torch.save(model.state_dict(), \"model.pth\")\n",
    "    else:\n",
    "        print(\"Loading the model!\")\n",
    "        model.load_state_dict(torch.load(\"model.pth\"))"
   ]
  },
  {
   "cell_type": "code",
   "execution_count": 34,
   "id": "c2a3f6ea",
   "metadata": {},
   "outputs": [
    {
     "name": "stdout",
     "output_type": "stream",
     "text": [
      "Training the model!\n"
     ]
    },
    {
     "name": "stderr",
     "output_type": "stream",
     "text": [
      "Training Epoch 1: 100%|██████████| 670/670 [00:11<00:00, 59.35it/s]\n"
     ]
    },
    {
     "name": "stdout",
     "output_type": "stream",
     "text": [
      "Epoch 1: loss=1.22 | action_acc=62.7%\n"
     ]
    },
    {
     "name": "stderr",
     "output_type": "stream",
     "text": [
      "Training Epoch 2: 100%|██████████| 670/670 [00:11<00:00, 58.45it/s]\n"
     ]
    },
    {
     "name": "stdout",
     "output_type": "stream",
     "text": [
      "Epoch 2: loss=0.75 | action_acc=83.5%\n"
     ]
    },
    {
     "name": "stderr",
     "output_type": "stream",
     "text": [
      "Training Epoch 3: 100%|██████████| 670/670 [00:11<00:00, 58.45it/s]\n"
     ]
    },
    {
     "name": "stdout",
     "output_type": "stream",
     "text": [
      "Epoch 3: loss=0.51 | action_acc=91.5%\n"
     ]
    },
    {
     "name": "stderr",
     "output_type": "stream",
     "text": [
      "Training Epoch 4: 100%|██████████| 670/670 [00:11<00:00, 57.70it/s]\n"
     ]
    },
    {
     "name": "stdout",
     "output_type": "stream",
     "text": [
      "Epoch 4: loss=0.39 | action_acc=93.0%\n"
     ]
    },
    {
     "name": "stderr",
     "output_type": "stream",
     "text": [
      "Training Epoch 5: 100%|██████████| 670/670 [00:11<00:00, 57.94it/s]\n"
     ]
    },
    {
     "name": "stdout",
     "output_type": "stream",
     "text": [
      "Epoch 5: loss=0.32 | action_acc=93.3%\n"
     ]
    },
    {
     "name": "stderr",
     "output_type": "stream",
     "text": [
      "Training Epoch 6: 100%|██████████| 670/670 [00:11<00:00, 58.41it/s]\n"
     ]
    },
    {
     "name": "stdout",
     "output_type": "stream",
     "text": [
      "Epoch 6: loss=0.27 | action_acc=94.9%\n"
     ]
    },
    {
     "name": "stderr",
     "output_type": "stream",
     "text": [
      "Training Epoch 7: 100%|██████████| 670/670 [00:11<00:00, 59.55it/s]\n"
     ]
    },
    {
     "name": "stdout",
     "output_type": "stream",
     "text": [
      "Epoch 7: loss=0.23 | action_acc=93.6%\n"
     ]
    },
    {
     "name": "stderr",
     "output_type": "stream",
     "text": [
      "Training Epoch 8: 100%|██████████| 670/670 [00:11<00:00, 58.83it/s]\n"
     ]
    },
    {
     "name": "stdout",
     "output_type": "stream",
     "text": [
      "Epoch 8: loss=0.22 | action_acc=94.6%\n"
     ]
    },
    {
     "name": "stderr",
     "output_type": "stream",
     "text": [
      "Training Epoch 9: 100%|██████████| 670/670 [00:11<00:00, 59.81it/s]\n"
     ]
    },
    {
     "name": "stdout",
     "output_type": "stream",
     "text": [
      "Epoch 9: loss=0.19 | action_acc=95.2%\n"
     ]
    },
    {
     "name": "stderr",
     "output_type": "stream",
     "text": [
      "Training Epoch 10: 100%|██████████| 670/670 [00:11<00:00, 58.71it/s]\n"
     ]
    },
    {
     "name": "stdout",
     "output_type": "stream",
     "text": [
      "Epoch 10: loss=0.18 | action_acc=96.4%\n"
     ]
    },
    {
     "name": "stderr",
     "output_type": "stream",
     "text": [
      "Training Epoch 11: 100%|██████████| 670/670 [00:11<00:00, 59.06it/s]\n"
     ]
    },
    {
     "name": "stdout",
     "output_type": "stream",
     "text": [
      "Epoch 11: loss=0.16 | action_acc=97.5%\n"
     ]
    },
    {
     "name": "stderr",
     "output_type": "stream",
     "text": [
      "Training Epoch 12: 100%|██████████| 670/670 [00:11<00:00, 60.47it/s]\n"
     ]
    },
    {
     "name": "stdout",
     "output_type": "stream",
     "text": [
      "Epoch 12: loss=0.12 | action_acc=96.6%\n"
     ]
    },
    {
     "name": "stderr",
     "output_type": "stream",
     "text": [
      "Training Epoch 13: 100%|██████████| 670/670 [00:11<00:00, 59.99it/s]\n"
     ]
    },
    {
     "name": "stdout",
     "output_type": "stream",
     "text": [
      "Epoch 13: loss=0.11 | action_acc=98.1%\n"
     ]
    },
    {
     "name": "stderr",
     "output_type": "stream",
     "text": [
      "Training Epoch 14: 100%|██████████| 670/670 [00:11<00:00, 60.11it/s]\n"
     ]
    },
    {
     "name": "stdout",
     "output_type": "stream",
     "text": [
      "Epoch 14: loss=0.09 | action_acc=97.5%\n"
     ]
    },
    {
     "name": "stderr",
     "output_type": "stream",
     "text": [
      "Training Epoch 15: 100%|██████████| 670/670 [00:11<00:00, 59.94it/s]\n"
     ]
    },
    {
     "name": "stdout",
     "output_type": "stream",
     "text": [
      "Epoch 15: loss=0.08 | action_acc=97.3%\n"
     ]
    },
    {
     "name": "stderr",
     "output_type": "stream",
     "text": [
      "Training Epoch 16: 100%|██████████| 670/670 [00:11<00:00, 58.61it/s]\n"
     ]
    },
    {
     "name": "stdout",
     "output_type": "stream",
     "text": [
      "Epoch 16: loss=0.06 | action_acc=98.1%\n"
     ]
    },
    {
     "name": "stderr",
     "output_type": "stream",
     "text": [
      "Training Epoch 17: 100%|██████████| 670/670 [00:11<00:00, 59.43it/s]\n"
     ]
    },
    {
     "name": "stdout",
     "output_type": "stream",
     "text": [
      "Epoch 17: loss=0.06 | action_acc=98.1%\n"
     ]
    },
    {
     "name": "stderr",
     "output_type": "stream",
     "text": [
      "Training Epoch 18: 100%|██████████| 670/670 [00:11<00:00, 60.62it/s]\n"
     ]
    },
    {
     "name": "stdout",
     "output_type": "stream",
     "text": [
      "Epoch 18: loss=0.05 | action_acc=98.1%\n"
     ]
    },
    {
     "name": "stderr",
     "output_type": "stream",
     "text": [
      "Training Epoch 19: 100%|██████████| 670/670 [00:11<00:00, 60.28it/s]\n"
     ]
    },
    {
     "name": "stdout",
     "output_type": "stream",
     "text": [
      "Epoch 19: loss=0.05 | action_acc=98.2%\n"
     ]
    },
    {
     "name": "stderr",
     "output_type": "stream",
     "text": [
      "Training Epoch 20: 100%|██████████| 670/670 [00:11<00:00, 59.44it/s]\n"
     ]
    },
    {
     "name": "stdout",
     "output_type": "stream",
     "text": [
      "Epoch 20: loss=0.05 | action_acc=97.9%\n"
     ]
    },
    {
     "data": {
      "text/plain": [
       "[<matplotlib.lines.Line2D at 0x7f09e1a7d090>]"
      ]
     },
     "execution_count": 34,
     "metadata": {},
     "output_type": "execute_result"
    },
    {
     "data": {
      "image/png": "[encoded data removed]",
      "text/plain": [
       "<Figure size 640x480 with 1 Axes>"
      ]
     },
     "metadata": {},
     "output_type": "display_data"
    }
   ],
   "source": [
    "losses = []\n",
    "\n",
    "prep_model(model_action, is_camera=False)\n",
    "plt.plot(losses)"
   ]
  },
  {
   "cell_type": "code",
   "execution_count": 35,
   "id": "e2fd5461",
   "metadata": {},
   "outputs": [
    {
     "name": "stdout",
     "output_type": "stream",
     "text": [
      "Training the model!\n"
     ]
    },
    {
     "name": "stderr",
     "output_type": "stream",
     "text": [
      "Training Epoch 1: 100%|██████████| 670/670 [00:11<00:00, 59.58it/s]\n"
     ]
    },
    {
     "name": "stdout",
     "output_type": "stream",
     "text": [
      "Epoch 1: loss=1.04 | camera_acc=47.4%\n"
     ]
    },
    {
     "name": "stderr",
     "output_type": "stream",
     "text": [
      "Training Epoch 2: 100%|██████████| 670/670 [00:10<00:00, 61.09it/s]\n"
     ]
    },
    {
     "name": "stdout",
     "output_type": "stream",
     "text": [
      "Epoch 2: loss=0.99 | camera_acc=47.7%\n"
     ]
    },
    {
     "name": "stderr",
     "output_type": "stream",
     "text": [
      "Training Epoch 3: 100%|██████████| 670/670 [00:11<00:00, 60.20it/s]\n"
     ]
    },
    {
     "name": "stdout",
     "output_type": "stream",
     "text": [
      "Epoch 3: loss=0.97 | camera_acc=54.4%\n"
     ]
    },
    {
     "name": "stderr",
     "output_type": "stream",
     "text": [
      "Training Epoch 4: 100%|██████████| 670/670 [00:11<00:00, 59.70it/s]\n"
     ]
    },
    {
     "name": "stdout",
     "output_type": "stream",
     "text": [
      "Epoch 4: loss=0.92 | camera_acc=49.5%\n"
     ]
    },
    {
     "name": "stderr",
     "output_type": "stream",
     "text": [
      "Training Epoch 5: 100%|██████████| 670/670 [00:11<00:00, 59.22it/s]\n"
     ]
    },
    {
     "name": "stdout",
     "output_type": "stream",
     "text": [
      "Epoch 5: loss=0.90 | camera_acc=55.4%\n"
     ]
    },
    {
     "name": "stderr",
     "output_type": "stream",
     "text": [
      "Training Epoch 6: 100%|██████████| 670/670 [00:11<00:00, 58.59it/s]\n"
     ]
    },
    {
     "name": "stdout",
     "output_type": "stream",
     "text": [
      "Epoch 6: loss=0.84 | camera_acc=59.2%\n"
     ]
    },
    {
     "name": "stderr",
     "output_type": "stream",
     "text": [
      "Training Epoch 7: 100%|██████████| 670/670 [00:11<00:00, 58.15it/s]\n"
     ]
    },
    {
     "name": "stdout",
     "output_type": "stream",
     "text": [
      "Epoch 7: loss=0.76 | camera_acc=69.9%\n"
     ]
    },
    {
     "name": "stderr",
     "output_type": "stream",
     "text": [
      "Training Epoch 8: 100%|██████████| 670/670 [00:11<00:00, 60.23it/s]\n"
     ]
    },
    {
     "name": "stdout",
     "output_type": "stream",
     "text": [
      "Epoch 8: loss=0.75 | camera_acc=64.7%\n"
     ]
    },
    {
     "name": "stderr",
     "output_type": "stream",
     "text": [
      "Training Epoch 9: 100%|██████████| 670/670 [00:10<00:00, 60.93it/s]\n"
     ]
    },
    {
     "name": "stdout",
     "output_type": "stream",
     "text": [
      "Epoch 9: loss=0.71 | camera_acc=65.6%\n"
     ]
    },
    {
     "name": "stderr",
     "output_type": "stream",
     "text": [
      "Training Epoch 10: 100%|██████████| 670/670 [00:11<00:00, 60.53it/s]\n"
     ]
    },
    {
     "name": "stdout",
     "output_type": "stream",
     "text": [
      "Epoch 10: loss=0.71 | camera_acc=66.5%\n"
     ]
    },
    {
     "name": "stderr",
     "output_type": "stream",
     "text": [
      "Training Epoch 11: 100%|██████████| 670/670 [00:11<00:00, 60.55it/s]\n"
     ]
    },
    {
     "name": "stdout",
     "output_type": "stream",
     "text": [
      "Epoch 11: loss=0.71 | camera_acc=65.6%\n"
     ]
    },
    {
     "name": "stderr",
     "output_type": "stream",
     "text": [
      "Training Epoch 12: 100%|██████████| 670/670 [00:11<00:00, 60.31it/s]\n"
     ]
    },
    {
     "name": "stdout",
     "output_type": "stream",
     "text": [
      "Epoch 12: loss=0.63 | camera_acc=64.5%\n"
     ]
    },
    {
     "name": "stderr",
     "output_type": "stream",
     "text": [
      "Training Epoch 13: 100%|██████████| 670/670 [00:11<00:00, 58.94it/s]\n"
     ]
    },
    {
     "name": "stdout",
     "output_type": "stream",
     "text": [
      "Epoch 13: loss=0.61 | camera_acc=71.5%\n"
     ]
    },
    {
     "name": "stderr",
     "output_type": "stream",
     "text": [
      "Training Epoch 14: 100%|██████████| 670/670 [00:11<00:00, 60.67it/s]\n"
     ]
    },
    {
     "name": "stdout",
     "output_type": "stream",
     "text": [
      "Epoch 14: loss=0.62 | camera_acc=71.5%\n"
     ]
    },
    {
     "name": "stderr",
     "output_type": "stream",
     "text": [
      "Training Epoch 15: 100%|██████████| 670/670 [00:11<00:00, 60.53it/s]\n"
     ]
    },
    {
     "name": "stdout",
     "output_type": "stream",
     "text": [
      "Epoch 15: loss=0.60 | camera_acc=77.0%\n"
     ]
    },
    {
     "name": "stderr",
     "output_type": "stream",
     "text": [
      "Training Epoch 16: 100%|██████████| 670/670 [00:10<00:00, 61.20it/s]\n"
     ]
    },
    {
     "name": "stdout",
     "output_type": "stream",
     "text": [
      "Epoch 16: loss=0.58 | camera_acc=75.1%\n"
     ]
    },
    {
     "name": "stderr",
     "output_type": "stream",
     "text": [
      "Training Epoch 17: 100%|██████████| 670/670 [00:11<00:00, 60.11it/s]\n"
     ]
    },
    {
     "name": "stdout",
     "output_type": "stream",
     "text": [
      "Epoch 17: loss=0.60 | camera_acc=76.2%\n"
     ]
    },
    {
     "name": "stderr",
     "output_type": "stream",
     "text": [
      "Training Epoch 18: 100%|██████████| 670/670 [00:11<00:00, 60.56it/s]\n"
     ]
    },
    {
     "name": "stdout",
     "output_type": "stream",
     "text": [
      "Epoch 18: loss=0.56 | camera_acc=75.9%\n"
     ]
    },
    {
     "name": "stderr",
     "output_type": "stream",
     "text": [
      "Training Epoch 19: 100%|██████████| 670/670 [00:11<00:00, 60.61it/s]\n"
     ]
    },
    {
     "name": "stdout",
     "output_type": "stream",
     "text": [
      "Epoch 19: loss=0.56 | camera_acc=75.6%\n"
     ]
    },
    {
     "name": "stderr",
     "output_type": "stream",
     "text": [
      "Training Epoch 20: 100%|██████████| 670/670 [00:11<00:00, 59.77it/s]\n"
     ]
    },
    {
     "name": "stdout",
     "output_type": "stream",
     "text": [
      "Epoch 20: loss=0.54 | camera_acc=77.3%\n"
     ]
    },
    {
     "name": "stderr",
     "output_type": "stream",
     "text": [
      "Training Epoch 21: 100%|██████████| 670/670 [00:11<00:00, 60.32it/s]\n"
     ]
    },
    {
     "name": "stdout",
     "output_type": "stream",
     "text": [
      "Epoch 21: loss=0.52 | camera_acc=76.6%\n"
     ]
    },
    {
     "name": "stderr",
     "output_type": "stream",
     "text": [
      "Training Epoch 22: 100%|██████████| 670/670 [00:11<00:00, 59.26it/s]\n"
     ]
    },
    {
     "name": "stdout",
     "output_type": "stream",
     "text": [
      "Epoch 22: loss=0.51 | camera_acc=81.4%\n"
     ]
    },
    {
     "name": "stderr",
     "output_type": "stream",
     "text": [
      "Training Epoch 23: 100%|██████████| 670/670 [00:11<00:00, 60.58it/s]\n"
     ]
    },
    {
     "name": "stdout",
     "output_type": "stream",
     "text": [
      "Epoch 23: loss=0.49 | camera_acc=81.8%\n"
     ]
    },
    {
     "name": "stderr",
     "output_type": "stream",
     "text": [
      "Training Epoch 24: 100%|██████████| 670/670 [00:11<00:00, 59.76it/s]\n"
     ]
    },
    {
     "name": "stdout",
     "output_type": "stream",
     "text": [
      "Epoch 24: loss=0.49 | camera_acc=81.8%\n"
     ]
    },
    {
     "name": "stderr",
     "output_type": "stream",
     "text": [
      "Training Epoch 25: 100%|██████████| 670/670 [00:10<00:00, 60.95it/s]\n"
     ]
    },
    {
     "name": "stdout",
     "output_type": "stream",
     "text": [
      "Epoch 25: loss=0.45 | camera_acc=80.6%\n"
     ]
    },
    {
     "name": "stderr",
     "output_type": "stream",
     "text": [
      "Training Epoch 26: 100%|██████████| 670/670 [00:11<00:00, 60.53it/s]\n"
     ]
    },
    {
     "name": "stdout",
     "output_type": "stream",
     "text": [
      "Epoch 26: loss=0.45 | camera_acc=82.1%\n"
     ]
    },
    {
     "name": "stderr",
     "output_type": "stream",
     "text": [
      "Training Epoch 27: 100%|██████████| 670/670 [00:11<00:00, 59.94it/s]\n"
     ]
    },
    {
     "name": "stdout",
     "output_type": "stream",
     "text": [
      "Epoch 27: loss=0.44 | camera_acc=80.8%\n"
     ]
    },
    {
     "name": "stderr",
     "output_type": "stream",
     "text": [
      "Training Epoch 28: 100%|██████████| 670/670 [00:11<00:00, 59.25it/s]\n"
     ]
    },
    {
     "name": "stdout",
     "output_type": "stream",
     "text": [
      "Epoch 28: loss=0.43 | camera_acc=81.1%\n"
     ]
    },
    {
     "name": "stderr",
     "output_type": "stream",
     "text": [
      "Training Epoch 29: 100%|██████████| 670/670 [00:10<00:00, 61.47it/s]\n"
     ]
    },
    {
     "name": "stdout",
     "output_type": "stream",
     "text": [
      "Epoch 29: loss=0.40 | camera_acc=82.1%\n"
     ]
    },
    {
     "name": "stderr",
     "output_type": "stream",
     "text": [
      "Training Epoch 30: 100%|██████████| 670/670 [00:11<00:00, 60.55it/s]\n"
     ]
    },
    {
     "name": "stdout",
     "output_type": "stream",
     "text": [
      "Epoch 30: loss=0.40 | camera_acc=83.6%\n"
     ]
    },
    {
     "name": "stderr",
     "output_type": "stream",
     "text": [
      "Training Epoch 31: 100%|██████████| 670/670 [00:11<00:00, 60.64it/s]\n"
     ]
    },
    {
     "name": "stdout",
     "output_type": "stream",
     "text": [
      "Epoch 31: loss=0.40 | camera_acc=82.6%\n"
     ]
    },
    {
     "name": "stderr",
     "output_type": "stream",
     "text": [
      "Training Epoch 32: 100%|██████████| 670/670 [00:11<00:00, 59.86it/s]\n"
     ]
    },
    {
     "name": "stdout",
     "output_type": "stream",
     "text": [
      "Epoch 32: loss=0.40 | camera_acc=82.6%\n"
     ]
    },
    {
     "name": "stderr",
     "output_type": "stream",
     "text": [
      "Training Epoch 33: 100%|██████████| 670/670 [00:10<00:00, 61.95it/s]\n"
     ]
    },
    {
     "name": "stdout",
     "output_type": "stream",
     "text": [
      "Epoch 33: loss=0.36 | camera_acc=82.0%\n"
     ]
    },
    {
     "name": "stderr",
     "output_type": "stream",
     "text": [
      "Training Epoch 34: 100%|██████████| 670/670 [00:10<00:00, 61.29it/s]\n"
     ]
    },
    {
     "name": "stdout",
     "output_type": "stream",
     "text": [
      "Epoch 34: loss=0.36 | camera_acc=82.9%\n"
     ]
    },
    {
     "name": "stderr",
     "output_type": "stream",
     "text": [
      "Training Epoch 35: 100%|██████████| 670/670 [00:10<00:00, 61.32it/s]\n"
     ]
    },
    {
     "name": "stdout",
     "output_type": "stream",
     "text": [
      "Epoch 35: loss=0.35 | camera_acc=83.8%\n"
     ]
    },
    {
     "name": "stderr",
     "output_type": "stream",
     "text": [
      "Training Epoch 36: 100%|██████████| 670/670 [00:11<00:00, 60.07it/s]\n"
     ]
    },
    {
     "name": "stdout",
     "output_type": "stream",
     "text": [
      "Epoch 36: loss=0.34 | camera_acc=81.7%\n"
     ]
    },
    {
     "name": "stderr",
     "output_type": "stream",
     "text": [
      "Training Epoch 37: 100%|██████████| 670/670 [00:11<00:00, 59.39it/s]\n"
     ]
    },
    {
     "name": "stdout",
     "output_type": "stream",
     "text": [
      "Epoch 37: loss=0.33 | camera_acc=83.6%\n"
     ]
    },
    {
     "name": "stderr",
     "output_type": "stream",
     "text": [
      "Training Epoch 38: 100%|██████████| 670/670 [00:11<00:00, 59.71it/s]\n"
     ]
    },
    {
     "name": "stdout",
     "output_type": "stream",
     "text": [
      "Epoch 38: loss=0.33 | camera_acc=82.9%\n"
     ]
    },
    {
     "name": "stderr",
     "output_type": "stream",
     "text": [
      "Training Epoch 39: 100%|██████████| 670/670 [00:11<00:00, 60.29it/s]\n"
     ]
    },
    {
     "name": "stdout",
     "output_type": "stream",
     "text": [
      "Epoch 39: loss=0.32 | camera_acc=83.6%\n"
     ]
    },
    {
     "name": "stderr",
     "output_type": "stream",
     "text": [
      "Training Epoch 40: 100%|██████████| 670/670 [00:11<00:00, 60.32it/s]\n"
     ]
    },
    {
     "name": "stdout",
     "output_type": "stream",
     "text": [
      "Epoch 40: loss=0.33 | camera_acc=83.2%\n"
     ]
    },
    {
     "data": {
      "text/plain": [
       "[<matplotlib.lines.Line2D at 0x7f09e1c4d450>]"
      ]
     },
     "execution_count": 35,
     "metadata": {},
     "output_type": "execute_result"
    },
    {
     "data": {
      "image/png": "[encoded data removed]",
      "text/plain": [
       "<Figure size 640x480 with 1 Axes>"
      ]
     },
     "metadata": {},
     "output_type": "display_data"
    }
   ],
   "source": [
    "losses = []\n",
    "\n",
    "prep_model(model_camera, is_camera=True)\n",
    "plt.plot(losses)"
   ]
  },
  {
   "cell_type": "markdown",
   "id": "5cc89182",
   "metadata": {},
   "source": [
    "# Submission"
   ]
  },
  {
   "cell_type": "code",
   "execution_count": 43,
   "id": "ce3d47ba",
   "metadata": {},
   "outputs": [],
   "source": [
    "dataset_test = MovementDataset(f\"{root_path}/test_data.csv\")\n",
    "\n",
    "def collate_test(batch):\n",
    "    # batch: list of [seq_len x 75] tensors\n",
    "    data_list, lengths = zip(*batch)\n",
    "    lengths = torch.tensor(lengths, dtype=torch.long) # (B,)\n",
    "    data_padded = pad_sequence(data_list, batch_first=True)  # (B, max_seq, 75)\n",
    "    return data_padded, lengths\n",
    "\n",
    "test_loader = DataLoader(\n",
    "    dataset_test,\n",
    "    batch_size=batch_size,\n",
    "    shuffle=False,\n",
    "    collate_fn=collate_test\n",
    ")"
   ]
  },
  {
   "cell_type": "code",
   "execution_count": 44,
   "id": "82ba1e0d",
   "metadata": {},
   "outputs": [],
   "source": [
    "df_test = pd.read_csv(f\"{root_path}/test_data.csv\")\n",
    "ids = df_test[\"IDSample\"].unique()"
   ]
  },
  {
   "cell_type": "code",
   "execution_count": 45,
   "id": "7e7753cb",
   "metadata": {},
   "outputs": [],
   "source": [
    "subtask1_ans = []\n",
    "for i in range(len(ids)):\n",
    "    subtask1_ans.append(dataset_test.len_frames(i))"
   ]
  },
  {
   "cell_type": "code",
   "execution_count": 46,
   "id": "cb505451",
   "metadata": {},
   "outputs": [
    {
     "name": "stderr",
     "output_type": "stream",
     "text": [
      "Test inference: 100%|██████████| 345/345 [00:03<00:00, 97.95it/s] \n"
     ]
    }
   ],
   "source": [
    "subtask2_ans, subtask3_ans = [], []\n",
    "\n",
    "model_action.eval()\n",
    "model_action.eval()\n",
    "with torch.no_grad():\n",
    "    for data, lengths in tqdm(test_loader, desc=\"Test inference\"):\n",
    "        # move to device\n",
    "        data, lengths = data.to(device), lengths.to(device)\n",
    "\n",
    "        # forward once\n",
    "        logits_cam = model_camera(data, lengths)\n",
    "        logits_act = model_action(data, lengths)\n",
    "\n",
    "        # softmax → probabilities\n",
    "        probs_act = F.softmax(logits_act, dim=-1)  # shape (B,5)\n",
    "        probs_cam = F.softmax(logits_cam, dim=-1)  # shape (B,3)\n",
    "\n",
    "        # argmax → class indices\n",
    "        batch_pred_act = probs_act.argmax(dim=1).cpu().tolist()      # 0–4\n",
    "        batch_pred_cam = (probs_cam.argmax(dim=1) + 1).cpu().tolist()# 1–3\n",
    "\n",
    "        subtask2_ans.extend(batch_pred_act)\n",
    "        subtask3_ans.extend(batch_pred_cam)"
   ]
  },
  {
   "cell_type": "code",
   "execution_count": 47,
   "id": "68e12114",
   "metadata": {},
   "outputs": [],
   "source": [
    "subtask1 = pd.DataFrame({\n",
    "    \"datapointID\": ids,\n",
    "    \"answer\": subtask1_ans,\n",
    "    \"subtaskID\": 1\n",
    "})\n",
    "\n",
    "subtask2 = pd.DataFrame({\n",
    "    \"datapointID\": ids,\n",
    "    \"answer\": subtask2_ans,\n",
    "    \"subtaskID\": 2\n",
    "})\n",
    "\n",
    "subtask3 = pd.DataFrame({\n",
    "    \"datapointID\": ids,\n",
    "    \"answer\": subtask3_ans,\n",
    "    \"subtaskID\": 3\n",
    "})"
   ]
  },
  {
   "cell_type": "code",
   "execution_count": 48,
   "id": "b381a3fa",
   "metadata": {},
   "outputs": [
    {
     "data": {
      "text/html": [
       "<div>\n",
       "<style scoped>\n",
       "    .dataframe tbody tr th:only-of-type {\n",
       "        vertical-align: middle;\n",
       "    }\n",
       "\n",
       "    .dataframe tbody tr th {\n",
       "        vertical-align: top;\n",
       "    }\n",
       "\n",
       "    .dataframe thead th {\n",
       "        text-align: right;\n",
       "    }\n",
       "</style>\n",
       "<table border=\"1\" class=\"dataframe\">\n",
       "  <thead>\n",
       "    <tr style=\"text-align: right;\">\n",
       "      <th></th>\n",
       "      <th>datapointID</th>\n",
       "      <th>answer</th>\n",
       "      <th>subtaskID</th>\n",
       "    </tr>\n",
       "  </thead>\n",
       "  <tbody>\n",
       "    <tr>\n",
       "      <th>0</th>\n",
       "      <td>3361</td>\n",
       "      <td>124</td>\n",
       "      <td>1</td>\n",
       "    </tr>\n",
       "    <tr>\n",
       "      <th>1</th>\n",
       "      <td>3362</td>\n",
       "      <td>78</td>\n",
       "      <td>1</td>\n",
       "    </tr>\n",
       "    <tr>\n",
       "      <th>2</th>\n",
       "      <td>3363</td>\n",
       "      <td>207</td>\n",
       "      <td>1</td>\n",
       "    </tr>\n",
       "    <tr>\n",
       "      <th>3</th>\n",
       "      <td>3364</td>\n",
       "      <td>66</td>\n",
       "      <td>1</td>\n",
       "    </tr>\n",
       "    <tr>\n",
       "      <th>4</th>\n",
       "      <td>3365</td>\n",
       "      <td>83</td>\n",
       "      <td>1</td>\n",
       "    </tr>\n",
       "  </tbody>\n",
       "</table>\n",
       "</div>"
      ],
      "text/plain": [
       "   datapointID  answer  subtaskID\n",
       "0         3361     124          1\n",
       "1         3362      78          1\n",
       "2         3363     207          1\n",
       "3         3364      66          1\n",
       "4         3365      83          1"
      ]
     },
     "execution_count": 48,
     "metadata": {},
     "output_type": "execute_result"
    }
   ],
   "source": [
    "submission = pd.concat([subtask1, subtask2, subtask3])\n",
    "submission.head()"
   ]
  },
  {
   "cell_type": "code",
   "execution_count": 49,
   "id": "9bc9df4b",
   "metadata": {},
   "outputs": [],
   "source": [
    "submission.to_csv(\"submission.csv\", index=False)"
   ]
  }
 ],
 "metadata": {
  "kernelspec": {
   "display_name": "Python 3",
   "language": "python",
   "name": "python3"
  },
  "language_info": {
   "codemirror_mode": {
    "name": "ipython",
    "version": 3
   },
   "file_extension": ".py",
   "mimetype": "text/x-python",
   "name": "python",
   "nbconvert_exporter": "python",
   "pygments_lexer": "ipython3",
   "version": "3.13.5"
  }
 },
 "nbformat": 4,
 "nbformat_minor": 5
}
