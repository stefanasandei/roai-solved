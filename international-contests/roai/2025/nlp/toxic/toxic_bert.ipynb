{
  "cells": [
    {
      "cell_type": "code",
      "execution_count": 1,
      "id": "cf59b5aa",
      "metadata": {
        "id": "cf59b5aa"
      },
      "outputs": [],
      "source": [
        "import pandas as pd\n",
        "import numpy as np\n",
        "from tqdm import tqdm\n",
        "from nltk.stem import WordNetLemmatizer\n",
        "from nltk.corpus import stopwords\n",
        "import nltk\n",
        "import string\n",
        "import re\n",
        "import os\n",
        "\n",
        "from sklearn.model_selection import train_test_split\n",
        "from sklearn.metrics import precision_recall_curve, f1_score\n",
        "\n",
        "import torch\n",
        "import torch.nn as nn\n",
        "import torch.nn.functional as F\n",
        "from torch.utils.data import Dataset, DataLoader\n",
        "from torch.optim import AdamW\n",
        "from torch.optim.lr_scheduler import CosineAnnealingWarmRestarts\n",
        "from torch.amp import autocast, GradScaler\n",
        "\n",
        "from transformers.modeling_outputs import SequenceClassifierOutput\n",
        "from transformers import (\n",
        "    AutoConfig,\n",
        "    BertTokenizerFast,\n",
        "    BertForSequenceClassification,\n",
        ")"
      ]
    },
    {
      "cell_type": "code",
      "execution_count": 2,
      "id": "cc1feb50",
      "metadata": {
        "id": "cc1feb50"
      },
      "outputs": [],
      "source": [
        "seed = 42\n",
        "torch.random.manual_seed(seed)\n",
        "\n",
        "device = \"cuda\" if torch.cuda.is_available() else \"cpu\"\n",
        "\n",
        "batch_size = 8\n",
        "max_len = 128\n",
        "\n",
        "epochs = 10\n",
        "learning_rate = 1e-5\n",
        "\n",
        "root_path = \"/home/stefan/ioai-prep/kits/roai-2025/toxic\""
      ]
    },
    {
      "cell_type": "code",
      "execution_count": 3,
      "id": "afdd045f",
      "metadata": {
        "id": "afdd045f"
      },
      "outputs": [],
      "source": [
        "nltk.download(\"stopwords\", quiet=True)\n",
        "nltk.download(\"punkt_tab\", quiet=True)\n",
        "nltk.download(\"wordnet\", quiet=True)\n",
        "\n",
        "stop_words = set(stopwords.words(\"english\"))\n",
        "lemmatizer = WordNetLemmatizer()"
      ]
    },
    {
      "cell_type": "markdown",
      "id": "4c7a3d21",
      "metadata": {
        "id": "4c7a3d21"
      },
      "source": [
        "# Data preparation"
      ]
    },
    {
      "cell_type": "code",
      "execution_count": 4,
      "id": "9f0e9280",
      "metadata": {
        "id": "9f0e9280"
      },
      "outputs": [],
      "source": [
        "class CommentDataset(Dataset):\n",
        "    \"\"\"Torch Dataset for BERT fine-tuning.\"\"\"\n",
        "\n",
        "    def __init__(self, texts, labels, tokenizer: BertTokenizerFast, max_len: int = 128):\n",
        "        self.texts = texts.reset_index(drop=True)\n",
        "        self.labels = labels.reset_index(drop=True)\n",
        "        self.tokenizer = tokenizer\n",
        "        self.max_len = max_len\n",
        "\n",
        "    def __len__(self):\n",
        "        return len(self.texts)\n",
        "\n",
        "    def __getitem__(self, idx):\n",
        "        text = str(self.texts[idx])\n",
        "        inputs = self.tokenizer(\n",
        "            text,\n",
        "            padding=\"max_length\",\n",
        "            truncation=True,\n",
        "            max_length=self.max_len,\n",
        "            return_tensors=\"pt\",\n",
        "        )\n",
        "\n",
        "        item = {key: val.squeeze(0) for key, val in inputs.items()}\n",
        "        item[\"labels\"] = torch.tensor(self.labels.iloc[idx].values.astype(float))\n",
        "\n",
        "        return item"
      ]
    },
    {
      "cell_type": "code",
      "execution_count": 5,
      "id": "bd3be7c9",
      "metadata": {
        "id": "bd3be7c9"
      },
      "outputs": [],
      "source": [
        "def clean_text(text: str):\n",
        "    text = text.lower()\n",
        "\n",
        "    # remove short forms\n",
        "    text = re.sub(r\"what's\", \"what is \", text)\n",
        "    text = re.sub(r\"\\'ve\", \" have \", text)\n",
        "    text = re.sub(r\"n't\", \" not \", text)\n",
        "    text = re.sub(r\"i'm\", \"i am \", text)\n",
        "    text = re.sub(r\"im\", \"i am \", text)\n",
        "    text = re.sub(r\"\\'re\", \" are \", text)\n",
        "    text = re.sub(r\"\\'d\", \" would \", text)\n",
        "    text = re.sub(r\"\\'ll\", \" will \", text)\n",
        "\n",
        "    text = re.sub(r\"http\\S+|www\\S+|https\\S+\", ' WEB ', text) # URLs\n",
        "    text = re.sub(r\"@\\w+|#\\w+\", ' USER ', text) # mentions and hashtags\n",
        "    text = re.sub(r\"<.*?>\", \"\", text)  # HTML tags\n",
        "    text = text.translate(str.maketrans(\"\", \"\", string.punctuation))  # punctuation\n",
        "    text = re.sub(r\"\\d+\", \"\", text)  # numbers\n",
        "    text = re.sub(r\"\\s+\", \" \", text).strip()  # extra whitespace\n",
        "\n",
        "    tokens = nltk.word_tokenize(text)\n",
        "    tokens = [lemmatizer.lemmatize(w) for w in tokens if w not in stop_words]\n",
        "\n",
        "    return ' '.join(tokens)\n",
        "\n",
        "def prep_df(df: pd.DataFrame):\n",
        "    df = df.drop([\"id\"], errors='ignore')\n",
        "\n",
        "    X = df[\"comment_text\"].apply(clean_text)\n",
        "\n",
        "    if \"toxic\" in df.columns:\n",
        "        y = df[['toxic', 'severe_toxic', 'obscene', 'insult']]\n",
        "        return X, y\n",
        "    return X"
      ]
    },
    {
      "cell_type": "code",
      "execution_count": 6,
      "id": "23cb3e55",
      "metadata": {
        "id": "23cb3e55"
      },
      "outputs": [],
      "source": [
        "df = pd.read_csv(f\"{root_path}/train_data.csv\")\n",
        "label_names = [\"toxic\", \"severe_toxic\", \"obscene\", \"insult\"]\n",
        "\n",
        "X, y = prep_df(df)\n",
        "\n",
        "X_train, X_test, y_train, y_test = train_test_split(X, y, test_size=0.2, stratify=y[\"severe_toxic\"], random_state=seed)"
      ]
    },
    {
      "cell_type": "code",
      "execution_count": 7,
      "id": "qKMfqzodJ5ET",
      "metadata": {
        "colab": {
          "base_uri": "https://localhost:8080/"
        },
        "id": "qKMfqzodJ5ET",
        "outputId": "31eafe8e-6041-48d7-b152-15e012011f4f"
      },
      "outputs": [
        {
          "data": {
            "text/plain": [
              "(np.float64(234.6633), np.float64(386.88616562981275))"
            ]
          },
          "execution_count": 7,
          "metadata": {},
          "output_type": "execute_result"
        }
      ],
      "source": [
        "lengths = X.map(lambda x: len(x))\n",
        "\n",
        "lengths.mean(), lengths.std()"
      ]
    },
    {
      "cell_type": "code",
      "execution_count": 8,
      "id": "fee095ac",
      "metadata": {
        "id": "fee095ac"
      },
      "outputs": [],
      "source": [
        "model_name = \"bert-base-uncased\"\n",
        "tokenizer = BertTokenizerFast.from_pretrained(model_name)"
      ]
    },
    {
      "cell_type": "code",
      "execution_count": 9,
      "id": "8469d317",
      "metadata": {
        "id": "8469d317"
      },
      "outputs": [],
      "source": [
        "train_dataset = CommentDataset(X_train, y_train, tokenizer, max_len)\n",
        "val_dataset = CommentDataset(X_test, y_test, tokenizer, max_len)\n",
        "\n",
        "train_loader = DataLoader(train_dataset, batch_size=batch_size, shuffle=True)\n",
        "val_loader = DataLoader(val_dataset, batch_size=batch_size, shuffle=False)"
      ]
    },
    {
      "cell_type": "code",
      "execution_count": 10,
      "id": "31e30100",
      "metadata": {
        "colab": {
          "base_uri": "https://localhost:8080/"
        },
        "id": "31e30100",
        "outputId": "0f2b3290-89f6-4959-8c30-2984284d04e7"
      },
      "outputs": [
        {
          "data": {
            "text/plain": [
              "[{'input_ids': torch.Size([8, 128])},\n",
              " {'token_type_ids': torch.Size([8, 128])},\n",
              " {'attention_mask': torch.Size([8, 128])},\n",
              " {'labels': torch.Size([8, 4])}]"
            ]
          },
          "execution_count": 10,
          "metadata": {},
          "output_type": "execute_result"
        }
      ],
      "source": [
        "# sanity check\n",
        "batch = next(iter(train_loader))\n",
        "[{k:batch[k].shape} for k in batch.keys()]"
      ]
    },
    {
      "cell_type": "markdown",
      "id": "61417947",
      "metadata": {
        "id": "61417947"
      },
      "source": [
        "# Model"
      ]
    },
    {
      "cell_type": "code",
      "execution_count": 11,
      "id": "fcfdedde",
      "metadata": {
        "id": "fcfdedde"
      },
      "outputs": [],
      "source": [
        "class WeightedBertForMultiLabelClassification(BertForSequenceClassification):\n",
        "    def __init__(self, config, pos_weight=None):\n",
        "        super().__init__(config)\n",
        "        if pos_weight is not None:\n",
        "            self.loss_fct = nn.BCEWithLogitsLoss(pos_weight=pos_weight)\n",
        "        else:\n",
        "            self.loss_fct = nn.BCEWithLogitsLoss()\n",
        "\n",
        "    def forward(self, input_ids=None, attention_mask=None, labels=None, **kwargs):\n",
        "        outputs = self.bert(\n",
        "            input_ids=input_ids, attention_mask=attention_mask, **kwargs\n",
        "        )\n",
        "        pooled_output = self.dropout(outputs.pooler_output)\n",
        "        logits = self.classifier(pooled_output)\n",
        "\n",
        "        loss = None\n",
        "        if labels is not None:\n",
        "            loss = self.loss_fct(logits, labels.float())\n",
        "\n",
        "        return SequenceClassifierOutput(\n",
        "            loss=loss,\n",
        "            logits=logits,\n",
        "            hidden_states=outputs.hidden_states,\n",
        "            attentions=outputs.attentions,\n",
        "        )"
      ]
    },
    {
      "cell_type": "code",
      "execution_count": 12,
      "id": "o2IwPAAMIGtA",
      "metadata": {
        "colab": {
          "base_uri": "https://localhost:8080/"
        },
        "id": "o2IwPAAMIGtA",
        "outputId": "39ff519e-4d64-4244-ed82-c09b26e35cb0"
      },
      "outputs": [
        {
          "data": {
            "text/plain": [
              "([7884, 825, 4355, 4077], ['toxic', 'severe_toxic', 'obscene', 'insult'])"
            ]
          },
          "execution_count": 12,
          "metadata": {},
          "output_type": "execute_result"
        }
      ],
      "source": [
        "def compute_pos_weights(y, label_names, device='cpu'):\n",
        "    total_samples = len(y)\n",
        "    pos_counts = [y[label].sum() for label in label_names]\n",
        "    pos_weights = [(total_samples - p) / p for p in pos_counts]\n",
        "    return torch.tensor(pos_weights, dtype=torch.float32, device=device)\n",
        "\n",
        "pos_weight = compute_pos_weights(y, label_names, device=device)\n",
        "\n",
        "[len(y[y[l] == 1]) for l in label_names], label_names"
      ]
    },
    {
      "cell_type": "code",
      "execution_count": 13,
      "id": "bfddd8da",
      "metadata": {
        "colab": {
          "base_uri": "https://localhost:8080/"
        },
        "id": "bfddd8da",
        "outputId": "a7b5ee30-e940-4c0c-a59d-c61edbf7bbe0"
      },
      "outputs": [
        {
          "name": "stderr",
          "output_type": "stream",
          "text": [
            "Some weights of WeightedBertForMultiLabelClassification were not initialized from the model checkpoint at bert-base-uncased and are newly initialized: ['classifier.bias', 'classifier.weight', 'loss_fct.pos_weight']\n",
            "You should probably TRAIN this model on a down-stream task to be able to use it for predictions and inference.\n"
          ]
        }
      ],
      "source": [
        "config = AutoConfig.from_pretrained(\n",
        "    model_name, num_labels=len(label_names), problem_type=\"multi_label_classification\"\n",
        ")\n",
        "\n",
        "model = WeightedBertForMultiLabelClassification.from_pretrained(\n",
        "    model_name, config=config, pos_weight=pos_weight\n",
        ").to(device)"
      ]
    },
    {
      "cell_type": "markdown",
      "id": "2becda1f",
      "metadata": {
        "id": "2becda1f"
      },
      "source": [
        "# Finetuning"
      ]
    },
    {
      "cell_type": "code",
      "execution_count": 14,
      "id": "7f2a0949",
      "metadata": {
        "id": "7f2a0949"
      },
      "outputs": [],
      "source": [
        "scaler = GradScaler(device)\n",
        "optimizer = AdamW(model.parameters(), lr=learning_rate)\n",
        "scheduler = CosineAnnealingWarmRestarts(optimizer=optimizer, T_0=5, eta_min=1e-6)"
      ]
    },
    {
      "cell_type": "code",
      "execution_count": 15,
      "id": "749c5073",
      "metadata": {
        "id": "749c5073"
      },
      "outputs": [],
      "source": [
        "def train_epoch(epoch: int):\n",
        "    model.train()\n",
        "    running_loss = 0.0\n",
        "\n",
        "    for batch in tqdm(train_loader, desc=f\"Training Epoch {epoch+1}\"):\n",
        "        input_ids = batch[\"input_ids\"].to(device)\n",
        "        attention_mask = batch[\"attention_mask\"].to(device)\n",
        "        labels = batch[\"labels\"].to(device)\n",
        "\n",
        "        optimizer.zero_grad()\n",
        "\n",
        "        # forward pass\n",
        "        with autocast(device):\n",
        "            outputs = model(input_ids=input_ids, attention_mask=attention_mask, labels=labels)\n",
        "            loss = outputs.loss\n",
        "\n",
        "        # backward pass\n",
        "        scaler.scale(loss).backward()\n",
        "        scaler.step(optimizer)\n",
        "        scaler.update()\n",
        "\n",
        "        # stats\n",
        "        running_loss += loss.item()\n",
        "    scheduler.step()\n",
        "\n",
        "    avg_loss = running_loss / len(train_loader)\n",
        "    print(f\"Epoch {epoch+1}; train_loss={avg_loss:.4f}\")"
      ]
    },
    {
      "cell_type": "code",
      "execution_count": 16,
      "id": "a456d211",
      "metadata": {
        "id": "a456d211"
      },
      "outputs": [],
      "source": [
        "def val_epoch(epoch: int):\n",
        "    model.eval()\n",
        "    running_loss = 0.0\n",
        "    preds, true_labels = [], []\n",
        "\n",
        "    for batch in tqdm(val_loader, desc=f\"Validating Epoch {epoch+1}\"):\n",
        "        input_ids = batch[\"input_ids\"].to(device)\n",
        "        attention_mask = batch[\"attention_mask\"].to(device)\n",
        "        labels = batch[\"labels\"].to(device)\n",
        "\n",
        "        with autocast(device):\n",
        "          with torch.no_grad():\n",
        "              outputs = model(input_ids=input_ids,\n",
        "                              attention_mask=attention_mask,\n",
        "                              labels=labels)\n",
        "        running_loss += outputs.loss.item()\n",
        "\n",
        "        preds.append(outputs.logits.cpu())\n",
        "        true_labels.append(labels.cpu())\n",
        "\n",
        "    # prepare data\n",
        "    preds = F.sigmoid(torch.cat(preds, dim=0)).cpu().numpy()\n",
        "    preds_binary = (preds > 0.5).astype(int)\n",
        "\n",
        "    # compute f1 score\n",
        "    true_labels = np.concatenate(true_labels, axis=0)\n",
        "    f1 = f1_score(true_labels, preds_binary, average=\"macro\")\n",
        "\n",
        "    avg_loss = running_loss / len(val_loader)\n",
        "    print(f\"Epoch {epoch+1}; val_loss={avg_loss:.4f}; val_f1={f1:.4f}\")\n",
        "    return f1"
      ]
    },
    {
      "cell_type": "code",
      "execution_count": 17,
      "id": "Vj_a3_rlYGmY",
      "metadata": {
        "id": "Vj_a3_rlYGmY"
      },
      "outputs": [],
      "source": [
        "def save_model():\n",
        "  output_dir = \"./bert-finetuned\"\n",
        "  os.makedirs(output_dir, exist_ok=True)\n",
        "  model.save_pretrained(output_dir)\n",
        "  tokenizer.save_pretrained(output_dir)\n",
        "\n",
        "def load_model(path=\"./bert-finetuned\", device=\"cuda\" if torch.cuda.is_available() else \"cpu\"):\n",
        "    tokenizer = BertTokenizerFast.from_pretrained(path)\n",
        "    model = BertForSequenceClassification.from_pretrained(path).to(device)\n",
        "    return tokenizer, model"
      ]
    },
    {
      "cell_type": "code",
      "execution_count": 18,
      "id": "66e4dd17",
      "metadata": {
        "colab": {
          "base_uri": "https://localhost:8080/"
        },
        "id": "66e4dd17",
        "outputId": "454bbf2c-4959-4312-d154-6d880b6d6588"
      },
      "outputs": [
        {
          "name": "stderr",
          "output_type": "stream",
          "text": [
            "Training Epoch 1: 100%|██████████| 4000/4000 [06:40<00:00,  9.98it/s]\n"
          ]
        },
        {
          "name": "stdout",
          "output_type": "stream",
          "text": [
            "Epoch 1; train_loss=0.4011\n"
          ]
        },
        {
          "name": "stderr",
          "output_type": "stream",
          "text": [
            "Validating Epoch 1: 100%|██████████| 1000/1000 [00:22<00:00, 44.56it/s]\n"
          ]
        },
        {
          "name": "stdout",
          "output_type": "stream",
          "text": [
            "Epoch 1; val_loss=0.3164; val_f1=0.6849\n",
            "Saving model with F1=0.6848778002790561 for epoch=1\n"
          ]
        },
        {
          "name": "stderr",
          "output_type": "stream",
          "text": [
            "Training Epoch 2: 100%|██████████| 4000/4000 [06:36<00:00, 10.09it/s]\n"
          ]
        },
        {
          "name": "stdout",
          "output_type": "stream",
          "text": [
            "Epoch 2; train_loss=0.2710\n"
          ]
        },
        {
          "name": "stderr",
          "output_type": "stream",
          "text": [
            "Validating Epoch 2: 100%|██████████| 1000/1000 [00:19<00:00, 51.11it/s]\n"
          ]
        },
        {
          "name": "stdout",
          "output_type": "stream",
          "text": [
            "Epoch 2; val_loss=0.2925; val_f1=0.6593\n"
          ]
        },
        {
          "name": "stderr",
          "output_type": "stream",
          "text": [
            "Training Epoch 3: 100%|██████████| 4000/4000 [06:05<00:00, 10.95it/s]\n"
          ]
        },
        {
          "name": "stdout",
          "output_type": "stream",
          "text": [
            "Epoch 3; train_loss=0.2118\n"
          ]
        },
        {
          "name": "stderr",
          "output_type": "stream",
          "text": [
            "Validating Epoch 3: 100%|██████████| 1000/1000 [00:19<00:00, 50.99it/s]\n"
          ]
        },
        {
          "name": "stdout",
          "output_type": "stream",
          "text": [
            "Epoch 3; val_loss=0.3108; val_f1=0.6729\n"
          ]
        },
        {
          "name": "stderr",
          "output_type": "stream",
          "text": [
            "Training Epoch 4: 100%|██████████| 4000/4000 [06:05<00:00, 10.94it/s]\n"
          ]
        },
        {
          "name": "stdout",
          "output_type": "stream",
          "text": [
            "Epoch 4; train_loss=0.1650\n"
          ]
        },
        {
          "name": "stderr",
          "output_type": "stream",
          "text": [
            "Validating Epoch 4: 100%|██████████| 1000/1000 [00:21<00:00, 45.93it/s]\n"
          ]
        },
        {
          "name": "stdout",
          "output_type": "stream",
          "text": [
            "Epoch 4; val_loss=0.3863; val_f1=0.7161\n",
            "Saving model with F1=0.716131179212883 for epoch=4\n"
          ]
        },
        {
          "name": "stderr",
          "output_type": "stream",
          "text": [
            "Training Epoch 5: 100%|██████████| 4000/4000 [06:31<00:00, 10.21it/s]\n"
          ]
        },
        {
          "name": "stdout",
          "output_type": "stream",
          "text": [
            "Epoch 5; train_loss=0.1369\n"
          ]
        },
        {
          "name": "stderr",
          "output_type": "stream",
          "text": [
            "Validating Epoch 5: 100%|██████████| 1000/1000 [00:19<00:00, 52.33it/s]\n"
          ]
        },
        {
          "name": "stdout",
          "output_type": "stream",
          "text": [
            "Epoch 5; val_loss=0.4364; val_f1=0.7239\n",
            "Saving model with F1=0.7238592710731182 for epoch=5\n"
          ]
        },
        {
          "name": "stderr",
          "output_type": "stream",
          "text": [
            "Training Epoch 6: 100%|██████████| 4000/4000 [06:12<00:00, 10.73it/s]\n"
          ]
        },
        {
          "name": "stdout",
          "output_type": "stream",
          "text": [
            "Epoch 6; train_loss=0.1579\n"
          ]
        },
        {
          "name": "stderr",
          "output_type": "stream",
          "text": [
            "Validating Epoch 6: 100%|██████████| 1000/1000 [00:20<00:00, 48.46it/s]\n"
          ]
        },
        {
          "name": "stdout",
          "output_type": "stream",
          "text": [
            "Epoch 6; val_loss=0.4727; val_f1=0.7184\n"
          ]
        },
        {
          "name": "stderr",
          "output_type": "stream",
          "text": [
            "Training Epoch 7: 100%|██████████| 4000/4000 [06:57<00:00,  9.59it/s]\n"
          ]
        },
        {
          "name": "stdout",
          "output_type": "stream",
          "text": [
            "Epoch 7; train_loss=0.1441\n"
          ]
        },
        {
          "name": "stderr",
          "output_type": "stream",
          "text": [
            "Validating Epoch 7: 100%|██████████| 1000/1000 [00:22<00:00, 45.42it/s]\n"
          ]
        },
        {
          "name": "stdout",
          "output_type": "stream",
          "text": [
            "Epoch 7; val_loss=0.5010; val_f1=0.7215\n"
          ]
        },
        {
          "name": "stderr",
          "output_type": "stream",
          "text": [
            "Training Epoch 8: 100%|██████████| 4000/4000 [06:35<00:00, 10.12it/s]\n"
          ]
        },
        {
          "name": "stdout",
          "output_type": "stream",
          "text": [
            "Epoch 8; train_loss=0.1154\n"
          ]
        },
        {
          "name": "stderr",
          "output_type": "stream",
          "text": [
            "Validating Epoch 8: 100%|██████████| 1000/1000 [00:21<00:00, 47.48it/s]\n"
          ]
        },
        {
          "name": "stdout",
          "output_type": "stream",
          "text": [
            "Epoch 8; val_loss=0.6824; val_f1=0.7308\n",
            "Saving model with F1=0.7307519284349971 for epoch=8\n"
          ]
        },
        {
          "name": "stderr",
          "output_type": "stream",
          "text": [
            "Training Epoch 9: 100%|██████████| 4000/4000 [06:35<00:00, 10.11it/s]\n"
          ]
        },
        {
          "name": "stdout",
          "output_type": "stream",
          "text": [
            "Epoch 9; train_loss=0.0889\n"
          ]
        },
        {
          "name": "stderr",
          "output_type": "stream",
          "text": [
            "Validating Epoch 9: 100%|██████████| 1000/1000 [00:20<00:00, 48.91it/s]\n"
          ]
        },
        {
          "name": "stdout",
          "output_type": "stream",
          "text": [
            "Epoch 9; val_loss=0.6337; val_f1=0.7307\n"
          ]
        },
        {
          "name": "stderr",
          "output_type": "stream",
          "text": [
            "Training Epoch 10: 100%|██████████| 4000/4000 [06:29<00:00, 10.27it/s]\n"
          ]
        },
        {
          "name": "stdout",
          "output_type": "stream",
          "text": [
            "Epoch 10; train_loss=0.0730\n"
          ]
        },
        {
          "name": "stderr",
          "output_type": "stream",
          "text": [
            "Validating Epoch 10: 100%|██████████| 1000/1000 [00:20<00:00, 49.68it/s]\n"
          ]
        },
        {
          "name": "stdout",
          "output_type": "stream",
          "text": [
            "Epoch 10; val_loss=0.7137; val_f1=0.7342\n",
            "Saving model with F1=0.7342290676075167 for epoch=10\n"
          ]
        }
      ],
      "source": [
        "best_so_far = 0\n",
        "\n",
        "for epoch in range(epochs):\n",
        "    train_epoch(epoch)\n",
        "    f1 = val_epoch(epoch)\n",
        "\n",
        "    if f1 > best_so_far:\n",
        "      best_so_far = f1\n",
        "      save_model()\n",
        "      print(f\"Saving model with F1={f1} for epoch={epoch+1}\")"
      ]
    },
    {
      "cell_type": "code",
      "execution_count": 37,
      "id": "uNwmnTBGoeVM",
      "metadata": {
        "id": "uNwmnTBGoeVM"
      },
      "outputs": [],
      "source": [
        "tokenizer, model = load_model()"
      ]
    },
    {
      "cell_type": "markdown",
      "id": "de112865",
      "metadata": {
        "id": "de112865"
      },
      "source": [
        "# Evaluation"
      ]
    },
    {
      "cell_type": "code",
      "execution_count": 38,
      "id": "ed1a4087",
      "metadata": {
        "colab": {
          "base_uri": "https://localhost:8080/"
        },
        "id": "ed1a4087",
        "outputId": "8eefb4f5-fb11-4e96-8d81-37ab0d32cc39"
      },
      "outputs": [
        {
          "name": "stderr",
          "output_type": "stream",
          "text": [
            "                                                              \r"
          ]
        }
      ],
      "source": [
        "model.eval()\n",
        "all_probs, all_labels = [], []\n",
        "macro = 0\n",
        "\n",
        "with torch.no_grad():\n",
        "    for batch in tqdm(val_loader, desc=\"Evaluating\", leave=False):\n",
        "        input_ids = batch[\"input_ids\"].to(device)\n",
        "        attention_mask = batch[\"attention_mask\"].to(device)\n",
        "        labels = batch[\"labels\"].to(device)\n",
        "\n",
        "        with autocast(device):\n",
        "          with torch.no_grad():\n",
        "            logits = model(input_ids=input_ids, attention_mask=attention_mask).logits\n",
        "            probs  = torch.sigmoid(logits)\n",
        "\n",
        "        all_probs.append(probs.cpu().numpy())\n",
        "        all_labels.append(labels.cpu().numpy())\n",
        "\n",
        "probs  = np.vstack(all_probs) # shape (N, 4)\n",
        "all_labels = np.vstack(all_labels) # shape (N, 4)"
      ]
    },
    {
      "cell_type": "code",
      "execution_count": 39,
      "id": "cecacf67",
      "metadata": {
        "colab": {
          "base_uri": "https://localhost:8080/"
        },
        "id": "cecacf67",
        "outputId": "94dd14a5-c31c-40af-9327-5ab417a4d4d0"
      },
      "outputs": [
        {
          "name": "stdout",
          "output_type": "stream",
          "text": [
            "toxic: best_thresh=0.825\n",
            "severe_toxic: best_thresh=0.984\n",
            "obscene: best_thresh=0.875\n",
            "insult: best_thresh=0.314\n"
          ]
        }
      ],
      "source": [
        "# find best threshold for each label\n",
        "thresholds = {}\n",
        "for i, name in enumerate(label_names):\n",
        "    p, r, t = precision_recall_curve(all_labels[:, i], probs[:, i])\n",
        "    f1 = 2*p*r/(p+r+1e-8)\n",
        "    idx = np.nanargmax(f1[:-1])\n",
        "    thresholds[name] = t[idx]\n",
        "    print(f\"{name}: best_thresh={thresholds[name]:.3f}\")"
      ]
    },
    {
      "cell_type": "code",
      "execution_count": 40,
      "id": "16a37edc",
      "metadata": {
        "colab": {
          "base_uri": "https://localhost:8080/"
        },
        "id": "16a37edc",
        "outputId": "a96bb5a2-edcc-40bb-f791-f69daf4ddbaf"
      },
      "outputs": [
        {
          "name": "stdout",
          "output_type": "stream",
          "text": [
            "toxic: 0.8368\n",
            "severe_toxic: 0.5239\n",
            "obscene: 0.8535\n",
            "insult: 0.7701\n",
            "Macro F1: 0.7461\n"
          ]
        }
      ],
      "source": [
        "preds = np.zeros_like(probs, dtype=int)\n",
        "for i, name in enumerate(thresholds):\n",
        "    preds[:, i] = (probs[:, i] >= thresholds[name]).astype(int)\n",
        "    print(f\"{name}: {f1_score(all_labels[:,i], preds[:,i]):.4f}\")\n",
        "\n",
        "print(f\"Macro F1: {np.mean([f1_score(all_labels[:,i], preds[:,i]) for i in range(probs.shape[1])]):.4f}\")"
      ]
    },
    {
      "cell_type": "markdown",
      "id": "d4b3ef45",
      "metadata": {
        "id": "d4b3ef45"
      },
      "source": [
        "# Submission"
      ]
    },
    {
      "cell_type": "code",
      "execution_count": 41,
      "id": "7c731a75",
      "metadata": {
        "id": "7c731a75"
      },
      "outputs": [],
      "source": [
        "class TestDataset(Dataset):\n",
        "    def __init__(self, texts, tokenizer, max_len):\n",
        "        self.texts = texts.reset_index(drop=True)\n",
        "        self.tokenizer = tokenizer\n",
        "        self.max_len = max_len\n",
        "\n",
        "    def __len__(self):\n",
        "        return len(self.texts)\n",
        "\n",
        "    def __getitem__(self, idx):\n",
        "        text = str(self.texts[idx])\n",
        "        inputs = self.tokenizer(\n",
        "            text,\n",
        "            padding=\"max_length\",\n",
        "            truncation=True,\n",
        "            max_length=self.max_len,\n",
        "            return_tensors=\"pt\",\n",
        "        )\n",
        "        return {k: v.squeeze(0) for k, v in inputs.items()}"
      ]
    },
    {
      "cell_type": "code",
      "execution_count": 42,
      "id": "13fc1d02",
      "metadata": {
        "id": "13fc1d02"
      },
      "outputs": [],
      "source": [
        "df_test = pd.read_csv(f\"{root_path}/test_data.csv\")\n",
        "X_submit = prep_df(df_test)\n",
        "\n",
        "test_ds = TestDataset(X_submit, tokenizer, max_len)\n",
        "test_loader = DataLoader(test_ds, batch_size=batch_size, shuffle=False)"
      ]
    },
    {
      "cell_type": "code",
      "execution_count": 47,
      "id": "052187af",
      "metadata": {
        "colab": {
          "base_uri": "https://localhost:8080/"
        },
        "id": "052187af",
        "outputId": "c21bb12a-bfc1-4e76-db4d-d3f54c8fe5bb"
      },
      "outputs": [
        {
          "name": "stderr",
          "output_type": "stream",
          "text": [
            "Predicting: 100%|██████████| 566/566 [00:28<00:00, 19.94it/s]\n"
          ]
        }
      ],
      "source": [
        "model.eval()\n",
        "all_probs = []\n",
        "\n",
        "with torch.no_grad():\n",
        "    for batch in tqdm(test_loader, desc=\"Predicting\"):\n",
        "        logits = model(input_ids=batch[\"input_ids\"].to(device),\n",
        "                       attention_mask=batch[\"attention_mask\"].to(device)).logits\n",
        "        all_probs.append(torch.sigmoid(logits).cpu().numpy())\n",
        "\n",
        "probs = np.vstack(all_probs)\n",
        "\n",
        "th_array = np.array([thresholds[name] for name in thresholds])\n",
        "preds_submit = (probs >= th_array).astype(int)"
      ]
    },
    {
      "cell_type": "code",
      "execution_count": 48,
      "id": "a6073097",
      "metadata": {
        "colab": {
          "base_uri": "https://localhost:8080/",
          "height": 206
        },
        "id": "a6073097",
        "outputId": "6526ffef-e98f-4593-89fd-a5e4981980ac"
      },
      "outputs": [
        {
          "data": {
            "text/html": [
              "<div>\n",
              "<style scoped>\n",
              "    .dataframe tbody tr th:only-of-type {\n",
              "        vertical-align: middle;\n",
              "    }\n",
              "\n",
              "    .dataframe tbody tr th {\n",
              "        vertical-align: top;\n",
              "    }\n",
              "\n",
              "    .dataframe thead th {\n",
              "        text-align: right;\n",
              "    }\n",
              "</style>\n",
              "<table border=\"1\" class=\"dataframe\">\n",
              "  <thead>\n",
              "    <tr style=\"text-align: right;\">\n",
              "      <th></th>\n",
              "      <th>datapointID</th>\n",
              "      <th>answer</th>\n",
              "      <th>subtaskID</th>\n",
              "    </tr>\n",
              "  </thead>\n",
              "  <tbody>\n",
              "    <tr>\n",
              "      <th>0</th>\n",
              "      <td>00091c35fa9d0465</td>\n",
              "      <td>[1, 0, 0, 0]</td>\n",
              "      <td>1</td>\n",
              "    </tr>\n",
              "    <tr>\n",
              "      <th>1</th>\n",
              "      <td>0071940212267fea</td>\n",
              "      <td>[1, 0, 0, 0]</td>\n",
              "      <td>1</td>\n",
              "    </tr>\n",
              "    <tr>\n",
              "      <th>2</th>\n",
              "      <td>0072b9c3697ab8cc</td>\n",
              "      <td>[1, 0, 0, 1]</td>\n",
              "      <td>1</td>\n",
              "    </tr>\n",
              "    <tr>\n",
              "      <th>3</th>\n",
              "      <td>0081b14d79f54b31</td>\n",
              "      <td>[1, 0, 0, 0]</td>\n",
              "      <td>1</td>\n",
              "    </tr>\n",
              "    <tr>\n",
              "      <th>4</th>\n",
              "      <td>00950f0fae33869f</td>\n",
              "      <td>[1, 1, 1, 1]</td>\n",
              "      <td>1</td>\n",
              "    </tr>\n",
              "  </tbody>\n",
              "</table>\n",
              "</div>"
            ],
            "text/plain": [
              "        datapointID        answer  subtaskID\n",
              "0  00091c35fa9d0465  [1, 0, 0, 0]          1\n",
              "1  0071940212267fea  [1, 0, 0, 0]          1\n",
              "2  0072b9c3697ab8cc  [1, 0, 0, 1]          1\n",
              "3  0081b14d79f54b31  [1, 0, 0, 0]          1\n",
              "4  00950f0fae33869f  [1, 1, 1, 1]          1"
            ]
          },
          "execution_count": 48,
          "metadata": {},
          "output_type": "execute_result"
        }
      ],
      "source": [
        "submission = pd.DataFrame({\n",
        "    \"datapointID\": df_test[\"id\"],\n",
        "    \"answer\": preds_submit.tolist(),\n",
        "    \"subtaskID\": 1\n",
        "})\n",
        "\n",
        "submission.head()"
      ]
    },
    {
      "cell_type": "code",
      "execution_count": 49,
      "id": "5d587314",
      "metadata": {
        "id": "5d587314"
      },
      "outputs": [],
      "source": [
        "submission.to_csv(\"submission.csv\", index=False)"
      ]
    }
  ],
  "metadata": {
    "accelerator": "GPU",
    "colab": {
      "gpuType": "T4",
      "provenance": []
    },
    "kernelspec": {
      "display_name": "Python 3",
      "name": "python3"
    },
    "language_info": {
      "codemirror_mode": {
        "name": "ipython",
        "version": 3
      },
      "file_extension": ".py",
      "mimetype": "text/x-python",
      "name": "python",
      "nbconvert_exporter": "python",
      "pygments_lexer": "ipython3",
      "version": "3.13.5"
    }
  },
  "nbformat": 4,
  "nbformat_minor": 5
}
