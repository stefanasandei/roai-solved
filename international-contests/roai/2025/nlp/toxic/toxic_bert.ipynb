{
 "cells": [
  {
   "cell_type": "code",
   "execution_count": 25,
   "id": "cf59b5aa",
   "metadata": {},
   "outputs": [],
   "source": [
    "import pandas as pd\n",
    "import numpy as np\n",
    "from tqdm import tqdm\n",
    "from nltk.stem import WordNetLemmatizer\n",
    "from nltk.corpus import stopwords\n",
    "import nltk\n",
    "import string\n",
    "import re\n",
    "import os\n",
    "\n",
    "from sklearn.model_selection import train_test_split\n",
    "from sklearn.metrics import precision_recall_curve, f1_score\n",
    "\n",
    "import torch\n",
    "import torch.nn as nn\n",
    "import torch.nn.functional as F\n",
    "from torch.utils.data import Dataset, DataLoader\n",
    "from torch.optim import AdamW\n",
    "from torch.optim.lr_scheduler import CosineAnnealingWarmRestarts\n",
    "\n",
    "from transformers import (\n",
    "    BertTokenizerFast,\n",
    "    BertForSequenceClassification,\n",
    ")"
   ]
  },
  {
   "cell_type": "code",
   "execution_count": 26,
   "id": "cc1feb50",
   "metadata": {},
   "outputs": [],
   "source": [
    "seed = 42\n",
    "torch.random.manual_seed(seed)\n",
    "\n",
    "device = \"cuda\" if torch.cuda.is_available() else \"cpu\"\n",
    "\n",
    "batch_size = 4\n",
    "max_len = 128\n",
    "\n",
    "epochs = 1\n",
    "learning_rate = 2e-5\n",
    "\n",
    "root_path = \"/home/stefan/ioai-prep/kits/roai-2025/toxic\""
   ]
  },
  {
   "cell_type": "code",
   "execution_count": 27,
   "id": "afdd045f",
   "metadata": {},
   "outputs": [],
   "source": [
    "nltk.download(\"stopwords\", quiet=True)\n",
    "nltk.download(\"punkt_tab\", quiet=True)\n",
    "nltk.download(\"wordnet\", quiet=True)\n",
    "\n",
    "stop_words = set(stopwords.words(\"english\"))\n",
    "lemmatizer = WordNetLemmatizer()"
   ]
  },
  {
   "cell_type": "markdown",
   "id": "4c7a3d21",
   "metadata": {},
   "source": [
    "# Data preparation"
   ]
  },
  {
   "cell_type": "code",
   "execution_count": null,
   "id": "9f0e9280",
   "metadata": {},
   "outputs": [],
   "source": [
    "class CommentDataset(Dataset):\n",
    "    \"\"\"Torch Dataset for BERT fine-tuning.\"\"\"\n",
    "\n",
    "    def __init__(self, texts, labels, tokenizer: BertTokenizerFast, max_len: int = 128):\n",
    "        self.texts = texts.reset_index(drop=True)\n",
    "        self.labels = labels.reset_index(drop=True)\n",
    "        self.tokenizer = tokenizer\n",
    "        self.max_len = max_len\n",
    "\n",
    "    def __len__(self):\n",
    "        return len(self.texts)\n",
    "\n",
    "    def __getitem__(self, idx):\n",
    "        text = str(self.texts[idx])\n",
    "        inputs = self.tokenizer(\n",
    "            text,\n",
    "            padding=\"max_length\",\n",
    "            truncation=True,\n",
    "            max_length=self.max_len,\n",
    "            return_tensors=\"pt\",\n",
    "        )\n",
    "\n",
    "        item = {key: val.squeeze(0) for key, val in inputs.items()}\n",
    "        item[\"labels\"] = torch.tensor(self.labels.iloc[idx].values.astype(float))\n",
    "        \n",
    "        return item"
   ]
  },
  {
   "cell_type": "code",
   "execution_count": 29,
   "id": "bd3be7c9",
   "metadata": {},
   "outputs": [],
   "source": [
    "def clean_text(text: str):\n",
    "    text = text.lower()\n",
    "\n",
    "    # remove short forms\n",
    "    text = re.sub(r\"what's\", \"what is \", text)\n",
    "    text = re.sub(r\"\\'ve\", \" have \", text)\n",
    "    text = re.sub(r\"n't\", \" not \", text)\n",
    "    text = re.sub(r\"i'm\", \"i am \", text)\n",
    "    text = re.sub(r\"im\", \"i am \", text)\n",
    "    text = re.sub(r\"\\'re\", \" are \", text)\n",
    "    text = re.sub(r\"\\'d\", \" would \", text)\n",
    "    text = re.sub(r\"\\'ll\", \" will \", text)\n",
    "\n",
    "    text = re.sub(r\"http\\S+|www\\S+|https\\S+\", ' WEB ', text) # URLs\n",
    "    text = re.sub(r\"@\\w+|#\\w+\", ' USER ', text) # mentions and hashtags\n",
    "    text = re.sub(r\"<.*?>\", \"\", text)  # HTML tags\n",
    "    text = text.translate(str.maketrans(\"\", \"\", string.punctuation))  # punctuation\n",
    "    text = re.sub(r\"\\d+\", \"\", text)  # numbers\n",
    "    text = re.sub(r\"\\s+\", \" \", text).strip()  # extra whitespace\n",
    "\n",
    "    tokens = nltk.word_tokenize(text)\n",
    "    tokens = [lemmatizer.lemmatize(w) for w in tokens if w not in stop_words]\n",
    "\n",
    "    return ' '.join(tokens)\n",
    "\n",
    "def prep_df(df: pd.DataFrame):\n",
    "    df = df.drop([\"id\"], errors='ignore')\n",
    "\n",
    "    X = df[\"comment_text\"].apply(clean_text)\n",
    "\n",
    "    if \"toxic\" in df.columns:\n",
    "        y = df[['toxic', 'severe_toxic', 'obscene', 'insult']]\n",
    "        return X, y\n",
    "    return X"
   ]
  },
  {
   "cell_type": "code",
   "execution_count": 43,
   "id": "23cb3e55",
   "metadata": {},
   "outputs": [],
   "source": [
    "df = pd.read_csv(f\"{root_path}/train_data.csv\")\n",
    "label_names = [\"toxic\", \"severe_toxic\", \"obscene\", \"insult\"]\n",
    "\n",
    "X, y = prep_df(df)\n",
    "\n",
    "X_train, X_test, y_train, y_test = train_test_split(X, y, test_size=0.2, stratify=y[\"severe_toxic\"], random_state=seed)"
   ]
  },
  {
   "cell_type": "code",
   "execution_count": null,
   "id": "fee095ac",
   "metadata": {},
   "outputs": [
    {
     "name": "stderr",
     "output_type": "stream",
     "text": [
      "Some weights of BertForSequenceClassification were not initialized from the model checkpoint at bert-base-uncased and are newly initialized: ['classifier.bias', 'classifier.weight']\n",
      "You should probably TRAIN this model on a down-stream task to be able to use it for predictions and inference.\n"
     ]
    }
   ],
   "source": [
    "model_name = \"bert-base-uncased\"\n",
    "tokenizer = BertTokenizerFast.from_pretrained(model_name)\n",
    "model = BertForSequenceClassification.from_pretrained(\n",
    "    model_name,\n",
    "    num_labels=len(label_names),\n",
    "    problem_type=\"multi_label_classification\",\n",
    ").to(device)"
   ]
  },
  {
   "cell_type": "code",
   "execution_count": 32,
   "id": "8469d317",
   "metadata": {},
   "outputs": [],
   "source": [
    "train_dataset = CommentDataset(X_train, y_train, tokenizer, max_len)\n",
    "val_dataset = CommentDataset(X_test, y_test, tokenizer, max_len)\n",
    "\n",
    "train_loader = DataLoader(train_dataset, batch_size=batch_size, shuffle=True)\n",
    "val_loader = DataLoader(val_dataset, batch_size=batch_size, shuffle=False)"
   ]
  },
  {
   "cell_type": "code",
   "execution_count": 33,
   "id": "31e30100",
   "metadata": {},
   "outputs": [
    {
     "data": {
      "text/plain": [
       "[{'input_ids': torch.Size([4, 128])},\n",
       " {'token_type_ids': torch.Size([4, 128])},\n",
       " {'attention_mask': torch.Size([4, 128])},\n",
       " {'labels': torch.Size([4, 4])}]"
      ]
     },
     "execution_count": 33,
     "metadata": {},
     "output_type": "execute_result"
    }
   ],
   "source": [
    "# sanity check\n",
    "batch = next(iter(train_loader))\n",
    "[{k:batch[k].shape} for k in batch.keys()]"
   ]
  },
  {
   "cell_type": "markdown",
   "id": "2becda1f",
   "metadata": {},
   "source": [
    "# Finetuning"
   ]
  },
  {
   "cell_type": "code",
   "execution_count": 34,
   "id": "7f2a0949",
   "metadata": {},
   "outputs": [],
   "source": [
    "optimizer = AdamW(model.parameters(), lr=learning_rate)\n",
    "scheduler = CosineAnnealingWarmRestarts(optimizer=optimizer, eta_min=1e-6, T_0=5)"
   ]
  },
  {
   "cell_type": "code",
   "execution_count": null,
   "id": "749c5073",
   "metadata": {},
   "outputs": [],
   "source": [
    "def train_epoch(epoch: int):\n",
    "    model.train()\n",
    "    running_loss = 0.0\n",
    "    \n",
    "    for batch in tqdm(train_loader, desc=f\"Training Epoch {epoch+1}\"):\n",
    "        input_ids = batch[\"input_ids\"].to(device)\n",
    "        attention_mask = batch[\"attention_mask\"].to(device)\n",
    "        labels = batch[\"labels\"].to(device)\n",
    "\n",
    "        # forward pass\n",
    "        outputs = model(input_ids=input_ids, attention_mask=attention_mask, labels=labels)\n",
    "        loss = outputs.loss\n",
    "\n",
    "        # backward pass\n",
    "        optimizer.zero_grad()\n",
    "        loss.backward()\n",
    "        optimizer.step()\n",
    "\n",
    "        # stats        \n",
    "        running_loss += loss.item()\n",
    "    scheduler.step()\n",
    "    \n",
    "    avg_loss = running_loss / len(train_loader)\n",
    "    print(f\"Epoch {epoch+1}; train_loss={avg_loss:.4f}\")"
   ]
  },
  {
   "cell_type": "code",
   "execution_count": null,
   "id": "a456d211",
   "metadata": {},
   "outputs": [],
   "source": [
    "def val_epoch(epoch: int):\n",
    "    model.eval()\n",
    "    running_loss = 0.0\n",
    "    preds, true_labels = [], []\n",
    "    \n",
    "    for batch in tqdm(val_loader, desc=f\"Validating Epoch {epoch+1}\"):\n",
    "        input_ids = batch[\"input_ids\"].to(device)\n",
    "        attention_mask = batch[\"attention_mask\"].to(device)\n",
    "        labels = batch[\"labels\"].to(device)\n",
    "\n",
    "        with torch.no_grad():\n",
    "            outputs = model(input_ids=input_ids,\n",
    "                            attention_mask=attention_mask,\n",
    "                            labels=labels)\n",
    "        running_loss += outputs.loss.item()\n",
    "\n",
    "        preds.append(outputs.logits.cpu())\n",
    "        true_labels.append(labels.cpu())\n",
    "\n",
    "    # prepare data    \n",
    "    preds = F.sigmoid(torch.cat(preds, dim=0)).cpu().numpy()\n",
    "    preds_binary = (preds > 0.5).astype(int)\n",
    "    \n",
    "    # compute f1 score\n",
    "    true_labels = np.concatenate(true_labels, axis=0)\n",
    "    f1 = f1_score(true_labels, preds_binary, average=\"macro\")\n",
    "\n",
    "    avg_loss = running_loss / len(val_loader)\n",
    "    print(f\"Epoch {epoch+1}; val_loss={avg_loss:.4f}; val_f1={f1:.4f}\")"
   ]
  },
  {
   "cell_type": "code",
   "execution_count": null,
   "id": "66e4dd17",
   "metadata": {},
   "outputs": [
    {
     "name": "stderr",
     "output_type": "stream",
     "text": [
      "                                                                   "
     ]
    },
    {
     "name": "stdout",
     "output_type": "stream",
     "text": [
      "Epoch 1; val_loss=0.1218; val_f1=0.5716\n"
     ]
    },
    {
     "name": "stderr",
     "output_type": "stream",
     "text": [
      "\r"
     ]
    }
   ],
   "source": [
    "for epoch in range(epochs):\n",
    "    train_epoch(epoch)\n",
    "    val_epoch(epoch)"
   ]
  },
  {
   "cell_type": "code",
   "execution_count": null,
   "id": "13add0e1",
   "metadata": {},
   "outputs": [
    {
     "name": "stdout",
     "output_type": "stream",
     "text": [
      "Saving model to ./bert-toxic-finetuned…\n"
     ]
    },
    {
     "data": {
      "text/plain": [
       "('./bert-toxic-finetuned/tokenizer_config.json',\n",
       " './bert-toxic-finetuned/special_tokens_map.json',\n",
       " './bert-toxic-finetuned/vocab.txt',\n",
       " './bert-toxic-finetuned/added_tokens.json',\n",
       " './bert-toxic-finetuned/tokenizer.json')"
      ]
     },
     "execution_count": 38,
     "metadata": {},
     "output_type": "execute_result"
    }
   ],
   "source": [
    "# save Model\n",
    "output_dir = \"./bert-toxic-finetuned\"\n",
    "os.makedirs(output_dir, exist_ok=True)\n",
    "print(f\"Saving model to {output_dir}…\")\n",
    "model.save_pretrained(output_dir)\n",
    "tokenizer.save_pretrained(output_dir)"
   ]
  },
  {
   "cell_type": "markdown",
   "id": "de112865",
   "metadata": {},
   "source": [
    "# Evaluation"
   ]
  },
  {
   "cell_type": "code",
   "execution_count": 53,
   "id": "ed1a4087",
   "metadata": {},
   "outputs": [
    {
     "name": "stderr",
     "output_type": "stream",
     "text": [
      "                                                           \r"
     ]
    }
   ],
   "source": [
    "model.eval()\n",
    "all_probs, all_labels = [], []\n",
    "macro = 0\n",
    "\n",
    "with torch.no_grad():\n",
    "    for batch in tqdm(val_loader, desc=\"Evaluating\", leave=False):\n",
    "        input_ids = batch[\"input_ids\"].to(device)\n",
    "        attention_mask = batch[\"attention_mask\"].to(device)\n",
    "        labels = batch[\"labels\"].to(device)\n",
    "\n",
    "        logits = model(input_ids=input_ids, attention_mask=attention_mask).logits\n",
    "        probs  = torch.sigmoid(logits)\n",
    "\n",
    "        all_probs.append(probs.cpu().numpy())\n",
    "        all_labels.append(labels.cpu().numpy())\n",
    "\n",
    "probs  = np.vstack(all_probs) # shape (N, 4)\n",
    "all_labels = np.vstack(all_labels) # shape (N, 4)"
   ]
  },
  {
   "cell_type": "code",
   "execution_count": 54,
   "id": "cecacf67",
   "metadata": {},
   "outputs": [
    {
     "name": "stdout",
     "output_type": "stream",
     "text": [
      "toxic: best_thresh=0.802\n",
      "severe_toxic: best_thresh=0.429\n",
      "obscene: best_thresh=0.816\n",
      "insult: best_thresh=0.755\n"
     ]
    }
   ],
   "source": [
    "# find best threshold for each label\n",
    "thresholds = {}\n",
    "for i, name in enumerate(label_names):\n",
    "    p, r, t = precision_recall_curve(all_labels[:, i], probs[:, i])\n",
    "    f1 = 2*p*r/(p+r+1e-8)\n",
    "    idx = np.nanargmax(f1[:-1])\n",
    "    thresholds[name] = t[idx]\n",
    "    print(f\"{name}: best_thresh={thresholds[name]:.3f}\")"
   ]
  },
  {
   "cell_type": "code",
   "execution_count": 55,
   "id": "16a37edc",
   "metadata": {},
   "outputs": [
    {
     "name": "stdout",
     "output_type": "stream",
     "text": [
      "toxic: 0.8000\n",
      "severe_toxic: 0.5000\n",
      "obscene: 0.8571\n",
      "insult: 0.7586\n",
      "Macro F1: 0.7289\n"
     ]
    }
   ],
   "source": [
    "preds = np.zeros_like(probs, dtype=int)\n",
    "for i, name in enumerate(thresholds):\n",
    "    preds[:, i] = (probs[:, i] >= thresholds[name]).astype(int)\n",
    "    print(f\"{name}: {f1_score(all_labels[:,i], preds[:,i]):.4f}\")\n",
    "\n",
    "print(f\"Macro F1: {np.mean([f1_score(all_labels[:,i], preds[:,i]) for i in range(probs.shape[1])]):.4f}\")"
   ]
  },
  {
   "cell_type": "markdown",
   "id": "d4b3ef45",
   "metadata": {},
   "source": [
    "# Submission"
   ]
  },
  {
   "cell_type": "code",
   "execution_count": 56,
   "id": "7c731a75",
   "metadata": {},
   "outputs": [],
   "source": [
    "class TestDataset(Dataset):\n",
    "    def __init__(self, texts, tokenizer, max_len):\n",
    "        self.texts = texts.reset_index(drop=True)\n",
    "        self.tokenizer = tokenizer\n",
    "        self.max_len = max_len\n",
    "\n",
    "    def __len__(self):\n",
    "        return len(self.texts)\n",
    "\n",
    "    def __getitem__(self, idx):\n",
    "        text = str(self.texts[idx])\n",
    "        inputs = self.tokenizer(\n",
    "            text,\n",
    "            padding=\"max_length\",\n",
    "            truncation=True,\n",
    "            max_length=self.max_len,\n",
    "            return_tensors=\"pt\",\n",
    "        )\n",
    "        return {k: v.squeeze(0) for k, v in inputs.items()}"
   ]
  },
  {
   "cell_type": "code",
   "execution_count": 57,
   "id": "13fc1d02",
   "metadata": {},
   "outputs": [],
   "source": [
    "df_test = pd.read_csv(f\"{root_path}/test_data.csv\")\n",
    "X_submit = prep_df(df_test)\n",
    "\n",
    "test_ds = TestDataset(X_submit, tokenizer, max_len)\n",
    "test_loader = DataLoader(test_ds, batch_size=batch_size, shuffle=False)"
   ]
  },
  {
   "cell_type": "code",
   "execution_count": 58,
   "id": "052187af",
   "metadata": {},
   "outputs": [
    {
     "name": "stderr",
     "output_type": "stream",
     "text": [
      "Predicting: 100%|██████████| 1131/1131 [00:27<00:00, 41.19it/s]\n"
     ]
    }
   ],
   "source": [
    "model.eval()\n",
    "all_probs = []\n",
    "\n",
    "with torch.no_grad():\n",
    "    for batch in tqdm(test_loader, desc=\"Predicting\"):\n",
    "        logits = model(input_ids=batch[\"input_ids\"].to(device),\n",
    "                       attention_mask=batch[\"attention_mask\"].to(device)).logits\n",
    "        all_probs.append(torch.sigmoid(logits).cpu().numpy())\n",
    "\n",
    "probs = np.vstack(all_probs)\n",
    "\n",
    "th_array = np.array([thresholds[name] for name in thresholds])\n",
    "preds_submit = (probs >= th_array).astype(int)"
   ]
  },
  {
   "cell_type": "code",
   "execution_count": 59,
   "id": "a6073097",
   "metadata": {},
   "outputs": [
    {
     "data": {
      "text/html": [
       "<div>\n",
       "<style scoped>\n",
       "    .dataframe tbody tr th:only-of-type {\n",
       "        vertical-align: middle;\n",
       "    }\n",
       "\n",
       "    .dataframe tbody tr th {\n",
       "        vertical-align: top;\n",
       "    }\n",
       "\n",
       "    .dataframe thead th {\n",
       "        text-align: right;\n",
       "    }\n",
       "</style>\n",
       "<table border=\"1\" class=\"dataframe\">\n",
       "  <thead>\n",
       "    <tr style=\"text-align: right;\">\n",
       "      <th></th>\n",
       "      <th>datapointID</th>\n",
       "      <th>answer</th>\n",
       "      <th>subtaskID</th>\n",
       "    </tr>\n",
       "  </thead>\n",
       "  <tbody>\n",
       "    <tr>\n",
       "      <th>0</th>\n",
       "      <td>00091c35fa9d0465</td>\n",
       "      <td>[1, 0, 0, 0]</td>\n",
       "      <td>1</td>\n",
       "    </tr>\n",
       "    <tr>\n",
       "      <th>1</th>\n",
       "      <td>0071940212267fea</td>\n",
       "      <td>[1, 0, 0, 0]</td>\n",
       "      <td>1</td>\n",
       "    </tr>\n",
       "    <tr>\n",
       "      <th>2</th>\n",
       "      <td>0072b9c3697ab8cc</td>\n",
       "      <td>[1, 0, 0, 0]</td>\n",
       "      <td>1</td>\n",
       "    </tr>\n",
       "    <tr>\n",
       "      <th>3</th>\n",
       "      <td>0081b14d79f54b31</td>\n",
       "      <td>[1, 0, 0, 1]</td>\n",
       "      <td>1</td>\n",
       "    </tr>\n",
       "    <tr>\n",
       "      <th>4</th>\n",
       "      <td>00950f0fae33869f</td>\n",
       "      <td>[1, 0, 1, 1]</td>\n",
       "      <td>1</td>\n",
       "    </tr>\n",
       "  </tbody>\n",
       "</table>\n",
       "</div>"
      ],
      "text/plain": [
       "        datapointID        answer  subtaskID\n",
       "0  00091c35fa9d0465  [1, 0, 0, 0]          1\n",
       "1  0071940212267fea  [1, 0, 0, 0]          1\n",
       "2  0072b9c3697ab8cc  [1, 0, 0, 0]          1\n",
       "3  0081b14d79f54b31  [1, 0, 0, 1]          1\n",
       "4  00950f0fae33869f  [1, 0, 1, 1]          1"
      ]
     },
     "execution_count": 59,
     "metadata": {},
     "output_type": "execute_result"
    }
   ],
   "source": [
    "submission = pd.DataFrame({\n",
    "    \"datapointID\": df_test[\"id\"],\n",
    "    \"answer\": preds_submit.tolist(),\n",
    "    \"subtaskID\": 1\n",
    "})\n",
    "\n",
    "submission.head()"
   ]
  },
  {
   "cell_type": "code",
   "execution_count": 60,
   "id": "5d587314",
   "metadata": {},
   "outputs": [],
   "source": [
    "submission.to_csv(\"submission.csv\", index=False)"
   ]
  }
 ],
 "metadata": {
  "kernelspec": {
   "display_name": "Python 3",
   "language": "python",
   "name": "python3"
  },
  "language_info": {
   "codemirror_mode": {
    "name": "ipython",
    "version": 3
   },
   "file_extension": ".py",
   "mimetype": "text/x-python",
   "name": "python",
   "nbconvert_exporter": "python",
   "pygments_lexer": "ipython3",
   "version": "3.13.5"
  }
 },
 "nbformat": 4,
 "nbformat_minor": 5
}
