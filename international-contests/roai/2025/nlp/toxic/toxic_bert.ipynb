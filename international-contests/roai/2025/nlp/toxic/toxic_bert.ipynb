{
  "cells": [
    {
      "cell_type": "code",
      "execution_count": 1,
      "id": "cf59b5aa",
      "metadata": {
        "id": "cf59b5aa"
      },
      "outputs": [],
      "source": [
        "import pandas as pd\n",
        "import numpy as np\n",
        "from tqdm import tqdm\n",
        "from nltk.stem import WordNetLemmatizer\n",
        "from nltk.corpus import stopwords\n",
        "import nltk\n",
        "import string\n",
        "import re\n",
        "import os\n",
        "\n",
        "from sklearn.model_selection import train_test_split\n",
        "from sklearn.metrics import precision_recall_curve, f1_score\n",
        "\n",
        "import torch\n",
        "import torch.nn as nn\n",
        "import torch.nn.functional as F\n",
        "from torch.utils.data import Dataset, DataLoader\n",
        "from torch.optim import AdamW\n",
        "from torch.optim.lr_scheduler import CosineAnnealingLR\n",
        "from torch.amp import autocast, GradScaler\n",
        "\n",
        "from transformers.modeling_outputs import SequenceClassifierOutput\n",
        "from transformers import (\n",
        "    AutoConfig,\n",
        "    BertTokenizerFast,\n",
        "    BertForSequenceClassification,\n",
        ")"
      ]
    },
    {
      "cell_type": "code",
      "execution_count": 2,
      "id": "cc1feb50",
      "metadata": {
        "id": "cc1feb50"
      },
      "outputs": [],
      "source": [
        "seed = 42\n",
        "torch.random.manual_seed(seed)\n",
        "\n",
        "device = \"cuda\" if torch.cuda.is_available() else \"cpu\"\n",
        "\n",
        "batch_size = 32\n",
        "max_len = 128\n",
        "\n",
        "epochs = 8\n",
        "learning_rate = 2e-5\n",
        "\n",
        "root_path = \"./toxic\""
      ]
    },
    {
      "cell_type": "code",
      "execution_count": 3,
      "id": "afdd045f",
      "metadata": {
        "id": "afdd045f"
      },
      "outputs": [],
      "source": [
        "nltk.download(\"stopwords\", quiet=True)\n",
        "nltk.download(\"punkt_tab\", quiet=True)\n",
        "nltk.download(\"wordnet\", quiet=True)\n",
        "\n",
        "stop_words = set(stopwords.words(\"english\"))\n",
        "lemmatizer = WordNetLemmatizer()"
      ]
    },
    {
      "cell_type": "markdown",
      "id": "4c7a3d21",
      "metadata": {
        "id": "4c7a3d21"
      },
      "source": [
        "# Data preparation"
      ]
    },
    {
      "cell_type": "code",
      "execution_count": 4,
      "id": "9f0e9280",
      "metadata": {
        "id": "9f0e9280"
      },
      "outputs": [],
      "source": [
        "class CommentDataset(Dataset):\n",
        "    \"\"\"Torch Dataset for BERT fine-tuning.\"\"\"\n",
        "\n",
        "    def __init__(self, texts, labels, tokenizer: BertTokenizerFast, max_len: int = 128):\n",
        "        self.texts = texts.reset_index(drop=True)\n",
        "        self.labels = labels.reset_index(drop=True)\n",
        "        self.tokenizer = tokenizer\n",
        "        self.max_len = max_len\n",
        "\n",
        "    def __len__(self):\n",
        "        return len(self.texts)\n",
        "\n",
        "    def __getitem__(self, idx):\n",
        "        text = str(self.texts[idx])\n",
        "        inputs = self.tokenizer(\n",
        "            text,\n",
        "            padding=\"max_length\",\n",
        "            truncation=True,\n",
        "            max_length=self.max_len,\n",
        "            return_tensors=\"pt\",\n",
        "        )\n",
        "\n",
        "        item = {key: val.squeeze(0) for key, val in inputs.items()}\n",
        "        item[\"labels\"] = torch.tensor(self.labels.iloc[idx].values.astype(float))\n",
        "\n",
        "        return item"
      ]
    },
    {
      "cell_type": "code",
      "execution_count": 5,
      "id": "bd3be7c9",
      "metadata": {
        "id": "bd3be7c9"
      },
      "outputs": [],
      "source": [
        "def clean_text(text: str):\n",
        "    text = text.lower()\n",
        "\n",
        "    # remove short forms\n",
        "    text = re.sub(r\"what's\", \"what is \", text)\n",
        "    text = re.sub(r\"\\'ve\", \" have \", text)\n",
        "    text = re.sub(r\"n't\", \" not \", text)\n",
        "    text = re.sub(r\"i'm\", \"i am \", text)\n",
        "    text = re.sub(r\"im\", \"i am \", text)\n",
        "    text = re.sub(r\"\\'re\", \" are \", text)\n",
        "    text = re.sub(r\"\\'d\", \" would \", text)\n",
        "    text = re.sub(r\"\\'ll\", \" will \", text)\n",
        "\n",
        "    text = re.sub(r\"http\\S+|www\\S+|https\\S+\", ' WEB ', text) # URLs\n",
        "    text = re.sub(r\"@\\w+|#\\w+\", ' USER ', text) # mentions and hashtags\n",
        "    text = re.sub(r\"<.*?>\", \"\", text)  # HTML tags\n",
        "    text = text.translate(str.maketrans(\"\", \"\", string.punctuation))  # punctuation\n",
        "    text = re.sub(r\"\\d+\", \"\", text)  # numbers\n",
        "    text = re.sub(r\"\\s+\", \" \", text).strip()  # extra whitespace\n",
        "\n",
        "    tokens = nltk.word_tokenize(text)\n",
        "    tokens = [lemmatizer.lemmatize(w) for w in tokens if w not in stop_words]\n",
        "\n",
        "    return ' '.join(tokens)\n",
        "\n",
        "def prep_df(df: pd.DataFrame):\n",
        "    df = df.drop([\"id\"], errors='ignore')\n",
        "\n",
        "    X = df[\"comment_text\"].apply(clean_text)\n",
        "\n",
        "    if \"toxic\" in df.columns:\n",
        "        y = df[['toxic', 'severe_toxic', 'obscene', 'insult']]\n",
        "        return X, y\n",
        "    return X"
      ]
    },
    {
      "cell_type": "code",
      "execution_count": 6,
      "id": "23cb3e55",
      "metadata": {
        "id": "23cb3e55"
      },
      "outputs": [],
      "source": [
        "df = pd.read_csv(f\"{root_path}/train_data.csv\")\n",
        "label_names = [\"toxic\", \"severe_toxic\", \"obscene\", \"insult\"]\n",
        "\n",
        "X, y = prep_df(df)\n",
        "\n",
        "X_train, X_test, y_train, y_test = train_test_split(X, y, test_size=0.2, stratify=y[\"severe_toxic\"], random_state=seed)"
      ]
    },
    {
      "cell_type": "code",
      "source": [
        "lengths = X.map(lambda x: len(x))\n",
        "\n",
        "lengths.mean(), lengths.std()"
      ],
      "metadata": {
        "colab": {
          "base_uri": "https://localhost:8080/"
        },
        "id": "qKMfqzodJ5ET",
        "outputId": "31eafe8e-6041-48d7-b152-15e012011f4f"
      },
      "id": "qKMfqzodJ5ET",
      "execution_count": 7,
      "outputs": [
        {
          "output_type": "execute_result",
          "data": {
            "text/plain": [
              "(np.float64(234.6633), 386.8861656298133)"
            ]
          },
          "metadata": {},
          "execution_count": 7
        }
      ]
    },
    {
      "cell_type": "code",
      "execution_count": 8,
      "id": "fee095ac",
      "metadata": {
        "id": "fee095ac"
      },
      "outputs": [],
      "source": [
        "model_name = \"bert-base-uncased\"\n",
        "tokenizer = BertTokenizerFast.from_pretrained(model_name)"
      ]
    },
    {
      "cell_type": "code",
      "execution_count": 9,
      "id": "8469d317",
      "metadata": {
        "id": "8469d317"
      },
      "outputs": [],
      "source": [
        "train_dataset = CommentDataset(X_train, y_train, tokenizer, max_len)\n",
        "val_dataset = CommentDataset(X_test, y_test, tokenizer, max_len)\n",
        "\n",
        "train_loader = DataLoader(train_dataset, batch_size=batch_size, shuffle=True)\n",
        "val_loader = DataLoader(val_dataset, batch_size=batch_size, shuffle=False)"
      ]
    },
    {
      "cell_type": "code",
      "execution_count": 10,
      "id": "31e30100",
      "metadata": {
        "colab": {
          "base_uri": "https://localhost:8080/"
        },
        "id": "31e30100",
        "outputId": "0f2b3290-89f6-4959-8c30-2984284d04e7"
      },
      "outputs": [
        {
          "output_type": "execute_result",
          "data": {
            "text/plain": [
              "[{'input_ids': torch.Size([32, 128])},\n",
              " {'token_type_ids': torch.Size([32, 128])},\n",
              " {'attention_mask': torch.Size([32, 128])},\n",
              " {'labels': torch.Size([32, 4])}]"
            ]
          },
          "metadata": {},
          "execution_count": 10
        }
      ],
      "source": [
        "# sanity check\n",
        "batch = next(iter(train_loader))\n",
        "[{k:batch[k].shape} for k in batch.keys()]"
      ]
    },
    {
      "cell_type": "markdown",
      "id": "61417947",
      "metadata": {
        "id": "61417947"
      },
      "source": [
        "# Model"
      ]
    },
    {
      "cell_type": "code",
      "execution_count": 11,
      "id": "fcfdedde",
      "metadata": {
        "id": "fcfdedde"
      },
      "outputs": [],
      "source": [
        "class WeightedBertForMultiLabelClassification(BertForSequenceClassification):\n",
        "    def __init__(self, config, pos_weight=None):\n",
        "        super().__init__(config)\n",
        "        if pos_weight is not None:\n",
        "            self.loss_fct = nn.BCEWithLogitsLoss(pos_weight=pos_weight)\n",
        "        else:\n",
        "            self.loss_fct = nn.BCEWithLogitsLoss()\n",
        "\n",
        "    def forward(self, input_ids=None, attention_mask=None, labels=None, **kwargs):\n",
        "        outputs = self.bert(\n",
        "            input_ids=input_ids, attention_mask=attention_mask, **kwargs\n",
        "        )\n",
        "        pooled_output = self.dropout(outputs.pooler_output)\n",
        "        logits = self.classifier(pooled_output)\n",
        "\n",
        "        loss = None\n",
        "        if labels is not None:\n",
        "            loss = self.loss_fct(logits, labels.float())\n",
        "\n",
        "        return SequenceClassifierOutput(\n",
        "            loss=loss,\n",
        "            logits=logits,\n",
        "            hidden_states=outputs.hidden_states,\n",
        "            attentions=outputs.attentions,\n",
        "        )"
      ]
    },
    {
      "cell_type": "code",
      "source": [
        "def compute_pos_weights(y, label_names, device='cpu'):\n",
        "    total_samples = len(y)\n",
        "    pos_counts = [y[label].sum() for label in label_names]\n",
        "    pos_weights = [(total_samples - p) / p for p in pos_counts]\n",
        "    return torch.tensor(pos_weights, dtype=torch.float32, device=device)\n",
        "\n",
        "pos_weight = compute_pos_weights(y, label_names, device=device)\n",
        "\n",
        "[len(y[y[l] == 1]) for l in label_names], label_names"
      ],
      "metadata": {
        "colab": {
          "base_uri": "https://localhost:8080/"
        },
        "id": "o2IwPAAMIGtA",
        "outputId": "39ff519e-4d64-4244-ed82-c09b26e35cb0"
      },
      "id": "o2IwPAAMIGtA",
      "execution_count": 12,
      "outputs": [
        {
          "output_type": "execute_result",
          "data": {
            "text/plain": [
              "([7884, 825, 4355, 4077], ['toxic', 'severe_toxic', 'obscene', 'insult'])"
            ]
          },
          "metadata": {},
          "execution_count": 12
        }
      ]
    },
    {
      "cell_type": "code",
      "execution_count": 13,
      "id": "bfddd8da",
      "metadata": {
        "colab": {
          "base_uri": "https://localhost:8080/"
        },
        "id": "bfddd8da",
        "outputId": "a7b5ee30-e940-4c0c-a59d-c61edbf7bbe0"
      },
      "outputs": [
        {
          "output_type": "stream",
          "name": "stderr",
          "text": [
            "Some weights of WeightedBertForMultiLabelClassification were not initialized from the model checkpoint at bert-base-uncased and are newly initialized: ['classifier.bias', 'classifier.weight', 'loss_fct.pos_weight']\n",
            "You should probably TRAIN this model on a down-stream task to be able to use it for predictions and inference.\n"
          ]
        }
      ],
      "source": [
        "config = AutoConfig.from_pretrained(\n",
        "    model_name, num_labels=len(label_names), problem_type=\"multi_label_classification\"\n",
        ")\n",
        "\n",
        "model = WeightedBertForMultiLabelClassification.from_pretrained(\n",
        "    model_name, config=config, pos_weight=pos_weight\n",
        ").to(device)"
      ]
    },
    {
      "cell_type": "markdown",
      "id": "2becda1f",
      "metadata": {
        "id": "2becda1f"
      },
      "source": [
        "# Finetuning"
      ]
    },
    {
      "cell_type": "code",
      "execution_count": 14,
      "id": "7f2a0949",
      "metadata": {
        "id": "7f2a0949"
      },
      "outputs": [],
      "source": [
        "scaler = GradScaler(device)\n",
        "optimizer = AdamW(model.parameters(), lr=learning_rate)\n",
        "scheduler = CosineAnnealingLR(optimizer=optimizer, T_max=epochs, eta_min=1e-6)"
      ]
    },
    {
      "cell_type": "code",
      "execution_count": 15,
      "id": "749c5073",
      "metadata": {
        "id": "749c5073"
      },
      "outputs": [],
      "source": [
        "def train_epoch(epoch: int):\n",
        "    model.train()\n",
        "    running_loss = 0.0\n",
        "\n",
        "    for batch in tqdm(train_loader, desc=f\"Training Epoch {epoch+1}\"):\n",
        "        input_ids = batch[\"input_ids\"].to(device)\n",
        "        attention_mask = batch[\"attention_mask\"].to(device)\n",
        "        labels = batch[\"labels\"].to(device)\n",
        "\n",
        "        optimizer.zero_grad()\n",
        "\n",
        "        # forward pass\n",
        "        with autocast(device):\n",
        "            outputs = model(input_ids=input_ids, attention_mask=attention_mask, labels=labels)\n",
        "            loss = outputs.loss\n",
        "\n",
        "        # backward pass\n",
        "        scaler.scale(loss).backward()\n",
        "        scaler.step(optimizer)\n",
        "        scaler.update()\n",
        "\n",
        "        # stats\n",
        "        running_loss += loss.item()\n",
        "    scheduler.step()\n",
        "\n",
        "    avg_loss = running_loss / len(train_loader)\n",
        "    print(f\"Epoch {epoch+1}; train_loss={avg_loss:.4f}\")"
      ]
    },
    {
      "cell_type": "code",
      "execution_count": 16,
      "id": "a456d211",
      "metadata": {
        "id": "a456d211"
      },
      "outputs": [],
      "source": [
        "def val_epoch(epoch: int):\n",
        "    model.eval()\n",
        "    running_loss = 0.0\n",
        "    preds, true_labels = [], []\n",
        "\n",
        "    for batch in tqdm(val_loader, desc=f\"Validating Epoch {epoch+1}\"):\n",
        "        input_ids = batch[\"input_ids\"].to(device)\n",
        "        attention_mask = batch[\"attention_mask\"].to(device)\n",
        "        labels = batch[\"labels\"].to(device)\n",
        "\n",
        "        with autocast(device):\n",
        "          with torch.no_grad():\n",
        "              outputs = model(input_ids=input_ids,\n",
        "                              attention_mask=attention_mask,\n",
        "                              labels=labels)\n",
        "        running_loss += outputs.loss.item()\n",
        "\n",
        "        preds.append(outputs.logits.cpu())\n",
        "        true_labels.append(labels.cpu())\n",
        "\n",
        "    # prepare data\n",
        "    preds = F.sigmoid(torch.cat(preds, dim=0)).cpu().numpy()\n",
        "    preds_binary = (preds > 0.5).astype(int)\n",
        "\n",
        "    # compute f1 score\n",
        "    true_labels = np.concatenate(true_labels, axis=0)\n",
        "    f1 = f1_score(true_labels, preds_binary, average=\"macro\")\n",
        "\n",
        "    avg_loss = running_loss / len(val_loader)\n",
        "    print(f\"Epoch {epoch+1}; val_loss={avg_loss:.4f}; val_f1={f1:.4f}\")\n",
        "    return f1"
      ]
    },
    {
      "cell_type": "code",
      "source": [
        "def save_model():\n",
        "  output_dir = \"./bert-finetuned\"\n",
        "  os.makedirs(output_dir, exist_ok=True)\n",
        "  model.save_pretrained(output_dir)\n",
        "  tokenizer.save_pretrained(output_dir)\n",
        "\n",
        "def load_model(path=\"./bert-finetuned\", device=\"cuda\" if torch.cuda.is_available() else \"cpu\"):\n",
        "    tokenizer = BertTokenizerFast.from_pretrained(path)\n",
        "    model = BertForSequenceClassification.from_pretrained(path).to(device)\n",
        "    return tokenizer, model"
      ],
      "metadata": {
        "id": "Vj_a3_rlYGmY"
      },
      "id": "Vj_a3_rlYGmY",
      "execution_count": 24,
      "outputs": []
    },
    {
      "cell_type": "code",
      "execution_count": 18,
      "id": "66e4dd17",
      "metadata": {
        "colab": {
          "base_uri": "https://localhost:8080/"
        },
        "id": "66e4dd17",
        "outputId": "454bbf2c-4959-4312-d154-6d880b6d6588"
      },
      "outputs": [
        {
          "output_type": "stream",
          "name": "stderr",
          "text": [
            "Training Epoch 1: 100%|██████████| 1000/1000 [03:27<00:00,  4.83it/s]\n"
          ]
        },
        {
          "output_type": "stream",
          "name": "stdout",
          "text": [
            "Epoch 1; train_loss=0.4128\n"
          ]
        },
        {
          "output_type": "stream",
          "name": "stderr",
          "text": [
            "Validating Epoch 1: 100%|██████████| 250/250 [00:15<00:00, 16.28it/s]\n"
          ]
        },
        {
          "output_type": "stream",
          "name": "stdout",
          "text": [
            "Epoch 1; val_loss=0.3074; val_f1=0.6446\n",
            "Saving model with F1=0.644602105964593 for epoch=0\n"
          ]
        },
        {
          "output_type": "stream",
          "name": "stderr",
          "text": [
            "Training Epoch 2: 100%|██████████| 1000/1000 [03:26<00:00,  4.85it/s]\n"
          ]
        },
        {
          "output_type": "stream",
          "name": "stdout",
          "text": [
            "Epoch 2; train_loss=0.2748\n"
          ]
        },
        {
          "output_type": "stream",
          "name": "stderr",
          "text": [
            "Validating Epoch 2: 100%|██████████| 250/250 [00:15<00:00, 15.84it/s]\n"
          ]
        },
        {
          "output_type": "stream",
          "name": "stdout",
          "text": [
            "Epoch 2; val_loss=0.2925; val_f1=0.6597\n",
            "Saving model with F1=0.6597385943551691 for epoch=1\n"
          ]
        },
        {
          "output_type": "stream",
          "name": "stderr",
          "text": [
            "Training Epoch 3: 100%|██████████| 1000/1000 [03:25<00:00,  4.86it/s]\n"
          ]
        },
        {
          "output_type": "stream",
          "name": "stdout",
          "text": [
            "Epoch 3; train_loss=0.2196\n"
          ]
        },
        {
          "output_type": "stream",
          "name": "stderr",
          "text": [
            "Validating Epoch 3: 100%|██████████| 250/250 [00:15<00:00, 16.28it/s]\n"
          ]
        },
        {
          "output_type": "stream",
          "name": "stdout",
          "text": [
            "Epoch 3; val_loss=0.3007; val_f1=0.6566\n"
          ]
        },
        {
          "output_type": "stream",
          "name": "stderr",
          "text": [
            "Training Epoch 4: 100%|██████████| 1000/1000 [03:24<00:00,  4.88it/s]\n"
          ]
        },
        {
          "output_type": "stream",
          "name": "stdout",
          "text": [
            "Epoch 4; train_loss=0.1779\n"
          ]
        },
        {
          "output_type": "stream",
          "name": "stderr",
          "text": [
            "Validating Epoch 4: 100%|██████████| 250/250 [00:15<00:00, 15.84it/s]\n"
          ]
        },
        {
          "output_type": "stream",
          "name": "stdout",
          "text": [
            "Epoch 4; val_loss=0.3769; val_f1=0.7118\n",
            "Saving model with F1=0.7117761333729758 for epoch=3\n"
          ]
        },
        {
          "output_type": "stream",
          "name": "stderr",
          "text": [
            "Training Epoch 5: 100%|██████████| 1000/1000 [03:26<00:00,  4.84it/s]\n"
          ]
        },
        {
          "output_type": "stream",
          "name": "stdout",
          "text": [
            "Epoch 5; train_loss=0.1464\n"
          ]
        },
        {
          "output_type": "stream",
          "name": "stderr",
          "text": [
            "Validating Epoch 5: 100%|██████████| 250/250 [00:15<00:00, 16.23it/s]\n"
          ]
        },
        {
          "output_type": "stream",
          "name": "stdout",
          "text": [
            "Epoch 5; val_loss=0.4099; val_f1=0.7131\n",
            "Saving model with F1=0.7131003952661632 for epoch=4\n"
          ]
        },
        {
          "output_type": "stream",
          "name": "stderr",
          "text": [
            "Training Epoch 6: 100%|██████████| 1000/1000 [03:24<00:00,  4.89it/s]\n"
          ]
        },
        {
          "output_type": "stream",
          "name": "stdout",
          "text": [
            "Epoch 6; train_loss=0.1161\n"
          ]
        },
        {
          "output_type": "stream",
          "name": "stderr",
          "text": [
            "Validating Epoch 6: 100%|██████████| 250/250 [00:15<00:00, 16.23it/s]\n"
          ]
        },
        {
          "output_type": "stream",
          "name": "stdout",
          "text": [
            "Epoch 6; val_loss=0.4916; val_f1=0.7236\n",
            "Saving model with F1=0.7235938669925848 for epoch=5\n"
          ]
        },
        {
          "output_type": "stream",
          "name": "stderr",
          "text": [
            "Training Epoch 7: 100%|██████████| 1000/1000 [03:24<00:00,  4.89it/s]\n"
          ]
        },
        {
          "output_type": "stream",
          "name": "stdout",
          "text": [
            "Epoch 7; train_loss=0.0977\n"
          ]
        },
        {
          "output_type": "stream",
          "name": "stderr",
          "text": [
            "Validating Epoch 7: 100%|██████████| 250/250 [00:15<00:00, 16.13it/s]\n"
          ]
        },
        {
          "output_type": "stream",
          "name": "stdout",
          "text": [
            "Epoch 7; val_loss=0.5875; val_f1=0.7347\n",
            "Saving model with F1=0.7347319758389668 for epoch=6\n"
          ]
        },
        {
          "output_type": "stream",
          "name": "stderr",
          "text": [
            "Training Epoch 8: 100%|██████████| 1000/1000 [03:24<00:00,  4.89it/s]\n"
          ]
        },
        {
          "output_type": "stream",
          "name": "stdout",
          "text": [
            "Epoch 8; train_loss=0.0856\n"
          ]
        },
        {
          "output_type": "stream",
          "name": "stderr",
          "text": [
            "Validating Epoch 8: 100%|██████████| 250/250 [00:15<00:00, 16.24it/s]\n"
          ]
        },
        {
          "output_type": "stream",
          "name": "stdout",
          "text": [
            "Epoch 8; val_loss=0.5978; val_f1=0.7346\n"
          ]
        },
        {
          "output_type": "stream",
          "name": "stderr",
          "text": [
            "Training Epoch 9: 100%|██████████| 1000/1000 [03:23<00:00,  4.90it/s]\n"
          ]
        },
        {
          "output_type": "stream",
          "name": "stdout",
          "text": [
            "Epoch 9; train_loss=0.0808\n"
          ]
        },
        {
          "output_type": "stream",
          "name": "stderr",
          "text": [
            "Validating Epoch 9: 100%|██████████| 250/250 [00:15<00:00, 16.22it/s]\n"
          ]
        },
        {
          "output_type": "stream",
          "name": "stdout",
          "text": [
            "Epoch 9; val_loss=0.6333; val_f1=0.7359\n",
            "Saving model with F1=0.7358616657142412 for epoch=8\n"
          ]
        }
      ],
      "source": [
        "best_so_far = 0\n",
        "\n",
        "for epoch in range(epochs+1):\n",
        "    train_epoch(epoch)\n",
        "    f1 = val_epoch(epoch)\n",
        "\n",
        "    if f1 > best_so_far:\n",
        "      best_so_far = f1\n",
        "      save_model()\n",
        "      print(f\"Saving model with F1={f1} for epoch={epoch+1}\")"
      ]
    },
    {
      "cell_type": "code",
      "source": [
        "tokenizer, model = load_model()"
      ],
      "metadata": {
        "id": "uNwmnTBGoeVM"
      },
      "id": "uNwmnTBGoeVM",
      "execution_count": 25,
      "outputs": []
    },
    {
      "cell_type": "markdown",
      "id": "de112865",
      "metadata": {
        "id": "de112865"
      },
      "source": [
        "# Evaluation"
      ]
    },
    {
      "cell_type": "code",
      "execution_count": 26,
      "id": "ed1a4087",
      "metadata": {
        "colab": {
          "base_uri": "https://localhost:8080/"
        },
        "id": "ed1a4087",
        "outputId": "8eefb4f5-fb11-4e96-8d81-37ab0d32cc39"
      },
      "outputs": [
        {
          "output_type": "stream",
          "name": "stderr",
          "text": []
        }
      ],
      "source": [
        "model.eval()\n",
        "all_probs, all_labels = [], []\n",
        "macro = 0\n",
        "\n",
        "with torch.no_grad():\n",
        "    for batch in tqdm(val_loader, desc=\"Evaluating\", leave=False):\n",
        "        input_ids = batch[\"input_ids\"].to(device)\n",
        "        attention_mask = batch[\"attention_mask\"].to(device)\n",
        "        labels = batch[\"labels\"].to(device)\n",
        "\n",
        "        with autocast(device):\n",
        "          with torch.no_grad():\n",
        "            logits = model(input_ids=input_ids, attention_mask=attention_mask).logits\n",
        "            probs  = torch.sigmoid(logits)\n",
        "\n",
        "        all_probs.append(probs.cpu().numpy())\n",
        "        all_labels.append(labels.cpu().numpy())\n",
        "\n",
        "probs  = np.vstack(all_probs) # shape (N, 4)\n",
        "all_labels = np.vstack(all_labels) # shape (N, 4)"
      ]
    },
    {
      "cell_type": "code",
      "execution_count": 27,
      "id": "cecacf67",
      "metadata": {
        "colab": {
          "base_uri": "https://localhost:8080/"
        },
        "id": "cecacf67",
        "outputId": "94dd14a5-c31c-40af-9327-5ab417a4d4d0"
      },
      "outputs": [
        {
          "output_type": "stream",
          "name": "stdout",
          "text": [
            "toxic: best_thresh=0.818\n",
            "severe_toxic: best_thresh=0.404\n",
            "obscene: best_thresh=0.901\n",
            "insult: best_thresh=0.839\n"
          ]
        }
      ],
      "source": [
        "# find best threshold for each label\n",
        "thresholds = {}\n",
        "for i, name in enumerate(label_names):\n",
        "    p, r, t = precision_recall_curve(all_labels[:, i], probs[:, i])\n",
        "    f1 = 2*p*r/(p+r+1e-8)\n",
        "    idx = np.nanargmax(f1[:-1])\n",
        "    thresholds[name] = t[idx]\n",
        "    print(f\"{name}: best_thresh={thresholds[name]:.3f}\")"
      ]
    },
    {
      "cell_type": "code",
      "execution_count": 28,
      "id": "16a37edc",
      "metadata": {
        "colab": {
          "base_uri": "https://localhost:8080/"
        },
        "id": "16a37edc",
        "outputId": "a96bb5a2-edcc-40bb-f791-f69daf4ddbaf"
      },
      "outputs": [
        {
          "output_type": "stream",
          "name": "stdout",
          "text": [
            "toxic: 0.8409\n",
            "severe_toxic: 0.5196\n",
            "obscene: 0.8529\n",
            "insult: 0.7694\n",
            "Macro F1: 0.7457\n"
          ]
        }
      ],
      "source": [
        "preds = np.zeros_like(probs, dtype=int)\n",
        "for i, name in enumerate(thresholds):\n",
        "    preds[:, i] = (probs[:, i] >= thresholds[name]).astype(int)\n",
        "    print(f\"{name}: {f1_score(all_labels[:,i], preds[:,i]):.4f}\")\n",
        "\n",
        "print(f\"Macro F1: {np.mean([f1_score(all_labels[:,i], preds[:,i]) for i in range(probs.shape[1])]):.4f}\")"
      ]
    },
    {
      "cell_type": "markdown",
      "id": "d4b3ef45",
      "metadata": {
        "id": "d4b3ef45"
      },
      "source": [
        "# Submission"
      ]
    },
    {
      "cell_type": "code",
      "execution_count": 29,
      "id": "7c731a75",
      "metadata": {
        "id": "7c731a75"
      },
      "outputs": [],
      "source": [
        "class TestDataset(Dataset):\n",
        "    def __init__(self, texts, tokenizer, max_len):\n",
        "        self.texts = texts.reset_index(drop=True)\n",
        "        self.tokenizer = tokenizer\n",
        "        self.max_len = max_len\n",
        "\n",
        "    def __len__(self):\n",
        "        return len(self.texts)\n",
        "\n",
        "    def __getitem__(self, idx):\n",
        "        text = str(self.texts[idx])\n",
        "        inputs = self.tokenizer(\n",
        "            text,\n",
        "            padding=\"max_length\",\n",
        "            truncation=True,\n",
        "            max_length=self.max_len,\n",
        "            return_tensors=\"pt\",\n",
        "        )\n",
        "        return {k: v.squeeze(0) for k, v in inputs.items()}"
      ]
    },
    {
      "cell_type": "code",
      "execution_count": 30,
      "id": "13fc1d02",
      "metadata": {
        "id": "13fc1d02"
      },
      "outputs": [],
      "source": [
        "df_test = pd.read_csv(f\"{root_path}/test_data.csv\")\n",
        "X_submit = prep_df(df_test)\n",
        "\n",
        "test_ds = TestDataset(X_submit, tokenizer, max_len)\n",
        "test_loader = DataLoader(test_ds, batch_size=batch_size, shuffle=False)"
      ]
    },
    {
      "cell_type": "code",
      "execution_count": 31,
      "id": "052187af",
      "metadata": {
        "colab": {
          "base_uri": "https://localhost:8080/"
        },
        "id": "052187af",
        "outputId": "c21bb12a-bfc1-4e76-db4d-d3f54c8fe5bb"
      },
      "outputs": [
        {
          "output_type": "stream",
          "name": "stderr",
          "text": [
            "Predicting: 100%|██████████| 142/142 [00:31<00:00,  4.49it/s]\n"
          ]
        }
      ],
      "source": [
        "model.eval()\n",
        "all_probs = []\n",
        "\n",
        "with torch.no_grad():\n",
        "    for batch in tqdm(test_loader, desc=\"Predicting\"):\n",
        "        logits = model(input_ids=batch[\"input_ids\"].to(device),\n",
        "                       attention_mask=batch[\"attention_mask\"].to(device)).logits\n",
        "        all_probs.append(torch.sigmoid(logits).cpu().numpy())\n",
        "\n",
        "probs = np.vstack(all_probs)\n",
        "\n",
        "th_array = np.array([thresholds[name] for name in thresholds])\n",
        "preds_submit = (probs >= th_array).astype(int)"
      ]
    },
    {
      "cell_type": "code",
      "execution_count": 32,
      "id": "a6073097",
      "metadata": {
        "colab": {
          "base_uri": "https://localhost:8080/",
          "height": 206
        },
        "id": "a6073097",
        "outputId": "6526ffef-e98f-4593-89fd-a5e4981980ac"
      },
      "outputs": [
        {
          "output_type": "execute_result",
          "data": {
            "text/plain": [
              "        datapointID        answer  subtaskID\n",
              "0  00091c35fa9d0465  [1, 0, 0, 0]          1\n",
              "1  0071940212267fea  [1, 0, 1, 0]          1\n",
              "2  0072b9c3697ab8cc  [1, 0, 0, 1]          1\n",
              "3  0081b14d79f54b31  [1, 0, 0, 0]          1\n",
              "4  00950f0fae33869f  [1, 1, 1, 1]          1"
            ],
            "text/html": [
              "\n",
              "  <div id=\"df-5ad5e010-2f86-4146-8e71-16fcb0528bc8\" class=\"colab-df-container\">\n",
              "    <div>\n",
              "<style scoped>\n",
              "    .dataframe tbody tr th:only-of-type {\n",
              "        vertical-align: middle;\n",
              "    }\n",
              "\n",
              "    .dataframe tbody tr th {\n",
              "        vertical-align: top;\n",
              "    }\n",
              "\n",
              "    .dataframe thead th {\n",
              "        text-align: right;\n",
              "    }\n",
              "</style>\n",
              "<table border=\"1\" class=\"dataframe\">\n",
              "  <thead>\n",
              "    <tr style=\"text-align: right;\">\n",
              "      <th></th>\n",
              "      <th>datapointID</th>\n",
              "      <th>answer</th>\n",
              "      <th>subtaskID</th>\n",
              "    </tr>\n",
              "  </thead>\n",
              "  <tbody>\n",
              "    <tr>\n",
              "      <th>0</th>\n",
              "      <td>00091c35fa9d0465</td>\n",
              "      <td>[1, 0, 0, 0]</td>\n",
              "      <td>1</td>\n",
              "    </tr>\n",
              "    <tr>\n",
              "      <th>1</th>\n",
              "      <td>0071940212267fea</td>\n",
              "      <td>[1, 0, 1, 0]</td>\n",
              "      <td>1</td>\n",
              "    </tr>\n",
              "    <tr>\n",
              "      <th>2</th>\n",
              "      <td>0072b9c3697ab8cc</td>\n",
              "      <td>[1, 0, 0, 1]</td>\n",
              "      <td>1</td>\n",
              "    </tr>\n",
              "    <tr>\n",
              "      <th>3</th>\n",
              "      <td>0081b14d79f54b31</td>\n",
              "      <td>[1, 0, 0, 0]</td>\n",
              "      <td>1</td>\n",
              "    </tr>\n",
              "    <tr>\n",
              "      <th>4</th>\n",
              "      <td>00950f0fae33869f</td>\n",
              "      <td>[1, 1, 1, 1]</td>\n",
              "      <td>1</td>\n",
              "    </tr>\n",
              "  </tbody>\n",
              "</table>\n",
              "</div>\n",
              "    <div class=\"colab-df-buttons\">\n",
              "\n",
              "  <div class=\"colab-df-container\">\n",
              "    <button class=\"colab-df-convert\" onclick=\"convertToInteractive('df-5ad5e010-2f86-4146-8e71-16fcb0528bc8')\"\n",
              "            title=\"Convert this dataframe to an interactive table.\"\n",
              "            style=\"display:none;\">\n",
              "\n",
              "  <svg xmlns=\"http://www.w3.org/2000/svg\" height=\"24px\" viewBox=\"0 -960 960 960\">\n",
              "    <path d=\"M120-120v-720h720v720H120Zm60-500h600v-160H180v160Zm220 220h160v-160H400v160Zm0 220h160v-160H400v160ZM180-400h160v-160H180v160Zm440 0h160v-160H620v160ZM180-180h160v-160H180v160Zm440 0h160v-160H620v160Z\"/>\n",
              "  </svg>\n",
              "    </button>\n",
              "\n",
              "  <style>\n",
              "    .colab-df-container {\n",
              "      display:flex;\n",
              "      gap: 12px;\n",
              "    }\n",
              "\n",
              "    .colab-df-convert {\n",
              "      background-color: #E8F0FE;\n",
              "      border: none;\n",
              "      border-radius: 50%;\n",
              "      cursor: pointer;\n",
              "      display: none;\n",
              "      fill: #1967D2;\n",
              "      height: 32px;\n",
              "      padding: 0 0 0 0;\n",
              "      width: 32px;\n",
              "    }\n",
              "\n",
              "    .colab-df-convert:hover {\n",
              "      background-color: #E2EBFA;\n",
              "      box-shadow: 0px 1px 2px rgba(60, 64, 67, 0.3), 0px 1px 3px 1px rgba(60, 64, 67, 0.15);\n",
              "      fill: #174EA6;\n",
              "    }\n",
              "\n",
              "    .colab-df-buttons div {\n",
              "      margin-bottom: 4px;\n",
              "    }\n",
              "\n",
              "    [theme=dark] .colab-df-convert {\n",
              "      background-color: #3B4455;\n",
              "      fill: #D2E3FC;\n",
              "    }\n",
              "\n",
              "    [theme=dark] .colab-df-convert:hover {\n",
              "      background-color: #434B5C;\n",
              "      box-shadow: 0px 1px 3px 1px rgba(0, 0, 0, 0.15);\n",
              "      filter: drop-shadow(0px 1px 2px rgba(0, 0, 0, 0.3));\n",
              "      fill: #FFFFFF;\n",
              "    }\n",
              "  </style>\n",
              "\n",
              "    <script>\n",
              "      const buttonEl =\n",
              "        document.querySelector('#df-5ad5e010-2f86-4146-8e71-16fcb0528bc8 button.colab-df-convert');\n",
              "      buttonEl.style.display =\n",
              "        google.colab.kernel.accessAllowed ? 'block' : 'none';\n",
              "\n",
              "      async function convertToInteractive(key) {\n",
              "        const element = document.querySelector('#df-5ad5e010-2f86-4146-8e71-16fcb0528bc8');\n",
              "        const dataTable =\n",
              "          await google.colab.kernel.invokeFunction('convertToInteractive',\n",
              "                                                    [key], {});\n",
              "        if (!dataTable) return;\n",
              "\n",
              "        const docLinkHtml = 'Like what you see? Visit the ' +\n",
              "          '<a target=\"_blank\" href=https://colab.research.google.com/notebooks/data_table.ipynb>data table notebook</a>'\n",
              "          + ' to learn more about interactive tables.';\n",
              "        element.innerHTML = '';\n",
              "        dataTable['output_type'] = 'display_data';\n",
              "        await google.colab.output.renderOutput(dataTable, element);\n",
              "        const docLink = document.createElement('div');\n",
              "        docLink.innerHTML = docLinkHtml;\n",
              "        element.appendChild(docLink);\n",
              "      }\n",
              "    </script>\n",
              "  </div>\n",
              "\n",
              "\n",
              "    <div id=\"df-f3b95e2f-bdd0-41fb-936b-6bd4562a15d9\">\n",
              "      <button class=\"colab-df-quickchart\" onclick=\"quickchart('df-f3b95e2f-bdd0-41fb-936b-6bd4562a15d9')\"\n",
              "                title=\"Suggest charts\"\n",
              "                style=\"display:none;\">\n",
              "\n",
              "<svg xmlns=\"http://www.w3.org/2000/svg\" height=\"24px\"viewBox=\"0 0 24 24\"\n",
              "     width=\"24px\">\n",
              "    <g>\n",
              "        <path d=\"M19 3H5c-1.1 0-2 .9-2 2v14c0 1.1.9 2 2 2h14c1.1 0 2-.9 2-2V5c0-1.1-.9-2-2-2zM9 17H7v-7h2v7zm4 0h-2V7h2v10zm4 0h-2v-4h2v4z\"/>\n",
              "    </g>\n",
              "</svg>\n",
              "      </button>\n",
              "\n",
              "<style>\n",
              "  .colab-df-quickchart {\n",
              "      --bg-color: #E8F0FE;\n",
              "      --fill-color: #1967D2;\n",
              "      --hover-bg-color: #E2EBFA;\n",
              "      --hover-fill-color: #174EA6;\n",
              "      --disabled-fill-color: #AAA;\n",
              "      --disabled-bg-color: #DDD;\n",
              "  }\n",
              "\n",
              "  [theme=dark] .colab-df-quickchart {\n",
              "      --bg-color: #3B4455;\n",
              "      --fill-color: #D2E3FC;\n",
              "      --hover-bg-color: #434B5C;\n",
              "      --hover-fill-color: #FFFFFF;\n",
              "      --disabled-bg-color: #3B4455;\n",
              "      --disabled-fill-color: #666;\n",
              "  }\n",
              "\n",
              "  .colab-df-quickchart {\n",
              "    background-color: var(--bg-color);\n",
              "    border: none;\n",
              "    border-radius: 50%;\n",
              "    cursor: pointer;\n",
              "    display: none;\n",
              "    fill: var(--fill-color);\n",
              "    height: 32px;\n",
              "    padding: 0;\n",
              "    width: 32px;\n",
              "  }\n",
              "\n",
              "  .colab-df-quickchart:hover {\n",
              "    background-color: var(--hover-bg-color);\n",
              "    box-shadow: 0 1px 2px rgba(60, 64, 67, 0.3), 0 1px 3px 1px rgba(60, 64, 67, 0.15);\n",
              "    fill: var(--button-hover-fill-color);\n",
              "  }\n",
              "\n",
              "  .colab-df-quickchart-complete:disabled,\n",
              "  .colab-df-quickchart-complete:disabled:hover {\n",
              "    background-color: var(--disabled-bg-color);\n",
              "    fill: var(--disabled-fill-color);\n",
              "    box-shadow: none;\n",
              "  }\n",
              "\n",
              "  .colab-df-spinner {\n",
              "    border: 2px solid var(--fill-color);\n",
              "    border-color: transparent;\n",
              "    border-bottom-color: var(--fill-color);\n",
              "    animation:\n",
              "      spin 1s steps(1) infinite;\n",
              "  }\n",
              "\n",
              "  @keyframes spin {\n",
              "    0% {\n",
              "      border-color: transparent;\n",
              "      border-bottom-color: var(--fill-color);\n",
              "      border-left-color: var(--fill-color);\n",
              "    }\n",
              "    20% {\n",
              "      border-color: transparent;\n",
              "      border-left-color: var(--fill-color);\n",
              "      border-top-color: var(--fill-color);\n",
              "    }\n",
              "    30% {\n",
              "      border-color: transparent;\n",
              "      border-left-color: var(--fill-color);\n",
              "      border-top-color: var(--fill-color);\n",
              "      border-right-color: var(--fill-color);\n",
              "    }\n",
              "    40% {\n",
              "      border-color: transparent;\n",
              "      border-right-color: var(--fill-color);\n",
              "      border-top-color: var(--fill-color);\n",
              "    }\n",
              "    60% {\n",
              "      border-color: transparent;\n",
              "      border-right-color: var(--fill-color);\n",
              "    }\n",
              "    80% {\n",
              "      border-color: transparent;\n",
              "      border-right-color: var(--fill-color);\n",
              "      border-bottom-color: var(--fill-color);\n",
              "    }\n",
              "    90% {\n",
              "      border-color: transparent;\n",
              "      border-bottom-color: var(--fill-color);\n",
              "    }\n",
              "  }\n",
              "</style>\n",
              "\n",
              "      <script>\n",
              "        async function quickchart(key) {\n",
              "          const quickchartButtonEl =\n",
              "            document.querySelector('#' + key + ' button');\n",
              "          quickchartButtonEl.disabled = true;  // To prevent multiple clicks.\n",
              "          quickchartButtonEl.classList.add('colab-df-spinner');\n",
              "          try {\n",
              "            const charts = await google.colab.kernel.invokeFunction(\n",
              "                'suggestCharts', [key], {});\n",
              "          } catch (error) {\n",
              "            console.error('Error during call to suggestCharts:', error);\n",
              "          }\n",
              "          quickchartButtonEl.classList.remove('colab-df-spinner');\n",
              "          quickchartButtonEl.classList.add('colab-df-quickchart-complete');\n",
              "        }\n",
              "        (() => {\n",
              "          let quickchartButtonEl =\n",
              "            document.querySelector('#df-f3b95e2f-bdd0-41fb-936b-6bd4562a15d9 button');\n",
              "          quickchartButtonEl.style.display =\n",
              "            google.colab.kernel.accessAllowed ? 'block' : 'none';\n",
              "        })();\n",
              "      </script>\n",
              "    </div>\n",
              "\n",
              "    </div>\n",
              "  </div>\n"
            ],
            "application/vnd.google.colaboratory.intrinsic+json": {
              "type": "dataframe",
              "variable_name": "submission",
              "summary": "{\n  \"name\": \"submission\",\n  \"rows\": 4521,\n  \"fields\": [\n    {\n      \"column\": \"datapointID\",\n      \"properties\": {\n        \"dtype\": \"string\",\n        \"num_unique_values\": 4521,\n        \"samples\": [\n          \"8722ab357c9b6101\",\n          \"2c66b6c902a599b2\",\n          \"802def6b641b71e4\"\n        ],\n        \"semantic_type\": \"\",\n        \"description\": \"\"\n      }\n    },\n    {\n      \"column\": \"answer\",\n      \"properties\": {\n        \"dtype\": \"object\",\n        \"semantic_type\": \"\",\n        \"description\": \"\"\n      }\n    },\n    {\n      \"column\": \"subtaskID\",\n      \"properties\": {\n        \"dtype\": \"number\",\n        \"std\": 0,\n        \"min\": 1,\n        \"max\": 1,\n        \"num_unique_values\": 1,\n        \"samples\": [\n          1\n        ],\n        \"semantic_type\": \"\",\n        \"description\": \"\"\n      }\n    }\n  ]\n}"
            }
          },
          "metadata": {},
          "execution_count": 32
        }
      ],
      "source": [
        "submission = pd.DataFrame({\n",
        "    \"datapointID\": df_test[\"id\"],\n",
        "    \"answer\": preds_submit.tolist(),\n",
        "    \"subtaskID\": 1\n",
        "})\n",
        "\n",
        "submission.head()"
      ]
    },
    {
      "cell_type": "code",
      "execution_count": 33,
      "id": "5d587314",
      "metadata": {
        "id": "5d587314"
      },
      "outputs": [],
      "source": [
        "submission.to_csv(\"submission.csv\", index=False)"
      ]
    }
  ],
  "metadata": {
    "kernelspec": {
      "display_name": "Python 3",
      "name": "python3"
    },
    "language_info": {
      "codemirror_mode": {
        "name": "ipython",
        "version": 3
      },
      "file_extension": ".py",
      "mimetype": "text/x-python",
      "name": "python",
      "nbconvert_exporter": "python",
      "pygments_lexer": "ipython3",
      "version": "3.13.5"
    },
    "colab": {
      "provenance": [],
      "gpuType": "T4"
    },
    "accelerator": "GPU"
  },
  "nbformat": 4,
  "nbformat_minor": 5
}