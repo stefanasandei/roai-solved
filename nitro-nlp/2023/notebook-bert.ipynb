{
 "cells": [
  {
   "cell_type": "markdown",
   "id": "5a33d5b1",
   "metadata": {},
   "source": [
    "public score: ???"
   ]
  },
  {
   "cell_type": "code",
   "execution_count": null,
   "id": "1fd2c4e7",
   "metadata": {},
   "outputs": [],
   "source": [
    "import pandas as pd\n",
    "\n",
    "from sklearn.model_selection import train_test_split, cross_val_score\n",
    "from sklearn.metrics import balanced_accuracy_score, make_scorer\n",
    "\n",
    "# todo: use bert (maybe with peft)"
   ]
  },
  {
   "cell_type": "code",
   "execution_count": 17,
   "id": "647b2230",
   "metadata": {},
   "outputs": [],
   "source": [
    "seed = 42\n",
    "\n",
    "root_path = \"E:\\\\IOAI\\\\kits\\\\nitro-nlp-23\""
   ]
  },
  {
   "cell_type": "markdown",
   "id": "5826b34f",
   "metadata": {},
   "source": [
    "# Data preparation"
   ]
  },
  {
   "cell_type": "code",
   "execution_count": 18,
   "id": "f5f11d06",
   "metadata": {},
   "outputs": [],
   "source": [
    "def clean_df(df):\n",
    "    return df\n",
    "\n",
    "def clean_text(text: str):\n",
    "    return text.strip()\n",
    "\n",
    "def prep_features(df: pd.DataFrame):\n",
    "    df[\"Text\"] = df[\"Text\"].apply(clean_text)\n",
    "\n",
    "    if \"Final Labels\" in df:\n",
    "        return df[\"Text\"], df[\"Final Labels\"] \n",
    "    return df[\"Text\"]"
   ]
  },
  {
   "cell_type": "code",
   "execution_count": 19,
   "id": "c09bc647",
   "metadata": {},
   "outputs": [],
   "source": [
    "df = pd.read_csv(f\"{root_path}\\\\train_data.csv\")\n",
    "df = clean_df(df)\n",
    "\n",
    "X, y = prep_features(df)"
   ]
  },
  {
   "cell_type": "markdown",
   "id": "a49c0152",
   "metadata": {},
   "source": [
    "# EDA"
   ]
  },
  {
   "cell_type": "code",
   "execution_count": 20,
   "id": "d351a29b",
   "metadata": {},
   "outputs": [
    {
     "data": {
      "text/plain": [
       "Final Labels\n",
       "non-offensive    30838\n",
       "offensive         4301\n",
       "direct            2156\n",
       "descriptive       1494\n",
       "reporting          219\n",
       "Name: count, dtype: int64"
      ]
     },
     "execution_count": 20,
     "metadata": {},
     "output_type": "execute_result"
    }
   ],
   "source": [
    "df[\"Final Labels\"].value_counts()"
   ]
  },
  {
   "cell_type": "code",
   "execution_count": 21,
   "id": "e7615127",
   "metadata": {},
   "outputs": [
    {
     "data": {
      "text/html": [
       "<div>\n",
       "<style scoped>\n",
       "    .dataframe tbody tr th:only-of-type {\n",
       "        vertical-align: middle;\n",
       "    }\n",
       "\n",
       "    .dataframe tbody tr th {\n",
       "        vertical-align: top;\n",
       "    }\n",
       "\n",
       "    .dataframe thead th {\n",
       "        text-align: right;\n",
       "    }\n",
       "</style>\n",
       "<table border=\"1\" class=\"dataframe\">\n",
       "  <thead>\n",
       "    <tr style=\"text-align: right;\">\n",
       "      <th></th>\n",
       "      <th>Text</th>\n",
       "      <th>Final Labels</th>\n",
       "      <th>Id</th>\n",
       "    </tr>\n",
       "  </thead>\n",
       "  <tbody>\n",
       "    <tr>\n",
       "      <th>0</th>\n",
       "      <td>@CorinaTomescu05 Încă nu ...dar am trecut prin...</td>\n",
       "      <td>non-offensive</td>\n",
       "      <td>0</td>\n",
       "    </tr>\n",
       "    <tr>\n",
       "      <th>1</th>\n",
       "      <td>@emosaphicbitch sau rosu ca mine</td>\n",
       "      <td>non-offensive</td>\n",
       "      <td>1</td>\n",
       "    </tr>\n",
       "    <tr>\n",
       "      <th>2</th>\n",
       "      <td>@DanaMinodora Ce frumoasa ești.. Arăți foarte ...</td>\n",
       "      <td>non-offensive</td>\n",
       "      <td>2</td>\n",
       "    </tr>\n",
       "    <tr>\n",
       "      <th>3</th>\n",
       "      <td>Din fericire în extaz!Ai dus covoareleeee?? Pu...</td>\n",
       "      <td>offensive</td>\n",
       "      <td>3</td>\n",
       "    </tr>\n",
       "    <tr>\n",
       "      <th>4</th>\n",
       "      <td>cand aveam vreo 5 ani credeam ca romana e sing...</td>\n",
       "      <td>non-offensive</td>\n",
       "      <td>4</td>\n",
       "    </tr>\n",
       "  </tbody>\n",
       "</table>\n",
       "</div>"
      ],
      "text/plain": [
       "                                                Text   Final Labels  Id\n",
       "0  @CorinaTomescu05 Încă nu ...dar am trecut prin...  non-offensive   0\n",
       "1                   @emosaphicbitch sau rosu ca mine  non-offensive   1\n",
       "2  @DanaMinodora Ce frumoasa ești.. Arăți foarte ...  non-offensive   2\n",
       "3  Din fericire în extaz!Ai dus covoareleeee?? Pu...      offensive   3\n",
       "4  cand aveam vreo 5 ani credeam ca romana e sing...  non-offensive   4"
      ]
     },
     "execution_count": 21,
     "metadata": {},
     "output_type": "execute_result"
    }
   ],
   "source": [
    "df.head()"
   ]
  },
  {
   "cell_type": "markdown",
   "id": "8b152922",
   "metadata": {},
   "source": [
    "# Model selection"
   ]
  },
  {
   "cell_type": "code",
   "execution_count": 22,
   "id": "7ebae4a1",
   "metadata": {},
   "outputs": [],
   "source": [
    "X_train, X_test, y_train, y_test = train_test_split(X, y, test_size=0.33, random_state=seed)"
   ]
  },
  {
   "cell_type": "code",
   "execution_count": 23,
   "id": "5050390b",
   "metadata": {},
   "outputs": [],
   "source": [
    "def evaluate(clf):\n",
    "    scorer = make_scorer(balanced_accuracy_score)\n",
    "    scores = cross_val_score(clf, X_train, y_train, scoring=scorer, cv=3, n_jobs=-1)\n",
    "    cv = scores.mean() - scores.std()\n",
    "\n",
    "    clf.fit(X_train, y_train)\n",
    "    score = balanced_accuracy_score(y_test, clf.predict(X_test))\n",
    "    return cv, score"
   ]
  },
  {
   "cell_type": "markdown",
   "id": "f092736d",
   "metadata": {},
   "source": [
    "# Submission"
   ]
  },
  {
   "cell_type": "code",
   "execution_count": 24,
   "id": "6c68bce1",
   "metadata": {},
   "outputs": [],
   "source": [
    "df_test = pd.read_csv(f\"{root_path}\\\\test_data.csv\")\n",
    "df_test = clean_df(df_test)\n",
    "\n",
    "X_val = prep_features(df_test)"
   ]
  },
  {
   "cell_type": "code",
   "execution_count": 25,
   "id": "11eeeb4c",
   "metadata": {},
   "outputs": [],
   "source": [
    "df_test[\"Label\"] = 0"
   ]
  },
  {
   "cell_type": "code",
   "execution_count": 26,
   "id": "a0e7e624",
   "metadata": {},
   "outputs": [
    {
     "data": {
      "text/html": [
       "<div>\n",
       "<style scoped>\n",
       "    .dataframe tbody tr th:only-of-type {\n",
       "        vertical-align: middle;\n",
       "    }\n",
       "\n",
       "    .dataframe tbody tr th {\n",
       "        vertical-align: top;\n",
       "    }\n",
       "\n",
       "    .dataframe thead th {\n",
       "        text-align: right;\n",
       "    }\n",
       "</style>\n",
       "<table border=\"1\" class=\"dataframe\">\n",
       "  <thead>\n",
       "    <tr style=\"text-align: right;\">\n",
       "      <th></th>\n",
       "      <th>Id</th>\n",
       "      <th>Label</th>\n",
       "    </tr>\n",
       "  </thead>\n",
       "  <tbody>\n",
       "    <tr>\n",
       "      <th>0</th>\n",
       "      <td>0</td>\n",
       "      <td>0</td>\n",
       "    </tr>\n",
       "    <tr>\n",
       "      <th>1</th>\n",
       "      <td>1</td>\n",
       "      <td>0</td>\n",
       "    </tr>\n",
       "    <tr>\n",
       "      <th>2</th>\n",
       "      <td>2</td>\n",
       "      <td>0</td>\n",
       "    </tr>\n",
       "    <tr>\n",
       "      <th>3</th>\n",
       "      <td>3</td>\n",
       "      <td>0</td>\n",
       "    </tr>\n",
       "    <tr>\n",
       "      <th>4</th>\n",
       "      <td>4</td>\n",
       "      <td>0</td>\n",
       "    </tr>\n",
       "  </tbody>\n",
       "</table>\n",
       "</div>"
      ],
      "text/plain": [
       "   Id  Label\n",
       "0   0      0\n",
       "1   1      0\n",
       "2   2      0\n",
       "3   3      0\n",
       "4   4      0"
      ]
     },
     "execution_count": 26,
     "metadata": {},
     "output_type": "execute_result"
    }
   ],
   "source": [
    "submission = df_test[[\"Id\", \"Label\"]]\n",
    "submission.head()"
   ]
  },
  {
   "cell_type": "code",
   "execution_count": 27,
   "id": "58b6333f",
   "metadata": {},
   "outputs": [],
   "source": [
    "submission.to_csv(\"submission.csv\", index=False)"
   ]
  }
 ],
 "metadata": {
  "kernelspec": {
   "display_name": "Python 3",
   "language": "python",
   "name": "python3"
  },
  "language_info": {
   "codemirror_mode": {
    "name": "ipython",
    "version": 3
   },
   "file_extension": ".py",
   "mimetype": "text/x-python",
   "name": "python",
   "nbconvert_exporter": "python",
   "pygments_lexer": "ipython3",
   "version": "3.10.11"
  }
 },
 "nbformat": 4,
 "nbformat_minor": 5
}
