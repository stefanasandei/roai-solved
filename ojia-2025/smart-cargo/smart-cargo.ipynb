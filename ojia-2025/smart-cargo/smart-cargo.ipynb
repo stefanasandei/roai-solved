{
 "cells": [
  {
   "cell_type": "code",
   "execution_count": 179,
   "id": "66a2b646",
   "metadata": {},
   "outputs": [],
   "source": [
    "import pandas as pd\n",
    "import numpy as np\n",
    "\n",
    "from sklearn.model_selection import train_test_split, cross_val_score\n",
    "from sklearn.metrics import mean_absolute_error\n",
    "from sklearn.linear_model import LinearRegression"
   ]
  },
  {
   "cell_type": "code",
   "execution_count": 180,
   "id": "96a67398",
   "metadata": {},
   "outputs": [],
   "source": [
    "seed = 42"
   ]
  },
  {
   "cell_type": "markdown",
   "id": "94166709",
   "metadata": {},
   "source": [
    "# Data prep"
   ]
  },
  {
   "cell_type": "code",
   "execution_count": 181,
   "id": "2c73ca9d",
   "metadata": {},
   "outputs": [],
   "source": [
    "def clean_df(df):\n",
    "    return df\n",
    "\n",
    "def prep_features(df: pd.DataFrame):\n",
    "    df = df.drop([\"ID\", \"deliver_time\"], axis=1, errors='ignore')\n",
    "\n",
    "    # dummy encoding\n",
    "    dummy_cols = ['Weather']\n",
    "    dummies = pd.get_dummies(df[dummy_cols], dummy_cols, drop_first=True)\n",
    "    df = pd.concat([df, dummies], axis=1)\n",
    "\n",
    "    df = df.select_dtypes(exclude='object')\n",
    "    return df"
   ]
  },
  {
   "cell_type": "code",
   "execution_count": 182,
   "id": "38b3cd75",
   "metadata": {},
   "outputs": [],
   "source": [
    "df = pd.read_csv(\"train_data.csv\")\n",
    "df = clean_df(df)\n",
    "\n",
    "df_train = prep_features(df)"
   ]
  },
  {
   "cell_type": "code",
   "execution_count": 183,
   "id": "ed81ab70",
   "metadata": {},
   "outputs": [
    {
     "data": {
      "text/html": [
       "<div>\n",
       "<style scoped>\n",
       "    .dataframe tbody tr th:only-of-type {\n",
       "        vertical-align: middle;\n",
       "    }\n",
       "\n",
       "    .dataframe tbody tr th {\n",
       "        vertical-align: top;\n",
       "    }\n",
       "\n",
       "    .dataframe thead th {\n",
       "        text-align: right;\n",
       "    }\n",
       "</style>\n",
       "<table border=\"1\" class=\"dataframe\">\n",
       "  <thead>\n",
       "    <tr style=\"text-align: right;\">\n",
       "      <th></th>\n",
       "      <th>Distance</th>\n",
       "      <th>Time of Day</th>\n",
       "      <th>Traffic</th>\n",
       "      <th>Road Quality</th>\n",
       "      <th>Driver Experience</th>\n",
       "      <th>Weather_Fog</th>\n",
       "      <th>Weather_Rain</th>\n",
       "      <th>Weather_Snow</th>\n",
       "    </tr>\n",
       "  </thead>\n",
       "  <tbody>\n",
       "    <tr>\n",
       "      <th>0</th>\n",
       "      <td>352</td>\n",
       "      <td>452</td>\n",
       "      <td>154.014691</td>\n",
       "      <td>370</td>\n",
       "      <td>30</td>\n",
       "      <td>True</td>\n",
       "      <td>False</td>\n",
       "      <td>False</td>\n",
       "    </tr>\n",
       "    <tr>\n",
       "      <th>1</th>\n",
       "      <td>519</td>\n",
       "      <td>1386</td>\n",
       "      <td>949.697532</td>\n",
       "      <td>701</td>\n",
       "      <td>2</td>\n",
       "      <td>False</td>\n",
       "      <td>False</td>\n",
       "      <td>False</td>\n",
       "    </tr>\n",
       "    <tr>\n",
       "      <th>2</th>\n",
       "      <td>457</td>\n",
       "      <td>91</td>\n",
       "      <td>387.019309</td>\n",
       "      <td>45</td>\n",
       "      <td>26</td>\n",
       "      <td>True</td>\n",
       "      <td>False</td>\n",
       "      <td>False</td>\n",
       "    </tr>\n",
       "    <tr>\n",
       "      <th>3</th>\n",
       "      <td>447</td>\n",
       "      <td>1120</td>\n",
       "      <td>130.544017</td>\n",
       "      <td>643</td>\n",
       "      <td>6</td>\n",
       "      <td>False</td>\n",
       "      <td>False</td>\n",
       "      <td>False</td>\n",
       "    </tr>\n",
       "    <tr>\n",
       "      <th>4</th>\n",
       "      <td>201</td>\n",
       "      <td>1096</td>\n",
       "      <td>619.557737</td>\n",
       "      <td>375</td>\n",
       "      <td>20</td>\n",
       "      <td>False</td>\n",
       "      <td>False</td>\n",
       "      <td>False</td>\n",
       "    </tr>\n",
       "  </tbody>\n",
       "</table>\n",
       "</div>"
      ],
      "text/plain": [
       "   Distance  Time of Day     Traffic  Road Quality  Driver Experience  \\\n",
       "0       352          452  154.014691           370                 30   \n",
       "1       519         1386  949.697532           701                  2   \n",
       "2       457           91  387.019309            45                 26   \n",
       "3       447         1120  130.544017           643                  6   \n",
       "4       201         1096  619.557737           375                 20   \n",
       "\n",
       "   Weather_Fog  Weather_Rain  Weather_Snow  \n",
       "0         True         False         False  \n",
       "1        False         False         False  \n",
       "2         True         False         False  \n",
       "3        False         False         False  \n",
       "4        False         False         False  "
      ]
     },
     "execution_count": 183,
     "metadata": {},
     "output_type": "execute_result"
    }
   ],
   "source": [
    "df_train.head()"
   ]
  },
  {
   "cell_type": "markdown",
   "id": "25ef8c33",
   "metadata": {},
   "source": [
    "# EDA"
   ]
  },
  {
   "cell_type": "code",
   "execution_count": 184,
   "id": "0fd59b10",
   "metadata": {},
   "outputs": [
    {
     "data": {
      "text/plain": [
       "Distance             0.996613\n",
       "Traffic              0.064308\n",
       "Time of Day          0.024611\n",
       "Weather_Snow         0.013303\n",
       "Weather_Fog          0.010947\n",
       "Weather_Rain         0.004844\n",
       "Road Quality        -0.020194\n",
       "Driver Experience   -0.045516\n",
       "dtype: float64"
      ]
     },
     "execution_count": 184,
     "metadata": {},
     "output_type": "execute_result"
    }
   ],
   "source": [
    "df_train.corrwith(df[\"deliver_time\"]).sort_values(ascending=False)"
   ]
  },
  {
   "cell_type": "markdown",
   "id": "666566ab",
   "metadata": {},
   "source": [
    "# Model selection"
   ]
  },
  {
   "cell_type": "code",
   "execution_count": 185,
   "id": "ac43a12d",
   "metadata": {},
   "outputs": [],
   "source": [
    "X_train, X_test, y_train, y_test = train_test_split(\n",
    "    df_train, df[\"deliver_time\"], test_size=0.33, random_state=seed\n",
    ")"
   ]
  },
  {
   "cell_type": "code",
   "execution_count": 186,
   "id": "c8c951c1",
   "metadata": {},
   "outputs": [],
   "source": [
    "def evaluate(model):\n",
    "    scores = cross_val_score(model, X_train, y_train, scoring='neg_mean_absolute_error', cv=3, n_jobs=-1)\n",
    "    cv = scores.mean() - scores.std()\n",
    "\n",
    "    model.fit(X_train, y_train)\n",
    "    score = mean_absolute_error(y_test, model.predict(X_test))\n",
    "\n",
    "    return -cv, score"
   ]
  },
  {
   "cell_type": "code",
   "execution_count": 187,
   "id": "574a5184",
   "metadata": {},
   "outputs": [
    {
     "data": {
      "text/plain": [
       "(1.6660701635019008, 1.629248707934777)"
      ]
     },
     "execution_count": 187,
     "metadata": {},
     "output_type": "execute_result"
    }
   ],
   "source": [
    "lr = LinearRegression()\n",
    "\n",
    "evaluate(lr)"
   ]
  },
  {
   "cell_type": "code",
   "execution_count": 188,
   "id": "a4f8b3df",
   "metadata": {},
   "outputs": [],
   "source": [
    "model = lr"
   ]
  },
  {
   "cell_type": "markdown",
   "id": "a2338a50",
   "metadata": {},
   "source": [
    "# Submission"
   ]
  },
  {
   "cell_type": "code",
   "execution_count": 189,
   "id": "41e387cc",
   "metadata": {},
   "outputs": [],
   "source": [
    "df_test = pd.read_csv(\"test_data.csv\")\n",
    "df_test = clean_df(df_test)\n",
    "\n",
    "features = prep_features(df_test)"
   ]
  },
  {
   "cell_type": "code",
   "execution_count": 190,
   "id": "11f39b4a",
   "metadata": {},
   "outputs": [],
   "source": [
    "# subtask 1\n",
    "subtask1 = len(df_test[(df_test[\"City A\"] == \"Barlad\") & (df_test[\"Weather\"] == \"Fog\")][\"Distance\"])\n",
    "\n",
    "# subtask 2\n",
    "subtask2 = model.predict(features)"
   ]
  },
  {
   "cell_type": "code",
   "execution_count": 191,
   "id": "1deb87e0",
   "metadata": {},
   "outputs": [
    {
     "data": {
      "text/html": [
       "<div>\n",
       "<style scoped>\n",
       "    .dataframe tbody tr th:only-of-type {\n",
       "        vertical-align: middle;\n",
       "    }\n",
       "\n",
       "    .dataframe tbody tr th {\n",
       "        vertical-align: top;\n",
       "    }\n",
       "\n",
       "    .dataframe thead th {\n",
       "        text-align: right;\n",
       "    }\n",
       "</style>\n",
       "<table border=\"1\" class=\"dataframe\">\n",
       "  <thead>\n",
       "    <tr style=\"text-align: right;\">\n",
       "      <th></th>\n",
       "      <th>subtaskID</th>\n",
       "      <th>datapointID</th>\n",
       "      <th>answer</th>\n",
       "    </tr>\n",
       "  </thead>\n",
       "  <tbody>\n",
       "    <tr>\n",
       "      <th>0</th>\n",
       "      <td>1</td>\n",
       "      <td>1</td>\n",
       "      <td>15.000000</td>\n",
       "    </tr>\n",
       "    <tr>\n",
       "      <th>1</th>\n",
       "      <td>2</td>\n",
       "      <td>10001</td>\n",
       "      <td>386.828929</td>\n",
       "    </tr>\n",
       "    <tr>\n",
       "      <th>2</th>\n",
       "      <td>2</td>\n",
       "      <td>10002</td>\n",
       "      <td>243.004930</td>\n",
       "    </tr>\n",
       "    <tr>\n",
       "      <th>3</th>\n",
       "      <td>2</td>\n",
       "      <td>10003</td>\n",
       "      <td>480.903382</td>\n",
       "    </tr>\n",
       "    <tr>\n",
       "      <th>4</th>\n",
       "      <td>2</td>\n",
       "      <td>10004</td>\n",
       "      <td>248.494537</td>\n",
       "    </tr>\n",
       "  </tbody>\n",
       "</table>\n",
       "</div>"
      ],
      "text/plain": [
       "   subtaskID  datapointID      answer\n",
       "0          1            1   15.000000\n",
       "1          2        10001  386.828929\n",
       "2          2        10002  243.004930\n",
       "3          2        10003  480.903382\n",
       "4          2        10004  248.494537"
      ]
     },
     "execution_count": 191,
     "metadata": {},
     "output_type": "execute_result"
    }
   ],
   "source": [
    "df1 = pd.DataFrame({\n",
    "    \"subtaskID\": 1, \"datapointID\": 1, \"answer\": subtask1\n",
    "}, index=[0])\n",
    "\n",
    "df2 = pd.DataFrame({\"subtaskID\": 2, \"datapointID\": df_test[\"ID\"], \"answer\": subtask2})\n",
    "\n",
    "submission = pd.concat([df1, df2], ignore_index=True)\n",
    "submission.head()"
   ]
  },
  {
   "cell_type": "code",
   "execution_count": 192,
   "id": "e2cc02ab",
   "metadata": {},
   "outputs": [],
   "source": [
    "submission.to_csv(\"submission.csv\", index=False)"
   ]
  }
 ],
 "metadata": {
  "kernelspec": {
   "display_name": "Python 3",
   "language": "python",
   "name": "python3"
  },
  "language_info": {
   "codemirror_mode": {
    "name": "ipython",
    "version": 3
   },
   "file_extension": ".py",
   "mimetype": "text/x-python",
   "name": "python",
   "nbconvert_exporter": "python",
   "pygments_lexer": "ipython3",
   "version": "3.10.11"
  }
 },
 "nbformat": 4,
 "nbformat_minor": 5
}
