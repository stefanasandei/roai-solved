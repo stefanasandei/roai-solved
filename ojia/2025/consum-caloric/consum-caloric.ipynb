{
 "cells": [
  {
   "cell_type": "code",
   "execution_count": 240,
   "id": "66a2b646",
   "metadata": {},
   "outputs": [],
   "source": [
    "import pandas as pd\n",
    "import numpy as np\n",
    "\n",
    "from sklearn.model_selection import train_test_split, cross_val_score\n",
    "from sklearn.metrics import mean_absolute_error\n",
    "from sklearn.linear_model import Ridge\n",
    "from sklearn.preprocessing import PolynomialFeatures"
   ]
  },
  {
   "cell_type": "code",
   "execution_count": 241,
   "id": "96a67398",
   "metadata": {},
   "outputs": [],
   "source": [
    "seed = 42"
   ]
  },
  {
   "cell_type": "markdown",
   "id": "94166709",
   "metadata": {},
   "source": [
    "# Data prep"
   ]
  },
  {
   "cell_type": "code",
   "execution_count": 242,
   "id": "2c73ca9d",
   "metadata": {},
   "outputs": [],
   "source": [
    "def clean_df(df):\n",
    "    return df\n",
    "\n",
    "def prep_features(df: pd.DataFrame):\n",
    "    df = df.drop([\"User_ID\", \"Calories\"], axis=1, errors=\"ignore\")\n",
    "\n",
    "    # dummy encoding\n",
    "    dummy_cols = [\"Gender\"]\n",
    "    dummies = pd.get_dummies(df[dummy_cols], dummy_cols, drop_first=True)\n",
    "    df = pd.concat([df, dummies], axis=1)\n",
    "\n",
    "    df = df.select_dtypes(exclude='object')\n",
    "    return df"
   ]
  },
  {
   "cell_type": "code",
   "execution_count": 243,
   "id": "38b3cd75",
   "metadata": {},
   "outputs": [],
   "source": [
    "df = pd.read_csv(\"train_data.csv\")\n",
    "df = clean_df(df)\n",
    "\n",
    "df_train = prep_features(df)"
   ]
  },
  {
   "cell_type": "code",
   "execution_count": 244,
   "id": "ed81ab70",
   "metadata": {},
   "outputs": [
    {
     "data": {
      "text/html": [
       "<div>\n",
       "<style scoped>\n",
       "    .dataframe tbody tr th:only-of-type {\n",
       "        vertical-align: middle;\n",
       "    }\n",
       "\n",
       "    .dataframe tbody tr th {\n",
       "        vertical-align: top;\n",
       "    }\n",
       "\n",
       "    .dataframe thead th {\n",
       "        text-align: right;\n",
       "    }\n",
       "</style>\n",
       "<table border=\"1\" class=\"dataframe\">\n",
       "  <thead>\n",
       "    <tr style=\"text-align: right;\">\n",
       "      <th></th>\n",
       "      <th>Age</th>\n",
       "      <th>Height</th>\n",
       "      <th>Weight</th>\n",
       "      <th>Duration</th>\n",
       "      <th>Heart_Rate</th>\n",
       "      <th>Body_Temp</th>\n",
       "      <th>Gender_male</th>\n",
       "    </tr>\n",
       "  </thead>\n",
       "  <tbody>\n",
       "    <tr>\n",
       "      <th>0</th>\n",
       "      <td>79</td>\n",
       "      <td>165</td>\n",
       "      <td>73</td>\n",
       "      <td>13</td>\n",
       "      <td>79</td>\n",
       "      <td>40.0</td>\n",
       "      <td>True</td>\n",
       "    </tr>\n",
       "    <tr>\n",
       "      <th>1</th>\n",
       "      <td>28</td>\n",
       "      <td>148</td>\n",
       "      <td>48</td>\n",
       "      <td>6</td>\n",
       "      <td>91</td>\n",
       "      <td>39.4</td>\n",
       "      <td>False</td>\n",
       "    </tr>\n",
       "    <tr>\n",
       "      <th>2</th>\n",
       "      <td>27</td>\n",
       "      <td>187</td>\n",
       "      <td>82</td>\n",
       "      <td>25</td>\n",
       "      <td>101</td>\n",
       "      <td>40.8</td>\n",
       "      <td>True</td>\n",
       "    </tr>\n",
       "    <tr>\n",
       "      <th>3</th>\n",
       "      <td>40</td>\n",
       "      <td>173</td>\n",
       "      <td>71</td>\n",
       "      <td>16</td>\n",
       "      <td>93</td>\n",
       "      <td>40.4</td>\n",
       "      <td>True</td>\n",
       "    </tr>\n",
       "    <tr>\n",
       "      <th>4</th>\n",
       "      <td>40</td>\n",
       "      <td>183</td>\n",
       "      <td>90</td>\n",
       "      <td>5</td>\n",
       "      <td>80</td>\n",
       "      <td>39.0</td>\n",
       "      <td>True</td>\n",
       "    </tr>\n",
       "  </tbody>\n",
       "</table>\n",
       "</div>"
      ],
      "text/plain": [
       "   Age  Height  Weight  Duration  Heart_Rate  Body_Temp  Gender_male\n",
       "0   79     165      73        13          79       40.0         True\n",
       "1   28     148      48         6          91       39.4        False\n",
       "2   27     187      82        25         101       40.8         True\n",
       "3   40     173      71        16          93       40.4         True\n",
       "4   40     183      90         5          80       39.0         True"
      ]
     },
     "execution_count": 244,
     "metadata": {},
     "output_type": "execute_result"
    }
   ],
   "source": [
    "df_train.head()"
   ]
  },
  {
   "cell_type": "markdown",
   "id": "25ef8c33",
   "metadata": {},
   "source": [
    "# EDA"
   ]
  },
  {
   "cell_type": "code",
   "execution_count": 245,
   "id": "0fd59b10",
   "metadata": {},
   "outputs": [
    {
     "data": {
      "text/plain": [
       "Duration       0.955035\n",
       "Heart_Rate     0.896451\n",
       "Body_Temp      0.823176\n",
       "Age            0.158377\n",
       "Weight         0.039494\n",
       "Height         0.020819\n",
       "Gender_male    0.020050\n",
       "dtype: float64"
      ]
     },
     "execution_count": 245,
     "metadata": {},
     "output_type": "execute_result"
    }
   ],
   "source": [
    "df_train.corrwith(df[\"Calories\"]).sort_values(ascending=False)"
   ]
  },
  {
   "cell_type": "markdown",
   "id": "666566ab",
   "metadata": {},
   "source": [
    "# Model selection"
   ]
  },
  {
   "cell_type": "code",
   "execution_count": 246,
   "id": "ac43a12d",
   "metadata": {},
   "outputs": [],
   "source": [
    "X_train, X_test, y_train, y_test = train_test_split(\n",
    "    df_train, df[\"Calories\"], test_size=0.33, random_state=seed\n",
    ")"
   ]
  },
  {
   "cell_type": "code",
   "execution_count": 247,
   "id": "25c251dd",
   "metadata": {},
   "outputs": [],
   "source": [
    "poly = PolynomialFeatures(3)\n",
    "X_train = poly.fit_transform(X_train)\n",
    "X_test = poly.transform(X_test)"
   ]
  },
  {
   "cell_type": "code",
   "execution_count": 248,
   "id": "c8c951c1",
   "metadata": {},
   "outputs": [],
   "source": [
    "def evaluate(model):\n",
    "    scores = cross_val_score(model, X_train, y_train, scoring='neg_mean_absolute_error', cv=3, n_jobs=-1)\n",
    "    cv = scores.mean() - scores.std()\n",
    "\n",
    "    model.fit(X_train, y_train)\n",
    "    score = mean_absolute_error(y_test, model.predict(X_test))\n",
    "\n",
    "    return -cv, score"
   ]
  },
  {
   "cell_type": "code",
   "execution_count": 249,
   "id": "574a5184",
   "metadata": {},
   "outputs": [
    {
     "data": {
      "text/plain": [
       "(0.2688595660645371, 0.2573999419192032)"
      ]
     },
     "execution_count": 249,
     "metadata": {},
     "output_type": "execute_result"
    }
   ],
   "source": [
    "lr = Ridge(alpha=10)\n",
    "\n",
    "evaluate(lr)"
   ]
  },
  {
   "cell_type": "code",
   "execution_count": 250,
   "id": "a4f8b3df",
   "metadata": {},
   "outputs": [],
   "source": [
    "model = lr"
   ]
  },
  {
   "cell_type": "markdown",
   "id": "a2338a50",
   "metadata": {},
   "source": [
    "# Submission"
   ]
  },
  {
   "cell_type": "code",
   "execution_count": 251,
   "id": "41e387cc",
   "metadata": {},
   "outputs": [],
   "source": [
    "df_test = pd.read_csv(\"test_data.csv\")\n",
    "df_test = clean_df(df_test)\n",
    "\n",
    "# prepare for subtask 5\n",
    "df_test_5 = df_test[df_test[\"Subtask\"] == 5]\n",
    "df_test_5 = df_test_5.drop([\"Subtask\"], axis=1)\n",
    "\n",
    "features_5 = prep_features(df_test_5)\n",
    "features_5 = poly.transform(features_5)\n",
    "\n",
    "# prepare for subtask 6\n",
    "df_test_6 = df_test[df_test[\"Subtask\"] == 6]\n",
    "df_test_6 = df_test_6.drop([\"Subtask\"], axis=1)\n",
    "\n",
    "features_6 = prep_features(df_test_6)\n",
    "\n",
    "features_6[\"Gender_male\"] = True\n",
    "\n",
    "features_6 = poly.transform(features_6)"
   ]
  },
  {
   "cell_type": "code",
   "execution_count": 252,
   "id": "11f39b4a",
   "metadata": {},
   "outputs": [],
   "source": [
    "# subtask 1\n",
    "subtask1 = len(df_train)\n",
    "\n",
    "# subtask 2\n",
    "subtask2 = len(df_train[df_train[\"Gender_male\"]])\n",
    "\n",
    "# subtask 3\n",
    "subtask3 = df_train[\"Duration\"].mean()\n",
    "\n",
    "# subtask 4\n",
    "subtask4 = len(df_train[df_train[\"Age\"] >= 75])\n",
    "\n",
    "# subtask 5\n",
    "subtask5 = model.predict(features_5)\n",
    "\n",
    "# subtask 6\n",
    "subtask6 = model.predict(features_6)"
   ]
  },
  {
   "cell_type": "code",
   "execution_count": 253,
   "id": "1deb87e0",
   "metadata": {},
   "outputs": [
    {
     "data": {
      "text/html": [
       "<div>\n",
       "<style scoped>\n",
       "    .dataframe tbody tr th:only-of-type {\n",
       "        vertical-align: middle;\n",
       "    }\n",
       "\n",
       "    .dataframe tbody tr th {\n",
       "        vertical-align: top;\n",
       "    }\n",
       "\n",
       "    .dataframe thead th {\n",
       "        text-align: right;\n",
       "    }\n",
       "</style>\n",
       "<table border=\"1\" class=\"dataframe\">\n",
       "  <thead>\n",
       "    <tr style=\"text-align: right;\">\n",
       "      <th></th>\n",
       "      <th>subtaskID</th>\n",
       "      <th>datapointID</th>\n",
       "      <th>answer</th>\n",
       "    </tr>\n",
       "  </thead>\n",
       "  <tbody>\n",
       "    <tr>\n",
       "      <th>0</th>\n",
       "      <td>1</td>\n",
       "      <td>1</td>\n",
       "      <td>9000.000000</td>\n",
       "    </tr>\n",
       "    <tr>\n",
       "      <th>1</th>\n",
       "      <td>2</td>\n",
       "      <td>1</td>\n",
       "      <td>4443.000000</td>\n",
       "    </tr>\n",
       "    <tr>\n",
       "      <th>2</th>\n",
       "      <td>3</td>\n",
       "      <td>1</td>\n",
       "      <td>15.510667</td>\n",
       "    </tr>\n",
       "    <tr>\n",
       "      <th>3</th>\n",
       "      <td>4</td>\n",
       "      <td>1</td>\n",
       "      <td>412.000000</td>\n",
       "    </tr>\n",
       "    <tr>\n",
       "      <th>4</th>\n",
       "      <td>5</td>\n",
       "      <td>12618012</td>\n",
       "      <td>113.061036</td>\n",
       "    </tr>\n",
       "  </tbody>\n",
       "</table>\n",
       "</div>"
      ],
      "text/plain": [
       "   subtaskID  datapointID       answer\n",
       "0          1            1  9000.000000\n",
       "1          2            1  4443.000000\n",
       "2          3            1    15.510667\n",
       "3          4            1   412.000000\n",
       "4          5     12618012   113.061036"
      ]
     },
     "execution_count": 253,
     "metadata": {},
     "output_type": "execute_result"
    }
   ],
   "source": [
    "df1234 = pd.DataFrame({\n",
    "    \"subtaskID\": [1,2,3,4], \"datapointID\": 1, \"answer\": [subtask1, subtask2, subtask3, subtask4],\n",
    "})\n",
    "\n",
    "df5 = pd.DataFrame(\n",
    "    {\"subtaskID\": 5, \"datapointID\": df_test_5[\"User_ID\"], \"answer\": subtask5}\n",
    ")\n",
    "\n",
    "df6 = pd.DataFrame(\n",
    "    {\"subtaskID\": 6, \"datapointID\": df_test_6[\"User_ID\"], \"answer\": subtask6}\n",
    ")\n",
    "\n",
    "submission = pd.concat([df1234, df5, df6], ignore_index=True)\n",
    "submission.head()"
   ]
  },
  {
   "cell_type": "code",
   "execution_count": 254,
   "id": "e2cc02ab",
   "metadata": {},
   "outputs": [],
   "source": [
    "submission.to_csv(\"submission.csv\", index=False)"
   ]
  }
 ],
 "metadata": {
  "kernelspec": {
   "display_name": "Python 3",
   "language": "python",
   "name": "python3"
  },
  "language_info": {
   "codemirror_mode": {
    "name": "ipython",
    "version": 3
   },
   "file_extension": ".py",
   "mimetype": "text/x-python",
   "name": "python",
   "nbconvert_exporter": "python",
   "pygments_lexer": "ipython3",
   "version": "3.10.11"
  }
 },
 "nbformat": 4,
 "nbformat_minor": 5
}
