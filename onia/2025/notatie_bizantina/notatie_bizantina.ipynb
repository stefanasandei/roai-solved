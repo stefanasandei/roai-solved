{
 "cells": [
  {
   "cell_type": "code",
   "execution_count": 85,
   "id": "d905ce84",
   "metadata": {},
   "outputs": [],
   "source": [
    "import pandas as pd\n",
    "import matplotlib.pyplot as plt\n",
    "import cv2 as cv\n",
    "from PIL import Image\n",
    "import numpy as np\n",
    "\n",
    "from torch.utils.data import Dataset, DataLoader\n",
    "from torchvision import transforms\n",
    "import torch.nn.functional as F\n",
    "import torch.nn as nn\n",
    "import torch"
   ]
  },
  {
   "cell_type": "code",
   "execution_count": 86,
   "id": "fe423a9a",
   "metadata": {},
   "outputs": [],
   "source": [
    "seed = 42\n",
    "\n",
    "torch.random.manual_seed(seed)\n",
    "np.random.seed(seed)\n",
    "torch.cuda.manual_seed_all(seed)\n",
    "\n",
    "batch_size = 128\n",
    "lr = 2e-3\n",
    "epochs = 30\n",
    "\n",
    "device = \"cuda\" if torch.cuda.is_available() else \"cpu\"\n",
    "\n",
    "root_path = \"E:\\\\IOAI\\\\kits\\\\onia-2025\""
   ]
  },
  {
   "cell_type": "markdown",
   "id": "173d1c60",
   "metadata": {},
   "source": [
    "# Data preparation"
   ]
  },
  {
   "cell_type": "code",
   "execution_count": 87,
   "id": "02e007d8",
   "metadata": {},
   "outputs": [],
   "source": [
    "class BabilonianTrainDataset(Dataset):\n",
    "    def __init__(self):\n",
    "        self.df = pd.read_csv(\"train_data.csv\")\n",
    "        \n",
    "        self.label2idx = {label: idx for idx, label in enumerate(self.df[\"Effect\"].unique())}\n",
    "        self.idx2label = {self.label2idx[label]: label for label in self.label2idx.keys()}\n",
    "\n",
    "        self.transforms = transforms.Compose([\n",
    "            transforms.Resize((48, 48)),\n",
    "\n",
    "            transforms.RandomRotation(10),\n",
    "            transforms.RandomResizedCrop(48, scale=(0.9, 1.0), ratio=(0.9, 1.1)),\n",
    "            transforms.ColorJitter(brightness=0.2, contrast=0.2),\n",
    "\n",
    "            transforms.ToTensor(),\n",
    "        ])\n",
    "\n",
    "    def get_labels(self, indices):\n",
    "        labels = []\n",
    "        for index in indices:\n",
    "            labels.append(self.idx2label[index])\n",
    "        return labels\n",
    "\n",
    "    def __getitem__(self, idx):\n",
    "        img_row = self.df.iloc[idx]\n",
    "\n",
    "        img_path = f\"{root_path}/{img_row['Path']}\"\n",
    "        img = Image.open(img_path).convert(\"L\")\n",
    "        img = self.transforms(img)\n",
    "\n",
    "        label = self.label2idx[img_row[\"Effect\"]]\n",
    "\n",
    "        img, label = img.to(device), torch.tensor(label, dtype=torch.uint8, device=device)\n",
    "        return img, label\n",
    "\n",
    "    def __len__(self):\n",
    "        return len(self.df)"
   ]
  },
  {
   "cell_type": "code",
   "execution_count": 88,
   "id": "fab8a949",
   "metadata": {},
   "outputs": [],
   "source": [
    "train_dataset = BabilonianTrainDataset()\n",
    "train_loader = DataLoader(train_dataset, batch_size=batch_size, shuffle=True)"
   ]
  },
  {
   "cell_type": "code",
   "execution_count": 89,
   "id": "0e6ebadc",
   "metadata": {},
   "outputs": [
    {
     "name": "stdout",
     "output_type": "stream",
     "text": [
      "torch.Size([128, 1, 48, 48])\n",
      "5\n"
     ]
    },
    {
     "data": {
      "text/plain": [
       "<matplotlib.image.AxesImage at 0x2029b93d5d0>"
      ]
     },
     "execution_count": 89,
     "metadata": {},
     "output_type": "execute_result"
    },
    {
     "data": {
      "image/png": "[encoded data removed]",
      "text/plain": [
       "<Figure size 640x480 with 1 Axes>"
      ]
     },
     "metadata": {},
     "output_type": "display_data"
    }
   ],
   "source": [
    "# sanity check\n",
    "img_batch, label_batch = next(iter(train_loader))\n",
    "print(img_batch.shape)\n",
    "img, label = img_batch[0].cpu(), label_batch[0]\n",
    "\n",
    "print(label.item())\n",
    "plt.imshow(img.permute(1, 2, 0))"
   ]
  },
  {
   "cell_type": "markdown",
   "id": "1ec105ba",
   "metadata": {},
   "source": [
    "# Model selection"
   ]
  },
  {
   "cell_type": "code",
   "execution_count": 90,
   "id": "f9716006",
   "metadata": {},
   "outputs": [],
   "source": [
    "class BabilonianCNN(nn.Module):\n",
    "    def __init__(self, num_classes=8):\n",
    "        super(BabilonianCNN, self).__init__()\n",
    "\n",
    "        self.conv1 = nn.Conv2d(in_channels=1, out_channels=32, kernel_size=3, padding=1)\n",
    "        self.conv2 = nn.Conv2d(in_channels=32, out_channels=64, kernel_size=3, padding=1)\n",
    "\n",
    "        self.pool = nn.MaxPool2d(kernel_size=2, stride=2)\n",
    "        self.dropout = nn.Dropout(0.3)\n",
    "\n",
    "        self.fc1 = nn.Linear(64 * 24 * 24, 128)\n",
    "        self.fc2 = nn.Linear(128, num_classes)\n",
    "\n",
    "    def forward(self, x):\n",
    "        x = F.relu(self.conv1(x))\n",
    "        x = self.pool(F.relu(self.conv2(x)))\n",
    "        \n",
    "        x = self.dropout(x)\n",
    "        x = x.view(x.size(0), -1)\n",
    "        x = F.relu(self.fc1(x))\n",
    "        \n",
    "        return self.fc2(x)"
   ]
  },
  {
   "cell_type": "code",
   "execution_count": 91,
   "id": "c6bfd9ae",
   "metadata": {},
   "outputs": [],
   "source": [
    "model = BabilonianCNN().to(device)\n",
    "\n",
    "criterion = nn.CrossEntropyLoss()\n",
    "optim = torch.optim.AdamW(model.parameters(), lr=lr)"
   ]
  },
  {
   "cell_type": "code",
   "execution_count": 92,
   "id": "298eacfc",
   "metadata": {},
   "outputs": [
    {
     "data": {
      "text/plain": [
       "torch.Size([128, 8])"
      ]
     },
     "execution_count": 92,
     "metadata": {},
     "output_type": "execute_result"
    }
   ],
   "source": [
    "# sanity check\n",
    "model(next(iter(train_loader))[0]).shape"
   ]
  },
  {
   "cell_type": "code",
   "execution_count": 93,
   "id": "cb574cbb",
   "metadata": {},
   "outputs": [
    {
     "name": "stdout",
     "output_type": "stream",
     "text": [
      "Epoch 0/30, Loss: 14.5904\n",
      "Epoch 5/30, Loss: 1.9013\n",
      "Epoch 10/30, Loss: 0.8857\n",
      "Epoch 15/30, Loss: 0.5018\n",
      "Epoch 20/30, Loss: 0.4323\n",
      "Epoch 25/30, Loss: 0.2672\n",
      "Epoch 30/30, Loss: 0.1876\n"
     ]
    }
   ],
   "source": [
    "losses = []\n",
    "\n",
    "for epoch in range(epochs+1):\n",
    "    model.train()\n",
    "    running_loss = 0\n",
    "\n",
    "    for img, label in train_loader:\n",
    "        # forward pass\n",
    "        pred = model(img)\n",
    "        loss = criterion(pred, label)\n",
    "\n",
    "        # backward pass\n",
    "        optim.zero_grad()\n",
    "        loss.backward()\n",
    "        optim.step()\n",
    "\n",
    "        # stats for nerds\n",
    "        running_loss += loss.item()\n",
    "    losses.append(running_loss)\n",
    "    if epoch % 5 == 0:\n",
    "        print(f\"Epoch {epoch}/{epochs}, Loss: {running_loss:.4f}\")"
   ]
  },
  {
   "cell_type": "code",
   "execution_count": 94,
   "id": "b7cc40d5",
   "metadata": {},
   "outputs": [
    {
     "data": {
      "text/plain": [
       "[<matplotlib.lines.Line2D at 0x2029b623760>]"
      ]
     },
     "execution_count": 94,
     "metadata": {},
     "output_type": "execute_result"
    },
    {
     "data": {
      "image/png": "[encoded data removed]",
      "text/plain": [
       "<Figure size 1200x300 with 1 Axes>"
      ]
     },
     "metadata": {},
     "output_type": "display_data"
    }
   ],
   "source": [
    "plt.figure(figsize=(12, 3))\n",
    "plt.plot(range(epochs+1), losses)"
   ]
  },
  {
   "cell_type": "markdown",
   "id": "95d1a844",
   "metadata": {},
   "source": [
    "# Evaluation data preparation"
   ]
  },
  {
   "cell_type": "code",
   "execution_count": 95,
   "id": "01cf9815",
   "metadata": {},
   "outputs": [
    {
     "data": {
      "text/plain": [
       "<matplotlib.image.AxesImage at 0x2029b55baf0>"
      ]
     },
     "execution_count": 95,
     "metadata": {},
     "output_type": "execute_result"
    },
    {
     "data": {
      "image/png": "[encoded data removed]",
      "text/plain": [
       "<Figure size 640x480 with 1 Axes>"
      ]
     },
     "metadata": {},
     "output_type": "display_data"
    }
   ],
   "source": [
    "# first of all, test the operations we will later use to select the paches\n",
    "df_test = pd.read_csv(\"test_data.csv\")\n",
    "\n",
    "# read a grayscale (for debug) image, binarize it\n",
    "path = f\"{root_path}/{df_test.iloc[120]['datapointID']}\"\n",
    "img = cv.imread(path, cv.IMREAD_GRAYSCALE)\n",
    "_, img = cv.threshold(img, 160, 255, cv.THRESH_BINARY)\n",
    "\n",
    "# remove the background\n",
    "blur = cv.GaussianBlur(img, (3, 3), cv.BORDER_DEFAULT)\n",
    "thresh = cv.adaptiveThreshold(blur, 255, cv.ADAPTIVE_THRESH_MEAN_C, cv.THRESH_BINARY, 15, 10)\n",
    "inverted = cv.bitwise_not(thresh)  # or just ~thresh\n",
    "\n",
    "plt.imshow(inverted)"
   ]
  },
  {
   "cell_type": "code",
   "execution_count": 96,
   "id": "19f2113c",
   "metadata": {},
   "outputs": [
    {
     "name": "stdout",
     "output_type": "stream",
     "text": [
      "found 8 things\n"
     ]
    },
    {
     "data": {
      "text/plain": [
       "<matplotlib.image.AxesImage at 0x2029b5394b0>"
      ]
     },
     "execution_count": 96,
     "metadata": {},
     "output_type": "execute_result"
    },
    {
     "data": {
      "image/png": "[encoded data removed]",
      "text/plain": [
       "<Figure size 640x480 with 1 Axes>"
      ]
     },
     "metadata": {},
     "output_type": "display_data"
    }
   ],
   "source": [
    "# find the contours of the babilonian things\n",
    "thresh = cv.adaptiveThreshold(img, 255, cv.ADAPTIVE_THRESH_MEAN_C, cv.THRESH_BINARY_INV, 15, 10)\n",
    "contours, _ = cv.findContours(thresh, cv.RETR_EXTERNAL, cv.CHAIN_APPROX_SIMPLE)\n",
    "\n",
    "print(f\"found {len(contours)} things\")\n",
    "for contour in contours:\n",
    "    x, y, w, h = cv.boundingRect(contour)\n",
    "    cv.rectangle(thresh, (x, y), (x + w, y + h), 255, 1)\n",
    "plt.imshow(thresh)"
   ]
  },
  {
   "cell_type": "code",
   "execution_count": 97,
   "id": "af727d1e",
   "metadata": {},
   "outputs": [],
   "source": [
    "# just put togheter the stuff from above\n",
    "def remove_background(img, min_area=30):\n",
    "    _, img = cv.threshold(img, 160, 255, cv.THRESH_BINARY)\n",
    "\n",
    "    blur = cv.GaussianBlur(img, (3, 3), cv.BORDER_DEFAULT)\n",
    "    thresh = cv.adaptiveThreshold(blur, 255, cv.ADAPTIVE_THRESH_MEAN_C, cv.THRESH_BINARY, 15, 10)\n",
    "\n",
    "    return thresh\n",
    "\n",
    "\n",
    "def extract_patches(img, min_area=30, pad=2):\n",
    "    img = remove_background(img)\n",
    "    thresh = cv.adaptiveThreshold(img, 255, cv.ADAPTIVE_THRESH_MEAN_C, cv.THRESH_BINARY_INV, 15, 10)\n",
    "    contours, _ = cv.findContours(thresh, cv.RETR_EXTERNAL, cv.CHAIN_APPROX_SIMPLE)\n",
    "\n",
    "    patches = []\n",
    "    for cnt in contours:\n",
    "        x, y, w, h = cv.boundingRect(cnt)\n",
    "        if w * h < min_area:\n",
    "            continue\n",
    "\n",
    "        x_start = max(x - pad, 0)\n",
    "        y_start = max(y - pad, 0)\n",
    "        x_end = min(x + w + pad, img.shape[1])\n",
    "        y_end = min(y + h + pad, img.shape[0])\n",
    "        patch = img[y_start:y_end, x_start:x_end]\n",
    "        \n",
    "        patches.append((x_start, patch))\n",
    "    \n",
    "    # we want the patches to be in the order they appear in the original images\n",
    "    patches = [patch for _, patch in sorted(patches, key=lambda p: p[0])]\n",
    "    return patches"
   ]
  },
  {
   "cell_type": "code",
   "execution_count": 98,
   "id": "e985f243",
   "metadata": {},
   "outputs": [
    {
     "data": {
      "image/png": "[encoded data removed]",
      "text/plain": [
       "<Figure size 1500x600 with 9 Axes>"
      ]
     },
     "metadata": {},
     "output_type": "display_data"
    }
   ],
   "source": [
    "path = f\"{root_path}/{df_test.iloc[120]['datapointID']}\"\n",
    "img = cv.imread(path, cv.IMREAD_GRAYSCALE)\n",
    "patches = extract_patches(img)\n",
    "\n",
    "cols = 6\n",
    "rows = int(np.ceil((len(patches) + 1) / cols))\n",
    "plt.figure(figsize=(15, 3 * rows))\n",
    "plt.subplot(rows, cols, 1)\n",
    "plt.title('Imagine originală')\n",
    "plt.axis('off')\n",
    "plt.imshow(img, cmap='gray')\n",
    "\n",
    "for i, patch in enumerate(patches):\n",
    "    plt.subplot(rows, cols, i + 2)\n",
    "    plt.title(f'Patch {i + 1}')\n",
    "    plt.axis('off')\n",
    "    plt.imshow(patch, cmap='gray')\n",
    "plt.tight_layout()\n",
    "plt.show()"
   ]
  },
  {
   "cell_type": "code",
   "execution_count": 99,
   "id": "7dbe125c",
   "metadata": {},
   "outputs": [],
   "source": [
    "class BabilonianTestDataset(Dataset):\n",
    "    def __init__(self):\n",
    "        self.df = pd.read_csv(\"test_data.csv\")\n",
    "\n",
    "        self.transforms = transforms.Compose([\n",
    "            transforms.ToPILImage(),\n",
    "            transforms.Resize((48, 48)),\n",
    "            transforms.ToTensor(),\n",
    "            transforms.Normalize(mean=[0.5], std=[0.5])\n",
    "        ])\n",
    "\n",
    "    def __getitem__(self, idx):\n",
    "        path = f\"{root_path}/{df_test.iloc[idx]['datapointID']}\"\n",
    "        img = cv.imread(path, cv.IMREAD_GRAYSCALE)\n",
    "\n",
    "        raw_patches = extract_patches(img)\n",
    "\n",
    "        patches = []\n",
    "        for patch in raw_patches:\n",
    "            patches.append(self.transforms(patch).unsqueeze(0))\n",
    "        patches = torch.vstack(patches)\n",
    "\n",
    "        return patches.squeeze(0), df_test.iloc[idx][\"datapointID\"]\n",
    "\n",
    "    def __len__(self):\n",
    "        return len(self.df)"
   ]
  },
  {
   "cell_type": "code",
   "execution_count": 100,
   "id": "70275d93",
   "metadata": {},
   "outputs": [],
   "source": [
    "test_dataset = BabilonianTestDataset()\n",
    "test_loader = DataLoader(test_dataset, batch_size=1, shuffle=True)"
   ]
  },
  {
   "cell_type": "code",
   "execution_count": 101,
   "id": "ee6cb72f",
   "metadata": {},
   "outputs": [
    {
     "data": {
      "text/plain": [
       "(torch.Size([11, 1, 48, 48]), 'eval_img/1085.png')"
      ]
     },
     "execution_count": 101,
     "metadata": {},
     "output_type": "execute_result"
    }
   ],
   "source": [
    "batch, did = next(iter(test_loader))\n",
    "batch[0].shape, did[0]"
   ]
  },
  {
   "cell_type": "markdown",
   "id": "be61f808",
   "metadata": {},
   "source": [
    "# Submission"
   ]
  },
  {
   "cell_type": "code",
   "execution_count": 102,
   "id": "a1a2ef49",
   "metadata": {},
   "outputs": [],
   "source": [
    "def encode_prediction(predictions):\n",
    "    result = []\n",
    "    for pred in predictions:\n",
    "        if len(result) == 0 and (pred == 'A' or pred == 'B'):\n",
    "            result.append(0)\n",
    "        elif len(result) == 0:\n",
    "            result.append(int(pred))\n",
    "        elif pred == 'A' or pred == 'B':\n",
    "            result.append(result[-1])\n",
    "        else:\n",
    "            result.append(result[-1] + int(pred))\n",
    "    final_result = str(result[0])\n",
    "    for item in result[1:]:\n",
    "        final_result += \"|\" + str(item)\n",
    "    return final_result"
   ]
  },
  {
   "cell_type": "code",
   "execution_count": 103,
   "id": "d6363afb",
   "metadata": {},
   "outputs": [],
   "source": [
    "submission = {\"subtaskID\": [], \"datapointID\": [], \"answer\": []}\n",
    "\n",
    "model.eval()\n",
    "for patches, datapoint_id in test_loader:\n",
    "    patches = patches[0].to(device)\n",
    "\n",
    "    if len(patches.shape) == 3:\n",
    "        patches = patches.unsqueeze(0)\n",
    "    pred = model(patches)\n",
    "    y_pred = pred.argmax(dim=1).cpu().numpy()\n",
    "\n",
    "    labels = train_dataset.get_labels(y_pred)\n",
    "    pred = encode_prediction(labels)\n",
    "\n",
    "    submission[\"subtaskID\"].append(1)\n",
    "    submission[\"datapointID\"].append(datapoint_id[0])\n",
    "    submission[\"answer\"].append(pred)"
   ]
  },
  {
   "cell_type": "code",
   "execution_count": 104,
   "id": "c256d02b",
   "metadata": {},
   "outputs": [
    {
     "data": {
      "text/html": [
       "<div>\n",
       "<style scoped>\n",
       "    .dataframe tbody tr th:only-of-type {\n",
       "        vertical-align: middle;\n",
       "    }\n",
       "\n",
       "    .dataframe tbody tr th {\n",
       "        vertical-align: top;\n",
       "    }\n",
       "\n",
       "    .dataframe thead th {\n",
       "        text-align: right;\n",
       "    }\n",
       "</style>\n",
       "<table border=\"1\" class=\"dataframe\">\n",
       "  <thead>\n",
       "    <tr style=\"text-align: right;\">\n",
       "      <th></th>\n",
       "      <th>subtaskID</th>\n",
       "      <th>datapointID</th>\n",
       "      <th>answer</th>\n",
       "    </tr>\n",
       "  </thead>\n",
       "  <tbody>\n",
       "    <tr>\n",
       "      <th>0</th>\n",
       "      <td>1</td>\n",
       "      <td>eval_img/2033.png</td>\n",
       "      <td>4|4|2|6|6|10|6|6|6|2</td>\n",
       "    </tr>\n",
       "    <tr>\n",
       "      <th>1</th>\n",
       "      <td>1</td>\n",
       "      <td>eval_img/s6r.png</td>\n",
       "      <td>-4|-8|-12|-16|-20|-24</td>\n",
       "    </tr>\n",
       "    <tr>\n",
       "      <th>2</th>\n",
       "      <td>1</td>\n",
       "      <td>eval_img/3015.png</td>\n",
       "      <td>-1|3|-1|-5|-5|-9|-9|-13|-12|-16|-18|-22</td>\n",
       "    </tr>\n",
       "    <tr>\n",
       "      <th>3</th>\n",
       "      <td>1</td>\n",
       "      <td>eval_img/3021.png</td>\n",
       "      <td>-4|-5|-9|-8|-12|-16|-16|-20|-16|-17|-17|-17|-1...</td>\n",
       "    </tr>\n",
       "    <tr>\n",
       "      <th>4</th>\n",
       "      <td>1</td>\n",
       "      <td>eval_img/71.png</td>\n",
       "      <td>0|0|0|0|0</td>\n",
       "    </tr>\n",
       "  </tbody>\n",
       "</table>\n",
       "</div>"
      ],
      "text/plain": [
       "   subtaskID        datapointID  \\\n",
       "0          1  eval_img/2033.png   \n",
       "1          1   eval_img/s6r.png   \n",
       "2          1  eval_img/3015.png   \n",
       "3          1  eval_img/3021.png   \n",
       "4          1    eval_img/71.png   \n",
       "\n",
       "                                              answer  \n",
       "0                               4|4|2|6|6|10|6|6|6|2  \n",
       "1                              -4|-8|-12|-16|-20|-24  \n",
       "2            -1|3|-1|-5|-5|-9|-9|-13|-12|-16|-18|-22  \n",
       "3  -4|-5|-9|-8|-12|-16|-16|-20|-16|-17|-17|-17|-1...  \n",
       "4                                          0|0|0|0|0  "
      ]
     },
     "execution_count": 104,
     "metadata": {},
     "output_type": "execute_result"
    }
   ],
   "source": [
    "submission = pd.DataFrame(submission)\n",
    "submission.head()"
   ]
  },
  {
   "cell_type": "code",
   "execution_count": 105,
   "id": "ac0d2463",
   "metadata": {},
   "outputs": [],
   "source": [
    "submission.to_csv(\"submission.csv\", index=False)"
   ]
  }
 ],
 "metadata": {
  "kernelspec": {
   "display_name": "Python 3",
   "language": "python",
   "name": "python3"
  },
  "language_info": {
   "codemirror_mode": {
    "name": "ipython",
    "version": 3
   },
   "file_extension": ".py",
   "mimetype": "text/x-python",
   "name": "python",
   "nbconvert_exporter": "python",
   "pygments_lexer": "ipython3",
   "version": "3.10.11"
  }
 },
 "nbformat": 4,
 "nbformat_minor": 5
}
