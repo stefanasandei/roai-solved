{
 "cells": [
  {
   "cell_type": "code",
   "execution_count": 1,
   "id": "fe45a05e-ef81-4fe6-bb72-819d456790f3",
   "metadata": {},
   "outputs": [],
   "source": [
    "import pandas as pd\n",
    "import numpy as np\n",
    "import matplotlib.pyplot as plt\n",
    "import seaborn as sns\n",
    "\n",
    "from sklearn.model_selection import train_test_split, cross_val_score\n",
    "from sklearn.linear_model import LogisticRegression\n",
    "from sklearn.ensemble import RandomForestClassifier"
   ]
  },
  {
   "cell_type": "code",
   "execution_count": 2,
   "id": "9c3c00ca-9653-4ef0-bbc7-ac9885c5a207",
   "metadata": {},
   "outputs": [],
   "source": [
    "seed = 42"
   ]
  },
  {
   "cell_type": "markdown",
   "id": "2680e74a-16a7-4d5f-9004-06237f5a8e71",
   "metadata": {},
   "source": [
    "# Data preparation"
   ]
  },
  {
   "cell_type": "code",
   "execution_count": 3,
   "id": "181dd3d7-9df2-49a0-90c7-6374d3f3202e",
   "metadata": {},
   "outputs": [],
   "source": [
    "def clean_df(df):\n",
    "    return df\n",
    "\n",
    "def prep_features(df):\n",
    "    return df.drop([\"on_time\", \"id\"], axis=1, errors='ignore')"
   ]
  },
  {
   "cell_type": "code",
   "execution_count": 4,
   "id": "d0d0dede-1908-4e8e-8901-e2fe55ab7e36",
   "metadata": {},
   "outputs": [],
   "source": [
    "df = pd.read_csv(\"train_data.csv\")\n",
    "df = clean_df(df)\n",
    "\n",
    "df_train = prep_features(df)"
   ]
  },
  {
   "cell_type": "code",
   "execution_count": 5,
   "id": "83563203-725b-419a-85c2-1cadfc18debe",
   "metadata": {},
   "outputs": [
    {
     "data": {
      "text/html": [
       "<div>\n",
       "<style scoped>\n",
       "    .dataframe tbody tr th:only-of-type {\n",
       "        vertical-align: middle;\n",
       "    }\n",
       "\n",
       "    .dataframe tbody tr th {\n",
       "        vertical-align: top;\n",
       "    }\n",
       "\n",
       "    .dataframe thead th {\n",
       "        text-align: right;\n",
       "    }\n",
       "</style>\n",
       "<table border=\"1\" class=\"dataframe\">\n",
       "  <thead>\n",
       "    <tr style=\"text-align: right;\">\n",
       "      <th></th>\n",
       "      <th>distance_km</th>\n",
       "      <th>package_weight_kg</th>\n",
       "      <th>traffic_level</th>\n",
       "    </tr>\n",
       "  </thead>\n",
       "  <tbody>\n",
       "    <tr>\n",
       "      <th>0</th>\n",
       "      <td>407.92</td>\n",
       "      <td>5.62</td>\n",
       "      <td>2</td>\n",
       "    </tr>\n",
       "    <tr>\n",
       "      <th>1</th>\n",
       "      <td>216.54</td>\n",
       "      <td>56.35</td>\n",
       "      <td>1</td>\n",
       "    </tr>\n",
       "    <tr>\n",
       "      <th>2</th>\n",
       "      <td>597.06</td>\n",
       "      <td>102.39</td>\n",
       "      <td>13</td>\n",
       "    </tr>\n",
       "    <tr>\n",
       "      <th>3</th>\n",
       "      <td>535.19</td>\n",
       "      <td>141.95</td>\n",
       "      <td>9</td>\n",
       "    </tr>\n",
       "    <tr>\n",
       "      <th>4</th>\n",
       "      <td>589.68</td>\n",
       "      <td>107.75</td>\n",
       "      <td>12</td>\n",
       "    </tr>\n",
       "  </tbody>\n",
       "</table>\n",
       "</div>"
      ],
      "text/plain": [
       "   distance_km  package_weight_kg  traffic_level\n",
       "0       407.92               5.62              2\n",
       "1       216.54              56.35              1\n",
       "2       597.06             102.39             13\n",
       "3       535.19             141.95              9\n",
       "4       589.68             107.75             12"
      ]
     },
     "execution_count": 5,
     "metadata": {},
     "output_type": "execute_result"
    }
   ],
   "source": [
    "df_train.head()"
   ]
  },
  {
   "cell_type": "markdown",
   "id": "dfffe8b2-04ea-4531-a8e4-1252672815e4",
   "metadata": {},
   "source": [
    "# Exploratory data analysis"
   ]
  },
  {
   "cell_type": "code",
   "execution_count": 6,
   "id": "c450acba-4b22-4650-b5e2-121fbac5ac6f",
   "metadata": {},
   "outputs": [
    {
     "data": {
      "text/html": [
       "<div>\n",
       "<style scoped>\n",
       "    .dataframe tbody tr th:only-of-type {\n",
       "        vertical-align: middle;\n",
       "    }\n",
       "\n",
       "    .dataframe tbody tr th {\n",
       "        vertical-align: top;\n",
       "    }\n",
       "\n",
       "    .dataframe thead th {\n",
       "        text-align: right;\n",
       "    }\n",
       "</style>\n",
       "<table border=\"1\" class=\"dataframe\">\n",
       "  <thead>\n",
       "    <tr style=\"text-align: right;\">\n",
       "      <th></th>\n",
       "      <th>distance_km</th>\n",
       "      <th>package_weight_kg</th>\n",
       "      <th>traffic_level</th>\n",
       "    </tr>\n",
       "  </thead>\n",
       "  <tbody>\n",
       "    <tr>\n",
       "      <th>count</th>\n",
       "      <td>100.000000</td>\n",
       "      <td>100.000000</td>\n",
       "      <td>100.000000</td>\n",
       "    </tr>\n",
       "    <tr>\n",
       "      <th>mean</th>\n",
       "      <td>416.286900</td>\n",
       "      <td>82.357500</td>\n",
       "      <td>7.990000</td>\n",
       "    </tr>\n",
       "    <tr>\n",
       "      <th>std</th>\n",
       "      <td>213.156124</td>\n",
       "      <td>45.250488</td>\n",
       "      <td>4.013852</td>\n",
       "    </tr>\n",
       "    <tr>\n",
       "      <th>min</th>\n",
       "      <td>11.270000</td>\n",
       "      <td>1.190000</td>\n",
       "      <td>1.000000</td>\n",
       "    </tr>\n",
       "    <tr>\n",
       "      <th>25%</th>\n",
       "      <td>219.615000</td>\n",
       "      <td>33.280000</td>\n",
       "      <td>4.000000</td>\n",
       "    </tr>\n",
       "    <tr>\n",
       "      <th>50%</th>\n",
       "      <td>489.225000</td>\n",
       "      <td>96.725000</td>\n",
       "      <td>9.000000</td>\n",
       "    </tr>\n",
       "    <tr>\n",
       "      <th>75%</th>\n",
       "      <td>588.187500</td>\n",
       "      <td>117.147500</td>\n",
       "      <td>11.000000</td>\n",
       "    </tr>\n",
       "    <tr>\n",
       "      <th>max</th>\n",
       "      <td>698.910000</td>\n",
       "      <td>149.090000</td>\n",
       "      <td>14.000000</td>\n",
       "    </tr>\n",
       "  </tbody>\n",
       "</table>\n",
       "</div>"
      ],
      "text/plain": [
       "       distance_km  package_weight_kg  traffic_level\n",
       "count   100.000000         100.000000     100.000000\n",
       "mean    416.286900          82.357500       7.990000\n",
       "std     213.156124          45.250488       4.013852\n",
       "min      11.270000           1.190000       1.000000\n",
       "25%     219.615000          33.280000       4.000000\n",
       "50%     489.225000          96.725000       9.000000\n",
       "75%     588.187500         117.147500      11.000000\n",
       "max     698.910000         149.090000      14.000000"
      ]
     },
     "execution_count": 6,
     "metadata": {},
     "output_type": "execute_result"
    }
   ],
   "source": [
    "df_train.describe()"
   ]
  },
  {
   "cell_type": "markdown",
   "id": "30119c89-d038-475c-966c-6db24d239eed",
   "metadata": {},
   "source": [
    "# Models"
   ]
  },
  {
   "cell_type": "code",
   "execution_count": 7,
   "id": "cbc6a8be-f6f0-4cdd-b429-974ecf8c3528",
   "metadata": {},
   "outputs": [],
   "source": [
    "X_train, X_val, y_train, y_val = train_test_split(df_train, df[\"on_time\"], test_size=0.2, random_state=seed)"
   ]
  },
  {
   "cell_type": "code",
   "execution_count": 8,
   "id": "a86d55a5-9dd8-40fe-88a3-a1061ce86382",
   "metadata": {},
   "outputs": [],
   "source": [
    "def evaluate(clf):\n",
    "    scores = cross_val_score(clf, X_train, y_train, cv=3)\n",
    "    return np.mean(scores) - np.std(scores)"
   ]
  },
  {
   "cell_type": "code",
   "execution_count": 9,
   "id": "41d70cc8-77ac-4da3-baa9-d3c91f92027d",
   "metadata": {},
   "outputs": [
    {
     "name": "stdout",
     "output_type": "stream",
     "text": [
      "1.0\n"
     ]
    },
    {
     "data": {
      "text/plain": [
       "1.0"
      ]
     },
     "execution_count": 9,
     "metadata": {},
     "output_type": "execute_result"
    }
   ],
   "source": [
    "lr = LogisticRegression(random_state=seed)\n",
    "\n",
    "lr.fit(X_train, y_train)\n",
    "print(lr.score(X_val, y_val))\n",
    "\n",
    "evaluate(lr)"
   ]
  },
  {
   "cell_type": "code",
   "execution_count": 10,
   "id": "7bc6fa50-11b4-4846-b2fc-7731b91e357a",
   "metadata": {},
   "outputs": [
    {
     "name": "stdout",
     "output_type": "stream",
     "text": [
      "1.0\n"
     ]
    },
    {
     "data": {
      "text/plain": [
       "1.0"
      ]
     },
     "execution_count": 10,
     "metadata": {},
     "output_type": "execute_result"
    }
   ],
   "source": [
    "rf = RandomForestClassifier(random_state=seed)\n",
    "\n",
    "rf.fit(X_train, y_train)\n",
    "print(rf.score(X_val, y_val))\n",
    "\n",
    "evaluate(rf)"
   ]
  },
  {
   "cell_type": "code",
   "execution_count": 11,
   "id": "e76095a8-bc20-45ad-b46e-3345ec017eda",
   "metadata": {},
   "outputs": [],
   "source": [
    "clf = rf"
   ]
  },
  {
   "cell_type": "markdown",
   "id": "1d857a5a-c295-4297-93c4-84f6a967c2f0",
   "metadata": {},
   "source": [
    "# Submission"
   ]
  },
  {
   "cell_type": "code",
   "execution_count": 12,
   "id": "0136f659-451e-43ee-962c-1f8d312bf9b2",
   "metadata": {},
   "outputs": [],
   "source": [
    "test_df = pd.read_csv(\"test_data.csv\")\n",
    "test_df = clean_df(test_df)\n",
    "features = prep_features(test_df)"
   ]
  },
  {
   "cell_type": "code",
   "execution_count": 13,
   "id": "52962c95-fa0f-4c14-973f-dbbf21b12532",
   "metadata": {},
   "outputs": [],
   "source": [
    "test_df[\"answer\"] = clf.predict(features)\n",
    "test_df[\"datapointID\"] = test_df[\"id\"]"
   ]
  },
  {
   "cell_type": "code",
   "execution_count": 14,
   "id": "2ca8772b-48fa-483b-b101-7664e4630cc5",
   "metadata": {},
   "outputs": [
    {
     "name": "stdout",
     "output_type": "stream",
     "text": [
      "<class 'pandas.core.frame.DataFrame'>\n",
      "RangeIndex: 50 entries, 0 to 49\n",
      "Data columns (total 6 columns):\n",
      " #   Column             Non-Null Count  Dtype  \n",
      "---  ------             --------------  -----  \n",
      " 0   id                 50 non-null     int64  \n",
      " 1   distance_km        50 non-null     float64\n",
      " 2   package_weight_kg  50 non-null     float64\n",
      " 3   traffic_level      50 non-null     int64  \n",
      " 4   answer             50 non-null     int64  \n",
      " 5   datapointID        50 non-null     int64  \n",
      "dtypes: float64(2), int64(4)\n",
      "memory usage: 2.5 KB\n"
     ]
    }
   ],
   "source": [
    "test_df.info()"
   ]
  },
  {
   "cell_type": "code",
   "execution_count": 15,
   "id": "81dca551-eb9b-49c4-9039-e139cdd7597a",
   "metadata": {},
   "outputs": [
    {
     "data": {
      "text/plain": [
       "(8.02, 3.56)"
      ]
     },
     "execution_count": 15,
     "metadata": {},
     "output_type": "execute_result"
    }
   ],
   "source": [
    "mean_traffic_level = round(np.mean(test_df[\"traffic_level\"]), 2)\n",
    "std_traffic_level = round(np.std(test_df[\"traffic_level\"], ddof=1), 2)\n",
    "mean_traffic_level, std_traffic_level"
   ]
  },
  {
   "cell_type": "code",
   "execution_count": 16,
   "id": "0fcb8802-9d51-43af-86bf-5730b589af85",
   "metadata": {},
   "outputs": [
    {
     "data": {
      "text/html": [
       "<div>\n",
       "<style scoped>\n",
       "    .dataframe tbody tr th:only-of-type {\n",
       "        vertical-align: middle;\n",
       "    }\n",
       "\n",
       "    .dataframe tbody tr th {\n",
       "        vertical-align: top;\n",
       "    }\n",
       "\n",
       "    .dataframe thead th {\n",
       "        text-align: right;\n",
       "    }\n",
       "</style>\n",
       "<table border=\"1\" class=\"dataframe\">\n",
       "  <thead>\n",
       "    <tr style=\"text-align: right;\">\n",
       "      <th></th>\n",
       "      <th>subtaskID</th>\n",
       "      <th>datapointID</th>\n",
       "      <th>answer</th>\n",
       "    </tr>\n",
       "  </thead>\n",
       "  <tbody>\n",
       "    <tr>\n",
       "      <th>0</th>\n",
       "      <td>1</td>\n",
       "      <td>1</td>\n",
       "      <td>8.02</td>\n",
       "    </tr>\n",
       "    <tr>\n",
       "      <th>1</th>\n",
       "      <td>2</td>\n",
       "      <td>1</td>\n",
       "      <td>3.56</td>\n",
       "    </tr>\n",
       "    <tr>\n",
       "      <th>0</th>\n",
       "      <td>3</td>\n",
       "      <td>4</td>\n",
       "      <td>1.00</td>\n",
       "    </tr>\n",
       "    <tr>\n",
       "      <th>1</th>\n",
       "      <td>3</td>\n",
       "      <td>18</td>\n",
       "      <td>1.00</td>\n",
       "    </tr>\n",
       "    <tr>\n",
       "      <th>2</th>\n",
       "      <td>3</td>\n",
       "      <td>39</td>\n",
       "      <td>1.00</td>\n",
       "    </tr>\n",
       "  </tbody>\n",
       "</table>\n",
       "</div>"
      ],
      "text/plain": [
       "   subtaskID  datapointID  answer\n",
       "0          1            1    8.02\n",
       "1          2            1    3.56\n",
       "0          3            4    1.00\n",
       "1          3           18    1.00\n",
       "2          3           39    1.00"
      ]
     },
     "execution_count": 16,
     "metadata": {},
     "output_type": "execute_result"
    }
   ],
   "source": [
    "subtasks12 = pd.DataFrame({\n",
    "    \"subtaskID\": [1, 2],\n",
    "    \"datapointID\": [1, 1],\n",
    "    \"answer\": [mean_traffic_level, std_traffic_level]\n",
    "})\n",
    "\n",
    "subtask3 = pd.DataFrame({\n",
    "    \"subtaskID\": 3,\n",
    "    \"datapointID\": test_df[\"id\"],\n",
    "    \"answer\": clf.predict(features)\n",
    "})\n",
    "\n",
    "submission = pd.concat([subtasks12, subtask3])\n",
    "submission.head()"
   ]
  },
  {
   "cell_type": "code",
   "execution_count": 17,
   "id": "56097628-517c-4a26-b6df-ce3d79a66a2f",
   "metadata": {},
   "outputs": [],
   "source": [
    "submission.to_csv(\"submission.csv\", index=False)"
   ]
  }
 ],
 "metadata": {
  "kernelspec": {
   "display_name": "Python 3 (ipykernel)",
   "language": "python",
   "name": "python3"
  },
  "language_info": {
   "codemirror_mode": {
    "name": "ipython",
    "version": 3
   },
   "file_extension": ".py",
   "mimetype": "text/x-python",
   "name": "python",
   "nbconvert_exporter": "python",
   "pygments_lexer": "ipython3",
   "version": "3.10.12"
  }
 },
 "nbformat": 4,
 "nbformat_minor": 5
}
