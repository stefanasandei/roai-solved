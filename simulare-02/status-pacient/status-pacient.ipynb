{
 "cells": [
  {
   "cell_type": "code",
   "execution_count": 2186,
   "id": "2ca430cc",
   "metadata": {},
   "outputs": [],
   "source": [
    "import pandas as pd\n",
    "import numpy as np\n",
    "import matplotlib.pyplot as plt\n",
    "import seaborn as sns\n",
    "\n",
    "from sklearn.model_selection import train_test_split, cross_val_score\n",
    "from sklearn.metrics import precision_score, make_scorer\n",
    "from sklearn.ensemble import RandomForestClassifier"
   ]
  },
  {
   "cell_type": "code",
   "execution_count": 2187,
   "id": "a1a1bb6e",
   "metadata": {},
   "outputs": [],
   "source": [
    "seed = 42"
   ]
  },
  {
   "cell_type": "markdown",
   "id": "2f982fa1",
   "metadata": {},
   "source": [
    "# Data preparation"
   ]
  },
  {
   "cell_type": "code",
   "execution_count": 2188,
   "id": "207afb50",
   "metadata": {},
   "outputs": [],
   "source": [
    "def clean_df(df):\n",
    "    df[\"Tumor Size\"] = df[\"Tumor Size\"].fillna(value=df[\"Tumor Size\"].mean())\n",
    "\n",
    "    df = df.drop(\n",
    "        [\"Race\", \"Marital Status\"],\n",
    "        axis=1,\n",
    "        errors=\"ignore\",\n",
    "    )\n",
    "\n",
    "    return df\n",
    "\n",
    "def prep_features(df: pd.DataFrame):\n",
    "    df = df.drop([\"ID\", \"Status\"], axis=1, errors='ignore')\n",
    "\n",
    "    # handle stages: we want gradual data\n",
    "    df[\"T Stage\"] = df[\"T Stage\"].map({\"T1\": 0, \"T2\": 1, \"T3\": 2, \"T4\": 3})\n",
    "    df[\"N Stage\"] = df[\"N Stage\"].map({\"N1\": 0, \"N2\": 1, \"N3\": 2})\n",
    "\n",
    "    # dummy encoding\n",
    "    dummy_cols = (df.select_dtypes(include=\"object\").nunique() < 10).index.tolist()\n",
    "    dummies = pd.get_dummies(df[dummy_cols], prefix=dummy_cols, drop_first=True)\n",
    "    df = pd.concat([df, dummies], axis=1)\n",
    "\n",
    "    df = df.select_dtypes(exclude='object')\n",
    "\n",
    "    return df"
   ]
  },
  {
   "cell_type": "code",
   "execution_count": 2189,
   "id": "88f47506",
   "metadata": {},
   "outputs": [],
   "source": [
    "df = pd.read_csv(\"train_data.csv\")\n",
    "df = clean_df(df)\n",
    "\n",
    "df_train = prep_features(df)"
   ]
  },
  {
   "cell_type": "code",
   "execution_count": 2190,
   "id": "7d6cf677",
   "metadata": {},
   "outputs": [
    {
     "data": {
      "text/html": [
       "<div>\n",
       "<style scoped>\n",
       "    .dataframe tbody tr th:only-of-type {\n",
       "        vertical-align: middle;\n",
       "    }\n",
       "\n",
       "    .dataframe tbody tr th {\n",
       "        vertical-align: top;\n",
       "    }\n",
       "\n",
       "    .dataframe thead th {\n",
       "        text-align: right;\n",
       "    }\n",
       "</style>\n",
       "<table border=\"1\" class=\"dataframe\">\n",
       "  <thead>\n",
       "    <tr style=\"text-align: right;\">\n",
       "      <th></th>\n",
       "      <th>Age</th>\n",
       "      <th>T Stage</th>\n",
       "      <th>N Stage</th>\n",
       "      <th>Tumor Size</th>\n",
       "      <th>Regional Node Examined</th>\n",
       "      <th>Reginol Node Positive</th>\n",
       "      <th>Reginol Node Negative</th>\n",
       "      <th>Blood Pressure</th>\n",
       "      <th>Diastolic Pressure</th>\n",
       "      <th>Cholesterol</th>\n",
       "      <th>...</th>\n",
       "      <th>T_N_Stage_T2_N3</th>\n",
       "      <th>T_N_Stage_T3_N1</th>\n",
       "      <th>T_N_Stage_T3_N2</th>\n",
       "      <th>T_N_Stage_T3_N3</th>\n",
       "      <th>T_N_Stage_T4_N1</th>\n",
       "      <th>T_N_Stage_T4_N2</th>\n",
       "      <th>T_N_Stage_T4_N3</th>\n",
       "      <th>Hormone_Status_Negative_Positive</th>\n",
       "      <th>Hormone_Status_Positive_Negative</th>\n",
       "      <th>Hormone_Status_Positive_Positive</th>\n",
       "    </tr>\n",
       "  </thead>\n",
       "  <tbody>\n",
       "    <tr>\n",
       "      <th>0</th>\n",
       "      <td>62.300654</td>\n",
       "      <td>0</td>\n",
       "      <td>0</td>\n",
       "      <td>720.038940</td>\n",
       "      <td>61.952140</td>\n",
       "      <td>-3.000350</td>\n",
       "      <td>20.741135</td>\n",
       "      <td>138.774174</td>\n",
       "      <td>106.220079</td>\n",
       "      <td>174.569257</td>\n",
       "      <td>...</td>\n",
       "      <td>False</td>\n",
       "      <td>False</td>\n",
       "      <td>False</td>\n",
       "      <td>False</td>\n",
       "      <td>False</td>\n",
       "      <td>False</td>\n",
       "      <td>False</td>\n",
       "      <td>False</td>\n",
       "      <td>False</td>\n",
       "      <td>True</td>\n",
       "    </tr>\n",
       "    <tr>\n",
       "      <th>1</th>\n",
       "      <td>37.268422</td>\n",
       "      <td>1</td>\n",
       "      <td>0</td>\n",
       "      <td>3998.797606</td>\n",
       "      <td>3.807271</td>\n",
       "      <td>2.312096</td>\n",
       "      <td>0.917586</td>\n",
       "      <td>167.470130</td>\n",
       "      <td>79.398602</td>\n",
       "      <td>188.951560</td>\n",
       "      <td>...</td>\n",
       "      <td>False</td>\n",
       "      <td>False</td>\n",
       "      <td>False</td>\n",
       "      <td>False</td>\n",
       "      <td>False</td>\n",
       "      <td>False</td>\n",
       "      <td>False</td>\n",
       "      <td>False</td>\n",
       "      <td>False</td>\n",
       "      <td>True</td>\n",
       "    </tr>\n",
       "    <tr>\n",
       "      <th>2</th>\n",
       "      <td>55.864953</td>\n",
       "      <td>0</td>\n",
       "      <td>0</td>\n",
       "      <td>10.712932</td>\n",
       "      <td>54.044711</td>\n",
       "      <td>6.499322</td>\n",
       "      <td>4.648477</td>\n",
       "      <td>179.729892</td>\n",
       "      <td>86.773977</td>\n",
       "      <td>194.401287</td>\n",
       "      <td>...</td>\n",
       "      <td>False</td>\n",
       "      <td>False</td>\n",
       "      <td>False</td>\n",
       "      <td>False</td>\n",
       "      <td>False</td>\n",
       "      <td>False</td>\n",
       "      <td>False</td>\n",
       "      <td>False</td>\n",
       "      <td>False</td>\n",
       "      <td>True</td>\n",
       "    </tr>\n",
       "    <tr>\n",
       "      <th>3</th>\n",
       "      <td>60.586799</td>\n",
       "      <td>0</td>\n",
       "      <td>0</td>\n",
       "      <td>15.964767</td>\n",
       "      <td>11.860835</td>\n",
       "      <td>11.537015</td>\n",
       "      <td>6.592670</td>\n",
       "      <td>147.564722</td>\n",
       "      <td>119.535324</td>\n",
       "      <td>169.136234</td>\n",
       "      <td>...</td>\n",
       "      <td>False</td>\n",
       "      <td>False</td>\n",
       "      <td>False</td>\n",
       "      <td>False</td>\n",
       "      <td>False</td>\n",
       "      <td>False</td>\n",
       "      <td>False</td>\n",
       "      <td>False</td>\n",
       "      <td>False</td>\n",
       "      <td>True</td>\n",
       "    </tr>\n",
       "    <tr>\n",
       "      <th>4</th>\n",
       "      <td>48.197741</td>\n",
       "      <td>1</td>\n",
       "      <td>0</td>\n",
       "      <td>21.246372</td>\n",
       "      <td>4.571804</td>\n",
       "      <td>-6.975745</td>\n",
       "      <td>6.521427</td>\n",
       "      <td>129.900615</td>\n",
       "      <td>86.920775</td>\n",
       "      <td>226.722842</td>\n",
       "      <td>...</td>\n",
       "      <td>False</td>\n",
       "      <td>False</td>\n",
       "      <td>False</td>\n",
       "      <td>False</td>\n",
       "      <td>False</td>\n",
       "      <td>False</td>\n",
       "      <td>False</td>\n",
       "      <td>False</td>\n",
       "      <td>False</td>\n",
       "      <td>True</td>\n",
       "    </tr>\n",
       "  </tbody>\n",
       "</table>\n",
       "<p>5 rows × 51 columns</p>\n",
       "</div>"
      ],
      "text/plain": [
       "         Age  T Stage  N Stage   Tumor Size  Regional Node Examined  \\\n",
       "0  62.300654        0        0   720.038940               61.952140   \n",
       "1  37.268422        1        0  3998.797606                3.807271   \n",
       "2  55.864953        0        0    10.712932               54.044711   \n",
       "3  60.586799        0        0    15.964767               11.860835   \n",
       "4  48.197741        1        0    21.246372                4.571804   \n",
       "\n",
       "   Reginol Node Positive  Reginol Node Negative  Blood Pressure  \\\n",
       "0              -3.000350              20.741135      138.774174   \n",
       "1               2.312096               0.917586      167.470130   \n",
       "2               6.499322               4.648477      179.729892   \n",
       "3              11.537015               6.592670      147.564722   \n",
       "4              -6.975745               6.521427      129.900615   \n",
       "\n",
       "   Diastolic Pressure  Cholesterol  ...  T_N_Stage_T2_N3  T_N_Stage_T3_N1  \\\n",
       "0          106.220079   174.569257  ...            False            False   \n",
       "1           79.398602   188.951560  ...            False            False   \n",
       "2           86.773977   194.401287  ...            False            False   \n",
       "3          119.535324   169.136234  ...            False            False   \n",
       "4           86.920775   226.722842  ...            False            False   \n",
       "\n",
       "   T_N_Stage_T3_N2  T_N_Stage_T3_N3  T_N_Stage_T4_N1  T_N_Stage_T4_N2  \\\n",
       "0            False            False            False            False   \n",
       "1            False            False            False            False   \n",
       "2            False            False            False            False   \n",
       "3            False            False            False            False   \n",
       "4            False            False            False            False   \n",
       "\n",
       "   T_N_Stage_T4_N3  Hormone_Status_Negative_Positive  \\\n",
       "0            False                             False   \n",
       "1            False                             False   \n",
       "2            False                             False   \n",
       "3            False                             False   \n",
       "4            False                             False   \n",
       "\n",
       "   Hormone_Status_Positive_Negative  Hormone_Status_Positive_Positive  \n",
       "0                             False                              True  \n",
       "1                             False                              True  \n",
       "2                             False                              True  \n",
       "3                             False                              True  \n",
       "4                             False                              True  \n",
       "\n",
       "[5 rows x 51 columns]"
      ]
     },
     "execution_count": 2190,
     "metadata": {},
     "output_type": "execute_result"
    }
   ],
   "source": [
    "df_train.head()"
   ]
  },
  {
   "cell_type": "markdown",
   "id": "e6c8a8a6",
   "metadata": {},
   "source": [
    "# Exploratory data analysis"
   ]
  },
  {
   "cell_type": "code",
   "execution_count": 2191,
   "id": "29595bab",
   "metadata": {},
   "outputs": [
    {
     "data": {
      "text/plain": [
       "0"
      ]
     },
     "execution_count": 2191,
     "metadata": {},
     "output_type": "execute_result"
    }
   ],
   "source": [
    "# any missing values?\n",
    "\n",
    "df_train.isna().sum().sort_values(ascending=False).sum()"
   ]
  },
  {
   "cell_type": "code",
   "execution_count": 2192,
   "id": "af9db46b",
   "metadata": {},
   "outputs": [
    {
     "name": "stdout",
     "output_type": "stream",
     "text": [
      "['Grade_3', 'A Stage_Regional', 'Estrogen Status_Positive']\n"
     ]
    },
    {
     "data": {
      "text/plain": [
       "'removed 3 features with bad correlation'"
      ]
     },
     "execution_count": 2192,
     "metadata": {},
     "output_type": "execute_result"
    }
   ],
   "source": [
    "# any values without any correlation?\n",
    "\n",
    "status = df[\"Status\"] == \"Dead\"\n",
    "corrs = df_train.corrwith(status).sort_values(ascending=False)\n",
    "\n",
    "to_drop = (corrs < 0.003) & (corrs > -0.003)\n",
    "cols_dropped = df_train.columns[to_drop].tolist()\n",
    "\n",
    "df_train = df_train.drop(cols_dropped, axis=1)\n",
    "\n",
    "print(cols_dropped)\n",
    "f\"removed {(to_drop).sum()} features with bad correlation\""
   ]
  },
  {
   "cell_type": "code",
   "execution_count": 2193,
   "id": "76ef35f0",
   "metadata": {},
   "outputs": [],
   "source": [
    "aligned_status = df.loc[df_train.index, \"Status\"]"
   ]
  },
  {
   "cell_type": "markdown",
   "id": "1533daf0",
   "metadata": {},
   "source": [
    "# Models"
   ]
  },
  {
   "cell_type": "code",
   "execution_count": 2194,
   "id": "3ff9b199",
   "metadata": {},
   "outputs": [],
   "source": [
    "X_train, X_val, y_train, y_val = train_test_split(\n",
    "    df_train, aligned_status, test_size=0.2, random_state=seed\n",
    ")"
   ]
  },
  {
   "cell_type": "code",
   "execution_count": 2195,
   "id": "a6d35a8f",
   "metadata": {},
   "outputs": [],
   "source": [
    "def evaluate(clf):\n",
    "    scorer = make_scorer(precision_score, pos_label=\"Dead\")\n",
    "\n",
    "    scores = cross_val_score(clf, X_train, y_train, cv=3, scoring=scorer, n_jobs=-1)\n",
    "    cv = np.mean(scores) - np.std(scores)\n",
    "\n",
    "    clf.fit(X_train, y_train)\n",
    "    pr = precision_score(y_val, clf.predict(X_val), pos_label=\"Dead\")\n",
    "\n",
    "    return cv, pr"
   ]
  },
  {
   "cell_type": "code",
   "execution_count": 2196,
   "id": "d59e69e2",
   "metadata": {},
   "outputs": [
    {
     "data": {
      "text/plain": [
       "(0.43278818472020153, 0.75)"
      ]
     },
     "execution_count": 2196,
     "metadata": {},
     "output_type": "execute_result"
    }
   ],
   "source": [
    "rf = RandomForestClassifier(n_estimators=350, random_state=seed)\n",
    "\n",
    "evaluate(rf)"
   ]
  },
  {
   "cell_type": "code",
   "execution_count": 2197,
   "id": "77f441eb",
   "metadata": {},
   "outputs": [],
   "source": [
    "clf = rf"
   ]
  },
  {
   "cell_type": "markdown",
   "id": "7c5cf37a",
   "metadata": {},
   "source": [
    "# Submission"
   ]
  },
  {
   "cell_type": "code",
   "execution_count": 2198,
   "id": "f470d18c",
   "metadata": {},
   "outputs": [],
   "source": [
    "test_df = pd.read_csv(\"test_data.csv\")\n",
    "test_df = clean_df(test_df)\n",
    "features = prep_features(test_df)\n",
    "features = features.drop(cols_dropped, axis=1)"
   ]
  },
  {
   "cell_type": "code",
   "execution_count": 2199,
   "id": "72f998c4",
   "metadata": {},
   "outputs": [],
   "source": [
    "# subtask 1\n",
    "conditions = [\n",
    "    test_df[\"GFR\"] >= 90,\n",
    "    (60 <= test_df[\"GFR\"]) & (test_df[\"GFR\"] < 90)\n",
    "]\n",
    "\n",
    "choices = [\"Normal\", \"Mildly Decreased\"]\n",
    "subtask1 = np.select(conditions, choices)\n",
    "\n",
    "# subtask 2\n",
    "serum = df[\"Serum Creatinine\"]\n",
    "serum_test = test_df[\"Serum Creatinine\"]\n",
    "\n",
    "q1 = np.quantile(serum, 0.25)\n",
    "q2 = np.quantile(serum, 0.50)\n",
    "q3 = np.quantile(serum, 0.75)\n",
    "\n",
    "conditions = [\n",
    "    serum_test <= q1,\n",
    "    (q1 < serum_test) & (serum_test <= q2),\n",
    "    (q2 < serum_test) & (serum_test <= q3),\n",
    "    (serum_test > q3),\n",
    "]\n",
    "\n",
    "choices = [\"Very Low\", \"Low\", \"High\", \"Very High\"]\n",
    "subtask2 = np.select(conditions, choices)\n",
    "\n",
    "# subtask 3\n",
    "bmi_mean = df[\"BMI\"].median()\n",
    "\n",
    "subtask3 = (test_df[\"BMI\"] > bmi_mean).astype(int)\n",
    "\n",
    "# subtask 4\n",
    "stage_counts = df[\"T Stage\"].value_counts()\n",
    "subtask4 = test_df[\"T Stage\"].map(stage_counts)"
   ]
  },
  {
   "cell_type": "code",
   "execution_count": 2200,
   "id": "f6d7581f",
   "metadata": {},
   "outputs": [],
   "source": [
    "subtask5 = clf.predict(features)"
   ]
  },
  {
   "cell_type": "code",
   "execution_count": 2201,
   "id": "9c0416e7",
   "metadata": {},
   "outputs": [
    {
     "data": {
      "text/html": [
       "<div>\n",
       "<style scoped>\n",
       "    .dataframe tbody tr th:only-of-type {\n",
       "        vertical-align: middle;\n",
       "    }\n",
       "\n",
       "    .dataframe tbody tr th {\n",
       "        vertical-align: top;\n",
       "    }\n",
       "\n",
       "    .dataframe thead th {\n",
       "        text-align: right;\n",
       "    }\n",
       "</style>\n",
       "<table border=\"1\" class=\"dataframe\">\n",
       "  <thead>\n",
       "    <tr style=\"text-align: right;\">\n",
       "      <th></th>\n",
       "      <th>subtaskID</th>\n",
       "      <th>datapointID</th>\n",
       "      <th>answer</th>\n",
       "    </tr>\n",
       "  </thead>\n",
       "  <tbody>\n",
       "    <tr>\n",
       "      <th>0</th>\n",
       "      <td>1</td>\n",
       "      <td>3220</td>\n",
       "      <td>Normal</td>\n",
       "    </tr>\n",
       "    <tr>\n",
       "      <th>1</th>\n",
       "      <td>1</td>\n",
       "      <td>3221</td>\n",
       "      <td>Normal</td>\n",
       "    </tr>\n",
       "    <tr>\n",
       "      <th>2</th>\n",
       "      <td>1</td>\n",
       "      <td>3222</td>\n",
       "      <td>Normal</td>\n",
       "    </tr>\n",
       "    <tr>\n",
       "      <th>3</th>\n",
       "      <td>1</td>\n",
       "      <td>3223</td>\n",
       "      <td>Mildly Decreased</td>\n",
       "    </tr>\n",
       "    <tr>\n",
       "      <th>4</th>\n",
       "      <td>1</td>\n",
       "      <td>3224</td>\n",
       "      <td>Mildly Decreased</td>\n",
       "    </tr>\n",
       "  </tbody>\n",
       "</table>\n",
       "</div>"
      ],
      "text/plain": [
       "   subtaskID  datapointID            answer\n",
       "0          1         3220            Normal\n",
       "1          1         3221            Normal\n",
       "2          1         3222            Normal\n",
       "3          1         3223  Mildly Decreased\n",
       "4          1         3224  Mildly Decreased"
      ]
     },
     "execution_count": 2201,
     "metadata": {},
     "output_type": "execute_result"
    }
   ],
   "source": [
    "ids = test_df[\"ID\"]\n",
    "\n",
    "def build_subtask_df(subtask_id, answers):\n",
    "    return pd.DataFrame(\n",
    "        {\"subtaskID\": subtask_id, \"datapointID\": ids, \"answer\": answers}\n",
    "    )\n",
    "\n",
    "subtask_definitions = [\n",
    "    (1, subtask1),\n",
    "    (2, subtask2),\n",
    "    (3, subtask3),\n",
    "    (4, subtask4),\n",
    "    (5, subtask5),\n",
    "]\n",
    "\n",
    "submission = pd.concat(\n",
    "    [build_subtask_df(sid, subtask) for sid, subtask in subtask_definitions],\n",
    "    ignore_index=True,\n",
    ")\n",
    "\n",
    "submission.head()"
   ]
  },
  {
   "cell_type": "code",
   "execution_count": 2202,
   "id": "33c7dc79",
   "metadata": {},
   "outputs": [],
   "source": [
    "submission.to_csv(\"submission.csv\", index=False)"
   ]
  }
 ],
 "metadata": {
  "kernelspec": {
   "display_name": "Python 3",
   "language": "python",
   "name": "python3"
  },
  "language_info": {
   "codemirror_mode": {
    "name": "ipython",
    "version": 3
   },
   "file_extension": ".py",
   "mimetype": "text/x-python",
   "name": "python",
   "nbconvert_exporter": "python",
   "pygments_lexer": "ipython3",
   "version": "3.10.11"
  }
 },
 "nbformat": 4,
 "nbformat_minor": 5
}
